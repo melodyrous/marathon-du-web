{
 "cells": [
  {
   "cell_type": "code",
   "execution_count": null,
   "metadata": {},
   "outputs": [],
   "source": [
    "from sentence_transformers import SentenceTransformer\n",
    "import umap\n",
    "import hdbscan\n",
    "\n",
    "import numpy as np\n",
    "from sklearn.feature_extraction.text import CountVectorizer\n",
    "from bs4 import BeautifulSoup\n"
   ]
  },
  {
   "cell_type": "code",
   "execution_count": 151,
   "metadata": {},
   "outputs": [
    {
     "name": "stdout",
     "output_type": "stream",
     "text": [
      "<class 'pandas.core.frame.DataFrame'>\n",
      "RangeIndex: 2542 entries, 0 to 2541\n",
      "Data columns (total 3 columns):\n",
      " #   Column  Non-Null Count  Dtype \n",
      "---  ------  --------------  ----- \n",
      " 0   id      2542 non-null   int64 \n",
      " 1   mot     2542 non-null   object\n",
      " 2   valid   2542 non-null   int64 \n",
      "dtypes: int64(2), object(1)\n",
      "memory usage: 59.7+ KB\n",
      "<class 'pandas.core.frame.DataFrame'>\n",
      "RangeIndex: 3093 entries, 0 to 3092\n",
      "Data columns (total 8 columns):\n",
      " #   Column       Non-Null Count  Dtype  \n",
      "---  ------       --------------  -----  \n",
      " 0   id           3093 non-null   int64  \n",
      " 1   id_mot       3093 non-null   int64  \n",
      " 2   id_publi     2234 non-null   float64\n",
      " 3   id_ecriture  0 non-null      float64\n",
      " 4   id_user      748 non-null    float64\n",
      " 5   id_revue     76 non-null     float64\n",
      " 6   id_numero    35 non-null     float64\n",
      " 7   valid        3093 non-null   int64  \n",
      "dtypes: float64(5), int64(3)\n",
      "memory usage: 193.4 KB\n",
      "<class 'pandas.core.frame.DataFrame'>\n",
      "RangeIndex: 1815 entries, 0 to 1814\n",
      "Data columns (total 13 columns):\n",
      " #   Column              Non-Null Count  Dtype  \n",
      "---  ------              --------------  -----  \n",
      " 0   id                  1815 non-null   int64  \n",
      " 1   id_revue            1815 non-null   int64  \n",
      " 2   id_numero           1815 non-null   int64  \n",
      " 3   type                1815 non-null   int64  \n",
      " 4   titre               1815 non-null   object \n",
      " 5   soustitre           372 non-null    object \n",
      " 6   position            1815 non-null   int64  \n",
      " 7   resume              771 non-null    object \n",
      " 8   article             1785 non-null   object \n",
      " 9   id_ecriture_parent  1815 non-null   int64  \n",
      " 10  slug                1815 non-null   object \n",
      " 11  url                 0 non-null      float64\n",
      " 12  valid               1815 non-null   int64  \n",
      "dtypes: float64(1), int64(7), object(5)\n",
      "memory usage: 184.5+ KB\n"
     ]
    }
   ],
   "source": [
    "## Import Data\n",
    "\n",
    "df_mots = pd.read_csv(\"./data/b_mot_cle.csv\", encoding=\"utf8\")\n",
    "df_mots.info()\n",
    "df_mot_entite = pd.read_csv(\"./data/num_mot_entite.csv\", encoding=\"utf8\")\n",
    "df_mot_entite.info()\n",
    "df_publis = pd.read_csv(\"./data/num_publis.csv\", encoding=\"utf8\")\n",
    "df_publis.info()"
   ]
  },
  {
   "cell_type": "code",
   "execution_count": 148,
   "metadata": {},
   "outputs": [
    {
     "data": {
      "text/html": [
       "<div>\n",
       "<style scoped>\n",
       "    .dataframe tbody tr th:only-of-type {\n",
       "        vertical-align: middle;\n",
       "    }\n",
       "\n",
       "    .dataframe tbody tr th {\n",
       "        vertical-align: top;\n",
       "    }\n",
       "\n",
       "    .dataframe thead th {\n",
       "        text-align: right;\n",
       "    }\n",
       "</style>\n",
       "<table border=\"1\" class=\"dataframe\">\n",
       "  <thead>\n",
       "    <tr style=\"text-align: right;\">\n",
       "      <th></th>\n",
       "      <th>id</th>\n",
       "      <th>mot</th>\n",
       "      <th>valid</th>\n",
       "    </tr>\n",
       "  </thead>\n",
       "  <tbody>\n",
       "    <tr>\n",
       "      <th>0</th>\n",
       "      <td>1</td>\n",
       "      <td>systémique</td>\n",
       "      <td>1</td>\n",
       "    </tr>\n",
       "    <tr>\n",
       "      <th>1</th>\n",
       "      <td>2</td>\n",
       "      <td>data</td>\n",
       "      <td>1</td>\n",
       "    </tr>\n",
       "    <tr>\n",
       "      <th>2</th>\n",
       "      <td>4</td>\n",
       "      <td>FLE</td>\n",
       "      <td>1</td>\n",
       "    </tr>\n",
       "    <tr>\n",
       "      <th>3</th>\n",
       "      <td>6</td>\n",
       "      <td>plurilinguisme</td>\n",
       "      <td>1</td>\n",
       "    </tr>\n",
       "    <tr>\n",
       "      <th>4</th>\n",
       "      <td>7</td>\n",
       "      <td>enseignement bilingue</td>\n",
       "      <td>1</td>\n",
       "    </tr>\n",
       "    <tr>\n",
       "      <th>5</th>\n",
       "      <td>8</td>\n",
       "      <td>politique linguistique</td>\n",
       "      <td>1</td>\n",
       "    </tr>\n",
       "    <tr>\n",
       "      <th>6</th>\n",
       "      <td>9</td>\n",
       "      <td>acquisition</td>\n",
       "      <td>1</td>\n",
       "    </tr>\n",
       "    <tr>\n",
       "      <th>7</th>\n",
       "      <td>10</td>\n",
       "      <td>interaction</td>\n",
       "      <td>1</td>\n",
       "    </tr>\n",
       "    <tr>\n",
       "      <th>8</th>\n",
       "      <td>11</td>\n",
       "      <td>acquisition des langues étrangères</td>\n",
       "      <td>1</td>\n",
       "    </tr>\n",
       "    <tr>\n",
       "      <th>9</th>\n",
       "      <td>12</td>\n",
       "      <td>créolisation</td>\n",
       "      <td>1</td>\n",
       "    </tr>\n",
       "    <tr>\n",
       "      <th>10</th>\n",
       "      <td>14</td>\n",
       "      <td>didactique de la grammaire</td>\n",
       "      <td>1</td>\n",
       "    </tr>\n",
       "    <tr>\n",
       "      <th>11</th>\n",
       "      <td>15</td>\n",
       "      <td>didactique du français langue étrangère</td>\n",
       "      <td>1</td>\n",
       "    </tr>\n",
       "    <tr>\n",
       "      <th>12</th>\n",
       "      <td>16</td>\n",
       "      <td>curriculum des langues</td>\n",
       "      <td>1</td>\n",
       "    </tr>\n",
       "    <tr>\n",
       "      <th>13</th>\n",
       "      <td>17</td>\n",
       "      <td>méthodologie</td>\n",
       "      <td>1</td>\n",
       "    </tr>\n",
       "    <tr>\n",
       "      <th>14</th>\n",
       "      <td>18</td>\n",
       "      <td>francophonie</td>\n",
       "      <td>1</td>\n",
       "    </tr>\n",
       "    <tr>\n",
       "      <th>15</th>\n",
       "      <td>19</td>\n",
       "      <td>histoire de la didactique des langues</td>\n",
       "      <td>1</td>\n",
       "    </tr>\n",
       "    <tr>\n",
       "      <th>16</th>\n",
       "      <td>20</td>\n",
       "      <td>psycholinguistique</td>\n",
       "      <td>1</td>\n",
       "    </tr>\n",
       "    <tr>\n",
       "      <th>17</th>\n",
       "      <td>21</td>\n",
       "      <td>sociolinguistique</td>\n",
       "      <td>1</td>\n",
       "    </tr>\n",
       "    <tr>\n",
       "      <th>18</th>\n",
       "      <td>23</td>\n",
       "      <td>sociologie des langues</td>\n",
       "      <td>1</td>\n",
       "    </tr>\n",
       "    <tr>\n",
       "      <th>19</th>\n",
       "      <td>24</td>\n",
       "      <td>anthroplogie de la communication en langues ét...</td>\n",
       "      <td>1</td>\n",
       "    </tr>\n",
       "  </tbody>\n",
       "</table>\n",
       "</div>"
      ],
      "text/plain": [
       "    id                                                mot  valid\n",
       "0    1                                         systémique      1\n",
       "1    2                                               data      1\n",
       "2    4                                                FLE      1\n",
       "3    6                                     plurilinguisme      1\n",
       "4    7                              enseignement bilingue      1\n",
       "5    8                             politique linguistique      1\n",
       "6    9                                        acquisition      1\n",
       "7   10                                        interaction      1\n",
       "8   11                 acquisition des langues étrangères      1\n",
       "9   12                                       créolisation      1\n",
       "10  14                         didactique de la grammaire      1\n",
       "11  15            didactique du français langue étrangère      1\n",
       "12  16                             curriculum des langues      1\n",
       "13  17                                       méthodologie      1\n",
       "14  18                                       francophonie      1\n",
       "15  19              histoire de la didactique des langues      1\n",
       "16  20                                 psycholinguistique      1\n",
       "17  21                                  sociolinguistique      1\n",
       "18  23                             sociologie des langues      1\n",
       "19  24  anthroplogie de la communication en langues ét...      1"
      ]
     },
     "execution_count": 148,
     "metadata": {},
     "output_type": "execute_result"
    }
   ],
   "source": [
    "df_mots.head(20)"
   ]
  },
  {
   "cell_type": "code",
   "execution_count": 69,
   "metadata": {},
   "outputs": [
    {
     "data": {
      "text/plain": [
       "array([  83,   84,   86,  172,  167,  229, 1540, 1542,   34, 1638])"
      ]
     },
     "execution_count": 69,
     "metadata": {},
     "output_type": "execute_result"
    }
   ],
   "source": [
    "# df_publis.set_index(\"id\", inplace=True)\n",
    "selection = df_mot_entite.id_mot == 6\n",
    "publis = df_mot_entite[selection].id_publi.dropna().astype(\"int32\").values\n",
    "publis"
   ]
  },
  {
   "cell_type": "code",
   "execution_count": 101,
   "metadata": {},
   "outputs": [
    {
     "name": "stdout",
     "output_type": "stream",
     "text": [
      "83      &lt;blockquote&gt;\\r\\n&lt;p&gt;&amp;laquo;&amp...\n",
      "84      &lt;h2&gt;Introduction&lt;/h2&gt;\\r\\n\\r\\n&lt;p...\n",
      "86      &lt;h2&gt;Introduction&lt;/h2&gt;\\r\\n\\r\\n&lt;p...\n",
      "172                                                   NaN\n",
      "167     &lt;h2&gt;Introduction&lt;/h2&gt;\\r\\n\\r\\n&lt;p...\n",
      "229     &lt;h2&gt;&lt;strong&gt;1. Introduction&lt;/st...\n",
      "1540    &lt;p class=&quot;texte&quot; dir=&quot;ltr&qu...\n",
      "1542    &lt;h1 dir=&quot;ltr&quot; id=&quot;heading1&q...\n",
      "34      &lt;div class=&quot;WordSection1&quot;&gt;\\r\\n...\n",
      "1638    &lt;p class=&quot;texte&quot;&gt;Jean Birnbaum...\n",
      "Name: article, dtype: object\n"
     ]
    }
   ],
   "source": [
    "print(df_publis.loc[publis].article)\n",
    "df_publis.loc[publis].article.iloc[0]"
   ]
  },
  {
   "cell_type": "code",
   "execution_count": 133,
   "metadata": {},
   "outputs": [
    {
     "name": "stdout",
     "output_type": "stream",
     "text": [
      "(37924, 38144)\n"
     ]
    }
   ],
   "source": [
    "# import re\n",
    "# string = df_publis.loc[publis].article.iloc[0]\n",
    "# cleantext = BeautifulSoup(string).text\n",
    "\n",
    "# for match in re.finditer(\".*plurilinguisme*.\",cleantext):\n",
    "#     print(match.span())\n",
    "#     s = match.span()\n",
    "    "
   ]
  },
  {
   "cell_type": "code",
   "execution_count": 555,
   "metadata": {},
   "outputs": [
    {
     "name": "stdout",
     "output_type": "stream",
     "text": [
      "1815\n"
     ]
    },
    {
     "data": {
      "text/plain": [
       "'Note de recherche-Le rôle de l’entrepreneuriat coopératif dans l’inclusion socioéconomique des femmes : Cas de la coopérative féminine des produits de la mer de Douira « COFEPROMER »'"
      ]
     },
     "execution_count": 555,
     "metadata": {},
     "output_type": "execute_result"
    }
   ],
   "source": [
    "import html \n",
    "def cleanhtml(raw_html):\n",
    "    cleanr = re.compile('<.*?>')\n",
    "    cleantext = re.sub(cleanr, '', raw_html)\n",
    "    return html.unescape(cleantext)\n",
    "\n",
    "\n",
    "data = list(df_publis.titre.dropna())\n",
    "data = [cleanhtml(BeautifulSoup(string).text) for string in data]\n",
    "print(len(data))\n",
    "data[0]"
   ]
  },
  {
   "cell_type": "code",
   "execution_count": 601,
   "metadata": {},
   "outputs": [],
   "source": [
    "def create_embedding(data):\n",
    "    model = SentenceTransformer('stsb-xlm-r-multilingual')\n",
    "    embeddings = model.encode(data, show_progress_bar=True)\n",
    "    return embeddings\n",
    "\n",
    "from sklearn.cluster import SpectralClustering, KMeans\n",
    "\n",
    "def create_clusters(data, embeddings):\n",
    "\n",
    "    umap_embeddings = umap.UMAP(n_neighbors=5, \n",
    "                            n_components=5, \n",
    "                            metric='cosine').fit_transform(embeddings)\n",
    "    \n",
    "    cluster = hdbscan.HDBSCAN(min_cluster_size=5,\n",
    "                          metric='manhattan',                      \n",
    "                          cluster_selection_method='eom').fit(umap_embeddings)\n",
    "\n",
    "#     cluster = SpectralClustering(n_clusters=30, eigen_solver=None, n_components=None).fit(umap_embeddings)\n",
    "#     cluster = KMeans(n_clusters=50).fit(embeddings)\n",
    "\n",
    "    \n",
    "    umap_data = umap.UMAP(n_neighbors=5, n_components=2, min_dist=0.0, metric='cosine').fit_transform(embeddings)\n",
    "    result = pd.DataFrame(umap_data, columns=['x', 'y'])\n",
    "    result['labels'] = cluster.labels_\n",
    "    return result, cluster\n",
    "\n",
    "def plot_clusters(result_df):\n",
    "    fig, ax = plt.subplots(figsize=(20, 10))\n",
    "    outliers = result_df.loc[result.labels == -1, :]\n",
    "    clustered = result_df.loc[result.labels != -1, :]\n",
    "    plt.scatter(outliers.x, outliers.y, color='#0a0909', s=5)\n",
    "    plt.scatter(clustered.x, clustered.y, c=clustered.labels, s=5, cmap='hsv_r')\n",
    "    plt.colorbar()\n",
    "    "
   ]
  },
  {
   "cell_type": "code",
   "execution_count": 557,
   "metadata": {},
   "outputs": [
    {
     "data": {
      "application/vnd.jupyter.widget-view+json": {
       "model_id": "6a283e09312a4e65b3282e665a273cdf",
       "version_major": 2,
       "version_minor": 0
      },
      "text/plain": [
       "Batches:   0%|          | 0/57 [00:00<?, ?it/s]"
      ]
     },
     "metadata": {},
     "output_type": "display_data"
    }
   ],
   "source": [
    "embeddings = create_embedding(data)"
   ]
  },
  {
   "cell_type": "code",
   "execution_count": 577,
   "metadata": {},
   "outputs": [
    {
     "data": {
      "text/plain": [
       "768"
      ]
     },
     "execution_count": 577,
     "metadata": {},
     "output_type": "execute_result"
    }
   ],
   "source": [
    "len(embeddings[0])"
   ]
  },
  {
   "cell_type": "code",
   "execution_count": 602,
   "metadata": {},
   "outputs": [
    {
     "name": "stderr",
     "output_type": "stream",
     "text": [
      "D:\\A756805\\Anaconda3\\envs\\marathon\\lib\\site-packages\\umap\\spectral.py:255: UserWarning: WARNING: spectral initialisation failed! The eigenvector solver\n",
      "failed. This is likely due to too small an eigengap. Consider\n",
      "adding some noise or jitter to your data.\n",
      "\n",
      "Falling back to random initialisation!\n",
      "  warn(\n"
     ]
    }
   ],
   "source": [
    "result, cluster = create_clusters(data, embeddings)"
   ]
  },
  {
   "cell_type": "code",
   "execution_count": 603,
   "metadata": {},
   "outputs": [
    {
     "data": {
      "image/png": "[encoded data removed]",
      "text/plain": [
       "<Figure size 1440x720 with 2 Axes>"
      ]
     },
     "metadata": {
      "needs_background": "light"
     },
     "output_type": "display_data"
    }
   ],
   "source": [
    "plot_clusters(result)"
   ]
  },
  {
   "cell_type": "code",
   "execution_count": 604,
   "metadata": {},
   "outputs": [
    {
     "name": "stderr",
     "output_type": "stream",
     "text": [
      "D:\\A756805\\Anaconda3\\envs\\marathon\\lib\\site-packages\\sklearn\\feature_extraction\\text.py:388: UserWarning: Your stop_words may be inconsistent with your preprocessing. Tokenizing the stop words generated tokens ['ca', 'cinquantieme', 'cinquieme', 'dela', 'deuxieme', 'deuxiemement', 'differente', 'dixieme', 'douzieme', 'ete', 'excepte', 'facon', 'he', 'huitieme', 'neuf', 'neuvieme', 'notres', 'onzieme', 'plutot', 'premiere', 'premierement', 'qu', 'quatrieme', 'quatriemement', 'quelqu', 'revoila', 'septieme', 'sixieme', 'troisieme', 'troisiemement', 've', 'voila', 'votres'] not in stop_words.\n",
      "  warnings.warn('Your stop_words may be inconsistent with '\n"
     ]
    }
   ],
   "source": [
    "import stopwords\n",
    "\n",
    "def lemma():\n",
    "    pass\n",
    "\n",
    "\n",
    "def c_tf_idf(documents, m, ngram_range=(1, 1)):\n",
    "    count = CountVectorizer(ngram_range=ngram_range, stop_words=stopwords.STOP_WORDS, strip_accents='unicode').fit(documents)\n",
    "    t = count.transform(documents).toarray()\n",
    "    w = t.sum(axis=1)\n",
    "    tf = np.divide(t.T, w)\n",
    "    sum_t = t.sum(axis=0)\n",
    "    idf = np.log(np.divide(m, sum_t)).reshape(-1, 1)\n",
    "    tf_idf = np.multiply(tf, idf)\n",
    "\n",
    "    return tf_idf, count\n",
    "\n",
    "def extract_top_n_words_per_topic(tf_idf, count, docs_per_topic, n=20):\n",
    "    words = count.get_feature_names()\n",
    "    labels = list(docs_per_topic.Topic)\n",
    "    tf_idf_transposed = tf_idf.T\n",
    "    indices = tf_idf_transposed.argsort()[:, -n:]\n",
    "    top_n_words = {label: [(words[j], tf_idf_transposed[i][j]) for j in indices[i]][::-1] for i, label in enumerate(labels)}\n",
    "    return top_n_words\n",
    "\n",
    "def get_n_topwords(data, cluster):\n",
    "    docs_df = pd.DataFrame(data, columns=[\"Doc\"])\n",
    "    docs_df['Topic'] = cluster.labels_\n",
    "    docs_df['Doc_ID'] = range(len(docs_df))\n",
    "    docs_per_topic = docs_df.groupby(['Topic'], as_index = False).agg({'Doc': ' '.join})\n",
    "    \n",
    "    tf_idf, count = c_tf_idf(docs_per_topic.Doc.values, m=len(data))\n",
    "    \n",
    "    top_n_words = extract_top_n_words_per_topic(tf_idf, count, docs_per_topic, n=20)\n",
    "    return top_n_words\n",
    "    \n",
    "\n",
    "top_n = get_n_topwords(data,cluster)"
   ]
  },
  {
   "cell_type": "code",
   "execution_count": 605,
   "metadata": {},
   "outputs": [
    {
     "data": {
      "text/plain": [
       "array([-1, 31, -1, ..., 52, 85, 38], dtype=int64)"
      ]
     },
     "execution_count": 605,
     "metadata": {},
     "output_type": "execute_result"
    }
   ],
   "source": [
    "cluster.labels_"
   ]
  },
  {
   "cell_type": "code",
   "execution_count": 613,
   "metadata": {},
   "outputs": [
    {
     "data": {
      "text/html": [
       "<div>\n",
       "<style scoped>\n",
       "    .dataframe tbody tr th:only-of-type {\n",
       "        vertical-align: middle;\n",
       "    }\n",
       "\n",
       "    .dataframe tbody tr th {\n",
       "        vertical-align: top;\n",
       "    }\n",
       "\n",
       "    .dataframe thead th {\n",
       "        text-align: right;\n",
       "    }\n",
       "</style>\n",
       "<table border=\"1\" class=\"dataframe\">\n",
       "  <thead>\n",
       "    <tr style=\"text-align: right;\">\n",
       "      <th></th>\n",
       "      <th>titre</th>\n",
       "      <th>cluster</th>\n",
       "    </tr>\n",
       "  </thead>\n",
       "  <tbody>\n",
       "    <tr>\n",
       "      <th>46</th>\n",
       "      <td>L'offense à la chair, ou l'emblème de la déshumanisation. Regards sur l'oeuvre guerrière d'Otto Dix</td>\n",
       "      <td>10</td>\n",
       "    </tr>\n",
       "    <tr>\n",
       "      <th>749</th>\n",
       "      <td>Contra la dominacion</td>\n",
       "      <td>10</td>\n",
       "    </tr>\n",
       "    <tr>\n",
       "      <th>1149</th>\n",
       "      <td>Contre-révolution, folklore et provincialisme</td>\n",
       "      <td>10</td>\n",
       "    </tr>\n",
       "    <tr>\n",
       "      <th>1232</th>\n",
       "      <td>Authoritarianism, social dominance and social values: Group-based dominance and opposition to equality as independent factors</td>\n",
       "      <td>10</td>\n",
       "    </tr>\n",
       "    <tr>\n",
       "      <th>1289</th>\n",
       "      <td>Anarchisme et nature humaine : domination contre autonomie</td>\n",
       "      <td>10</td>\n",
       "    </tr>\n",
       "    <tr>\n",
       "      <th>1394</th>\n",
       "      <td>A política nômade : a guerrilha contra o Estado</td>\n",
       "      <td>10</td>\n",
       "    </tr>\n",
       "    <tr>\n",
       "      <th>1457</th>\n",
       "      <td>Anarchisme et nature humaine : domination contre autonomie</td>\n",
       "      <td>10</td>\n",
       "    </tr>\n",
       "    <tr>\n",
       "      <th>1592</th>\n",
       "      <td>La transaction de la liberté et les nouvelles servitudes : somatophobie et autophobie</td>\n",
       "      <td>10</td>\n",
       "    </tr>\n",
       "  </tbody>\n",
       "</table>\n",
       "</div>"
      ],
      "text/plain": [
       "                                                                                                                              titre  \\\n",
       "46                              L'offense à la chair, ou l'emblème de la déshumanisation. Regards sur l'oeuvre guerrière d'Otto Dix   \n",
       "749                                                                                                            Contra la dominacion   \n",
       "1149                                                                                  Contre-révolution, folklore et provincialisme   \n",
       "1232  Authoritarianism, social dominance and social values: Group-based dominance and opposition to equality as independent factors   \n",
       "1289                                                                     Anarchisme et nature humaine : domination contre autonomie   \n",
       "1394                                                                                A política nômade : a guerrilha contra o Estado   \n",
       "1457                                                                     Anarchisme et nature humaine : domination contre autonomie   \n",
       "1592                                          La transaction de la liberté et les nouvelles servitudes : somatophobie et autophobie   \n",
       "\n",
       "      cluster  \n",
       "46         10  \n",
       "749        10  \n",
       "1149       10  \n",
       "1232       10  \n",
       "1289       10  \n",
       "1394       10  \n",
       "1457       10  \n",
       "1592       10  "
      ]
     },
     "execution_count": 613,
     "metadata": {},
     "output_type": "execute_result"
    }
   ],
   "source": [
    "pd.set_option('display.max_colwidth', None)\n",
    "results = pd.DataFrame({\"titre\":data,\"cluster\":cluster.labels_})\n",
    "select = results.cluster == 10\n",
    "results[select]"
   ]
  },
  {
   "cell_type": "code",
   "execution_count": 616,
   "metadata": {},
   "outputs": [
    {
     "name": "stdout",
     "output_type": "stream",
     "text": [
      "101\n"
     ]
    },
    {
     "data": {
      "text/plain": [
       "[('contre', 0.26945927322938856),\n",
       " ('dominance', 0.24635494069349392),\n",
       " ('domination', 0.24635494069349392),\n",
       " ('autonomie', 0.23529024559919465),\n",
       " ('contra', 0.22670780131787888),\n",
       " ('humaine', 0.21376656144783224),\n",
       " ('nature', 0.2000482943732656),\n",
       " ('anarchisme', 0.19303592680426737),\n",
       " ('and', 0.18710705450321893),\n",
       " ('social', 0.15298000854164578)]"
      ]
     },
     "execution_count": 616,
     "metadata": {},
     "output_type": "execute_result"
    }
   ],
   "source": [
    "print(len(top_n))\n",
    "top_n[10][:10]"
   ]
  },
  {
   "cell_type": "code",
   "execution_count": null,
   "metadata": {},
   "outputs": [],
   "source": [
    "# Néttoyer les langues\n",
    "# Lemmatisation\n"
   ]
  },
  {
   "cell_type": "code",
   "execution_count": 23,
   "metadata": {},
   "outputs": [],
   "source": [
    "\n",
    "import numpy as np\n",
    "from sklearn.feature_extraction.text import CountVectorizer\n",
    "\n",
    "def c_tf_idf(documents, m, ngram_range=(1, 1)):\n",
    "    count = CountVectorizer(ngram_range=ngram_range, stop_words=\"english\").fit(documents)\n",
    "    t = count.transform(documents).toarray()\n",
    "    w = t.sum(axis=1)\n",
    "    tf = np.divide(t.T, w)\n",
    "    sum_t = t.sum(axis=0)\n",
    "    idf = np.log(np.divide(m, sum_t)).reshape(-1, 1)\n",
    "    tf_idf = np.multiply(tf, idf)\n",
    "\n",
    "    return tf_idf, count\n",
    "  \n",
    "tf_idf, count = c_tf_idf(docs_per_topic.Doc.values, m=len(data))"
   ]
  },
  {
   "cell_type": "code",
   "execution_count": 24,
   "metadata": {},
   "outputs": [
    {
     "data": {
      "text/html": [
       "<div>\n",
       "<style scoped>\n",
       "    .dataframe tbody tr th:only-of-type {\n",
       "        vertical-align: middle;\n",
       "    }\n",
       "\n",
       "    .dataframe tbody tr th {\n",
       "        vertical-align: top;\n",
       "    }\n",
       "\n",
       "    .dataframe thead th {\n",
       "        text-align: right;\n",
       "    }\n",
       "</style>\n",
       "<table border=\"1\" class=\"dataframe\">\n",
       "  <thead>\n",
       "    <tr style=\"text-align: right;\">\n",
       "      <th></th>\n",
       "      <th>Topic</th>\n",
       "      <th>Size</th>\n",
       "    </tr>\n",
       "  </thead>\n",
       "  <tbody>\n",
       "    <tr>\n",
       "      <th>3</th>\n",
       "      <td>2</td>\n",
       "      <td>727</td>\n",
       "    </tr>\n",
       "    <tr>\n",
       "      <th>0</th>\n",
       "      <td>-1</td>\n",
       "      <td>164</td>\n",
       "    </tr>\n",
       "    <tr>\n",
       "      <th>2</th>\n",
       "      <td>1</td>\n",
       "      <td>72</td>\n",
       "    </tr>\n",
       "    <tr>\n",
       "      <th>1</th>\n",
       "      <td>0</td>\n",
       "      <td>37</td>\n",
       "    </tr>\n",
       "  </tbody>\n",
       "</table>\n",
       "</div>"
      ],
      "text/plain": [
       "   Topic  Size\n",
       "3      2   727\n",
       "0     -1   164\n",
       "2      1    72\n",
       "1      0    37"
      ]
     },
     "execution_count": 24,
     "metadata": {},
     "output_type": "execute_result"
    }
   ],
   "source": [
    "def extract_top_n_words_per_topic(tf_idf, count, docs_per_topic, n=20):\n",
    "    words = count.get_feature_names()\n",
    "    labels = list(docs_per_topic.Topic)\n",
    "    tf_idf_transposed = tf_idf.T\n",
    "    indices = tf_idf_transposed.argsort()[:, -n:]\n",
    "    top_n_words = {label: [(words[j], tf_idf_transposed[i][j]) for j in indices[i]][::-1] for i, label in enumerate(labels)}\n",
    "    return top_n_words\n",
    "\n",
    "def extract_topic_sizes(df):\n",
    "    topic_sizes = (df.groupby(['Topic'])\n",
    "                     .Doc\n",
    "                     .count()\n",
    "                     .reset_index()\n",
    "                     .rename({\"Topic\": \"Topic\", \"Doc\": \"Size\"}, axis='columns')\n",
    "                     .sort_values(\"Size\", ascending=False))\n",
    "    return topic_sizes\n",
    "\n",
    "top_n_words = extract_top_n_words_per_topic(tf_idf, count, docs_per_topic, n=20)\n",
    "topic_sizes = extract_topic_sizes(docs_df); topic_sizes.head(10)"
   ]
  }
 ],
 "metadata": {
  "kernelspec": {
   "display_name": "Python 3",
   "language": "python",
   "name": "python3"
  },
  "language_info": {
   "codemirror_mode": {
    "name": "ipython",
    "version": 3
   },
   "file_extension": ".py",
   "mimetype": "text/x-python",
   "name": "python",
   "nbconvert_exporter": "python",
   "pygments_lexer": "ipython3",
   "version": "3.8.5"
  }
 },
 "nbformat": 4,
 "nbformat_minor": 4
}
