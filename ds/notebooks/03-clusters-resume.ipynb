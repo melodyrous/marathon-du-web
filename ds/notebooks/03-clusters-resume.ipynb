{
 "cells": [
  {
   "cell_type": "code",
   "execution_count": 1,
   "metadata": {},
   "outputs": [],
   "source": [
    "from sentence_transformers import SentenceTransformer\n",
    "import umap\n",
    "import hdbscan\n",
    "\n",
    "import numpy as np\n",
    "from sklearn.feature_extraction.text import CountVectorizer\n",
    "from bs4 import BeautifulSoup\n",
    "import pandas as pd\n",
    "import html \n",
    "import re\n",
    "\n",
    "import matplotlib.pyplot as plt\n",
    "import plotly.express as px\n",
    "import plotly.graph_objects as go"
   ]
  },
  {
   "cell_type": "code",
   "execution_count": 2,
   "metadata": {},
   "outputs": [
    {
     "name": "stdout",
     "output_type": "stream",
     "text": [
      "<class 'pandas.core.frame.DataFrame'>\n",
      "RangeIndex: 2542 entries, 0 to 2541\n",
      "Data columns (total 3 columns):\n",
      " #   Column  Non-Null Count  Dtype \n",
      "---  ------  --------------  ----- \n",
      " 0   id      2542 non-null   int64 \n",
      " 1   mot     2542 non-null   object\n",
      " 2   valid   2542 non-null   int64 \n",
      "dtypes: int64(2), object(1)\n",
      "memory usage: 59.7+ KB\n",
      "<class 'pandas.core.frame.DataFrame'>\n",
      "RangeIndex: 3093 entries, 0 to 3092\n",
      "Data columns (total 8 columns):\n",
      " #   Column       Non-Null Count  Dtype  \n",
      "---  ------       --------------  -----  \n",
      " 0   id           3093 non-null   int64  \n",
      " 1   id_mot       3093 non-null   int64  \n",
      " 2   id_publi     2234 non-null   float64\n",
      " 3   id_ecriture  0 non-null      float64\n",
      " 4   id_user      748 non-null    float64\n",
      " 5   id_revue     76 non-null     float64\n",
      " 6   id_numero    35 non-null     float64\n",
      " 7   valid        3093 non-null   int64  \n",
      "dtypes: float64(5), int64(3)\n",
      "memory usage: 193.4 KB\n",
      "<class 'pandas.core.frame.DataFrame'>\n",
      "RangeIndex: 1815 entries, 0 to 1814\n",
      "Data columns (total 13 columns):\n",
      " #   Column              Non-Null Count  Dtype  \n",
      "---  ------              --------------  -----  \n",
      " 0   id                  1815 non-null   int64  \n",
      " 1   id_revue            1815 non-null   int64  \n",
      " 2   id_numero           1815 non-null   int64  \n",
      " 3   type                1815 non-null   int64  \n",
      " 4   titre               1815 non-null   object \n",
      " 5   soustitre           372 non-null    object \n",
      " 6   position            1815 non-null   int64  \n",
      " 7   resume              771 non-null    object \n",
      " 8   article             1785 non-null   object \n",
      " 9   id_ecriture_parent  1815 non-null   int64  \n",
      " 10  slug                1815 non-null   object \n",
      " 11  url                 0 non-null      float64\n",
      " 12  valid               1815 non-null   int64  \n",
      "dtypes: float64(1), int64(7), object(5)\n",
      "memory usage: 184.5+ KB\n"
     ]
    }
   ],
   "source": [
    "## Import Data\n",
    "\n",
    "df_mots = pd.read_csv(\"./data/b_mot_cle.csv\", encoding=\"utf8\")\n",
    "df_mots.info()\n",
    "df_mot_entite = pd.read_csv(\"./data/num_mot_entite.csv\", encoding=\"utf8\")\n",
    "df_mot_entite.info()\n",
    "df_publis = pd.read_csv(\"./data/num_publis.csv\", encoding=\"utf8\")\n",
    "df_publis.info()"
   ]
  },
  {
   "cell_type": "code",
   "execution_count": 3,
   "metadata": {},
   "outputs": [],
   "source": [
    "arti = df_publis.loc[:,[\"id\",\"article\"]]"
   ]
  },
  {
   "cell_type": "code",
   "execution_count": 4,
   "metadata": {},
   "outputs": [],
   "source": [
    "arti.to_csv(\"num_articles.csv\", index=False)"
   ]
  },
  {
   "cell_type": "code",
   "execution_count": 5,
   "metadata": {},
   "outputs": [
    {
     "data": {
      "text/html": [
       "<div>\n",
       "<style scoped>\n",
       "    .dataframe tbody tr th:only-of-type {\n",
       "        vertical-align: middle;\n",
       "    }\n",
       "\n",
       "    .dataframe tbody tr th {\n",
       "        vertical-align: top;\n",
       "    }\n",
       "\n",
       "    .dataframe thead th {\n",
       "        text-align: right;\n",
       "    }\n",
       "</style>\n",
       "<table border=\"1\" class=\"dataframe\">\n",
       "  <thead>\n",
       "    <tr style=\"text-align: right;\">\n",
       "      <th></th>\n",
       "      <th>id</th>\n",
       "      <th>id_revue</th>\n",
       "      <th>id_numero</th>\n",
       "      <th>type</th>\n",
       "      <th>titre</th>\n",
       "      <th>soustitre</th>\n",
       "      <th>position</th>\n",
       "      <th>resume</th>\n",
       "      <th>id_ecriture_parent</th>\n",
       "      <th>slug</th>\n",
       "      <th>url</th>\n",
       "      <th>valid</th>\n",
       "    </tr>\n",
       "  </thead>\n",
       "  <tbody>\n",
       "    <tr>\n",
       "      <th>0</th>\n",
       "      <td>239</td>\n",
       "      <td>1</td>\n",
       "      <td>35</td>\n",
       "      <td>0</td>\n",
       "      <td>Note de recherche-Le rôle de l’entrepreneuriat...</td>\n",
       "      <td>Sous titre par défaut</td>\n",
       "      <td>6</td>\n",
       "      <td>&amp;lt;p style=&amp;quot;text-align:justify; margin-b...</td>\n",
       "      <td>147</td>\n",
       "      <td>note-de-recherche-le-role-de-l-entrepreneuriat...</td>\n",
       "      <td>NaN</td>\n",
       "      <td>1</td>\n",
       "    </tr>\n",
       "    <tr>\n",
       "      <th>1</th>\n",
       "      <td>240</td>\n",
       "      <td>1</td>\n",
       "      <td>35</td>\n",
       "      <td>0</td>\n",
       "      <td>Transformations organisationnelles, développem...</td>\n",
       "      <td>un cas d'adaptation au changement climatique</td>\n",
       "      <td>1</td>\n",
       "      <td>&amp;lt;p&amp;gt;&amp;lt;strong&amp;gt;R&amp;amp;eacute;sum&amp;amp;ea...</td>\n",
       "      <td>170</td>\n",
       "      <td>transformations-organisationnelles-developpeme...</td>\n",
       "      <td>NaN</td>\n",
       "      <td>1</td>\n",
       "    </tr>\n",
       "    <tr>\n",
       "      <th>2</th>\n",
       "      <td>241</td>\n",
       "      <td>1</td>\n",
       "      <td>35</td>\n",
       "      <td>0</td>\n",
       "      <td>Comment la digitalisation du don participatif ...</td>\n",
       "      <td>Sous titre par défaut</td>\n",
       "      <td>3</td>\n",
       "      <td>&amp;lt;p&amp;gt;La recomposition des &amp;amp;eacute;cosy...</td>\n",
       "      <td>182</td>\n",
       "      <td>comment-la-digitalisation-du-don-participatif-...</td>\n",
       "      <td>NaN</td>\n",
       "      <td>1</td>\n",
       "    </tr>\n",
       "    <tr>\n",
       "      <th>3</th>\n",
       "      <td>242</td>\n",
       "      <td>1</td>\n",
       "      <td>35</td>\n",
       "      <td>0</td>\n",
       "      <td>La résilience urbaine inclusive</td>\n",
       "      <td>Les stratégies de résilience urbaine en direct...</td>\n",
       "      <td>2</td>\n",
       "      <td>&amp;lt;p&amp;gt;La tendance mondiale de l&amp;amp;#39;urb...</td>\n",
       "      <td>243</td>\n",
       "      <td>la-resilience-urbaine-inclusive</td>\n",
       "      <td>NaN</td>\n",
       "      <td>1</td>\n",
       "    </tr>\n",
       "    <tr>\n",
       "      <th>4</th>\n",
       "      <td>243</td>\n",
       "      <td>1</td>\n",
       "      <td>35</td>\n",
       "      <td>0</td>\n",
       "      <td>La territorialisation comme condition de durab...</td>\n",
       "      <td>Sous titre par défaut</td>\n",
       "      <td>5</td>\n",
       "      <td>&amp;lt;p&amp;gt;R&amp;amp;eacute;sum&amp;amp;eacute;&amp;lt;/p&amp;gt...</td>\n",
       "      <td>251</td>\n",
       "      <td>la-territorialisation-comme-condition-de-durab...</td>\n",
       "      <td>NaN</td>\n",
       "      <td>1</td>\n",
       "    </tr>\n",
       "  </tbody>\n",
       "</table>\n",
       "</div>"
      ],
      "text/plain": [
       "    id  id_revue  id_numero  type  \\\n",
       "0  239         1         35     0   \n",
       "1  240         1         35     0   \n",
       "2  241         1         35     0   \n",
       "3  242         1         35     0   \n",
       "4  243         1         35     0   \n",
       "\n",
       "                                               titre  \\\n",
       "0  Note de recherche-Le rôle de l’entrepreneuriat...   \n",
       "1  Transformations organisationnelles, développem...   \n",
       "2  Comment la digitalisation du don participatif ...   \n",
       "3                    La résilience urbaine inclusive   \n",
       "4  La territorialisation comme condition de durab...   \n",
       "\n",
       "                                           soustitre  position  \\\n",
       "0                              Sous titre par défaut         6   \n",
       "1       un cas d'adaptation au changement climatique         1   \n",
       "2                              Sous titre par défaut         3   \n",
       "3  Les stratégies de résilience urbaine en direct...         2   \n",
       "4                              Sous titre par défaut         5   \n",
       "\n",
       "                                              resume  id_ecriture_parent  \\\n",
       "0  &lt;p style=&quot;text-align:justify; margin-b...                 147   \n",
       "1  &lt;p&gt;&lt;strong&gt;R&amp;eacute;sum&amp;ea...                 170   \n",
       "2  &lt;p&gt;La recomposition des &amp;eacute;cosy...                 182   \n",
       "3  &lt;p&gt;La tendance mondiale de l&amp;#39;urb...                 243   \n",
       "4  &lt;p&gt;R&amp;eacute;sum&amp;eacute;&lt;/p&gt...                 251   \n",
       "\n",
       "                                                slug  url  valid  \n",
       "0  note-de-recherche-le-role-de-l-entrepreneuriat...  NaN      1  \n",
       "1  transformations-organisationnelles-developpeme...  NaN      1  \n",
       "2  comment-la-digitalisation-du-don-participatif-...  NaN      1  \n",
       "3                    la-resilience-urbaine-inclusive  NaN      1  \n",
       "4  la-territorialisation-comme-condition-de-durab...  NaN      1  "
      ]
     },
     "execution_count": 5,
     "metadata": {},
     "output_type": "execute_result"
    }
   ],
   "source": [
    "publis = df_publis.drop(columns=\"article\")\n",
    "publis.head()"
   ]
  },
  {
   "cell_type": "code",
   "execution_count": 6,
   "metadata": {},
   "outputs": [],
   "source": [
    "publis.to_csv(\"publis_without_art.csv\", index=False)"
   ]
  },
  {
   "cell_type": "code",
   "execution_count": 7,
   "metadata": {},
   "outputs": [
    {
     "data": {
      "text/html": [
       "<div>\n",
       "<style scoped>\n",
       "    .dataframe tbody tr th:only-of-type {\n",
       "        vertical-align: middle;\n",
       "    }\n",
       "\n",
       "    .dataframe tbody tr th {\n",
       "        vertical-align: top;\n",
       "    }\n",
       "\n",
       "    .dataframe thead th {\n",
       "        text-align: right;\n",
       "    }\n",
       "</style>\n",
       "<table border=\"1\" class=\"dataframe\">\n",
       "  <thead>\n",
       "    <tr style=\"text-align: right;\">\n",
       "      <th></th>\n",
       "      <th>id</th>\n",
       "      <th>mot</th>\n",
       "      <th>valid</th>\n",
       "    </tr>\n",
       "  </thead>\n",
       "  <tbody>\n",
       "    <tr>\n",
       "      <th>0</th>\n",
       "      <td>1</td>\n",
       "      <td>systémique</td>\n",
       "      <td>1</td>\n",
       "    </tr>\n",
       "    <tr>\n",
       "      <th>1</th>\n",
       "      <td>2</td>\n",
       "      <td>data</td>\n",
       "      <td>1</td>\n",
       "    </tr>\n",
       "    <tr>\n",
       "      <th>2</th>\n",
       "      <td>4</td>\n",
       "      <td>FLE</td>\n",
       "      <td>1</td>\n",
       "    </tr>\n",
       "    <tr>\n",
       "      <th>3</th>\n",
       "      <td>6</td>\n",
       "      <td>plurilinguisme</td>\n",
       "      <td>1</td>\n",
       "    </tr>\n",
       "    <tr>\n",
       "      <th>4</th>\n",
       "      <td>7</td>\n",
       "      <td>enseignement bilingue</td>\n",
       "      <td>1</td>\n",
       "    </tr>\n",
       "    <tr>\n",
       "      <th>5</th>\n",
       "      <td>8</td>\n",
       "      <td>politique linguistique</td>\n",
       "      <td>1</td>\n",
       "    </tr>\n",
       "    <tr>\n",
       "      <th>6</th>\n",
       "      <td>9</td>\n",
       "      <td>acquisition</td>\n",
       "      <td>1</td>\n",
       "    </tr>\n",
       "    <tr>\n",
       "      <th>7</th>\n",
       "      <td>10</td>\n",
       "      <td>interaction</td>\n",
       "      <td>1</td>\n",
       "    </tr>\n",
       "    <tr>\n",
       "      <th>8</th>\n",
       "      <td>11</td>\n",
       "      <td>acquisition des langues étrangères</td>\n",
       "      <td>1</td>\n",
       "    </tr>\n",
       "    <tr>\n",
       "      <th>9</th>\n",
       "      <td>12</td>\n",
       "      <td>créolisation</td>\n",
       "      <td>1</td>\n",
       "    </tr>\n",
       "    <tr>\n",
       "      <th>10</th>\n",
       "      <td>14</td>\n",
       "      <td>didactique de la grammaire</td>\n",
       "      <td>1</td>\n",
       "    </tr>\n",
       "    <tr>\n",
       "      <th>11</th>\n",
       "      <td>15</td>\n",
       "      <td>didactique du français langue étrangère</td>\n",
       "      <td>1</td>\n",
       "    </tr>\n",
       "    <tr>\n",
       "      <th>12</th>\n",
       "      <td>16</td>\n",
       "      <td>curriculum des langues</td>\n",
       "      <td>1</td>\n",
       "    </tr>\n",
       "    <tr>\n",
       "      <th>13</th>\n",
       "      <td>17</td>\n",
       "      <td>méthodologie</td>\n",
       "      <td>1</td>\n",
       "    </tr>\n",
       "    <tr>\n",
       "      <th>14</th>\n",
       "      <td>18</td>\n",
       "      <td>francophonie</td>\n",
       "      <td>1</td>\n",
       "    </tr>\n",
       "    <tr>\n",
       "      <th>15</th>\n",
       "      <td>19</td>\n",
       "      <td>histoire de la didactique des langues</td>\n",
       "      <td>1</td>\n",
       "    </tr>\n",
       "    <tr>\n",
       "      <th>16</th>\n",
       "      <td>20</td>\n",
       "      <td>psycholinguistique</td>\n",
       "      <td>1</td>\n",
       "    </tr>\n",
       "    <tr>\n",
       "      <th>17</th>\n",
       "      <td>21</td>\n",
       "      <td>sociolinguistique</td>\n",
       "      <td>1</td>\n",
       "    </tr>\n",
       "    <tr>\n",
       "      <th>18</th>\n",
       "      <td>23</td>\n",
       "      <td>sociologie des langues</td>\n",
       "      <td>1</td>\n",
       "    </tr>\n",
       "    <tr>\n",
       "      <th>19</th>\n",
       "      <td>24</td>\n",
       "      <td>anthroplogie de la communication en langues ét...</td>\n",
       "      <td>1</td>\n",
       "    </tr>\n",
       "  </tbody>\n",
       "</table>\n",
       "</div>"
      ],
      "text/plain": [
       "    id                                                mot  valid\n",
       "0    1                                         systémique      1\n",
       "1    2                                               data      1\n",
       "2    4                                                FLE      1\n",
       "3    6                                     plurilinguisme      1\n",
       "4    7                              enseignement bilingue      1\n",
       "5    8                             politique linguistique      1\n",
       "6    9                                        acquisition      1\n",
       "7   10                                        interaction      1\n",
       "8   11                 acquisition des langues étrangères      1\n",
       "9   12                                       créolisation      1\n",
       "10  14                         didactique de la grammaire      1\n",
       "11  15            didactique du français langue étrangère      1\n",
       "12  16                             curriculum des langues      1\n",
       "13  17                                       méthodologie      1\n",
       "14  18                                       francophonie      1\n",
       "15  19              histoire de la didactique des langues      1\n",
       "16  20                                 psycholinguistique      1\n",
       "17  21                                  sociolinguistique      1\n",
       "18  23                             sociologie des langues      1\n",
       "19  24  anthroplogie de la communication en langues ét...      1"
      ]
     },
     "execution_count": 7,
     "metadata": {},
     "output_type": "execute_result"
    }
   ],
   "source": [
    "df_mots.head(20)"
   ]
  },
  {
   "cell_type": "code",
   "execution_count": null,
   "metadata": {},
   "outputs": [],
   "source": []
  },
  {
   "cell_type": "code",
   "execution_count": 8,
   "metadata": {},
   "outputs": [
    {
     "data": {
      "text/plain": [
       "array([  83,   84,   86,  172,  167,  229, 1540, 1542,   34, 1638])"
      ]
     },
     "execution_count": 8,
     "metadata": {},
     "output_type": "execute_result"
    }
   ],
   "source": [
    "# df_publis.set_index(\"id\", inplace=True)\n",
    "selection = df_mot_entite.id_mot == 6\n",
    "publis = df_mot_entite[selection].id_publi.dropna().astype(\"int32\").values\n",
    "publis"
   ]
  },
  {
   "cell_type": "code",
   "execution_count": 9,
   "metadata": {},
   "outputs": [
    {
     "name": "stdout",
     "output_type": "stream",
     "text": [
      "83      &lt;blockquote&gt;\\r\\n&lt;p&gt;&amp;laquo;&amp...\n",
      "84      &lt;h2&gt;Introduction&lt;/h2&gt;\\r\\n\\r\\n&lt;p...\n",
      "86      &lt;h2&gt;Introduction&lt;/h2&gt;\\r\\n\\r\\n&lt;p...\n",
      "172                                                   NaN\n",
      "167     &lt;h2&gt;Introduction&lt;/h2&gt;\\r\\n\\r\\n&lt;p...\n",
      "229     &lt;h2&gt;&lt;strong&gt;1. Introduction&lt;/st...\n",
      "1540    &lt;p class=&quot;texte&quot; dir=&quot;ltr&qu...\n",
      "1542    &lt;h1 dir=&quot;ltr&quot; id=&quot;heading1&q...\n",
      "34      &lt;div class=&quot;WordSection1&quot;&gt;\\r\\n...\n",
      "1638    &lt;p class=&quot;texte&quot;&gt;Jean Birnbaum...\n",
      "Name: article, dtype: object\n"
     ]
    },
    {
     "data": {
      "text/plain": [
       "'&lt;blockquote&gt;\\r\\n&lt;p&gt;&amp;laquo;&amp;nbsp;&amp;hellip;&lt;em&gt;Entre jeunes gens dont les sujets sont depuis longtemps construits dans le r&amp;eacute;seau signifiant d&amp;rsquo;une langue maternelle ou prise pour telle, l&amp;rsquo;apprentissage de la langue cible, ou langue du jeu, se fait dans le transfert subjectif... C&amp;rsquo;est &amp;agrave; la fois tr&amp;egrave;s grave et pleinement jouissif. L&amp;rsquo;acculturation passe par l&amp;rsquo;aventure d&amp;rsquo;un moi par les chemins, le contraire d&amp;rsquo;un enfermement&lt;/em&gt;&amp;nbsp;&amp;raquo;&lt;sup&gt;&lt;a href=&quot;#sdfootnote1sym&quot; name=&quot;sdfootnote1anc&quot;&gt;1&lt;/a&gt;&lt;/sup&gt;.&amp;nbsp;Robert LAFONT&lt;/p&gt;\\r\\n&lt;/blockquote&gt;\\r\\n\\r\\n&lt;p&gt;Deux pr&amp;eacute;occupations langagi&amp;egrave;res se croiseront dans cette r&amp;eacute;flexion en didactique des langues/cultures : celle de l&amp;rsquo;esth&amp;eacute;tique langagi&amp;egrave;re produite par la performance sc&amp;eacute;nique de textes (ici plus sp&amp;eacute;cifiquement de textes po&amp;eacute;tiques) et celle de certaines acquisitions possibles en langue nouvelle. Au centre de cette question se trouve le Dire du sujet de la parole en langue &amp;eacute;trang&amp;egrave;re qui met en jeu le corps et la voix sc&amp;eacute;niques entre les langues et les cultures. La langue nouvelle est ici consid&amp;eacute;r&amp;eacute;e en tant que mati&amp;egrave;re sonore, rythmique, relationnelle et m&amp;eacute;taphorique, chaque fois articul&amp;eacute;e de fa&amp;ccedil;on sp&amp;eacute;cifique aux divers contextes linguistiques et culturels dans lesquels elle s&amp;rsquo;acquiert.&lt;/p&gt;\\r\\n\\r\\n&lt;p&gt;Cette r&amp;eacute;flexion tentera de formuler un langage critique afin de mettre des mots sur le caract&amp;egrave;re&amp;nbsp;mixte&amp;nbsp;de cette (ces) parole(s) en FLE d&amp;rsquo;apprenants en situation &amp;agrave; la fois publique et p&amp;eacute;dagogique. Les po&amp;egrave;tes travaill&amp;eacute;s dans les cours qui ont inspir&amp;eacute; cette r&amp;eacute;flexion sont pour l&amp;rsquo;instant et entre autres, La Fontaine, Baudelaire, Rimbaud, Michaux, Queneau, Tardieu...(des documents vid&amp;eacute;os et audios existent d&amp;eacute;j&amp;agrave; et d&amp;rsquo;autres seront r&amp;eacute;alis&amp;eacute;s.)&amp;nbsp;&lt;/p&gt;\\r\\n\\r\\n&lt;h2&gt;1. L&amp;rsquo;hypoth&amp;egrave;se de l&amp;rsquo;approche esth&amp;eacute;tique de la parole est celle d&amp;rsquo;un acc&amp;egrave;s prioritairement sonore et rythmique &amp;agrave; la langue &amp;eacute;trang&amp;egrave;re&lt;/h2&gt;\\r\\n\\r\\n&lt;p&gt;La prise en consid&amp;eacute;ration de la fonction po&amp;eacute;tique du langage, pour l&amp;rsquo;impact de toute parole, est primordiale quant &amp;agrave; l&amp;rsquo;approche esth&amp;eacute;tique en langue &amp;eacute;trang&amp;egrave;re ici envisag&amp;eacute;e. En effet, la fonction po&amp;eacute;tique du langage telle que l&amp;rsquo;a rep&amp;eacute;r&amp;eacute;e Jakobson&lt;sup&gt;&lt;a href=&quot;#sdfootnote2sym&quot; name=&quot;sdfootnote2anc&quot;&gt;2&lt;/a&gt;&lt;/sup&gt;&amp;nbsp;cit&amp;eacute; ci-dessous par le psychanalyste Claude Allione&lt;sup&gt;&lt;a href=&quot;#sdfootnote3sym&quot; name=&quot;sdfootnote3anc&quot;&gt;3&lt;/a&gt;&lt;/sup&gt;&amp;nbsp;(2013), qui la relie &amp;eacute;galement &amp;agrave; la question du sujet de l&amp;rsquo;inconscient, n&amp;rsquo;est pas fr&amp;eacute;quente dans le rapport au langage pratiqu&amp;eacute; le plus souvent dans l&amp;rsquo;apprentissage d&amp;rsquo;une langue &amp;eacute;trang&amp;egrave;re. Car parmi les six fonctions canoniques de la communication, la fonction po&amp;eacute;tique met plus particuli&amp;egrave;rement en action des aspects difficiles &amp;agrave; manier en p&amp;eacute;dagogie comme la polys&amp;eacute;mie de la parole, la sensation sonore, le rythme, la m&amp;eacute;taphore, &amp;agrave; savoir des forces subjectivantes susceptibles de nourrir cette r&amp;eacute;flexion. En effet, la m&amp;eacute;taphore, l&amp;rsquo;allit&amp;eacute;ration, les sonorit&amp;eacute;s&amp;nbsp; etc&amp;hellip; relativisent le rapport unique au sens suppos&amp;eacute; du langage ordinaire. Le d&amp;eacute;ploiement du langage esth&amp;eacute;tique par le po&amp;egrave;me fait encore davantage surgir la polys&amp;eacute;mie, les r&amp;eacute;sonances, par le rythme qui, d&amp;rsquo;apr&amp;egrave;s E. Benveniste&lt;sup&gt;&lt;a href=&quot;#sdfootnote4sym&quot; name=&quot;sdfootnote4anc&quot;&gt;4&lt;/a&gt;&lt;/sup&gt;&amp;nbsp;et &amp;agrave; sa suite H. Meschonnic&lt;sup&gt;&lt;a href=&quot;#sdfootnote5sym&quot; name=&quot;sdfootnote5anc&quot;&gt;5&lt;/a&gt;&lt;/sup&gt;, remplace le signe et se fait signifiance&lt;a href=&quot;#sdfootnote6sym&quot; name=&quot;sdfootnote6anc&quot;&gt;6&lt;/a&gt;. Le po&amp;egrave;te revendiquerait, ainsi que le mentionne C. Allione, cette subjectivation qui donne toute sa force &amp;agrave; la communication. C&amp;rsquo;est cette force de la parole qui semble, au vu des r&amp;eacute;sultats langagiers obtenus dans l&amp;rsquo;atelier de pratique po&amp;eacute;tique en FLE, profitable &amp;agrave; l&amp;rsquo;apprentissage d&amp;rsquo;une langue-culture gr&amp;acirc;ce &amp;agrave; l&amp;rsquo;impact de l&amp;rsquo;expression subjective lib&amp;eacute;r&amp;eacute;e dans le texte et hors du texte. C&amp;rsquo;est un constat renouvel&amp;eacute; dont les preuves existent gr&amp;acirc;ce aux traces film&amp;eacute;es des spectacles publics.&lt;/p&gt;\\r\\n\\r\\n&lt;p&gt;&amp;Agrave; l&amp;rsquo;oppos&amp;eacute; de cela, et toujours selon C. Allione, le conditionnement, la normalisation des discours &amp;ndash; &amp;agrave; cause de la&amp;nbsp;&lt;em&gt;saturation&lt;/em&gt;&amp;nbsp;qu&amp;rsquo;ils induisent &amp;ndash; nuiraient &amp;agrave; ce&amp;nbsp;&lt;em&gt;rapport vivant&lt;/em&gt;&amp;nbsp;si recherch&amp;eacute; que la parole po&amp;eacute;tique instaure particuli&amp;egrave;rement en se reliant comme toute vraie parole et tout naturellement &amp;agrave; l&amp;rsquo;inconscient. La fonction po&amp;eacute;tique viendrait donc&amp;nbsp;&lt;em&gt;r&amp;eacute;parer&amp;nbsp;&lt;/em&gt;les d&amp;eacute;g&amp;acirc;ts de&amp;nbsp;la&amp;nbsp;&lt;em&gt;saturation&lt;/em&gt;&amp;nbsp;des langages, que ces derniers soient m&amp;eacute;diatiques, politiques ou didactiques. Elle ferait surgir du d&amp;eacute;sir d&amp;#39;expression par le manque&lt;sup&gt;&lt;a href=&quot;#sdfootnote7sym&quot; name=&quot;sdfootnote7anc&quot;&gt;7&lt;/a&gt;&lt;/sup&gt;&amp;nbsp;qui en caract&amp;eacute;rise la nature. En effet, le sujet apprenant, souvent submerg&amp;eacute; d&amp;rsquo;un trop plein d&amp;rsquo;informations, se voit, par des attendus restrictifs, d&amp;eacute;poss&amp;eacute;d&amp;eacute; de sa parole active et subjective. Dans le contexte plus g&amp;eacute;n&amp;eacute;ral d&amp;rsquo;une mondialisation au&amp;nbsp;&lt;em&gt;tout &amp;eacute;conomique&lt;/em&gt;&amp;nbsp;faisant pr&amp;eacute;valoir selon l&amp;rsquo;auteur une &amp;laquo;&amp;nbsp;&lt;em&gt;haine de la parole&lt;/em&gt;&amp;nbsp;&amp;raquo;&amp;nbsp;guid&amp;eacute;e par le &amp;laquo;&amp;nbsp;&lt;em&gt;Saint March&amp;eacute;&lt;/em&gt;&amp;nbsp;&amp;raquo;&amp;nbsp;&amp;eacute;voqu&amp;eacute;s par Allione toujours, la parole et ses &amp;eacute;l&amp;eacute;ments de langage, deviendraient manag&amp;eacute;riaux, manipulateurs, obligeant presque, contre toute &amp;eacute;thique, le sujet &amp;agrave; se prendre parfois lui-m&amp;ecirc;me pour objet&amp;hellip; confisquant ainsi de fait toute possibilit&amp;eacute; de subjectivit&amp;eacute; affirm&amp;eacute;e. Ce ph&amp;eacute;nom&amp;egrave;ne entra&amp;icirc;ne alors une non-parole. Ces notions d&amp;rsquo;ouverture et de fermeture &amp;agrave; la parole peuvent int&amp;eacute;resser aussi la r&amp;eacute;flexion sur l&amp;rsquo;apprentissage d&amp;rsquo;une nouvelle langue-culture. En effet, l&amp;rsquo;heure est &amp;agrave; l&amp;rsquo;industrialisation de la p&amp;eacute;dagogie des langues, de plus en plus normalis&amp;eacute;e elle aussi par des cadres europ&amp;eacute;ens&lt;sup&gt;&lt;a href=&quot;#sdfootnote8sym&quot; name=&quot;sdfootnote8anc&quot;&gt;8&lt;/a&gt;&lt;/sup&gt;pr&amp;eacute;cis pouvant instaurer parfois des limites &amp;agrave; l&amp;rsquo;imagination d&amp;rsquo;enseignements et de recherches en didactique des langues, discipline devant, il me semble et tout au contraire, se faire de plus en plus critique&amp;nbsp;en affirmant la question du sujet&amp;nbsp;:&lt;/p&gt;\\r\\n\\r\\n&lt;blockquote&gt;\\r\\n&lt;p&gt;&lt;em&gt;Il (Jakobson) montrait, en 1963, que la sp&amp;eacute;cificit&amp;eacute; du message r&amp;eacute;side soit dans les affects de l&amp;rsquo;&amp;eacute;metteur (fonction &amp;eacute;motive), soit dans les signifi&amp;eacute;s du message (fonction r&amp;eacute;f&amp;eacute;rentielle), soit encore dans la forme du message (fonction po&amp;eacute;tique), soit enfin dans la particularit&amp;eacute; m&amp;ecirc;me du destinataire (fonction conative) ; &amp;agrave; ces quatre fonctions centrales s&amp;rsquo;ajoutent deux fonctions auxiliaires: maintien de contact avec l&amp;rsquo;interlocuteur, et une fonction m&amp;eacute;talinguistique qui recouvre en r&amp;eacute;alit&amp;eacute; la r&amp;eacute;gulation de la langue par le code (grammaire). Je veux noter ici l&amp;rsquo;importance de la fonction po&amp;eacute;tique dont la force consiste &amp;agrave; contrebalancer l&amp;rsquo;arbitraire du signe et donc &amp;agrave; donner au discours une valeur analogique en privil&amp;eacute;giant le rythme (objet disparu par excellence), la m&amp;eacute;taphore, l&amp;rsquo;allit&amp;eacute;ration, les sonorit&amp;eacute;s etc. La fonction po&amp;eacute;tique conf&amp;egrave;re une force irrempla&amp;ccedil;able au message dans la mesure o&amp;ugrave; elle n&amp;rsquo;est pas le porteur d&amp;rsquo;un unique sens, pour ne pas dire d&amp;rsquo;un sens unique, mais au contraire d&amp;rsquo;une pluralit&amp;eacute; de sous-jacences que le po&amp;egrave;te souhaite d&amp;eacute;lib&amp;eacute;r&amp;eacute;ment assumer, ou bien qu&amp;rsquo;il laisse &amp;eacute;chapper en tant que formations de l&amp;rsquo;inconscient. En cela la fonction po&amp;eacute;tique est peut-&amp;ecirc;tre ce qui m&amp;eacute;rite le plus r&amp;eacute;paration dans l&amp;rsquo;&amp;eacute;tat actuel de saturation par la haine de la parole&lt;/em&gt;&lt;a href=&quot;#sdfootnote9sym&quot; name=&quot;sdfootnote9anc&quot;&gt;&lt;sup&gt;9&lt;/sup&gt;.&lt;/a&gt;&lt;/p&gt;\\r\\n&lt;/blockquote&gt;\\r\\n\\r\\n&lt;p&gt;Pour ne pas se cantonner &amp;agrave; cette saturation, &amp;agrave; cette confiscation&amp;nbsp;&lt;em&gt;du manque&lt;/em&gt;&amp;nbsp;par l&amp;rsquo;instrumentalisation du langage,&amp;nbsp;&lt;em&gt;l&amp;rsquo;acc&amp;egrave;s po&amp;eacute;tique&lt;/em&gt;&amp;nbsp;&amp;agrave; la parole peut susciter une approche subjectivante des langues dans la mesure o&amp;ugrave; les sonorit&amp;eacute;s, le rythme, les r&amp;eacute;sonances, la respiration, rendraient sa voix au sujet parlant. Ce dernier, si l&amp;rsquo;on en croit la psychanalyse&lt;sup&gt;&lt;a href=&quot;#sdfootnote10sym&quot; name=&quot;sdfootnote10anc&quot;&gt;10&lt;/a&gt;&lt;/sup&gt;, &amp;eacute;tant d&amp;eacute;j&amp;agrave;&amp;nbsp;&lt;em&gt;divis&amp;eacute; par le langage&lt;/em&gt;&amp;nbsp;dans sa langue maternelle, pourrait aussi dire &amp;laquo;&amp;nbsp;Je&amp;nbsp;&amp;raquo; par le &amp;laquo;&amp;nbsp;Je est un autre&amp;nbsp;&amp;raquo; dans la langue &amp;eacute;trang&amp;egrave;re du po&amp;egrave;me. Pour d&amp;eacute;fendre l&amp;rsquo;hypoth&amp;egrave;se d&amp;rsquo;un acc&amp;egrave;s esth&amp;eacute;tique et subjectif &amp;agrave; la parole dans l&amp;rsquo;enseignement d&amp;rsquo;une langue-culture &amp;eacute;trang&amp;egrave;re, il est crucial de redonner toute son importance &amp;agrave; la fonction po&amp;eacute;tique du langage pour que cette derni&amp;egrave;re retrouve&amp;hellip; ce&amp;nbsp;manque&lt;sup&gt;&lt;a href=&quot;#sdfootnote11sym&quot; name=&quot;sdfootnote11anc&quot;&gt;11&lt;/a&gt;&lt;/sup&gt;&amp;nbsp;parfois perdu, et cela gr&amp;acirc;ce&amp;nbsp;&amp;agrave; la parole trou&amp;eacute;e du po&amp;egrave;me induisant cette subjectivation.&lt;/p&gt;\\r\\n\\r\\n&lt;p&gt;Il devient alors imp&amp;eacute;ratif de r&amp;eacute;fl&amp;eacute;chir &amp;agrave; la mise en actes de ce manque par un dispositif relationnel langagier et intersubjectif issu du po&amp;eacute;tique qui en deviendra le moteur. Le sujet paradoxal, fort de son conscient et de son inconscient, pourra alors, par ce manque reconquis &amp;agrave; l&amp;rsquo;&amp;oelig;uvre aussi bien dans les &amp;eacute;changes que dans les textes po&amp;eacute;tiques, enrichir la force de l&amp;rsquo;expressivit&amp;eacute; de sa (ses) parole(s) nouvelle(s). L&amp;rsquo;ambivalence, les r&amp;eacute;sonances, ainsi suscit&amp;eacute;es par les sons, le rythme du po&amp;egrave;me, impr&amp;eacute;gneront l&amp;rsquo;expression singuli&amp;egrave;re du sujet qui lui donnera, par sa diction&lt;sup&gt;&lt;a href=&quot;#sdfootnote12sym&quot; name=&quot;sdfootnote12anc&quot;&gt;12&lt;/a&gt;&lt;/sup&gt;&amp;nbsp;singuli&amp;egrave;re, la possibilit&amp;eacute;, ainsi que le dirait le philosophe Henri Maldiney, de&amp;nbsp;&lt;em&gt;faire &amp;oelig;uvre dans l&amp;rsquo;&amp;oelig;uvre&lt;/em&gt;&amp;nbsp;par&amp;nbsp;&lt;em&gt;le rythme&lt;/em&gt;&lt;sup&gt;&lt;a href=&quot;#sdfootnote13sym&quot; name=&quot;sdfootnote13anc&quot;&gt;13&lt;/a&gt;&lt;/sup&gt;&amp;nbsp;de la parole pouvant &amp;ecirc;tre aussi interpr&amp;eacute;t&amp;eacute;e de fa&amp;ccedil;on plus ph&amp;eacute;nom&amp;eacute;nologique quand&amp;nbsp;&amp;laquo;&amp;nbsp;&lt;em&gt;le sentir est communication avec le monde&lt;/em&gt;&amp;nbsp;&amp;raquo;&amp;nbsp;et que la fonction de&amp;nbsp;&lt;em&gt;sympt&amp;ocirc;me&lt;/em&gt;&lt;sup&gt;&lt;a href=&quot;#sdfootnote14sym&quot; name=&quot;sdfootnote14anc&quot;&gt;14&lt;/a&gt;&lt;/sup&gt;&amp;nbsp;nourrit les diverses fonctions de la communication.&lt;/p&gt;\\r\\n\\r\\n&lt;p&gt;Ainsi est donn&amp;eacute; &amp;agrave; toute parole son sens po&amp;eacute;tique par le rythme qui la contient. Il s&amp;rsquo;agit donc, gr&amp;acirc;ce &amp;agrave; ces notions, d&amp;rsquo;apporter un soin tout particulier au langage en lui faisant d&amp;eacute;passer le seul niveau des significations. L&amp;rsquo;entra&amp;icirc;ner vers les d&amp;eacute;couvertes sensorielles de ses possibilit&amp;eacute;s sensibles et polys&amp;eacute;miques, c&amp;rsquo;est-&amp;agrave;-dire sonores et rythmiques. Cela passe par le corps et la voix sc&amp;eacute;niques qui&amp;nbsp;&lt;em&gt;s&amp;rsquo;enroulent&amp;nbsp;&lt;/em&gt;dans les textes, lesquels vont en effet creuser la langue &amp;eacute;trang&amp;egrave;re pour les transmettre au mieux. C&amp;rsquo;est un chemin de travail po&amp;eacute;tique en langue nouvelle.&lt;/p&gt;\\r\\n\\r\\n&lt;h2&gt;2. Terrain et notions&lt;/h2&gt;\\r\\n\\r\\n&lt;p&gt;La r&amp;eacute;flexion sur l&amp;rsquo;approche esth&amp;eacute;tique en FLE en didactique des langues et des cultures se poursuit gr&amp;acirc;ce &amp;agrave; l&amp;rsquo;enseignement th&amp;eacute;&amp;acirc;tral en FLE conduit jusqu&amp;rsquo;aux jours d&amp;rsquo;aujourd&amp;rsquo;hui &amp;agrave; l&amp;rsquo;IEFE (Institut d&amp;rsquo;&amp;Eacute;tudes Fran&amp;ccedil;aises pour &amp;Eacute;tudiants Etrangers) et &amp;agrave; des Masters FLE de Sciences du langage de l&amp;rsquo;Universit&amp;eacute; de Montpellier 3. Elle continue de puiser au terrain p&amp;eacute;dagogique de l&amp;rsquo;apprentissage du FLE, inextinguible, car en perp&amp;eacute;tuelle mutation. Pour appr&amp;eacute;hender l&amp;rsquo;h&amp;eacute;t&amp;eacute;rog&amp;eacute;n&amp;eacute;it&amp;eacute; de ce terrain, des notions th&amp;eacute;oriques transversales ont &amp;eacute;t&amp;eacute; n&amp;eacute;cessaires. Entre autres, les notions de sujet de la parole en langue &amp;eacute;trang&amp;egrave;re et celle d&amp;rsquo;esth&amp;eacute;tique de l&amp;rsquo;expression &amp;agrave; travers les cultures, notions qui instaurent un rapport rythmique non instrumentalisant au langage (notions d&amp;eacute;j&amp;agrave; longuement discut&amp;eacute;es dans l&amp;rsquo;&amp;eacute;volutions des travaux publi&amp;eacute;s de 1990 &amp;agrave; 2014&lt;sup&gt;&lt;a href=&quot;#sdfootnote15sym&quot; name=&quot;sdfootnote15anc&quot;&gt;15&lt;/a&gt;&lt;/sup&gt;). Ce rapport vivant &amp;agrave; la parole s&amp;rsquo;active dans la mesure o&amp;ugrave; une pratique de la parole de type artistique est propos&amp;eacute;e (th&amp;eacute;&amp;acirc;tre, po&amp;eacute;sie, conte, chanson etc&amp;hellip;). Le langage n&amp;rsquo;est plus alors un simple&amp;nbsp;&lt;em&gt;moyen&amp;nbsp;&lt;/em&gt;de communication. Il se met &amp;agrave; parler vraiment, &amp;agrave; travers les sujets, les &amp;oelig;uvres et les cultures, par une expression esth&amp;eacute;tique nouvelle qui s&amp;rsquo;&amp;eacute;labore au fil d&amp;rsquo;un vrai travail coop&amp;eacute;ratif du po&amp;egrave;me et du sujet en sc&amp;egrave;ne. La nature concr&amp;egrave;te de ce travail, dans chacune de ses &amp;eacute;tapes, a &amp;eacute;t&amp;eacute; aussi abord&amp;eacute;e dans les publications ant&amp;eacute;rieures (cf. bibliographie).&lt;/p&gt;\\r\\n\\r\\n&lt;p&gt;Cette synth&amp;egrave;se n&amp;rsquo;a pour objectif que de pr&amp;eacute;ciser certains &amp;eacute;l&amp;eacute;ments et de mettre plus particuli&amp;egrave;rement l&amp;rsquo;accent sur&amp;nbsp;le&amp;nbsp;&lt;em&gt;travail&lt;/em&gt;&lt;em&gt;&amp;nbsp;singulier&amp;nbsp;&lt;/em&gt;du texte po&amp;eacute;tique. Cette approche ne peut se r&amp;eacute;p&amp;eacute;ter m&amp;eacute;caniquement. Elle a pour ambition de faire partager quelques pistes et, qui sait, de susciter des vocations chez de futurs enseignants de FLE, amoureux de po&amp;eacute;sie, qui adapteraient le sens de cette p&amp;eacute;dagogie &amp;agrave; leur propre subjectivit&amp;eacute;. En effet celle-ci ne peut servir de mod&amp;egrave;le en mati&amp;egrave;re de m&amp;eacute;thode d&amp;rsquo;apprentissage d&amp;rsquo;une langue-culture. Car, m&amp;ecirc;me si les &amp;oelig;uvres du r&amp;eacute;pertoire sont immuables,&amp;nbsp;elles&amp;nbsp;&lt;em&gt;chantent&lt;/em&gt;&lt;em&gt;&amp;nbsp;diff&amp;eacute;remment&lt;/em&gt;&amp;nbsp;gr&amp;acirc;ce &amp;agrave; la diversit&amp;eacute; de leurs interpr&amp;egrave;tes et sont sans cesse par eux renouvel&amp;eacute;es. Le sujet de la parole, par contre, n&amp;rsquo;est pas immuable pour ce qui le concerne, puisqu&amp;rsquo;en constante r&amp;eacute;&amp;eacute;laboration. Les apprenants ne se construisent-ils pas par la diversit&amp;eacute; de leurs exp&amp;eacute;riences langagi&amp;egrave;res&amp;nbsp;? C&amp;rsquo;est-&amp;agrave;-dire et entre autres par la rencontre probl&amp;eacute;matique des &amp;oelig;uvres de la culture ? Ici, les &amp;oelig;uvres po&amp;eacute;tiques sont mises en espace pour obtenir une singularit&amp;eacute; de perception, d&amp;rsquo;interpr&amp;eacute;tation, puis de transmission. Un semestre d&amp;rsquo;enseignement th&amp;eacute;&amp;acirc;tral produit chaque fois &amp;agrave; son terme son &amp;eacute;v&amp;eacute;nement propre,&amp;nbsp;&lt;em&gt;son spectacle&lt;/em&gt;, qui offre une surprise de jeu et d&amp;rsquo;interpr&amp;eacute;tations de textes toujours issus du r&amp;eacute;pertoire francophone car il s&amp;rsquo;agit en m&amp;ecirc;me temps de l&amp;rsquo;acc&amp;egrave;s &amp;agrave; la culture fran&amp;ccedil;aise.&amp;nbsp;Le spectacle est assimilable au processus visible de tout le travail accompli du point de vue de la langue comme de la culture. C&amp;rsquo;est en fait un apport de langue par l&amp;rsquo;exp&amp;eacute;rience physique et &amp;eacute;motionnel d&amp;rsquo;une &amp;oelig;uvre et, vice-versa, un apport de la culture par tout le travail de langue qui s&amp;rsquo;y &amp;eacute;labore gr&amp;acirc;ce au&amp;nbsp;&lt;em&gt;Po&amp;eacute;tique&lt;/em&gt;.&amp;nbsp;Nourrie d&amp;rsquo;apports de th&amp;eacute;&amp;acirc;tralit&amp;eacute;, de po&amp;eacute;sie, de linguistique, d&amp;rsquo;esth&amp;eacute;tique et de psychanalyse&lt;sup&gt;&lt;a href=&quot;#sdfootnote16sym&quot; name=&quot;sdfootnote16anc&quot;&gt;16&lt;/a&gt;&lt;/sup&gt;, la r&amp;eacute;flexion ici r&amp;eacute;sum&amp;eacute;e, s&amp;rsquo;inspire donc en permanence de la question du rapport du sujet &amp;agrave; la parole po&amp;eacute;tique surgissant des &amp;oelig;uvres qui&amp;nbsp;&lt;em&gt;obligent&amp;nbsp;&lt;/em&gt;&amp;agrave; un travail d&amp;rsquo;apprentissage complexe.Cette confrontation aux &amp;oelig;uvres va finir par impr&amp;eacute;gner l&amp;rsquo;interlangue. Puis, se produira la distance indispensable &amp;agrave; toute r&amp;eacute;flexivit&amp;eacute; acquisitionnelle d&amp;rsquo;&amp;eacute;l&amp;eacute;ments &amp;agrave; la fois linguistiques et culturels li&amp;eacute;s au projet du spectacle.&lt;/p&gt;\\r\\n\\r\\n&lt;p&gt;C&amp;rsquo;est donc entre les langues et les cultures que le sujet pourra se dire, entre deux langages, &amp;agrave; savoir par le &amp;laquo;&amp;nbsp;je&amp;nbsp;&amp;raquo; de la parole ordinaire et par &amp;laquo;&amp;nbsp;je est un autre&amp;nbsp;&amp;raquo; que lui offre la parole de l&amp;rsquo;&amp;oelig;uvre po&amp;eacute;tique &amp;agrave; conqu&amp;eacute;rir et &amp;agrave; adresser au public en la vivant vraiment. Seule importera la mani&amp;egrave;re subjective dont la parole est actualis&amp;eacute;e, appropri&amp;eacute;e, sonnant juste, en chaque circonstance. Ainsi le sujet pourra se jouer en sc&amp;egrave;ne. La co-construction de son expression esth&amp;eacute;tique et ordinaire en langue &amp;eacute;trang&amp;egrave;re deviennent les ma&amp;icirc;tres-mots de cette approche. Si l&amp;rsquo;on devait lui donner un nom, celle-ci pourrait se nommer&amp;nbsp;&lt;em&gt;une&amp;nbsp;&lt;/em&gt;&lt;em&gt;approche esth&amp;eacute;tique et subjective de la parole en langue &amp;eacute;trang&amp;egrave;re&amp;nbsp;&lt;/em&gt;du fait de la pr&amp;eacute;sence affirm&amp;eacute;e de la parole dans les &amp;oelig;uvres et dans les sujets.&lt;/p&gt;\\r\\n\\r\\n&lt;h2&gt;3. Quelques remarques&lt;/h2&gt;\\r\\n\\r\\n&lt;p&gt;Il a &amp;eacute;t&amp;eacute; souvent oppos&amp;eacute; &amp;agrave; l&amp;rsquo;approche esth&amp;eacute;tique de la parole le fait que la langue litt&amp;eacute;raire &amp;ndash; th&amp;eacute;&amp;acirc;tre, po&amp;eacute;sie, chanson, conte, romans, etc&amp;hellip; &amp;ndash; ne pouvait s&amp;rsquo;apprendre que si des bases solides en langue &amp;eacute;taient d&amp;eacute;j&amp;agrave; acquises par les apprenants. La proposition pr&amp;eacute;sente n&amp;rsquo;est pas de d&amp;eacute;mentir totalement cette d&amp;eacute;claration mais d&amp;rsquo;en att&amp;eacute;nuer l&amp;rsquo;importance par le fait que sont offerts, par l&amp;rsquo;approche de la parole po&amp;eacute;tique, de nouveaux&amp;nbsp;outils&amp;nbsp;d&amp;rsquo;acc&amp;egrave;s &amp;agrave; une langue-culture nouvelle&amp;nbsp;: ceux du corps et de la voix cr&amp;eacute;atifs. Soudain, le rapport &amp;agrave; la parole change. Il devient expressif parce qu&amp;rsquo;il va rendre chacun sensible et impliqu&amp;eacute; dans son corps &amp;eacute;motionnel et communicant. Des sons nouveaux vont &amp;ecirc;tre prononc&amp;eacute;s, adress&amp;eacute;s. Des rythmes &amp;eacute;locutoires vont r&amp;eacute;sonner. Des &amp;eacute;tincelles de sens finiront par se produire dans le po&amp;egrave;me sans jamais rigidifier le sensible de l&amp;rsquo;interpr&amp;eacute;tation qui se pr&amp;eacute;cise dans la mise en espace. Celle-ci fait en quelque sorte respirer la parole par le mouvement du corps devenu imaginatif, spatialis&amp;eacute;. Ainsi le po&amp;egrave;me prend corps et voix du sujet. Il est articul&amp;eacute;, rythm&amp;eacute;, m&amp;eacute;moris&amp;eacute; et devient lui-m&amp;ecirc;me adresse &amp;agrave; soi et aux autres. Il se met &amp;agrave; r&amp;eacute;sonner. La culture est v&amp;eacute;cue en partage &amp;agrave; travers la prosodie d&amp;rsquo;une &amp;oelig;uvre qui est situ&amp;eacute;e dans l&amp;rsquo;histoire et qui la transcende&amp;nbsp;&amp;ndash;&amp;nbsp;c&amp;rsquo;est dans ce but que le r&amp;eacute;pertoire est utilis&amp;eacute;.&lt;/p&gt;\\r\\n\\r\\n&lt;p&gt;Ainsi, la langue nou&amp;eacute;e &amp;agrave; la culture &amp;agrave; travers l&amp;rsquo;oeuvre met en contact l&amp;rsquo;apprenant avec la culture non limit&amp;eacute;e &amp;agrave; la culture anthropologique. La diversit&amp;eacute; des origines culturelles pr&amp;eacute;sentes dans l&amp;rsquo;atelier n&amp;rsquo;est pas un handicap&amp;nbsp;mais au contraire, elle est &amp;agrave; encourager comme moteur de l&amp;rsquo;exp&amp;eacute;rience. Les diff&amp;eacute;rences deviennent en effet motrices pour les prises de parole dans la langue commune qui est, par n&amp;eacute;cessit&amp;eacute;, la langue-culture cible. La proposition esth&amp;eacute;tique, m&amp;ecirc;me si elle est exigeante, ne fait pas difficult&amp;eacute; non plus&amp;nbsp;: chacun sait, pour l&amp;rsquo;avoir &amp;eacute;prouv&amp;eacute; depuis sa propre langue-culture, toute la richesse que peut provoquer &amp;eacute;motionnellement la parole d&amp;rsquo;un po&amp;egrave;me, d&amp;rsquo;un conte, d&amp;rsquo;une fable, ou d&amp;rsquo;une adresse publique. M&amp;ecirc;me si le th&amp;eacute;&amp;acirc;tre n&amp;rsquo;a pas &amp;eacute;t&amp;eacute; une tradition culturelle pour tous les apprenants, existe comme lien anthropologique cette parole po&amp;eacute;tique, ce chant des mots adress&amp;eacute;s &amp;agrave; d&amp;rsquo;autres, provoquant, dans toutes les cultures, des &amp;eacute;motions fondamentales&amp;nbsp;: la joie, la tristesse, la peur, la tendresse, l&amp;rsquo;hypocrisie, exprim&amp;eacute;es de fa&amp;ccedil;ons diff&amp;eacute;rentes mais toujours reconnaissables.&lt;/p&gt;\\r\\n\\r\\n&lt;p&gt;Par cons&amp;eacute;quent, d&amp;eacute;sirer obtenir cette compr&amp;eacute;hension sensible et cette transmission &amp;agrave; un pubic par un travail collectif du corps et de la voix&amp;nbsp;&lt;em&gt;&amp;eacute;prouv&amp;eacute;s&lt;/em&gt;&amp;nbsp;&amp;agrave;&amp;nbsp;des textes po&amp;eacute;tiques ne surprend personne au d&amp;eacute;part. Cette exp&amp;eacute;rience po&amp;eacute;tique transf&amp;eacute;rable depuis n&amp;rsquo;importe quelle langue-culture de d&amp;eacute;part se concr&amp;eacute;tise et devient soudain visible par la transmission du travail toujours perfectible. La forme asym&amp;eacute;trique de la communication sc&amp;eacute;nique implique acteurs et spectateurs en donnant &amp;agrave; chaque expression po&amp;eacute;tique &amp;agrave; l&amp;rsquo;int&amp;eacute;rieur de la classe une saveur particuli&amp;egrave;rement stimulante. Elle fait progresser la qualit&amp;eacute; expressive (et entre autres phon&amp;eacute;tique et prosodique). Une intimit&amp;eacute; inattendue entre apprenants se d&amp;eacute;veloppe, tr&amp;egrave;s appr&amp;eacute;ci&amp;eacute;e dans le cadre p&amp;eacute;dagogique qui en est souvent priv&amp;eacute;. Ainsi, chacun &amp;eacute;tant le spectateur de l&amp;rsquo;autre (en m&amp;ecirc;me temps que son interlocuteur) sera provoqu&amp;eacute; dans ses &amp;eacute;volutions narcissiques&lt;sup&gt;&lt;a href=&quot;#sdfootnote17sym&quot; name=&quot;sdfootnote17anc&quot;&gt;17&lt;/a&gt;&lt;/sup&gt;&amp;nbsp;bouleversantes qui peu &amp;agrave; peu finissent par se r&amp;eacute;guler par la sc&amp;egrave;ne. Puisqu&amp;rsquo;il faut non seulement &amp;ecirc;tre compris mais ressenti au plus juste du po&amp;egrave;me, provoquer de l&amp;rsquo;&amp;eacute;motion devient un enjeu. Du rejet de l&amp;rsquo;image de soi, du son de sa voix en langue &amp;eacute;trang&amp;egrave;re, chacun passe assez rapidement &amp;agrave; une acceptation de soi, loin des jugements de valeur, au risque de sa propre expression &amp;agrave; la fois lib&amp;eacute;r&amp;eacute;e et canalis&amp;eacute;e par les textes. Une &amp;eacute;coute de grande qualit&amp;eacute; est en train de na&amp;icirc;tre gr&amp;acirc;ce &amp;agrave; la po&amp;eacute;sie et &amp;agrave; l&amp;rsquo;immense travail du sujet de la parole qu&amp;rsquo;elle suscite.&lt;/p&gt;\\r\\n\\r\\n&lt;h2&gt;4. Le choix et le travail du texte&lt;/h2&gt;\\r\\n\\r\\n&lt;p&gt;Le choix du texte po&amp;eacute;tique pose de nombreuses questions. Il s&amp;rsquo;agit chaque fois de permettre la rencontre physique et &amp;eacute;motionnelle d&amp;rsquo;un auteur du r&amp;eacute;pertoire fran&amp;ccedil;ais tout en se demandant si, avec les contraintes de temps, les oeuvres choisies ne rebuteront pas les &amp;eacute;tudiants par un niveau de difficult&amp;eacute;s trop grand, qui pourrait en quelque sorte les dissuader de faire tout ce travail. Mais s&amp;rsquo;il ne faut pas les d&amp;eacute;courager au d&amp;eacute;but, il ne faut pas non plus accabler les apprenants de facilit&amp;eacute; qui, elle aussi, constitue un obstacle &amp;agrave; la motivation. Comment trouver le juste milieu en fonction des &amp;eacute;tudiants&amp;nbsp;? Les divers niveaux de langues tels que B1, B2 ne sont pas toujours repr&amp;eacute;sentatifs des comp&amp;eacute;tences r&amp;eacute;elles des apprenants. C&amp;rsquo;est l&amp;rsquo;exp&amp;eacute;rience qui va guider l&amp;rsquo;enseignant qui prend son risque dans ses choix des textes. Il faut souvent conna&amp;icirc;tre toute l&amp;rsquo;&amp;oelig;uvre d&amp;rsquo;un auteur pour s&amp;rsquo;attaquer aux textes dont la fonction po&amp;eacute;tique est indubitable mais dont l&amp;rsquo;acc&amp;egrave;s reste possible. Par exemple donner la pr&amp;eacute;f&amp;eacute;rence aux premi&amp;egrave;res po&amp;eacute;sies de Rimbaud, aux po&amp;egrave;mes les plus dr&amp;ocirc;les de Tardieu, aux plus simples des&amp;nbsp;&lt;em&gt;Fleurs du Mal&lt;/em&gt;.&amp;nbsp;C&amp;rsquo;est-&amp;agrave;-dire permettre d&amp;rsquo;aborder une v&amp;eacute;ritable &amp;eacute;criture esth&amp;eacute;tique &amp;ndash; c&amp;rsquo;est primordial &amp;ndash; et que, gr&amp;acirc;ce au travail des petits groupes qui se diviseront les po&amp;egrave;mes, le travail de diction, compr&amp;eacute;hension, r&amp;eacute;p&amp;eacute;titions, m&amp;eacute;morisation, d&amp;eacute;bouche sur la cr&amp;eacute;ation dans l&amp;rsquo;espace avec toutes les corrections phon&amp;eacute;tiques, prosodiques, posturales et gestuelles, qui s&amp;rsquo;imposeront. La rencontre de l&amp;rsquo;univers po&amp;eacute;tique des corps et des voix en sc&amp;egrave;ne doit &amp;ecirc;tre visible en tant que construction esth&amp;eacute;tique de l&amp;rsquo;espace et fructueuse narcissiquement pour tous les apprenants. Celle-ci donne une assise, un sous-texte aux paroles.&lt;/p&gt;\\r\\n\\r\\n&lt;p&gt;L&amp;rsquo;approche po&amp;eacute;tique propos&amp;eacute;e n&amp;rsquo;a donc cess&amp;eacute; de se remettre en question au cours du temps. Elle est demeur&amp;eacute;e exp&amp;eacute;rimentale. Ainsi chaque &amp;oelig;uvre, qu&amp;rsquo;elle soit dramatique&lt;sup&gt;&lt;a href=&quot;#sdfootnote18sym&quot; name=&quot;sdfootnote18anc&quot;&gt;18&lt;/a&gt;&lt;/sup&gt;&amp;nbsp;ou po&amp;eacute;tique&lt;sup&gt;&lt;a href=&quot;#sdfootnote19sym&quot; name=&quot;sdfootnote19anc&quot;&gt;19&lt;/a&gt;&lt;/sup&gt;, propose son lot de difficult&amp;eacute;s &amp;agrave; r&amp;eacute;soudre. M&amp;ecirc;me si les exercices th&amp;eacute;&amp;acirc;traux de base&lt;sup&gt;&lt;a href=&quot;#sdfootnote20sym&quot; name=&quot;sdfootnote20anc&quot;&gt;20&lt;/a&gt;&lt;/sup&gt;&amp;nbsp;du corps et de la voix mettant l&amp;rsquo;apprenant en contact avec la mati&amp;egrave;re textuelle restent plus ou moins les m&amp;ecirc;mes, l&amp;rsquo;on repart &amp;agrave; z&amp;eacute;ro &amp;agrave; chaque semestre. De nouvelles r&amp;eacute;actions, des singularit&amp;eacute;s s&amp;rsquo;imposent &amp;agrave; chaque fois. En 2013-2014, les fables de La Fontaine propos&amp;eacute;es aux &amp;eacute;tudiants de niveaux B1 et B2 ont d&amp;eacute;bouch&amp;eacute; sur une cr&amp;eacute;ativit&amp;eacute; gestuelle &amp;eacute;tonnante de pr&amp;eacute;sence et d&amp;rsquo;originalit&amp;eacute; dans les mises en espace de ces paroles versifi&amp;eacute;es. Les &amp;eacute;tudiants ont produit des fables dont le texte original, versifi&amp;eacute;, sonnait juste sur des corps travaill&amp;eacute;s sobrement. Aucun sur-jeu. Les interdits de l&amp;rsquo;esth&amp;eacute;tique sc&amp;eacute;nique&amp;nbsp;&amp;ndash;&amp;nbsp;&amp;agrave; savoir&amp;nbsp;pas de redondance entre langage du corps et langage des mots, avaient &amp;eacute;t&amp;eacute; compris. L&amp;rsquo;essentiel pour faire entendre cette parole po&amp;eacute;tique &amp;eacute;tant&amp;nbsp;&lt;em&gt;surtout&lt;/em&gt;&amp;nbsp;de ne pas surjouer de situations mais de cr&amp;eacute;er des inad&amp;eacute;quations entre le texte et sa mise en espace.&amp;nbsp;(seuls bien s&amp;ucirc;r les documents vid&amp;eacute;os peuvent t&amp;eacute;moigner de cette originalit&amp;eacute;-l&amp;agrave;). Les po&amp;eacute;sies de Rimbaud, Queneau, Tardieu, tr&amp;egrave;s difficiles aussi, furent travers&amp;eacute;es, appropri&amp;eacute;es et transmises de fa&amp;ccedil;on chaque fois &amp;eacute;tonnamment juste. Ce second semestre 2013-2014 verra la mise en voix d&amp;rsquo;un choix de po&amp;egrave;mes&amp;nbsp;des&amp;nbsp;&lt;em&gt;Fleurs du Mal&amp;nbsp;&lt;/em&gt;(une quinzaine de textes parmi les plus accessibles ont &amp;eacute;t&amp;eacute; s&amp;eacute;lectionn&amp;eacute;s, et c&amp;rsquo;est &amp;agrave; partir de cette pr&amp;eacute;paration que sera lanc&amp;eacute; le travail physique des textes). Lancer les apprenants dans l&amp;rsquo;exp&amp;eacute;rience po&amp;eacute;tique de Baudelaire permettra s&amp;ucirc;rement encore de soulever de nouvelles questions de subjectivation. L&amp;rsquo;objectif n&amp;rsquo;est-il pas de faire le maximum pour parvenir &amp;agrave; une interpr&amp;eacute;tation la plus subjective possible, nuanc&amp;eacute;e, ambivalente et fluide&amp;nbsp;? Cette subjectivit&amp;eacute; conquise par l&amp;rsquo;interpr&amp;eacute;tation t&amp;eacute;moignera d&amp;rsquo;une parole po&amp;eacute;tique travaill&amp;eacute;e dans la dur&amp;eacute;e, par les sonorit&amp;eacute;s, qui a donn&amp;eacute; tout le temps de savourer les mots et les rythmes en corrigeant les accents maternels. Phon&amp;eacute;tique et prosodie sont des r&amp;eacute;sultats ind&amp;eacute;niables lorsque l&amp;rsquo;on compare les films vid&amp;eacute;os des r&amp;eacute;p&amp;eacute;titions publiques &amp;agrave; sept semaines et celles des spectacles de conclusion de semestre &amp;agrave; douze semaines de cours. La dur&amp;eacute;e, l&amp;rsquo;autonomisation, la r&amp;eacute;p&amp;eacute;tition et la m&amp;eacute;morisation, sans &amp;ecirc;tre excessives, font accomplir un chemin de parole, &amp;eacute;prouv&amp;eacute;e, m&amp;acirc;ch&amp;eacute;e, d&amp;eacute;glutie, rythm&amp;eacute;e, exceptionnellement affin&amp;eacute;e dans la langue cible .&lt;/p&gt;\\r\\n\\r\\n&lt;h2&gt;Conclusion&lt;/h2&gt;\\r\\n\\r\\n&lt;p&gt;Les d&amp;eacute;buts, forc&amp;eacute;ment cahotiques, cr&amp;eacute;ent une situation coop&amp;eacute;rative o&amp;ugrave; les &amp;eacute;tudiants d&amp;rsquo;origines linguistiques culturelles tr&amp;egrave;s vari&amp;eacute;es se retrouvent devant la m&amp;ecirc;me &amp;eacute;nigme &amp;agrave; percer&amp;nbsp;: le son et le rythme de l&amp;rsquo;&amp;oelig;uvre. Il faut les saisir, les vivre. Pour cela&amp;nbsp;: r&amp;eacute;p&amp;eacute;ter, nuancer, m&amp;eacute;moriser puis adresser. Se lancer &amp;agrave; la conqu&amp;ecirc;te physique des mots par le corps et la voix et comprendre un peu plus tard&amp;hellip; Chacun doit faire le chemin vers l&amp;rsquo;&amp;oelig;uvre qui existe bel et bien comme un sujet, par ses r&amp;eacute;calcitrances&amp;hellip; Ces choix p&amp;eacute;dagogiques semblent un bapt&amp;ecirc;me par le feu&amp;hellip; Ils permettent d&amp;rsquo;entamer n&amp;eacute;anmoins un rapport de confiance avec les apprenants que seul le travail corporel de l&amp;rsquo;atelier permet d&amp;rsquo;obtenir. Tous les &amp;eacute;chauffements, les exercices d&amp;rsquo;&amp;eacute;veil et d&amp;rsquo;improvisation par petits groupes, le montrent. Sans la parole, le corps au travail est suffisamment pr&amp;eacute;sent, visible, sensible, pour que tous s&amp;rsquo;acceptent et abordent leur parole h&amp;eacute;sitante de fa&amp;ccedil;on d&amp;eacute;tendue.&lt;/p&gt;\\r\\n\\r\\n&lt;p&gt;Avec la parole des textes, il faudra&amp;nbsp;&lt;em&gt;retrouver&amp;nbsp;&lt;/em&gt;cette aisance.&amp;nbsp;Amadouer les accents d&amp;rsquo;origine.&amp;nbsp;C&amp;rsquo;est une question d&amp;rsquo;ambiance g&amp;eacute;n&amp;eacute;rale de l&amp;rsquo;atelier qui se cr&amp;eacute;e dans l&amp;rsquo;h&amp;eacute;t&amp;eacute;rog&amp;eacute;n&amp;eacute;it&amp;eacute; o&amp;ugrave; bien vite sont d&amp;eacute;dramatis&amp;eacute;s les codes linguistiques et culturels des uns et des autres. Il ne s&amp;rsquo;agit pas de s&amp;rsquo;attarder sur cela mais de les discuter si n&amp;eacute;cessaire et bien vite d&amp;rsquo;aborder l&amp;rsquo;essentiel &amp;agrave; savoir&amp;nbsp;: la mati&amp;egrave;re sonore et rythmique de la parole du texte. C&amp;rsquo;est cette derni&amp;egrave;re qui va pousser chaque apprenant &amp;agrave; savourer la moindre syllabe jusqu&amp;rsquo;&amp;agrave; ce que du sens surgissent pour soi et pour les autres, pour qu&amp;rsquo;un rythme nouveau, fait par des pauses, des accentuations, des articulations, des liaisons, donne la gratification du sens esth&amp;eacute;tique. Un festival sonore a lieu. Une sorte de ruche. Une coop&amp;eacute;rative dans laquelle chacun va modifier son accent d&amp;rsquo;origine, rompre ses calques de langues maternelles, se rapprocher enfin de la langue de l&amp;rsquo;&amp;oelig;uvre, de sa polys&amp;eacute;mie pour s&amp;rsquo;en faire le passage. Ambivalence et r&amp;eacute;sonances. Pour conclure ce petit r&amp;eacute;sum&amp;eacute; de recherche, les param&amp;egrave;tres essentiels autour desquels s&amp;rsquo;organise l&amp;rsquo;approche esth&amp;eacute;tique et subjective en FLE propos&amp;eacute;e sont&amp;nbsp;: 1&amp;nbsp;: le choix d&amp;rsquo;une &amp;oelig;uvre du r&amp;eacute;pertoire fran&amp;ccedil;ais, 2&amp;nbsp;: la mani&amp;egrave;re physique et imaginative d&amp;rsquo;apprendre &amp;agrave; mettre en voix et espace ce texte de fa&amp;ccedil;on coop&amp;eacute;rative, 3&amp;nbsp;: la prise de conscience des acquisitions esth&amp;eacute;tiques, langagi&amp;egrave;res et culturelles qui s&amp;rsquo;en suivent et qui vont ensemble (gr&amp;acirc;ce aux spectacles film&amp;eacute;s).&amp;nbsp;&lt;/p&gt;\\r\\n\\r\\n&lt;h2&gt;Bibliographie&lt;/h2&gt;\\r\\n\\r\\n&lt;p&gt;Pierra G., (1998),&amp;nbsp;&lt;em&gt;Chemins de parole d&amp;rsquo;une pratique th&amp;eacute;&amp;acirc;trale en fran&amp;ccedil;ais langue &amp;eacute;trang&amp;egrave;re &amp;ndash; Vers une esth&amp;eacute;tique de l&amp;rsquo;expression&lt;/em&gt;, Montpellier, Presses universitaires de Montpellier.&lt;/p&gt;\\r\\n\\r\\n&lt;p&gt;Pierra&amp;nbsp;G., (2001),&amp;nbsp;&lt;em&gt;Une esth&amp;eacute;tique th&amp;eacute;&amp;acirc;trale en langue &amp;eacute;trang&amp;egrave;re&lt;/em&gt;,&amp;nbsp;Paris, L&amp;rsquo;Harmattan.&lt;/p&gt;\\r\\n\\r\\n&lt;p&gt;Pierra&amp;nbsp;G. (2006),&amp;nbsp;&lt;em&gt;Le corps, la voix, le texte : arts du langage en langue &amp;eacute;trang&amp;egrave;re&lt;/em&gt;,&amp;nbsp;Collection Espaces Litt&amp;eacute;raires, Paris, L&amp;rsquo;Harmattan.&lt;/p&gt;\\r\\n\\r\\n&lt;p&gt;Pierra&amp;nbsp;G.&amp;nbsp;(2011),&amp;nbsp;&lt;em&gt;Pratique th&amp;eacute;&amp;acirc;trale en FLE : sp&amp;eacute;cificit&amp;eacute;s d&amp;rsquo;une recherche &amp;ndash; action en didactique&lt;/em&gt;,&amp;nbsp;in Actes du colloque de l&amp;rsquo;Universit&amp;eacute; du Sud de Chine, Canton et ambassade de France,&amp;nbsp;&lt;em&gt;L&amp;rsquo;enseignement du fran&amp;ccedil;ais en Chine&amp;nbsp;&lt;/em&gt;de novembre 2010, in&amp;nbsp;&lt;em&gt;Synergie&lt;/em&gt;&amp;nbsp;num&amp;eacute;ro 6 sp&amp;eacute;cial Chine, revue du Gerflint, p. 105-114, (paru &amp;eacute;galement en ligne&amp;nbsp;&lt;em&gt;Synergie&lt;/em&gt;&amp;nbsp;:&amp;nbsp;&lt;a href=&quot;http://ressources-cla.univ-fcomte.fr/gerflint/Chine6/chine6.html&quot; rel=&quot;noopener noreferrer&quot; target=&quot;_blank&quot; title=&quot;http://ressources-cla.univ-fcomte.fr/gerflint/Chine6/chine6.html&quot;&gt;http://ressources-cla.univ-fcomte.fr/gerflint/Chine6/chine6.html&lt;/a&gt;).&lt;/p&gt;\\r\\n\\r\\n&lt;p&gt;Pierra&amp;nbsp;G.&amp;nbsp;(2011),&amp;nbsp;&lt;em&gt;Th&amp;eacute;&amp;acirc;tre : pratiques artistiques et sc&amp;eacute;niques de la parole en langues &amp;eacute;trang&amp;egrave;res&lt;/em&gt;,&amp;nbsp;in Djordjevic K., Pierra G., Yasri-Labrique E. (dirs),&amp;nbsp;&lt;em&gt;Diversit&amp;eacute; didactique des langues romanes&lt;/em&gt;,&amp;nbsp;&amp;Eacute;ditions Cladole, Montpellier, p. 48-55.&lt;/p&gt;\\r\\n\\r\\n&lt;p&gt;Pierra&amp;nbsp;G.&amp;nbsp;(2013),&amp;nbsp;&lt;em&gt;Quelle pratique th&amp;eacute;&amp;acirc;trale en fran&amp;ccedil;ais langue &amp;eacute;trang&amp;egrave;re? Le corps et la voix en action dans les textes&lt;/em&gt;,&amp;nbsp;in&amp;nbsp;&lt;em&gt;Didactique du fran&amp;ccedil;ais langue &amp;eacute;trang&amp;egrave;re par la pratique th&amp;eacute;&amp;acirc;trale&lt;/em&gt;, (&amp;eacute;ds&amp;nbsp;: Christophe Alix, Dominique Lagorgette, Eve-Marie Rollinat Levasseur, actes du colloque coorganis&amp;eacute; par l&amp;rsquo;Institut Sup&amp;eacute;rieur des Sciences Humaines de Tunis, l&amp;rsquo;Universit&amp;eacute; de Paris 3 et l&amp;rsquo;ambassade de France, 2- 4 avril 2008, &amp;Eacute;ditions Universit&amp;eacute; de Savoie, p. 31-47.&lt;/p&gt;\\r\\n\\r\\n&lt;p&gt;Pierra&amp;nbsp;G.&amp;nbsp;(2014 &amp;agrave; para&amp;icirc;tre), &amp;quot;Pratique sc&amp;eacute;nique des &amp;oelig;uvres en FLE : quels enjeux artistiques en didactique ?&amp;quot;, In Congr&amp;egrave;s international IDEA, 8th Drama and Education IDEA World Congress, (&lt;em&gt;Th&amp;eacute;&amp;acirc;tre et &amp;eacute;ducation&lt;/em&gt;), 8-13 juillet 2013, Paris 3 et ANRAT.&lt;/p&gt;\\r\\n\\r\\n&lt;hr /&gt;\\r\\n&lt;h2&gt;Notes&lt;/h2&gt;\\r\\n\\r\\n&lt;p&gt;&lt;a href=&quot;#sdfootnote1anc&quot; name=&quot;sdfootnote1sym&quot;&gt;1&lt;/a&gt;&lt;a href=&quot;#sdfootnote2anc&quot; name=&quot;sdfootnote2sym&quot;&gt;&amp;nbsp;&lt;/a&gt;LAFONT Robert, in Pr&amp;eacute;face &amp;agrave; PIERRA Gis&amp;egrave;le,&amp;nbsp;&lt;em&gt;Une esth&amp;eacute;tique th&amp;eacute;&amp;acirc;trale en langue &amp;eacute;trang&amp;egrave;re&lt;/em&gt;, Paris, L&amp;rsquo;Harmattan, 2001 p. 11.&lt;br /&gt;\\r\\nVoir &amp;eacute;galement&amp;nbsp;: LAFONT Robert,&amp;nbsp;&lt;em&gt;Il y a quelqu&amp;rsquo;un &amp;ndash; La parole et le corps&lt;/em&gt;,&amp;nbsp;Coll. Langue et Praxis, Praxiling, Universit&amp;eacute; Paul-Val&amp;eacute;ry Montpellier 3, 1994 (r&amp;eacute;&amp;eacute;dit&amp;eacute; ult&amp;eacute;rieurement chez Lambert-Lucas).&lt;/p&gt;\\r\\n\\r\\n&lt;p&gt;&lt;a href=&quot;#sdfootnote2anc&quot; name=&quot;sdfootnote2sym&quot;&gt;2&amp;nbsp;&lt;/a&gt;CF. JAKOBSON Roman,&amp;nbsp;&lt;em&gt;Essais de linguistique g&amp;eacute;n&amp;eacute;rale&lt;/em&gt;,&amp;nbsp;Paris, Minuit, 1963.&lt;/p&gt;\\r\\n\\r\\n&lt;p&gt;&lt;a href=&quot;#sdfootnote3anc&quot; name=&quot;sdfootnote3sym&quot;&gt;3&lt;/a&gt;&lt;a href=&quot;#sdfootnote2anc&quot; name=&quot;sdfootnote2sym&quot;&gt;&amp;nbsp;&lt;/a&gt;ALLIONE Claude,&amp;nbsp;&lt;em&gt;La haine de la parole&lt;/em&gt;,&amp;nbsp;&amp;Eacute;ditions LLL- Les Liens qui Lib&amp;egrave;rent, 2013.&lt;/p&gt;\\r\\n\\r\\n&lt;p&gt;&lt;a href=&quot;#sdfootnote4anc&quot; name=&quot;sdfootnote4sym&quot;&gt;4&lt;/a&gt;&lt;a href=&quot;#sdfootnote2anc&quot; name=&quot;sdfootnote2sym&quot;&gt;&amp;nbsp;&lt;/a&gt;Cf. BENVENISTE Emile,&amp;nbsp;&lt;em&gt;Probl&amp;egrave;mes de linguistique g&amp;eacute;n&amp;eacute;rale&lt;/em&gt;, coll. Tel, Paris, Gallimard, 1966.&lt;/p&gt;\\r\\n\\r\\n&lt;p&gt;&lt;a href=&quot;#sdfootnote5anc&quot; name=&quot;sdfootnote5sym&quot;&gt;5&lt;/a&gt;&lt;a href=&quot;#sdfootnote2anc&quot; name=&quot;sdfootnote2sym&quot;&gt;&amp;nbsp;&lt;/a&gt;Cf. MESCHONNIC Henri,&amp;nbsp;&lt;em&gt;Critique du rythme&lt;/em&gt;, Lagrasse, &amp;Eacute;d. Verdier, 1982.&lt;/p&gt;\\r\\n\\r\\n&lt;p&gt;&lt;a href=&quot;#sdfootnote6anc&quot; name=&quot;sdfootnote6sym&quot;&gt;6&lt;/a&gt;&lt;a href=&quot;#sdfootnote2anc&quot; name=&quot;sdfootnote2sym&quot;&gt;&amp;nbsp;&lt;/a&gt;Cf. pour ces notions sp&amp;eacute;cifiques H. MESCHONNIC in PIERRA G.&amp;nbsp;(2007),&amp;nbsp;&lt;em&gt;Le texte litt&amp;eacute;raire mis en voix : enjeux en didactique du fran&amp;ccedil;ais langue &amp;eacute;trang&amp;egrave;re&lt;/em&gt;,&amp;nbsp;ouvrage coordonn&amp;eacute; par Tayeb Bouguerra :&amp;nbsp;&lt;em&gt;Du litt&amp;eacute;raire &amp;ndash; Analyses sociolinguistiques et pratiques didactiques&lt;/em&gt;,&amp;nbsp;Presses Universitaires de la M&amp;eacute;diterran&amp;eacute;e, Universit&amp;eacute; de Montpellier 3, p. 99-109.&lt;/p&gt;\\r\\n\\r\\n&lt;p&gt;&lt;a href=&quot;#sdfootnote7anc&quot; name=&quot;sdfootnote7sym&quot;&gt;7&lt;/a&gt;&lt;a href=&quot;#sdfootnote2anc&quot; name=&quot;sdfootnote2sym&quot;&gt;&amp;nbsp;&lt;/a&gt;Cf. ANDERSON, Patrick&amp;nbsp;:&amp;nbsp;&lt;em&gt;La didactique des langues &amp;eacute;trang&amp;egrave;res &amp;agrave; l&amp;acute;&amp;eacute;preuve du sujet&lt;/em&gt;. Besan&amp;ccedil;on : Presses Universitaires de Franche-Comt&amp;eacute;, 1999.&lt;/p&gt;\\r\\n\\r\\n&lt;p&gt;&lt;a href=&quot;#sdfootnote8anc&quot; name=&quot;sdfootnote8sym&quot;&gt;8&lt;/a&gt;&lt;a href=&quot;#sdfootnote2anc&quot; name=&quot;sdfootnote2sym&quot;&gt;&amp;nbsp;&lt;/a&gt;Cf. MAURER Bruno,&amp;nbsp;&lt;em&gt;Enseignement des langues et construction europ&amp;eacute;enne : Le plurilinguisme, nouvelle id&amp;eacute;ologie dominante&lt;/em&gt;. Paris: &amp;Eacute;ditions des archives contemporaines, 2011.&lt;/p&gt;\\r\\n\\r\\n&lt;p&gt;&lt;a href=&quot;#sdfootnote9anc&quot; name=&quot;sdfootnote9sym&quot;&gt;9&lt;/a&gt;&lt;a href=&quot;#sdfootnote2anc&quot; name=&quot;sdfootnote2sym&quot;&gt;&amp;nbsp;&lt;/a&gt;ALLIONE Claude,&amp;nbsp;L&lt;em&gt;a haine de la parole&lt;/em&gt;,&amp;nbsp;&lt;em&gt;op. cit.&lt;/em&gt;&amp;nbsp;p. 51.&lt;/p&gt;\\r\\n\\r\\n&lt;p&gt;&lt;a href=&quot;#sdfootnote10anc&quot; name=&quot;sdfootnote10sym&quot;&gt;10&lt;/a&gt;&lt;a href=&quot;#sdfootnote2anc&quot; name=&quot;sdfootnote2sym&quot;&gt;&amp;nbsp;&lt;/a&gt;Cf. LACAN Jacques,&amp;nbsp;&lt;em&gt;Les formations de l&amp;rsquo;inconscient&lt;/em&gt;,&amp;nbsp;&lt;em&gt;S&amp;eacute;minaire V&lt;/em&gt;, Paris, Seuil, 1998.&lt;/p&gt;\\r\\n\\r\\n&lt;p&gt;&lt;a href=&quot;#sdfootnote11anc&quot; name=&quot;sdfootnote11sym&quot;&gt;11&lt;/a&gt;&lt;a href=&quot;#sdfootnote2anc&quot; name=&quot;sdfootnote2sym&quot;&gt;&amp;nbsp;&lt;/a&gt;Cf. ANDERSON, Patrick&amp;nbsp;:&amp;nbsp;&lt;em&gt;La didactique des langues &amp;eacute;trang&amp;egrave;res &amp;agrave; l&amp;acute;&amp;eacute;preuve du sujet&lt;/em&gt;. Besan&amp;ccedil;on, Presses Universitaires de Franche-Comt&amp;eacute;, 1999.&lt;/p&gt;\\r\\n\\r\\n&lt;p&gt;&lt;a href=&quot;#sdfootnote12anc&quot; name=&quot;sdfootnote12sym&quot;&gt;12&lt;/a&gt;&lt;a href=&quot;#sdfootnote2anc&quot; name=&quot;sdfootnote2sym&quot;&gt;&amp;nbsp;&lt;/a&gt;PIERRA Gis&amp;egrave;le,&amp;nbsp;&lt;em&gt;Vers un sujet de la diction des textes&lt;/em&gt;,&amp;nbsp;&lt;em&gt;in&amp;nbsp;&lt;/em&gt;&amp;laquo; Traverses &amp;raquo; n&amp;deg;8, coll. LACIS, Publications de l&amp;rsquo;Universit&amp;eacute; de Montpellier 3, 2006, p.149-156.&lt;/p&gt;\\r\\n\\r\\n&lt;p&gt;&lt;a href=&quot;#sdfootnote13anc&quot; name=&quot;sdfootnote13sym&quot;&gt;13&lt;/a&gt;&lt;a href=&quot;#sdfootnote2anc&quot; name=&quot;sdfootnote2sym&quot;&gt;&amp;nbsp;&lt;/a&gt;Cf. MALDINEY Henri,&amp;nbsp;A&lt;em&gt;v&amp;egrave;nement de l&amp;rsquo;&amp;oelig;uvre,&amp;nbsp;&lt;/em&gt;&lt;em&gt;St Maximin&lt;/em&gt;, Th&amp;eacute;t&amp;egrave;te &amp;Eacute;ditions, 1997&amp;nbsp;et&amp;nbsp;&lt;em&gt;Art et existence&lt;/em&gt;,&amp;nbsp;Paris, Klincksiek/Esth&amp;eacute;tique, 1985.&lt;/p&gt;\\r\\n\\r\\n&lt;p&gt;&lt;a href=&quot;#sdfootnote14anc&quot; name=&quot;sdfootnote14sym&quot;&gt;14&lt;/a&gt;&lt;a href=&quot;#sdfootnote2anc&quot; name=&quot;sdfootnote2sym&quot;&gt;&amp;nbsp;&lt;/a&gt;Cf. MALDINEY Henri,&amp;nbsp;&lt;em&gt;Une ph&amp;eacute;nomenologie &amp;agrave; l&amp;rsquo;impossible: la po&amp;eacute;sie&amp;rdquo;, &amp;Eacute;tudes ph&amp;eacute;nom&amp;eacute;nologiques&lt;/em&gt;, N&amp;deg; 5-6, Bruxelles, &amp;Eacute;d. Ousia, 1987.&lt;/p&gt;\\r\\n\\r\\n&lt;p&gt;&lt;a href=&quot;#sdfootnote15anc&quot; name=&quot;sdfootnote15sym&quot;&gt;15&lt;/a&gt;&lt;a href=&quot;#sdfootnote2anc&quot; name=&quot;sdfootnote2sym&quot;&gt;&amp;nbsp;&lt;/a&gt;Cf Fiche de chercheur Dipralang Montpellier 3, publications Gis&amp;egrave;le PIERRA de 1990 &amp;agrave; 2014&amp;nbsp;:&amp;nbsp;&lt;a href=&quot;http://recherche.univ-montp3.fr/dipralang/&quot; rel=&quot;noopener noreferrer&quot; target=&quot;_blank&quot;&gt;http://recherche.univ-montp3.fr/dipralang/&lt;/a&gt;&lt;/p&gt;\\r\\n\\r\\n&lt;p&gt;&lt;a href=&quot;#sdfootnote16anc&quot; name=&quot;sdfootnote16sym&quot;&gt;16&lt;/a&gt;&lt;a href=&quot;#sdfootnote2anc&quot; name=&quot;sdfootnote2sym&quot;&gt;&amp;nbsp;&lt;/a&gt;Cf&amp;nbsp;.PIERRA Gis&amp;egrave;le,&amp;nbsp;&lt;em&gt;Le corps, la voix, le texte-Arts du langage en langue &amp;eacute;trang&amp;egrave;re&lt;/em&gt;,&amp;nbsp;Paris, L&amp;rsquo;Harmattan, 2006.&lt;/p&gt;\\r\\n\\r\\n&lt;p&gt;&lt;a href=&quot;#sdfootnote17anc&quot; name=&quot;sdfootnote17sym&quot;&gt;17&lt;/a&gt;&lt;a href=&quot;#sdfootnote2anc&quot; name=&quot;sdfootnote2sym&quot;&gt;&amp;nbsp;&lt;/a&gt;Cf. PRIEUR Jean-Marie,&amp;nbsp;&lt;em&gt;Une ethnographie d&amp;rsquo;occasion, in Le vent traversier &amp;ndash; Langage et subjectivit&amp;eacute;&lt;/em&gt;,&amp;nbsp;Publications de l&amp;rsquo;Universit&amp;eacute; de Montpellier 3, 1996.&lt;/p&gt;\\r\\n\\r\\n&lt;p&gt;&lt;a href=&quot;#sdfootnote18anc&quot; name=&quot;sdfootnote18sym&quot;&gt;18&lt;/a&gt;&lt;a href=&quot;#sdfootnote2anc&quot; name=&quot;sdfootnote2sym&quot;&gt;&amp;nbsp;&lt;/a&gt;Textes dramatiques d&amp;eacute;j&amp;agrave; travaill&amp;eacute;s entre autres : Moli&amp;egrave;re, Marivaux, Musset, Labiche, Feydeau, Ionesco, Nathalie Sarraute, Roland Dubillard.&lt;/p&gt;\\r\\n\\r\\n&lt;p&gt;&lt;a href=&quot;#sdfootnote19anc&quot; name=&quot;sdfootnote19sym&quot;&gt;19&lt;/a&gt;&lt;a href=&quot;#sdfootnote2anc&quot; name=&quot;sdfootnote2sym&quot;&gt;&amp;nbsp;&lt;/a&gt;Textes po&amp;eacute;tiques d&amp;eacute;j&amp;agrave; travaill&amp;eacute;s entre autres : Queneau, Rimbaud, Tardieu, La Fontaine, actuellement Baudelaire.&lt;/p&gt;\\r\\n\\r\\n&lt;p&gt;&lt;a href=&quot;#sdfootnote20anc&quot; name=&quot;sdfootnote20sym&quot;&gt;20&lt;/a&gt;&lt;a href=&quot;#sdfootnote2anc&quot; name=&quot;sdfootnote2sym&quot;&gt;&amp;nbsp;&lt;/a&gt;Cf. Exercices th&amp;eacute;&amp;acirc;traux in PIERRA Gis&amp;egrave;le,&amp;nbsp;&lt;em&gt;Une esth&amp;eacute;tique th&amp;eacute;&amp;acirc;trale en fran&amp;ccedil;ais langue &amp;eacute;trang&amp;egrave;re&lt;/em&gt;,&amp;nbsp;Paris, L&amp;rsquo;Harmattan, 2001, p.76-106. Approche d&amp;#39;une situation p&amp;eacute;dagogique complexe : l&amp;#39;activit&amp;eacute; &amp;eacute;pilinguistique comme d&amp;eacute;clencheur d&amp;#39;apprentissage.&lt;/p&gt;\\r\\n\\r\\n&lt;hr /&gt;\\r\\n&lt;h2&gt;Citer cet article&lt;/h2&gt;\\r\\n\\r\\n&lt;p&gt;PIERRA Gis&amp;egrave;le. Mise en voix et en espace de textes dramatiques ou po&amp;eacute;tiques. Une approche esth&amp;eacute;tique et subjective de la parole en didactique des langues/cultures,&amp;nbsp;&lt;em&gt;Revue TDFLE&lt;/em&gt;, n&amp;deg;69 [en ligne], 2017.&amp;nbsp;&lt;/p&gt;\\r\\n\\r\\n&lt;p&gt;&amp;nbsp;&lt;/p&gt;\\r\\n\\r\\n&lt;h4&gt;Gis&amp;egrave;le PIERRA&lt;br /&gt;\\r\\nDIPRALANG (EA 739)&lt;br /&gt;\\r\\nUniversit&amp;eacute; Montpellier 3&lt;/h4&gt;\\r\\n'"
      ]
     },
     "execution_count": 9,
     "metadata": {},
     "output_type": "execute_result"
    }
   ],
   "source": [
    "print(df_publis.loc[publis].article)\n",
    "df_publis.loc[publis].article.iloc[0]"
   ]
  },
  {
   "cell_type": "code",
   "execution_count": 12,
   "metadata": {},
   "outputs": [],
   "source": [
    "# import re\n",
    "# string = df_publis.loc[publis].article.iloc[0]\n",
    "# cleantext = BeautifulSoup(string).text\n",
    "\n",
    "# for match in re.finditer(\".*plurilinguisme*.\",cleantext):\n",
    "#     print(match.span())\n",
    "#     s = match.span()\n",
    "    "
   ]
  },
  {
   "cell_type": "code",
   "execution_count": 35,
   "metadata": {},
   "outputs": [
    {
     "name": "stdout",
     "output_type": "stream",
     "text": [
      "1815\n"
     ]
    },
    {
     "data": {
      "text/plain": [
       "0       Note de recherche-Le rôle de l’entrepreneuriat coopératif dans l’inclusion socioéconomique des femmes : Cas de la coopérative féminine des produits de la mer de Douira « COFEPROMER »Au niveau de la région Souss Massa, la collecte des ressources littorales essentiellement les moules, représente une des activités socioéconomiques de grande envergure. L’activité offre des revenus supplémentaires aux ménages locaux. Le nombre des femmes pratiquant cette activité varie d’un site à l’autre : Imessouane, Cap Ghir, Douira, Sidi Boulfdail... Cependant, une seule coopérative féminine COFEPROMER de Douira qui existe au niveau de la région qui assure la collecte et la valorisation des moules dans le Parc National de Souss Massa. La coopérative a comme vocation l'exploitation durable de cette ressource, l’assurance d’un revenu à même d’améliorer la situation des femmes du site Douira et la garantie de leur insertion socio-économique.\\r\\n\\r\\nL’objectif de notre article est de présenter le rôle du modèle coopératif marocain dans l’inclusion socio-économique des femmes dans le secteur de pêche, un secteur qui reste masculin et qui soulève la problématique du genre, en se basant sur une étude de cas au sein d’une coopérative féminine des produits de la mer de Douira « COFEPROMER ». Notre démarche est exploratoire basée sur un guide d’entretien administré à la responsable et les femmes membres de la coopérative pour cerner la perception des impacts socio-économiques. \\r\\n\\r\\n Les résultats obtenus à travers la présente étude montrent l’importance socio-économique des activités littorales compte tenu de sa contribution comme source de revenus supplémentaires aux familles autochtones. En effet, la présence des coopératives au niveau des zones d’exploitation pourrait aider à la diffusion de l’information, à la sensibilisation des exploitantes vis-à-vis de la préservation de la ressource et à l’amélioration de la qualité des produits transformés.\\r\\n\\r\\n \\r\\n\\r\\nIn the Souss Massa region, the collection of coastal resources, mainly mussels, represents one of the major socio-economic activities. The number of women practicing this activity varies from one site to another: Imessouane, Cap Ghir, Douira, Sidi Boulfdail ... However, only one female cooperative COFEPROMER in Douira provides the collection and the enhancement of mussels in the Souss Massa National Park. The purpose of the cooperative is to ensure the sustainable exploitation of this resource, the improvement of women’s life conditions and their socio-economic integration.\\r\\n\\r\\nThe aim of this article is to present the role of the Moroccan cooperative model in the socio-economic inclusion of women in the fishing sector, a sector which remains male oriented, based on a case study within a female cooperative. Our approach is exploratory based on an interview administered to the manager and the women working in the cooperative to identify the impact of this cooperative on the socio-economic aspects of these women.\\r\\n\\r\\nThe results obtained from this study show that the collection of mussels is considered as a source of an additional income for indigenous families. Indeed, the presence of cooperatives in operating areas could help disseminate information, raise awareness among operators regarding the preservation of the resources and improve the quality of processed products.\\r\\n\\r\\n \\r\\n\\r\\n \\r\\n\n",
       "1                                                                                                                                                                                                                                                                                                                                                                                                                                                                                                                                                                                                                                                                                                                                                                                                                                                                                                                                                                                                                                                                                                                                                                                                                                                                                                                                                                                                                                                                                                                                                                                                                                                                                                                                                                                                               Transformations organisationnelles, développement durable, et multiplicité des temporalités d'actionRésumé : L'enjeu du développement durable peut être abordé et traité à différentes échelles allant des comportements individuels aux relations internationales. Le changement climatique étant en haut de l'agenda politique et médiatique depuis plusieurs décennies, de nombreuses activités, à différentes échelles, sont accessibles à une démarche de recherche empirique. Dans ce contexte nous mettons en évidence un cas d'hybridation de dispositif de réduction de risques de catastrophes par des problématiques d'adaptation au changement climatique. Au moyen d'une recherche exploratoire qualitative fondée sur la mise en perspective temporelle de pratiques en adoptant le point de vue de l'action, un champ d'investigation permettant d'établir des savoirs actionnables en matière de transformation organisationnelle est identifié.\\r\\n\\r\\nAbstract : Sustainable development concerns can be approached and addressed at different levels from individual behaviors to international relation. Climate change is one of the most important issue for politics and media for many decades. Thus, many activities at different levels can be used for empirical research action. In this context we highlight a case of hybridization of disaster risk reduction operational device by climate change adaptation issues. By means of an exploratory qualitative research based on an analysis of practices along time using action viewpoint, a field for further investigation with a view to develop actionable knowledge for organization transformation is identified.\\r\\n\\r\\n \\r\\n\\r\\n \\r\\n\n",
       "2                                                                                                                                                                                                                                                                                                                                                    Comment la digitalisation du don participatif vient transformer durablement la recomposition d'écosystèmes locaux ?La recomposition des écosystèmes locaux de la Nouvelle-Aquitaine (fusion récente des ex-régions d’Aquitaine, du Limousin et du Poitou-Charentes) a conduit les parties-prenantes à se réinventer. La région s’inscrit dans la nécessité d’obtenir une taille économique critique dans un environnement mondialisé. Paradoxalement, elle prend aussi le risque de perdre en proximité pour transformer durablement ses écosystèmes locaux (au sens de Tansley, 1933 ; Moore, 1993 ; et plus récemment Koenig, 2012). L’une des solutions transformatives a été de digitaliser l’acte de don dans l’optique de pérenniser les encastrements locaux d’acteurs socio-économiques. Les travaux fondateurs de Mauss (1924), conforté par Godbout (2004) et Caillé (2004), nous permettent d’aborder le rôle socio-économique dans l’acte de don. Ainsi, la numérisation des relations entre des donateurs et des organisations pourraient tendent à une perte de proximité socio-économiques : de nombreux travaux ont démontré ce risque (par exemple : Degryse, 2016 et Delahaye, 2019). Pourtant, la constitution d’une plateforme de crowdfunding digitalisée et régionalisée en Nouvelle-Aquitaine a fait émerger des communautés de citoyens (à ce jour, 70% des citoyens-donateurs de cette plateforme habitent à moins de 70 kilomètres des porteurs de projets financés). La digitalisation se fait au service d’un territoire et non l’inverse. Cette relation digitalisée peut-elle paradoxalement transformer durablement la recomposition d’écosystèmes locaux en Nouvelle-Aquitaine ?\\r\\n\\r\\n \\r\\n\\r\\nAbstract :\\r\\n\\r\\nThe recent restructuring of local ecosystems in the Nouvelle-Aquitaine region (2016) has led stakeholders to reinvent themselves. The region is part of the need to achieve a critical economic size in a globalized environment. Paradoxically, it also takes the risk of losing proximity to sustainably transform its local ecosystems (in the sense of Tansley, 1933; Moore, 1993; and more recently Koenig, 2012). One of the transformative solutions has been to digitize the act of donation in order to perpetuate the local embedding of socio-economic actors. The founding works of Mauss (1924), supported by Godbout (2004) and Caillé (2004), allow us to approach the socio-economic role in the act of giving. Thus, the digitalisation of relations between donors and organizations could tend to a loss of socio-economic proximity: numerous studies have demonstrated this risk (for example: Degryse, 2016 and Delahaye, 2019). However, the creation of a digital and regionalized crowdfunding platform in Nouvelle Aquitaine has brought up communities of citizens (to date, 70% of citizen-donors of this platform live within 70 kilometers of the holders of funded projects). Digitalisation is done to the benefit of a territory and not vice versa. Can this digitalised relationship paradoxically transform the recomposition of local ecosystems in Nouvelle Aquitaine over the long term ?\\r\\n\n",
       "3                                                                                                                                                                                                                                                                                                                                                                                                                                                                                                                                                                                                                                                                                                                                                                             La résilience urbaine inclusiveLa tendance mondiale de l'urbanisation mais aussi le vieillissement des populations crée l'urgence de trouver des moyens plus intelligents pour gérer les défis d'accompagnement. La résilience urbaine inclusive exige une approche transversale qui implique toutes les parties prenantes dans la conception et la mise en œuvre des politiques pour assurer l'égalité de traitement. Ainsi, la création et le partage de connaissances entre l’ensemble des catégories de population permettent l’accroissement de l’autonomie des personnes en situation de handicap et l'intégration des ressources de la collectivité. Cela implique également de créer les conditions de participation des personnes handicapées et des personnes âgées à l'élaboration des politiques publiques en tant qu'acteurs à part entière. Afin d’évaluer la capacité d’inclusion des stratégies de résilience urbaine actuellement mises en place par des villes considérées comme particulièrement à risque et avancées en termes de résilience, nous avons analysé les trois villes suivantes : San Francisco, Tokyo et Londres.  Les études de cas ont été homogénéisées, malgré les différences culturelles et politiques des trois villes, grâce à l’utilisation d’une grille analytique. Les résultats démontrent l’importance de l’action des parties-prenantes dans la mise en place d’une stratégie de résilience incluant efficacement les personnes en situation de handicap\\r\\n\\r\\nThe global trend of urbanization and population ageing creates the urgency to find smarter ways of supporting vulnerable people. Inclusive urban resilience requires a cross-cutting approach that involves all stakeholders in the design and implementation of policies to ensure equal treatment. Thus, the creation and sharing of knowledge between all categories of population allows increase the autonomy of people with disabilities and the integration of community resources. It also implies creating the conditions for the participation of people with disabilities and the elderly in the design of public policies as full-fledged actors. In order to assess the inclusion capacity of urban resilience strategies currently implemented by cities considered to be particularly at risk and advanced in terms of resilience, we studied the following three cities: San Francisco, Tokyo and London. The case studies were homogenized, despite the cultural and political differences of the three cities, thanks to the use of an analytical grid. The results demonstrate the importance of stakeholders’ action in the implementation of a resilience strategy that effectively includes people with disabilities.\\r\\n\n",
       "4                                                                                                                                                                                                                                                                                                                                                                                                                                                                                                                                                                                                                                                                                                                                                                                                                                                                                                                                                                                                                                                                                                                                                                                                                                                                                                                                                                                                                                                                                                                                                                                                                                                                                                                                                                                                                                                                                                                                                                                                                                                                                                                                                                                                                                                                                                                                                                                                                                                             La territorialisation comme condition de durabilité des organisationsRésumé\\r\\n\\r\\nL’inscription dans un territoire (ou dans des territoires) permet à une organisation d’affronter les évolutions environnementales et culturelles, parce que l’incarnation dans un territoire permet le face-à-face. Ce face-à-face dépend des engagements personnels de chaque acteur mais il peut être facilité ou entravé par les structures et les normes existantes. Une organisation qui se fossilise devient incapable de s’adapter à des changements environnementaux ou à des contextes normatifs distincts. Au fur et à mesure que l’organisation se focalise sur des enjeux abstraits, la satisfaction concrète des diverses parties prenantes est ignorée au bénéfice d’une représentation statistique qui ne représente qu’imparfaitement des réalités déjà passées. Reconstruire le face-à-face fait éclater la représentation chiffrée car le face-à-face apporte un supplément de sens à des représentations abstraites, il rend singulier ce qui n’était qu’un concept.\\r\\n\n",
       "                                                                                                                                                                                                                                                                                                                                                                                                                                                                                                                                                                                                                                                                                                                                                                                                                                                                                                                                                                                                                                                                                                                                                                                                                                                                                                                                                                                                                                                                                                                                                                                                                                                                                                                                                                        ...                                                                                                                                                                                                                                                                                                                                                                                                                                                                                                                                                                                                                                                                                                                                                                                                                                                                                                                                                                                                                                                                                                                                                                                                                                                                                                                                                                                                                                                                                                                                                                                                                                                                                                                                                                 \n",
       "1810                                                                                                                                                                                                                                                                                                                                                                                                                                                                                                                                                                                                                                                                                                                                                                                                                                                                                                                                                                                                                                                                                                                                                                                                                                                                                                                                                                                                                                                                                                                                                                                                                                                                                                                                                                                                                                                                                                                                                                                                           Les effets positifs de l'usage des Technologies d'Information et de Communication en Gestion des Ressources Humaines, sur la Performance Organisationnelles « Revue de littérature »Les entreprises marocaines commencent à implanter les Technologies d’informations et de communication (TIC) dans leurs fonctions, mais le pourcentage de l’usage de ces outils technologiques dans la gestion des ressources humaines (GRH) reste encore faible par rapport aux pays développés. Aujourd’hui, dans un monde des affaires façonné par la mondialisation et les révolutions technologiques, la fonction de GRH peut être plus importante que jamais : les entreprises, les départements des ressources humaines et les managers doivent réagir à ces changements et doivent proposer des stratégies flexibles. Il est important de comprendre que toutes les décisions de gestion ont un impact sur la gestion de ces ressources et que, par conséquent, la GRH doit être liée à tous les processus organisationnels. Dans notre article, on va mettre le point sur quelques ressources théoriques issues des recherches précédentes, de la gestion des entreprises, et des statistiques, afin de saisir l’importance de l’intégration des TIC dans la GRH et de savoir leurs impacts sur le mode de gestion, l’efficacité des politiques de recrutement, de formation, de gestion de la paie, et ce, pour évaluer les effets de l’implémentation de ces technologies dans la GRH sur la performance organisationnelle.\\r\\n\n",
       "1811                                                                                                                                                                                                                                                                                                                                                                                                                                                                                                                                                                                                                                                                                                                                                                                                                                                                                                Évaluation d'outils et outils d'évaluationRésumé\\r\\n\\r\\nParce qu'elle peut servir la planification ou l'aide au développement, la certification ou la mise en conformité, la gratification ou la promotion… l'évaluation a toujours suscité un intérêt particulier de la part des professionnels et des chercheurs dans différents domaines et disciplines scientifiques. Cet article s'intéresse aux paradigmes de l'évaluation dans le cas des Sciences de l'Information et de la Communication, et particulièrement aux systèmes de traitement automatique de l'information, évalués à des fins info-documentaires. Dans une première partie, nous présentons une réflexion sur les pratiques de l'évaluation en tant que méthodologie de recueil et d'analyse de données et les problématiques sous-jacentes. Pour concrétiser nos propositions et justifier nos réflexions, nous nous appuyons sur une revue de littérature recensant quelques programmes et actions d'évaluation organisées aux niveaux national et international. Une seconde partie est consacrée aux discussions et débats autour de l'évaluation en tant que préoccupation scientifique entre un souci de théorisation et une complexité de normalisation.\\r\\n\\r\\nMots-clés : métrologie, paradigmes d'évaluation, traitement d'information, pertinence, pratiques et usages, référentiel.\\r\\n\\r\\n\\r\\n \\r\\n\\r\\nAbstract \\r\\n\\r\\nEvaluation has always attracted special interest among a large variety of professional groups, scientific disciplines and other related circles. It is because it can be used for planning or assistance development, certification or compliance, gratification or promotion it has gained this momentum. This article focuses on the evaluation paradigms within Information and Communication Sciences, and in particular automatic information processing systems, evaluated for info-documentary purposes. In the first section, we present a state of the art of evaluation practices and define a methodology for data collection and analysis together with more related and fundamental issues. In order to concretize our reflections and proposals, we rely on a literature review listing some evaluation campaigns and actions organized at the national and international levels. The second part of our article will be devoted to discussions and debates on evaluation as a scientific concern between a concern about theorization and the complexity of standardization.\\r\\n\\r\\n\\r\\nKeywords: metrology, evaluation paradigms, information processing, relevance, practices and uses, reference system.\\r\\n\n",
       "1812                                                                                                                                                                                                                                                                                                                                                                                                                                                                                                                                                                                                                                                                                                                                                                                                                                L’analyse des processus métier dans une perspective de gouvernance informationnelle : stratégies d’évaluation des actifs informationnelsRésumé :\\r\\n\\r\\nLe rapprochement nécessaire entre les pratiques de gestion de l’information et les pratiques propres à l’évaluation des performances soulève de nouvelles questions quant au rôle du spécialiste de l’information et à l’étendue de ses champs d’expertise. Ceux-ci doivent non seulement porter sur l’évaluation archivistique des documents dans une perspective de conformité, mais également comprendre des compétences en analyse d’affaires. Cet article introduit une méthodologie de gouvernance de l’information permettant d’examiner les mécanismes de génération de la valeur inhérente à l’information, au moment de sa création au sein des processus métier. Cette méthodologie comprend quatre étapes ; 1) l’analyse des besoins et de la capacité organisationnelle ; 2) l’analyse fonctionnelle ; 3) la représentation et la description des processus métier 4) le développement de l'architecture de l'information. Avec en main une méthodologie unique fondée sur l’analyse d’affaires, les spécialistes de l’information disposent d’une approche concertée pour implanter un programme de gouvernance de l’information axée sur les performances de l’organisation.\\r\\n\\r\\nMots-clés :\\r\\n\\r\\nGouvernance informationnelle, architecture de l’information, analyse des processus métier, analyse de la performance, évaluation archivistique\\r\\n\\r\\nAbstract :\\r\\n\\r\\nThe necessary reconciliation between information management practices and performance evaluation practices raises new questions regarding the information specialist role and the extent of his fields of expertise. This expertise should not only focus on archival appraisal to fulfill the compliance requirements, but also includes skills in business analysis. This article introduces an information governance methodology to examine the mechanisms that generate the value associated with information, at the time of its creation within the business processes. The methodology comprises four steps: 1) needs and organizational capacity analysis; 2) functional analysis; 3) representation and description of business processes; 4) information architecture development. With a unique business analysis methodology in hand, information specialists have a concerted approach to implement an information governance program focusing on organizational performances.\\r\\n\\r\\nKeywords :\\r\\n\\r\\nInformation governance, information architecture, business process analysis, performance measurement, archival appraisal\\r\\n\n",
       "1813                                                                                                                                                                                                                                                                                                                                                                                                                                                                                                                                                                                                                                                                                                                                                                                                                                                                                                                                                                                                                                                                                                                                                                                                                                                                                                                                                                                                                                                                                                                                                           Quelles évaluations numériques pour l'acte de construire ?Résumé : La numérisation de l’acte de construire est en cours. Qu’il s’agisse de concevoir les bâtiments, de les réaliser ou de les gérer, la mutation numérique interroge les acteurs de l’habitat. Elle s’incarne dans un acronyme : le BIM pour Building Information Model, Modeling et Management. Impulsé par une directive européenne en 2014, le BIM se développe tranquillement dans les différentes organisations chargées de l’acte de construire ainsi que dans les différentes phases du processus. Pour les organisations qui l’expérimentent depuis plusieurs années, les pratiques d’évaluation en phase conception et en phase gestion commencent à s’installer. La phase de réalisation a encore été relativement peu investiguée. Quelles sont les pratiques d’évaluations numériques qui sont mises en oeuvre dans la dynamique du BIM ? Quelles sont les questions posées et les promesses formulées ?\\r\\n\\r\\n \\r\\n\\r\\nMots-clés : Numérisation, construction, BIM, communication organisationnelle, évaluation\\r\\n\\r\\n \\r\\n\\r\\nAbstract : The digitization of the act of building is in progress. Whether it’s designing buildings, building them or managing them, the digital mutation questions the actors of the housing sector. It is embodied in an acronym: BIM for Building Information Model, Modeling and Management. Driven by a European directive in 2014, BIM is quietly developing in the various organizations responsible for the act of building, as well as in the different phases of the process. For organizations that have been experimenting with it for several years, assessment practices in the design and management phases are beginning to take hold. The implementation phase has still been relatively little investigated. What digital evaluation practices are being implemented in the BIM dynamic ? What are the questions asked and promises made?\\r\\n\n",
       "1814                                                                                                                                                                                                                                                                                                                                                                                                                                                                                                                                                                                                                                                                                                                                                                                                                                                                                                                                                                                                                                                                       Utilité, utilisabilité, désirabilité: proposition d’un cadre conceptuel d’évaluation des Systèmes de Recherche d’Information en Ligne (SRIL) Résumé\\r\\n\\r\\nÉvaluer un Système de Recherche d’Information en Ligne (SRIL) revient traditionnellement à interroger son acceptabilité, voire son utilisation. L’acceptabilité d’un SRIL se définit traditionnellement par la perception plus ou moins positive à propos de son utilité et de son utilisabilité. A ces deux dimensions traditionnelles nous ajoutons la désirabilité, c’est-à-dire la nécessité du système et l’envie d’utilisation qu’il suscite. Nous postulons donc pour évaluer un SRIL, il faut s’intéresser à son utilité, à son utilisabilité et à sa désirabilité. L’utilité du système recouvre sa performance et l’avantage relatif qu’il procure. L’utilisabilité se rapporte quant à elle, à l’efficience du système, à son apprenabilité, à sa mémorabilité et à sa capacité de gestion des erreurs. Enfin, la désirabilité renvoie à l’apparence esthétique du système et à son intégration dans le contexte de l’utilisateur. Nous avançons également que toute relation entre ces trois dimensions est à priori possible et que ces probables relations sont interprétables suivant la rigueur que requiert une évaluation d’un SRIL.\\r\\n\\r\\n \\r\\n\\r\\nAbstract\\r\\n\\r\\nEvaluating an Online Information Retrieval System (SRIL) traditionally comes down to questioning its acceptability, or even its use. The acceptability of an SRIL has traditionally been defined by the more or less positive perception about its usefulness and usability. To these two traditional dimensions we add desirability, that is to say the necessity of the system and the desire for use that it arouses. We therefore postulate to evaluate an SRIL, we must be interested in its utility, its usability and its desirability. The utility of the system encompasses its performance and the relative advantage it provides. Usability relates to the efficiency of the system, its learnability, its memorability and its ability to handle errors. Finally, desirability refers to the aesthetic appearance of the system and its integration into the context of the user. We also argue that any relationship between these three dimensions is a priori possible and that these probable relationships can be interpreted according to the rigor required by an assessment of an SRIL.\\r\\n\n",
       "Length: 771, dtype: object"
      ]
     },
     "execution_count": 35,
     "metadata": {},
     "output_type": "execute_result"
    }
   ],
   "source": [
    "\n",
    "def cleanhtml(raw_html):\n",
    "    cleanr = re.compile('<.*?>')\n",
    "    cleantext = re.sub(cleanr, '', raw_html)\n",
    "    return html.unescape(cleantext)\n",
    "\n",
    "\n",
    "data = list(df_publis.titre.dropna())\n",
    "data = [cleanhtml(BeautifulSoup(string).text) for string in data]\n",
    "print(len(data))\n",
    "data\n",
    "text"
   ]
  },
  {
   "cell_type": "code",
   "execution_count": 32,
   "metadata": {},
   "outputs": [
    {
     "name": "stdout",
     "output_type": "stream",
     "text": [
      "771\n",
      "771\n"
     ]
    }
   ],
   "source": [
    "df_publis[\"titre\"] = df_publis.titre.apply(lambda x: cleanhtml(BeautifulSoup(x).text))\n",
    "df_publis[\"resume\"] = df_publis.resume.apply(lambda x: cleanhtml(BeautifulSoup(x).text) if x is not np.NaN else x)\n",
    "\n",
    "df = df_publis.loc[:,[\"titre\",\"resume\"]].dropna()\n",
    "\n",
    "text = df.titre + df.resume\n",
    "print(len(text))\n",
    "print(len(text.dropna()))"
   ]
  },
  {
   "cell_type": "code",
   "execution_count": 101,
   "metadata": {},
   "outputs": [],
   "source": [
    "def create_embedding(data):\n",
    "    model = SentenceTransformer('allenai-specter')\n",
    "    embeddings = model.encode(data, show_progress_bar=True)\n",
    "    return embeddings\n",
    "\n",
    "from sklearn.cluster import SpectralClustering, KMeans\n",
    "\n",
    "def create_clusters(data, embeddings):\n",
    "\n",
    "    umap_embeddings = umap.UMAP(n_neighbors=5, \n",
    "                            n_components=5, \n",
    "                            metric='cosine').fit_transform(embeddings)\n",
    "    \n",
    "    cluster = hdbscan.HDBSCAN(min_cluster_size=5,\n",
    "                          metric='euclidean',                      \n",
    "                          cluster_selection_method='eom').fit(umap_embeddings)\n",
    "\n",
    "#     cluster = SpectralClustering(n_clusters=30, eigen_solver=None, n_components=None).fit(umap_embeddings)\n",
    "#     cluster = KMeans(n_clusters=50).fit(embeddings)\n",
    "\n",
    "    \n",
    "    umap_data = umap.UMAP(n_neighbors=5, n_components=2, min_dist=0.0, metric='cosine').fit_transform(embeddings)\n",
    "    result = pd.DataFrame(umap_data, columns=['x', 'y'])\n",
    "    result['labels'] = cluster.labels_\n",
    "    return result, cluster\n",
    "\n",
    "def plot_clusters(result_df):\n",
    "    fig, ax = plt.subplots(figsize=(20, 10))\n",
    "    outliers = result_df.loc[result.labels == -1, :]\n",
    "    clustered = result_df.loc[result.labels != -1, :]\n",
    "    plt.scatter(outliers.x, outliers.y, color='#0a0909', s=5)\n",
    "    plt.scatter(clustered.x, clustered.y, c=clustered.labels, s=5, cmap='hsv_r')\n",
    "    plt.colorbar()\n",
    "    "
   ]
  },
  {
   "cell_type": "code",
   "execution_count": 36,
   "metadata": {},
   "outputs": [
    {
     "data": {
      "application/vnd.jupyter.widget-view+json": {
       "model_id": "f146de7724db4f669eb57285178e3db6",
       "version_major": 2,
       "version_minor": 0
      },
      "text/plain": [
       "Batches:   0%|          | 0/25 [00:00<?, ?it/s]"
      ]
     },
     "metadata": {},
     "output_type": "display_data"
    }
   ],
   "source": [
    "data = list(text)\n",
    "embeddings = create_embedding(data)"
   ]
  },
  {
   "cell_type": "code",
   "execution_count": 37,
   "metadata": {},
   "outputs": [
    {
     "data": {
      "text/plain": [
       "768"
      ]
     },
     "execution_count": 37,
     "metadata": {},
     "output_type": "execute_result"
    }
   ],
   "source": [
    "len(embeddings[0])"
   ]
  },
  {
   "cell_type": "code",
   "execution_count": 102,
   "metadata": {},
   "outputs": [],
   "source": [
    "result, cluster = create_clusters(data, embeddings)"
   ]
  },
  {
   "cell_type": "code",
   "execution_count": 103,
   "metadata": {},
   "outputs": [
    {
     "data": {
      "image/png": "[encoded data removed]",
      "text/plain": [
       "<Figure size 1440x720 with 2 Axes>"
      ]
     },
     "metadata": {
      "needs_background": "light"
     },
     "output_type": "display_data"
    }
   ],
   "source": [
    "plot_clusters(result)"
   ]
  },
  {
   "cell_type": "code",
   "execution_count": 104,
   "metadata": {},
   "outputs": [
    {
     "ename": "AttributeError",
     "evalue": "'set' object has no attribute 'extend'",
     "output_type": "error",
     "traceback": [
      "\u001b[1;31m---------------------------------------------------------------------------\u001b[0m",
      "\u001b[1;31mAttributeError\u001b[0m                            Traceback (most recent call last)",
      "\u001b[1;32m<ipython-input-104-fb2d03945cd3>\u001b[0m in \u001b[0;36m<module>\u001b[1;34m\u001b[0m\n\u001b[0;32m      4\u001b[0m     \u001b[1;32mpass\u001b[0m\u001b[1;33m\u001b[0m\u001b[1;33m\u001b[0m\u001b[0m\n\u001b[0;32m      5\u001b[0m \u001b[1;33m\u001b[0m\u001b[0m\n\u001b[1;32m----> 6\u001b[1;33m \u001b[0mSTOP_WORDS\u001b[0m \u001b[1;33m=\u001b[0m \u001b[0mset\u001b[0m\u001b[1;33m(\u001b[0m\u001b[0mstopwords\u001b[0m\u001b[1;33m.\u001b[0m\u001b[0mSTOP_WORDS_FR\u001b[0m\u001b[1;33m.\u001b[0m\u001b[0mextend\u001b[0m\u001b[1;33m(\u001b[0m\u001b[1;33m[\u001b[0m\u001b[0mstopwords\u001b[0m\u001b[1;33m.\u001b[0m\u001b[0mSTOP_WORDS_EN\u001b[0m\u001b[1;33m,\u001b[0m\u001b[0mstopwords\u001b[0m\u001b[1;33m.\u001b[0m\u001b[0mSTOP_WORDS_IT\u001b[0m\u001b[1;33m,\u001b[0m \u001b[0mstopwords\u001b[0m\u001b[1;33m.\u001b[0m\u001b[0mSTOP_WORDS_ES\u001b[0m\u001b[1;33m]\u001b[0m\u001b[1;33m)\u001b[0m\u001b[1;33m)\u001b[0m\u001b[1;33m\u001b[0m\u001b[1;33m\u001b[0m\u001b[0m\n\u001b[0m\u001b[0;32m      7\u001b[0m \u001b[1;33m\u001b[0m\u001b[0m\n\u001b[0;32m      8\u001b[0m \u001b[1;32mdef\u001b[0m \u001b[0mc_tf_idf\u001b[0m\u001b[1;33m(\u001b[0m\u001b[0mdocuments\u001b[0m\u001b[1;33m,\u001b[0m \u001b[0mm\u001b[0m\u001b[1;33m,\u001b[0m \u001b[0mngram_range\u001b[0m\u001b[1;33m=\u001b[0m\u001b[1;33m(\u001b[0m\u001b[1;36m1\u001b[0m\u001b[1;33m,\u001b[0m \u001b[1;36m1\u001b[0m\u001b[1;33m)\u001b[0m\u001b[1;33m)\u001b[0m\u001b[1;33m:\u001b[0m\u001b[1;33m\u001b[0m\u001b[1;33m\u001b[0m\u001b[0m\n",
      "\u001b[1;31mAttributeError\u001b[0m: 'set' object has no attribute 'extend'"
     ]
    }
   ],
   "source": [
    "import stopwords\n",
    "\n",
    "def lemma():\n",
    "    pass\n",
    "\n",
    "STOP_WORDS = set(stopwords.STOP_WORDS_FR.extend([stopwords.STOP_WORDS_EN,stopwords.STOP_WORDS_IT, stopwords.STOP_WORDS_ES]))\n",
    "\n",
    "def c_tf_idf(documents, m, ngram_range=(1, 1)):\n",
    "    count = CountVectorizer(ngram_range=ngram_range, stop_words=stopwords.STOP_WORDS_FR, strip_accents='unicode').fit(documents)\n",
    "    t = count.transform(documents).toarray()\n",
    "    w = t.sum(axis=1)\n",
    "    tf = np.divide(t.T, w)\n",
    "    sum_t = t.sum(axis=0)\n",
    "    idf = np.log(np.divide(m, sum_t)).reshape(-1, 1)\n",
    "    tf_idf = np.multiply(tf, idf)\n",
    "\n",
    "    return tf_idf, count\n",
    "\n",
    "def extract_top_n_words_per_topic(tf_idf, count, docs_per_topic, n=20):\n",
    "    words = count.get_feature_names()\n",
    "    labels = list(docs_per_topic.Topic)\n",
    "    tf_idf_transposed = tf_idf.T\n",
    "    indices = tf_idf_transposed.argsort()[:, -n:]\n",
    "    top_n_words = {label: [(words[j], tf_idf_transposed[i][j]) for j in indices[i]][::-1] for i, label in enumerate(labels)}\n",
    "    return top_n_words\n",
    "\n",
    "def get_n_topwords(data, cluster):\n",
    "    docs_df = pd.DataFrame(data, columns=[\"Doc\"])\n",
    "    docs_df['Topic'] = cluster.labels_\n",
    "    docs_df['Doc_ID'] = range(len(docs_df))\n",
    "    docs_per_topic = docs_df.groupby(['Topic'], as_index = False).agg({'Doc': ' '.join})\n",
    "    \n",
    "    tf_idf, count = c_tf_idf(docs_per_topic.Doc.values, m=len(data))\n",
    "    \n",
    "    top_n_words = extract_top_n_words_per_topic(tf_idf, count, docs_per_topic, n=20)\n",
    "    return top_n_words, docs_df\n",
    "    \n",
    "\n",
    "top_n, docs_df = get_n_topwords(data,cluster)"
   ]
  },
  {
   "cell_type": "code",
   "execution_count": 42,
   "metadata": {},
   "outputs": [
    {
     "data": {
      "text/html": [
       "<div>\n",
       "<style scoped>\n",
       "    .dataframe tbody tr th:only-of-type {\n",
       "        vertical-align: middle;\n",
       "    }\n",
       "\n",
       "    .dataframe tbody tr th {\n",
       "        vertical-align: top;\n",
       "    }\n",
       "\n",
       "    .dataframe thead th {\n",
       "        text-align: right;\n",
       "    }\n",
       "</style>\n",
       "<table border=\"1\" class=\"dataframe\">\n",
       "  <thead>\n",
       "    <tr style=\"text-align: right;\">\n",
       "      <th></th>\n",
       "      <th>titre</th>\n",
       "      <th>cluster</th>\n",
       "    </tr>\n",
       "  </thead>\n",
       "  <tbody>\n",
       "    <tr>\n",
       "      <th>0</th>\n",
       "      <td>Note de recherche-Le rôle de l’entrepreneuriat coopératif dans l’inclusion socioéconomique des femmes : Cas de la coopérative féminine des produits de la mer de Douira « COFEPROMER »Au niveau de la région Souss Massa, la collecte des ressources littorales essentiellement les moules, représente une des activités socioéconomiques de grande envergure. L’activité offre des revenus supplémentaires aux ménages locaux. Le nombre des femmes pratiquant cette activité varie d’un site à l’autre : Imessouane, Cap Ghir, Douira, Sidi Boulfdail... Cependant, une seule coopérative féminine COFEPROMER de Douira qui existe au niveau de la région qui assure la collecte et la valorisation des moules dans le Parc National de Souss Massa. La coopérative a comme vocation l'exploitation durable de cette ressource, l’assurance d’un revenu à même d’améliorer la situation des femmes du site Douira et la garantie de leur insertion socio-économique.\\r\\n\\r\\nL’objectif de notre article est de présenter le rôle du modèle coopératif marocain dans l’inclusion socio-économique des femmes dans le secteur de pêche, un secteur qui reste masculin et qui soulève la problématique du genre, en se basant sur une étude de cas au sein d’une coopérative féminine des produits de la mer de Douira « COFEPROMER ». Notre démarche est exploratoire basée sur un guide d’entretien administré à la responsable et les femmes membres de la coopérative pour cerner la perception des impacts socio-économiques. \\r\\n\\r\\n Les résultats obtenus à travers la présente étude montrent l’importance socio-économique des activités littorales compte tenu de sa contribution comme source de revenus supplémentaires aux familles autochtones. En effet, la présence des coopératives au niveau des zones d’exploitation pourrait aider à la diffusion de l’information, à la sensibilisation des exploitantes vis-à-vis de la préservation de la ressource et à l’amélioration de la qualité des produits transformés.\\r\\n\\r\\n \\r\\n\\r\\nIn the Souss Massa region, the collection of coastal resources, mainly mussels, represents one of the major socio-economic activities. The number of women practicing this activity varies from one site to another: Imessouane, Cap Ghir, Douira, Sidi Boulfdail ... However, only one female cooperative COFEPROMER in Douira provides the collection and the enhancement of mussels in the Souss Massa National Park. The purpose of the cooperative is to ensure the sustainable exploitation of this resource, the improvement of women’s life conditions and their socio-economic integration.\\r\\n\\r\\nThe aim of this article is to present the role of the Moroccan cooperative model in the socio-economic inclusion of women in the fishing sector, a sector which remains male oriented, based on a case study within a female cooperative. Our approach is exploratory based on an interview administered to the manager and the women working in the cooperative to identify the impact of this cooperative on the socio-economic aspects of these women.\\r\\n\\r\\nThe results obtained from this study show that the collection of mussels is considered as a source of an additional income for indigenous families. Indeed, the presence of cooperatives in operating areas could help disseminate information, raise awareness among operators regarding the preservation of the resources and improve the quality of processed products.\\r\\n\\r\\n \\r\\n\\r\\n \\r\\n</td>\n",
       "      <td>8</td>\n",
       "    </tr>\n",
       "    <tr>\n",
       "      <th>4</th>\n",
       "      <td>La territorialisation comme condition de durabilité des organisationsRésumé\\r\\n\\r\\nL’inscription dans un territoire (ou dans des territoires) permet à une organisation d’affronter les évolutions environnementales et culturelles, parce que l’incarnation dans un territoire permet le face-à-face. Ce face-à-face dépend des engagements personnels de chaque acteur mais il peut être facilité ou entravé par les structures et les normes existantes. Une organisation qui se fossilise devient incapable de s’adapter à des changements environnementaux ou à des contextes normatifs distincts. Au fur et à mesure que l’organisation se focalise sur des enjeux abstraits, la satisfaction concrète des diverses parties prenantes est ignorée au bénéfice d’une représentation statistique qui ne représente qu’imparfaitement des réalités déjà passées. Reconstruire le face-à-face fait éclater la représentation chiffrée car le face-à-face apporte un supplément de sens à des représentations abstraites, il rend singulier ce qui n’était qu’un concept.\\r\\n</td>\n",
       "      <td>8</td>\n",
       "    </tr>\n",
       "    <tr>\n",
       "      <th>87</th>\n",
       "      <td>Crise politique et économique au Brésil : quelles implications pour l’enseignement des langues étrangères ?Résumé :\\r\\n\\r\\nL’apparition et/ou la consolidation d’intégrations régionales telles que le Mercosur en Amérique du Sud à partir des années 90 a marqué un tournant dans les domaines des politiques linguistiques et éducatives nationales et régionales dans le sous-continent (Garin, 2016). Ce nouveau régionalisme a suscité, au fur et à mesure, une remise en question des rôles et des espaces occupés jusqu’alors par les langues nationales, objets désormais de politiques linguistiques visant à leur promotion dans les pays voisins ayant d’autres langues officielles (Arnoux, 2010). La loi 11.161, appelée populairement « loi de l’espagnol » et approuvée en 2005 par l’ex-président du Brésil, Luis Inacio Lula Da Silva, est l’un des meilleurs exemples des actions glottopolitiques entreprises par les États sud-américains en faveur de l’intégration culturelle et linguistique de la région (Barros et al., 2016). Cette loi oblige les établissements de l’enseignement secondaire brésilien à inclure la langue espagnole dans leur offre éducative sans que son apprentissage soit pour autant obligatoire pour les étudiants. La crise politique que vit le Brésil depuis le lancement, en 2016, de la procédure de destitution de la présidente Dilma Rousseff, et la subséquente arrivée au pouvoir de Michel Temer ne seront pas sans conséquences pour l’enseignement des langues étrangères. L’une des premières mesures adoptées par le nouveau président sera l’abrogation de la loi de l’espagnol, en février 2017, dans le cadre d’une réforme générale de l’enseignement secondaire brésilien. Cette décision qui promeut l’apprentissage exclusif de l’anglais au détriment d’une politique de plurilinguisme constitue un clair pas en arrière pour l’intégration régionale et s’inscrit nettement dans une logique néolibérale de sacralisation de l’uniformité et de l’unicité (Léonard, 2016). Dans cette contribution, nous nous proposons d’analyser les réactions suscitées par ces mesures chez les acteurs de l’enseignement et de la promotion de l’espagnol au Brésil et particulièrement chez les associations d’enseignants d’espagnol du pays.\\r\\n\\r\\nMots-clés : Brésil, crise politique, langue espagnole, enseignement des langues étrangères, réformes éducatives, intégrations régionales\\r\\n\\r\\nAbstract :\\r\\n\\r\\nThe emergence and/or consolidation of regional integrations such as Mercosur in South America from the 1990s onwards marked a turning point in national and regional language and education policies in the sub-continent (Garin, 2016). This new regionalism has gradually led to a reconsideration of the roles and spaces previously occupied by national languages, which are now the subject of language policies aimed at promoting them in neighbouring countries with other official languages (Arnoux, 2010). Law 11.161, popularly known as the \"Spanish Law\" and approved in 2005 by the former President of Brazil, Luis Inacio Lula Da Silva, is one of the best examples of the glottopolitical actions undertaken by South American states in favour of cultural and linguistic integration in the region (Barros et al., 2016). This law obliges Brazilian secondary schools to include the Spanish language in their educational offer without making it compulsory for students to learn it. The political crisis that Brazil has been experiencing since the launch in 2016 of the process to remove President Dilma Rousseff from office, and the subsequent rise to power of Michel Temer, will not be without consequences for foreign language education. One of the first measures adopted by the new president will be the repeal of the Spanish language law in February 2017, as part of a general reform of Brazilian secondary education. This decision, which promotes the exclusive learning of English at the expense of a policy of plurilingualism, is a clear step backwards for regional integration and is clearly in line with a neo-liberal logic of sacralizing uniformity and uniqueness (Léonard, 2016). In this contribution, we propose to analyze the reactions provoked by these measures among those involved in the teaching and promotion of Spanish in Brazil, and particularly among the country's Spanish teachers' associations.\\r\\n\\r\\nKeywords : Brazil, political crisis, Spanish language, teaching of foreign languages, educational reforms, regional integrations.\\r\\n</td>\n",
       "      <td>8</td>\n",
       "    </tr>\n",
       "    <tr>\n",
       "      <th>200</th>\n",
       "      <td>S’il y a une canaille révoltiste, eh bien j’en suis et heureux d’en être ! Portrait du révoltiste Miguel Abensour en démocrate insurgeantSous le nom de «démocratie insurgeante», Miguel Abensour, porté par une relecture puissante et politique de Marx et du nouvel esprit utopique, s’inscrivant dans le sillage de la réflexion de Claude Lefort sur la «démocratie sauvage» et aux côtés de celle d’Ernesto Laclau et Chantal Mouffe sur la «démocratie radicale», a dessiné les contours d’une conception de la démocratie qui met la révolte – une double révolte – en son cœur.\\r\\n</td>\n",
       "      <td>8</td>\n",
       "    </tr>\n",
       "    <tr>\n",
       "      <th>201</th>\n",
       "      <td>Impact du régime de la vérité liquide et économie de l’opinion au sein des mouvements sociaux contemporains. L’exemple du mouvement des Gilets Jaunes«Ne parlez pas de \"répression\" ou de \"violences policières\", ces mots sont inacceptables dans un État de droit. [...] Vous me parlez de répression, je vous dis que c'est faux», Emmanuel Macron, le 07 mars 2019, Gréoux-les-Bains. \\r\\n\\r\\nCette formule provocatrice d'E. Macron, interpelle. Si elle se doit d'être replacée dans le contexte où elle est prononcée - presque quatre mois après le début du mouvement social des Gilets Jaunes - elle questionne notamment sur les choix en matière de communication ainsi que le rapport entre la vérité et le pouvoir en place en période de mouvement social. En effet, à la date où elle est prononcée, 483 cas de violences policières sont recensés, dont 202 blessures à la tête, 21 personnes énuclées, 5 mains arrachées et un homicide.\\r\\n</td>\n",
       "      <td>8</td>\n",
       "    </tr>\n",
       "    <tr>\n",
       "      <th>206</th>\n",
       "      <td>L’accès à l’alimentation durable pour tous : l’expérience d’un module de formation pour des étudiants en travail socialLe dispositif d’aide alimentaire est mal connu par les travailleurs sociaux tant en France qu’en Europe. Peu d’entre eux, qu’ils officient dans le secteur public ou caritatif, n’ont conscience qu’ils sont les prescripteurs d’une aide sociale qui participe à l’appauvrissement d’une partie de la population. \\r\\n\\r\\nDans cet article nous aborderons les notions nécessaires à la compréhension des enjeux sociaux de l’accès à l’alimentation durable et nous évoquerons les effets produits auprès d’étudiantes en travail social une fois qu’elles ont pu accéder à ces connaissances nouvelles.\\r\\n</td>\n",
       "      <td>8</td>\n",
       "    </tr>\n",
       "    <tr>\n",
       "      <th>207</th>\n",
       "      <td>Travail social et souveraineté alimentaireFace aux différents niveaux de crises (économique, sociale, démocratique, du sens…) qui laissent un nombre croissant de personnes dans des situations insoutenables,  le travail social doit et peut se situer en médiateur et en tiers facilitateur pour créer des dynamiques locales n’excluant pas les personnes habituellement écartées des espaces démocratiques de parole. \\r\\n\\r\\nAu travers d’une recherche action intitulée « Pour une nouvelle gouvernance de l’urgence et de l’entraide alimentaire sur l’agglomération caennaise», des acteurs font le pari de la co-construction de ce qui devient progressivement un véritable projet économique et politique de territoire. Ils vont se fédérer au sein d’une association : Act’terre solidaire et constituer un espace laboratoire au service des composantes du territoire.\\r\\n</td>\n",
       "      <td>8</td>\n",
       "    </tr>\n",
       "    <tr>\n",
       "      <th>219</th>\n",
       "      <td>De la nécessité éthique face à  l’obsolescence de l’homme au monde du travailRésumé : Le changement est au cœur des entreprises aujourd’hui, plus que jamais ancré dans les organisations du travail qui fonctionnement en mode projet. Face à ces changements organisationnels, notre réflexion éthique émerge du ressenti exprimé par des salariés confrontés aux projets. L’homme est comme dépassé, obsolescent, de ces discours imprégnés d’une urgence économique et technologique. Cette réflexion tend à montrer qu’il existe comme une obligation de repenser à nouveau à travers un cheminement éthique pour redonner à l’homme une considération dans son environnement et s’extraire de cette obsolescence dans laquelle il pourrait succomber.\\r\\n</td>\n",
       "      <td>8</td>\n",
       "    </tr>\n",
       "    <tr>\n",
       "      <th>246</th>\n",
       "      <td>Le roman Cordiali saluti d’Andrea Bajani : le care comme besoin de reconnaître la fragilité des travailleurs précairesCet article se propose d’éclairer, à partir de l’œuvre d’Andrea Bajani et en particulier son roman Cordiali saluti (2005), la nécessaire reconnaissance de la fragilité des travailleurs dans un contexte socio-économique qui ne cesse de faire violence aux individus. Ce roman explore la condition des travailleurs précaires d’aujourd’hui, qui n’ont aucune certitude quant à leur avenir professionnel et qui vivent constamment avec la peur d’être licenciés. Ainsi, le geste d’écriture de Bajani devient un geste de care, car l’auteur dénonce comment les logiques néolibérales s’immiscent aussi bien dans la sphère du travail que dans la sphère privée.\\r\\n</td>\n",
       "      <td>8</td>\n",
       "    </tr>\n",
       "    <tr>\n",
       "      <th>272</th>\n",
       "      <td>La guerre de Corée, ou comment périodiser une guerre civile inter-étatiqueLa guerre de Corée est traditionnellement limitée à la séquence 1950-1953. Pourtant, les racines du conflit tiennent à l’établissement, en 1948, de deux États coréens revendiquant une même légitimité sur la totalité de la péninsule. Si la guerre conventionnelle commence le 25 juin 1950, les tensions commencent réellement à partir de 1948 ou même, sous certains aspects, dès 1947. Insurrections régionales, conflits frontaliers, attentats politiques, grèves et apparition de maquis sont les éléments constitutifs d’une guerre civile coréenne quelque peu occultée par l’internationalisation du conflit à partir de juillet 1950. D’autre part, si l’armistice du 27 juillet 1953 a mis fin à ce que certains ont appelé « une guerre chaude », les tensions se sont succédé sous différentes phases le long du 38e parallèle. Échanges de tirs et incidents de frontière ont plus récemment dessiné les contours plus flous d’une « seconde guerre de Corée » tandis que certains auteurs préfèrent parler de « guerre inachevée ».\\r\\n</td>\n",
       "      <td>8</td>\n",
       "    </tr>\n",
       "    <tr>\n",
       "      <th>277</th>\n",
       "      <td>Les marches de la mort et la phase finale du génocide naziPeu étudiées dans leur spécificité historique, les marches de la mort ne peuvent être assimilées au génocide des juifs. Dans les derniers mois d'existence du système nazi, les détenus des camps formèrent une population très hétérogène et complexe qui fusionna, et au sein de laquelle les juifs ne représentaient plus qu'un groupe important. La désorganisation administrative et l'incohérence des instructions données par Himmler conférèrent un rôle-clé aux autorités locales dans les préparatifs et le déroulement de l'évacuation des camps. Les escortes constituées d'éléments disparates, pas forcément SS, mais travaillés douze ans durant par la propagande, considéraient les détenus  comme une entité collective menaçante et déshumanisée. Les meurtriers décidaient seuls du moment de passer à l’acte, selon un calcul combinant l'utilité, l'efficacité et les opportunités. Jamais au cours du génocide planifié et bureaucratique un tel pouvoir ne fut placé entre les mains d'autant d'individus.\\r\\n\\r\\nLa version originale de cet article, « The Death Marches and the Final Phase of Nazi Genocide », a été été publié dans l'ouvrage suivant : Jane Caplan, Nikolaus Wachsmann (éds), Concentration Camps in Nazi Germany : The New Histories, Londres, Routledge, 2009. Traduit de l’anglais par Damien Lescure.\\r\\n</td>\n",
       "      <td>8</td>\n",
       "    </tr>\n",
       "    <tr>\n",
       "      <th>278</th>\n",
       "      <td>L’évacuation du camp de Neuengamme et de ses Kommandos au printemps 1945Le camp de Neuengamme est le seul camp principal entièrement évacué à la fin de la guerre. C'est pourquoi il ne fut pas rattaché aux images connues des horreurs d’autres camps, aussi bien pour les libérateurs que pour le grand public. La phase d’évacuation de Neuengamme et de ses plus de 85 Kommandos dans le nord-ouest de l’Allemagne ne représente qu’une courte période dans l’histoire du camp qui eut six ans et demi d'existence. Pendant six semaines environ, de fin mars à début mai 1945, de multiples évènements se déroulèrent parallèlement : la SS fit errer des dizaines de milliers de détenus à pied sur les routes et en train dans le nord de l’Allemagne, la Croix-Rouge suédoise parvint à libérer des milliers de détenus scandinaves à Neuengamme, tandis que des détenus étaient assassinés en grand nombre pour empêcher leur libération par les Alliés. Au-delà d’une chronologie des faits, cet article présente une structure de l’évacuation de l’ensemble des camps de Neuengamme ainsi qu’un aperçu du rôle qu’y ont joué les différentes instances locales et régionales, et les facteurs qui ont influencé leurs marges de manœuvre.\\r\\n\\r\\nCette contribution est une version abrégée et revue de Detlef Garbe, « Die Räumung der Konzentrationslager in Norddeutschland und die deutsche Gesellschaft bei Kriegsende », in Oliver von Wrochem (éd.), Das KZ Neuengamme und seine Außenlager : Geschichte, Nachgeschichte, Erinnerung, Bildung, Berlin, Metropol, 2010, pp. 111-135. Traduit par Christine Eckel (Helmut-Schmidt-Universität Hamburg/KZ-Gedenkstätte Neuengamme).\\r\\n</td>\n",
       "      <td>8</td>\n",
       "    </tr>\n",
       "    <tr>\n",
       "      <th>284</th>\n",
       "      <td>Le camp, institution symbolique de l’état d’exception ?Sur la base de recherches récentes menées sur l’encadrement normatif de la détention concentrationnaire, l’article discute l’analyse spéculative du camp proposée par Giorgio Agamben.\\r\\n\\r\\n1. Contrairement à ce que soutient Agamben, le camp a un fonctionnement interne régi par le droit normal. Son régime disciplinaire est ainsi fortement inspiré par le droit normal militaire et carcéral. Dans le domaine du travail forcé, le droit normal s’applique même parfois directement aux détenus.\\r\\n\\r\\n2. Le camp n’est donc pas un espace où règne l’exception, dans lequel la vie nue du détenu est opprimée sans médiation. Au contraire, c’est l’application quotidienne d’un encadrement normatif précis qui caractérise l’enfer concentrationnaire.\\r\\n\\r\\nCela explique en partie pourquoi les différents acteurs, croyant leurs actes fondés et justifiés par cet encadrement normatif d’allure pseudo-juridique, participèrent au fonctionnement des camps.\\r\\n</td>\n",
       "      <td>8</td>\n",
       "    </tr>\n",
       "    <tr>\n",
       "      <th>286</th>\n",
       "      <td>Biopolitique et état d’exceptionLes travaux de Giorgio Agamben sont aujourd’hui incontournables s’agissant de réfléchir aux enjeux soulevés par les situations d’état d’exception dans les démocraties contemporaines. De manière assez surprenante, ils contiennent une importante référence au thème foucaldien de la « biopolitique ». À partir d’Agamben et de Foucault, il s’agira dans cet article de prendre au sérieux l’hypothèse suivant laquelle une forme d’exception est en jeu dans la biopolitique. En confrontant la « bio-souveraineté » d’Agamben à la biopolitique de Foucault, ce sont finalement deux régimes d’exception liés au biopouvoir qui se dessinent. Si elles ont en commun de suspendre leur rapport à la loi et au droit, la biopolitique souveraine et la biopolitique gouvernementale le font sous des modalités différentes qui posent des défis spécifiques aux démocraties contemporaines.\\r\\n</td>\n",
       "      <td>8</td>\n",
       "    </tr>\n",
       "    <tr>\n",
       "      <th>290</th>\n",
       "      <td>L’état d’exception dans la pratique et la jurisprudence constitutionnelle grecqueSelon le Conseil d’État grec, la crise financière ne constitue pas une situation de nécessité qui justifierait des dérogations aux règles constitutionnelles. Les mesures d'austérité n’échappent pas au contrôle juridictionnel, même si est reconnu un large pouvoir discrétionnaire du législateur en la matière. Cependant, certaines catégories de décisions étatiques échappent au contrôle juridictionnel. Tout d’abord, le Conseil d’État se refuse de vérifier l’existence des « cas exceptionnels d’une nécessité extrêmement urgente et imprévue » qui justifieraient l’édiction de la législation gouvernementale sans habilitation parlementaire. Les gouvernements grecs peuvent ainsi légiférer en dehors de la publicité parlementaire. En outre, le Conseil évite de vérifier l’existence des circonstances exceptionnelles qui justifieraient la réquisition de travail – laquelle aboutit pratiquement à l’interdiction de la grève. Les gouvernements peuvent ainsi restreindre effectivement la réaction sociale. Cela peut être considéré comme une exception « partielle », qui n’est pas proclamée mais imposée de manière implicite et incidente, et qui affecte plutôt les libertés collectives et démocratiques que les droits civils, économiques et sociaux. \\r\\n\\r\\nMes remerciements vont à Mme Vasiliki Kapsali, M. Yannis Thanassekos et M. Tristan Storme, pour leurs observations utiles.\\r\\n</td>\n",
       "      <td>8</td>\n",
       "    </tr>\n",
       "    <tr>\n",
       "      <th>291</th>\n",
       "      <td>Crise européenne, démocratie et souverainetéEntretien réalisé par Tristan Storme et Yannis Thanassekos, à Bruxelles, le 20 février 2015.\\r\\n\\r\\n \\r\\n\\r\\n \\r\\n\\r\\nJean-Marc Ferry est philosophe, professeur honoraire de sciences politiques et de philosophie morale à l’université libre de Bruxelles, et titulaire de la chaire de philosophie de l’Europe de l’université de Nantes. La question européenne occupe une place privilégiée dans son œuvre philosophique. On lui doit notamment La Question de l’État européen (Gallimard, 2000), Europe, la voie kantienne. Essai sur l’identité postnationale (Cerf, 2005), ou encore La République crépusculaire (Cerf, 2010).\\r\\n\\r\\nLe début d’année 2015 a été marqué par deux événements majeurs dont le traitement médiatique et académique a eu partie liée avec la thématique de l’« exception » : les attentats qui ont endeuillé la France les 7 et 9 janvier derniers, ainsi que le triomphe de Syriza aux dernières élections législatives grecques. Quelques jours après ces événements, en février, M. Ferry a gentiment accepté d’évoquer pour nous cette actualité brûlante, à travers une réflexion plus large sur la situation de notre État de droit démocratique. Qu’en est-il de la démocratie européenne, à l’heure où le règlement de la crise grecque par la « Troïka » participe de dérives « postdémocratiques » non négligeables ? Qu’en est-il de l’État de droit libéral devant les mesures prises en urgence par nos gouvernements confrontés à la crise européenne – économique et financière – et à la « menace terroriste » ? L’exception est-elle un concept adéquat pour apprécier ce contexte politique qui est le nôtre ?\\r\\n</td>\n",
       "      <td>8</td>\n",
       "    </tr>\n",
       "    <tr>\n",
       "      <th>292</th>\n",
       "      <td>Dexia, un coup d’État permanentEn sauvant les institutions financières privées de la faillite, l’État belge a vu sa dette fortement augmenter. Ces sauvetages ont pris deux formes : la recapitalisation financière et l’octroi de garanties d’État pour couvrir leurs dettes. La garantie de l’État belge sur les dettes de Dexia SA (surnommée « bad bank ») a fait l’objet de deux recours devant le Conseil d’État introduits par trois associations et deux députées. Ensemble, ils demandent l’annulation de cette garantie au motif que les actes pris par l’exécutif pour l’accorder sont illégaux. Les enjeux autour de l’annulation de cette garantie sont multiples : économiques, sociaux, politiques, et touchent aux fondements mêmes de la démocratie représentative. Dans la première partie de ce texte, l’auteur revient sur les différentes étapes du naufrage du groupe Dexia et sur l’adoption des deux arrêtés relatifs à la garantie d’État attaquée en justice. Dans la deuxième partie, il explique en quoi ce cas Dexia constitue un véritable coup d’État contre le pouvoir législatif et judiciaire. Dans la troisième partie, il donne des perspectives juridiques et politiques en abordant notamment l’audit citoyen de la dette et le contrôle citoyen du secteur bancaire. \\r\\n</td>\n",
       "      <td>8</td>\n",
       "    </tr>\n",
       "    <tr>\n",
       "      <th>293</th>\n",
       "      <td>État d’exception, démocratie directe, exception démocratique : le cas suisseAprès une multiplication des écarts à la procédure constitutionnelle durant les deux conflits mondiaux, la Suisse a vu sa population se mobiliser et recourir à un instrument de démocratie directe pour réclamer la sortie de cet état d’exception. En septembre 1949, l’initiative populaire « Retour à la démocratie directe » est ainsi acceptée par le peuple et les Cantons et contribue à mettre fin à l’expérience suisse la plus récente du régime d’exception. Ce cas nous permet-il de réfuter l’hypothèse de l’extension infinie du droit d’exception qui, selon Agamben, témoigne que le « paradigme biopolitique de l’Occident est aujourd’hui le camp et non pas la cité » (Agamben 1997, 179) et d’affirmer qu’il existe une voie de sortie démocratique à la velléité de construction de l’État d’exception permanent ? Dans le présent article, nous montrons que, si le droit d’initiative garanti par le modèle démocratique direct suisse obvie à la construction du « camp comme nomos de la modernité » (Agamben 1997, 179), il permet au peuple conçu comme souverain de porter lui-même atteinte aux fondamentaux de la démocratie, introduisant une forme d’« exception démocratique ».\\r\\n</td>\n",
       "      <td>8</td>\n",
       "    </tr>\n",
       "    <tr>\n",
       "      <th>296</th>\n",
       "      <td>Dix ans de construction critique du témoignage combattant : de Georges Duhamel (1920) à Jean Norton Cru (1929)Entre 1914 et 1918, près de 340 témoignages de combattants sont édités en France. Certains connaissent une notoriété immédiate de la part des contemporains ou des critiques. Il faut néanmoins attendre la sortie de la guerre pour voir cette littérature être l’objet d’une tentative de théorisation et de classement. Georges Duhamel est le premier à tenter de définir la littérature de témoignage, peu avant qu’Albert Schinz ne s’intéresse à la valeur esthétique et documentaire des récits de guerre. Proposant à la fin de son ouvrage un classement, Albert Schinz préfigure en cela la partie du travail de Norton Cru qui fit tant polémique à la publication de Témoins en 1929. Dix ans après la fin de la guerre, au moment où la première mise en mémoire du conflit s’effectue dans la société française, Jean Norton Cru publie son étude critique, s’appuyant sur une méthode originale qui mêle à la fois approche scientifique et intervention de son expérience de guerre.\\r\\n</td>\n",
       "      <td>8</td>\n",
       "    </tr>\n",
       "    <tr>\n",
       "      <th>302</th>\n",
       "      <td>Annexe 1James Shotwell, professeur d'histoire des relations internationales à l'Université de Columbia devient à la veille de l'entrée en guerre des États-Unis (1917) le directeur de la recherche à la Fondation Carnegie pour la Paix. Après avoir fait partie de la délégation états-unienne présente à la Conférence de la Paix de Paris, il devient pour la Fondation Carnegie le responsable éditorial d'une très importante série de monographies consacrées à l'impact de la Première Guerre mondiale sur la vie économique et sociale des nations touchées par la guerre. C'est dans cette prestigieuse collection que Shotwell avait projeté de publier ce qui allait devenir Témoins. Shotwell fut le principal soutien de Jean Norton Cru jusqu'au rejet de Témoins par le comité parisien de la Fondation. \\r\\n\\r\\nNous publions dans ce dossier deux lettres dans lesquelles Shotwell donne son appréciation du travail de Jean Norton Cru.\\r\\n</td>\n",
       "      <td>8</td>\n",
       "    </tr>\n",
       "    <tr>\n",
       "      <th>308</th>\n",
       "      <td>Le Cône sud de l’Amérique latine, théâtre de crimes de masse planifiés (1973-1990)Dans le cadre de la Guerre froide, le Cône sud de l’Amérique latine a été le théâtre, entre 1973 et 1990, année du début de la transition chilienne vers la démocratie, de crimes de masse. Des dizaines de milliers de personnes ont été torturées, exécutées et bannies de leur pays pour des raisons essentiellement politiques. En ce sens, la doctrine de sécurité nationale appliquée contre les mouvements de guérilla a été sans pitié, et si ces dictatures militaires ne sont pas des actes isolés dans l’histoire du Cône sud*, replacées dans le contexte des années 1970, elles prennent une coloration particulière.\\r\\n\\r\\n \\r\\n\\r\\n* Le terme Cône sud ne répond pas à un espace géographique déterminé et ses limites sont variables selon les auteurs. Néanmoins, nous retenons communément comme pays le composant l'Argentine, le Brésil, le Paraguay, le Chili et l'Uruguay.]\\r\\n</td>\n",
       "      <td>8</td>\n",
       "    </tr>\n",
       "    <tr>\n",
       "      <th>323</th>\n",
       "      <td>Le Sicherungslager SchirmeckCamp peu connu – en comparaison du camp de concentration de Natzweiler tout proche –, Schirmeck est pourtant au cœur des politiques répressives à l’œuvre en Alsace et en Moselle annexées. Créé à l’initiative du Gauleiter Robert Wagner, ce camp devient l’instrument privilégié pour « mettre au pas » les récalcitrants à la politique de germanisation et de nazification. Schirmeck cumule ainsi les fonctions répressives entre 1940 et 1944 : camp d’internement et de rééducation, annexe des prisons d’Alsace, camp de rééducation par le travail (AEL), outil de pression pour les réfractaires aux mesures d’incorporation, lieu de transit avant les camps de concentration. En parallèle, il occupe une place non négligeable dans la répression mise en œuvre en zone occupée, que ce soit lors de la destruction du réseau Alliance ou au moment des opérations « terroristes » menées par les Kommandos de la Sipo et des unités de la Wehrmacht à l’automne 1944 dans les départements vosgiens. Au total, de 10 000 à 15 000 détenus y sont incarcérés.\\r\\n</td>\n",
       "      <td>8</td>\n",
       "    </tr>\n",
       "    <tr>\n",
       "      <th>324</th>\n",
       "      <td>Sur les traces du procédé Hollerith, dans les archives du KL MauthausenAu tout début du XXe siècle, Herman Hollerith, un Américain d’origine allemande, fonde l’International Business Machines (IBM). La Dehomag, filiale allemande de la firme créée en 1934, fournira, quelques années plus tard, trieuses et cartes perforées aux nazis afin de faciliter la gestion des effectifs concentrationnaires. Les archives largement préservées du camp de Mauthausen portent les traces de l’utilisation du procédé mécanographique par l’administration du KL autrichien. à partir de 1944 tout au moins, les caractéristiques sociologiques des détenus sont scrupuleusement enregistrées et codées, de même que le profil de ces ennemis du Reich et chaque étape de leurs parcours concentrationnaires. L’anonymisation apparente des hommes dissimulait une individualisation extrême permettant, sur un plan répressif, d’identifier et de localiser à tout moment les adversaires de l’Allemagne nazie et, sur un plan économique, d’optimiser la corrélation entre les besoins des entreprises bénéficiant de la main-d’œuvre concentrationnaire et les compétences disponibles parmi les détenus.\\r\\n</td>\n",
       "      <td>8</td>\n",
       "    </tr>\n",
       "    <tr>\n",
       "      <th>325</th>\n",
       "      <td>L’élimination des inaptes au travail forcé : les trois convois de victimes de Dora en 1944Avec la multiplication des kommandos extérieurs de travail dépendant des principaux camps de concentration, la gestion des détenus malades, blessés et invalides pose rapidement d’importants problèmes à l’administration SS. Dans les camps, sans que l’on soit sûr de l’origine de ce mot, on appelle un détenu à bout de forces, incapable de réagir et proche de la mort, un « musulman ». Dans les mois qui suivaient la création d’un kommando, en attendant que soient créées des structures adéquates (Revier et crématoire notamment), ils étaient renvoyés au camp central. Toutefois, dans certains camps, face au nombre grandissant de personnes concernées, il est décidé de former des transports vers d’autres camps, en fait des mouroirs. Le détenu était devenu inutile, « rebut », il était sorti du système, « jeté » dans un endroit où sa mort ne poserait plus de problème. C’est ce qui arrive à plusieurs milliers de détenus de Dora, transférés en trois convois entre janvier et mars 1944. Ils sont le symbole de l’évolution d’un système concentrationnaire où, désormais, l’élimination n’est plus seulement le résultat d’un statut d’ennemi du Reich, mais d’une incapacité à travailler.\\r\\n</td>\n",
       "      <td>8</td>\n",
       "    </tr>\n",
       "    <tr>\n",
       "      <th>326</th>\n",
       "      <td>Le quatrième et ultime convoi d’inaptes au travail parti de Mittelbau-Dora le 6 mars 1945 : la norme et le chaos concentrationnairesLe 6 mars 1945, un convoi de 2 252 déportés jugés « inaptes au travail » par les SS quitte Nordhausen pour atteindre Bergen-Belsen le lendemain. La quasi-totalité des hommes de ce transport qui compte près de 500 Français disparaît ensuite. Tous étaient issus des kommandos particulièrement meurtriers de Dora, d’Ellrich et d’Harzungen qui forment, depuis novembre 1944, le cœur du complexe concentrationnaire de Mittelbau ; dernier né des camps nazis, selon une finalité principalement économique et stratégique. Dès la libération des camps, le sort de ce « convoi fantôme » prend une dimension inédite et conduit à des hypothèses quant à son destin. Les recherches menées depuis plusieurs années dans le cadre d’un projet scientifique sur les 9 000 déportés de France passés par Mittelbau-Dora apportent des réponses nouvelles, plaçant ce transport à la croisée des politiques de gestion des invalides par les SS et du drame des évacuations meurtrières.\\r\\n</td>\n",
       "      <td>8</td>\n",
       "    </tr>\n",
       "    <tr>\n",
       "      <th>336</th>\n",
       "      <td>Qu'est-ce que la globalisation des Lumières et comment l'étudier ?Les Lumières sont à la mode, pour le meilleur et pour le pire. Louées de façon excessive ou accusées d’être la source de toutes les dérives politiques, elles appartiennent à la culture mondiale. Comment cela s’est-il fait ? Comment appréhender ce processus qui semble échapper au modèle diffusionniste[1] ?\\r\\n</td>\n",
       "      <td>8</td>\n",
       "    </tr>\n",
       "    <tr>\n",
       "      <th>340</th>\n",
       "      <td>Face à l’inefficacité de la prison, la science et l’opinion publique finiront-elles par « vouloir » se rencontrer ?Les effets néfastes de la prison ne sont plus à démontrer. Plusieurs travaux scientifiques permettent d’établir un diagnostic précis du système pénal et ceux issus de la psychologie ne sont pas des moindres. Ils donnent aussi de réelles possibilités d’améliorer le système pénitentiaire et plus globalement les dispositifs et les politiques mis en œuvre. Pourtant, les changements envisagés répondent plus souvent à des impératifs d’intérêts immédiats, souvent idéologiques, que d’une visée scientifique. Notre propos vise à comprendre ce qui fait obstacle à l’exploitation des données scientifiques lorsqu’il s’agit d’améliorer ou de transformer le fonctionnement pénitentiaire.</td>\n",
       "      <td>8</td>\n",
       "    </tr>\n",
       "    <tr>\n",
       "      <th>344</th>\n",
       "      <td>De la globalización del mundo a la globalización de la menteLas teorías  socioculturales sobre la globalización superan el reduccionismo de los análisis económico y político, y ponen de manifiesto no sólo que es el proceso humano más complejo conocido hasta hoy sino también  que convierte al mundo en un sistema hipercomplejo. Esto plantea la exigencia epistemológica de tener que abordarla aplicándole las teorías llamadas de la complejidad, relativas a  fenómenos como el caos, la autoorganización, los  fractales y los conjuntos borrosos.  Es un nuevo enfoque, que cambia el sentido de la globalización y permite entender cómo este macroproceso puede afectar a la mente humana, para adecuarse en su modo de sentir y de pensar a un mundo omnicomprensivo, en el que potencialmente todo afecta a todos. Social-cultural theories about globalization overcome the reductionism of both economical and political analysis; moreover these theories make globalization appear not only as the most complex human process ever known, but also show how the world has became a hyper-complex system. This situation conducts to an epistemological imperative: a study based on the complexity theories, which deal with phenomena such as chaos, self-organization, fractals, and fuzzy sets. Complexity theories imply a new point of view that changes the sense of the globalization; in fact, they make possible understand how globalization may affect human mind –even adapting it to feel and think about a fully comprehensive world.</td>\n",
       "      <td>8</td>\n",
       "    </tr>\n",
       "    <tr>\n",
       "      <th>347</th>\n",
       "      <td>La thèse de l’unité  africaine traditionnelle : ses  dessous et ses conséquences sur l’Etat en AfriqueLorsque dans les années 60 la plupart des pays africains devenaient des Etats indépendants, le monde était encore dans la guerre froide ponctuée par une lutte idéologique acharnée opposant le bloc socialiste aux pays capitalistes. A l’analyse, cette guerre n’était que le reflet des luttes de classes internes  à ces pays dits développés. Pour mettre l’Afrique à l’abri des influences de cette lutte idéologique, pour sauvegarder la stabilité des jeunes et fragiles Etats africains, les premiers dirigeants de l’Afrique indépendante brandissent la thèse de l’unité africaine traditionnelle longtemps clabaudée par une grande partie de l’intelligentsia africaine. Mais cette thèse n’est pas sans dessous pernicieux  ni sans conséquences négatives sur le développement de l’Afrique et sur son cheminement vers un Etat démocratique.1- Par ses incessants appels au retour aux « valeurs africaines  de civilisation », la thèse de l’unité africaine traditionnelle  a servi d’alibi aux dirigeants africains pour  trier sur le volet les  valeurs traditionnelles qui convenaient au renforcement de leur pouvoir personnel. 2- En niant  l’existence des classes sociales en Afrique et en méprisant l’importance de  la lutte de classe dans la transformation et le développement  de la société, la thèse de l’unité africaine traditionnelle a donné aux dirigeants africains l’occasion  belle de tourner le dos  au pluralisme politique et à l’alternance du pouvoir. De ce fait, elle a frayé pour l’Afrique le chemin de la pensée unique,  du pouvoir unique, du dirigeant  unique et  du parti unique.3- De même, par sa théorie de la « classe- tribu », corollaire de la négation des classes, la thèse de l’unité africaine traditionnelle en substituant en Afrique les tribus aux classes  et les luttes tribales aux luttes de classe,  a ouvert les   portes de « l’unité africaine » aux divisions sociales et aux guerres civiles, mettant ainsi en cause sa propre existence. 4- En ramenant  dans les années 60 de nombreux Etats africains du multipartisme (ou bipartisme) au parti unique, la thèse de l’unité africaine traditionnelle a instauré et légitimé des pouvoirs dictatoriaux et totalitaires et du coup a fait une croix sur l’avènement  d’une véritable démocratie en Afrique.When most countries became independent states in the 1960s, the cold war still prevailed in the world, highlighted by a fierce ideological struggle between the socialist group and the capitalist countries. When one thinks about it, it appears that this was but the expression of the internal class struggle within these so-called developed countries. In order to protect Africa from the effects of this ideological struggle, in order to safeguard the stability of the new and fragile African states, the first ruling classes of independent Africa laid emphasis on the thesis of the traditional African unity which had long been urgently demanded by a major part of African intellectuals.But this thesis lacks neither pernicious undertones nor negative consequences regarding the development of Africa and its progress towards a democratic state.1- By means of unceasing appeals to revert to “African values of civilization”, the thesis of the traditional African unity has served as an alibi for African ruling classes to choose the best traditional values that suited the strengthening of their personal power.2- By denying the existence of social classes in Africa and despising the importance of the social class struggle in the transformation and development of societies, the thesis of the traditional African unity has provided the African ruling classes with the opportunity to turn their back to political pluralism and power alternation. In so doing, it has cleared a path to, the sole leader and the sole political party in Africa.3- Likewise, by means of its “class-tribe” theory which is corollary to the denial of classes, the thesis of the traditional African unity has given rise to social divisions and civil wars regarding “African unity” by substituting tribes to classes and tribal struggles to class struggles, thus questioning its own existence.4- By bringing numerous African states from multipartism (or bipartism) to the sole party in the 1960s, the thesis of the traditional African unity has instituted and legitimated dictatorial and totalitarian powers and as a result it has up true democracy in Africa for good.</td>\n",
       "      <td>8</td>\n",
       "    </tr>\n",
       "    <tr>\n",
       "      <th>352</th>\n",
       "      <td>Crise(s)Les crises peuvent être considérées comme des expériences bouleversant le cours des choses qui apparaissait comme normal, tout en maintenant refoulés des éléments de réalité qui l'auraient contrarié. Dans la perspective d'une analyse du processus de crise, et prenant pour exemple la crise économique manifeste en 2008, on peut suivre les différentes  phases d'une crise, caractérisées par un brusque retour du refoulé entraînant défaillance de symbolisation, et déferlement d'un imaginaire négatif incontrôlable. La crise a des effets de contamination sur les unités sociales ou les systèmes affectés de proche en proche par la dérégulation. Les symptômes psychiques et sociaux de l'anomie se manifestent sur les modes dépressifs et violents. Le retour à un état d'équilibre prend des formes incertaines  parfois régressives, l'histoire laissant à penser qu'elle ne procède que par une succession de crises.  Crises can be considered as experiences that will disrupt the ordinary course of events, while maintaining repressed the facts which would have impeded it. The present economic recession provides a typical example of a crisis process. Its various phases are characterized by a sudden return of the repressed that will entail a failure in symbolization and the surge of an uncontrollable negative imaginary on the part of all actors involved. Crisis has also contagion effects on social units or systems gradually affected by deregulation. The psychic and social symptoms of ‘anomie’ then arise on depressive and violent modes. The return to a state of balance takes uncertain and sometimes regressive forms, as if history were to progress through time only by a succession of crises.</td>\n",
       "      <td>8</td>\n",
       "    </tr>\n",
       "    <tr>\n",
       "      <th>356</th>\n",
       "      <td>La crise allemande : causes et spécificitésResume : La crise allemande : causes et spécificitésLe système politique économique et social allemand, s’il possède de la ressource, rencontre néanmoins des difficultés conséquentes à l’épreuve de la mondialisation. La montée en puissance rapide de l’extrême gauche allemande constitue l’un des symptômes les plus remarquables de cette crise. Les performances en terme de compétitivité du modèle ont de plus en plus de mal à cacher la précarité qui se répand jusque dans les classes moyennes, et les réformes prennent des allures de « liquidation politique » du modèle. En Allemagne comme ailleurs se pose désormais la question du degré de tolérance des sociétés à l’ouverture.Sommary: The German Crisis: characteristics and causesAlthough the political, economic and social system in Germany has its strengths, it nevertheless encounters difficulties in the wake of globalisation. One of the most striking aspects, symptomatic of a crisis, is the swift rise to prominence of the country's Extreme Left. It becomes increasingly difficult, on the issue of the model's competitiveness, to conceal the precariousness permeating even the middle classes, and the reforms take steps towards the structure's \"political liquidation\". From now on, in Germany as elsewhere, the question being asked is to what degree will society tolerate this global opening up.</td>\n",
       "      <td>8</td>\n",
       "    </tr>\n",
       "    <tr>\n",
       "      <th>362</th>\n",
       "      <td>La thèse de l’unité  africaine traditionnelle : ses dessous et ses Conséquences sur l’Etat en AfriqueLorsque dans les années 60 la plupart des pays africains devenaient des Etats indépendants, le monde était encore dans la guerre froide ponctuée par une lutte idéologique acharnée opposant le bloc socialiste aux pays capitalistes. A l’analyse, cette guerre n’était que le reflet des luttes de classes internes  à ces pays dits développés. Pour mettre l’Afrique à l’abri des influences de cette lutte idéologique, pour sauvegarder la stabilité des jeunes et fragiles Etats africains, les premiers dirigeants de l’Afrique indépendante brandissent la thèse de l’unité africaine traditionnelle longtemps clabaudée par une grande partie de l’intelligentsia africaineMais cette thèse n’est pas sans dessous pernicieux  ni sans conséquences négatives sur le développement de l’Afrique et sur son cheminement vers un Etat démocratique. When most countries became independent states in the 1960s, the cold war still prevailed in the world, highlighted by a fierce ideological struggle between the socialist group and the capitalist countries. When one thinks about it, it appears that this was but the expression of the internal class struggle within these so-called developed countries. In order to protect Africa from the effects of this ideological struggle, in order to safeguard the stability of the new and fragile African states, the first ruling classes of independent Africa laid emphasis on the thesis of the traditional African unity which had long been urgently demanded by a major part of African intellectuals.But this thesis lacks neither pernicious undertones nor negative consequences regarding the development of Africa and its progress towards a democratic state.</td>\n",
       "      <td>8</td>\n",
       "    </tr>\n",
       "    <tr>\n",
       "      <th>368</th>\n",
       "      <td>Les enfants pauvres et la consommation (L’emploi d’une méthodologie participative)Dans une recherche développée au 2002 par les auteurs de cet article, on a observé, par le moyen d’une méthode non participative, la conduite et les rituels des enfants pauvres entre neuf à onze ans dans un centre commercial. L’étude actuelle complète celui de l’année 2002, en conservant les caractéristiques socioéconomiques et d’âge des enfants, mais, en utilisant, cette fois-ci, une méthodologie participative, à savoir, des dessins et des histoires en rapport avec des visites au centre commercial, et aussi, une conversation avec les enfants à ce sujet. Les résultats ont rendu compte des espaces qu'ils préfèrent fréquenter en allant au centre commercial, le sens qu’ils lui confèrent, leur attitude face à la consommation et non consommation et d’ autres pratiques économiques observées. Les découvertes ont permis de développer une discussion controversée en ce qui concerne les principes doctrinaux de l'éducation, l'alphabétisation et la psychologie économique.</td>\n",
       "      <td>8</td>\n",
       "    </tr>\n",
       "    <tr>\n",
       "      <th>428</th>\n",
       "      <td>L’Afrique subsaharienne un regard honnête ?L’Afrique subsaharienne avec honnêteté ?En 2010, alors que de nombreux pays d’Afrique subsaharienne fêtent leur demi-siècle d’indépendance, la plupart d’entre eux ne sont pas encore autonomes et dépendent de l’aide internationale pour assurer le soutien leurs concitoyens.Ce constat est surprenant, ce d’autant plus que d’autres régions du monde, au niveau de développement similaire cinquante ans plus tôt, connaissent des situations socioéconomiques nettement plus favorables. Prenant appui sur les observations formulées par l’économiste zambienne Moyo, le PNUD (Programme des Nations Unies pour le développement), le CEGPD (Centre Européen de Gestion des Politiques de Développement), l’OCDE mais aussi le sociologue togolais Amouzou, l’auteur relève de nombreuses entraves au développement. Sans chercher à les minimiser, elle propose cependant de cibler ce qui, selon elle, constitue le problème majeur de ces pays : un manque de leadership. Let’s be honest about Sub-Saharan AfricaIn 2010, while many Sub-Saharan African countries celebrate 50 years of independence, most of them are still not independent and rely on international assistance to cover the needs of their citizens when other countries of the world, with similar development situation 50 years ago, meet much more comfortable socioeconomic conditions. Considering observations made by the Zambian economist Moyo, the UNDP (United Nations Development Program), the ECDPM (European Centre for Development Policy Management), the OECD but also the Togolese sociologist Amouzou, the author notes numerous hindrances to Africa’s development. Without minimising them, she proposes to point out the major problem of these countries: the lack of leadership.</td>\n",
       "      <td>8</td>\n",
       "    </tr>\n",
       "    <tr>\n",
       "      <th>451</th>\n",
       "      <td>La réforme de couverture sociale en Tunisie : perspectives, bilan et défisEn dépit de sa stratégie ambitieuse (alliant : rationalité, efficacité et équité), la nouvelle réforme de couverture sociale (la CNAM) se heurte à un certains nombre de problèmes, dont à priori ses rapports avec le grand public. L’image de la CNAM prend parfois l’allure d’une institution bureaucratisée, en plein désarroi, privilégiant ses propres intérêts et se démarquant de l’éthique de solidarité. Bien que les questions d’ordre technique, médical et financiers soient une source réel de ce mécontentement, les considérations psychosociologiques dû au manque de communication entre la CNAM et son public ont semble t-il accentuer un tel sentiment. Nous pouvons en déduire aussi que la réforme de la couverture des soins en Tunisie a bel et bien profité à la médecine libérale mais pas pour autant au secteur public-de plus en plus marginalisé et fragilisé et incapable de remplir pleinement son rôle. Une telle situation défavorise une bonne partie de la population tout en bénéficiant aux classes sociales aisées, et remet en question la notion des égalités face aux soins proclamée par la CNAM.</td>\n",
       "      <td>8</td>\n",
       "    </tr>\n",
       "    <tr>\n",
       "      <th>532</th>\n",
       "      <td>La crise allemande : causes récurrentes et symptômes récents d’un malaise démocratiqueMême si l’Allemagne a su passer un premier cap décisif dans son adaptation à la mondialisation et qu’elle s’en sort globalement mieux que d’autres pays européens, des problèmes politiques, économiques et sociaux s’accumulent, et des symptômes de crise sont observables. L’image de bonne santé ne tient pas, au-delà des apparences et des indicateurs économiques positifs qui ont leur revers. Pour la viabilité du modèle comme pour la démocratie elle-même, les raisons d’être inquiet ne manquent pas.Even though Germany was able to take a decisive first step in its adaptation to globalisation and so came out better than most other European countries, political, economic and social problems are building up. Crisis symptoms are noticeable. The good health image doesn't hold up further than the appearances and some positive economic indicators which have their reverse. For the viability of the model as well as for democracy itself, there are reasons to be worried.</td>\n",
       "      <td>8</td>\n",
       "    </tr>\n",
       "    <tr>\n",
       "      <th>533</th>\n",
       "      <td>Analyse socio-anthropologique des crises financières. Des rites sacrificiels au risque d’esclavagismeJusqu’à récemment, l’argent était un moyen mais il tend à devenir le but ultime de nos sociétés contemporaines, où les représentations collectives sont tiraillées entre défiance et apologie de l’argent. De ce « paradoxe » ont émergé les questionnements relatifs à la morale et à l’éthique des affaires, au risque, et à la place de l’homme dans la société. Anthropologiquement, la répétition des crises financières, la dette abyssale, et les déchéances humaines qu’elles entraînent, réactive ce paradoxe ; et pour y faire face la société a mis en place des rites à valeur sacrificielle : c’est le prix que la société de consommation est prête à payer pour s’acquitter de sa fascination addictive pour l’argent. Vivant très au-dessus de ses moyens, la France, véritable zombie financier, est enchaînée par la dette, paralysée par ses ressources intérieures asphyxiées (entreprenariat, créativité), s’enlise dans les sables mouvants d’une société en déliquescence et en perte de repères, à la merci d’un état immoral et cupide (politique confiscatoire) en phase avec un capitalisme devenu cannibale.Until recently, money was a means but is now close to becoming the ultimate goal in our contemporary societies where collective representations of money can swing from defiance to defence. This \"paradox\" is the source of all questions relating to business morals and ethics, risk and the place of man in society. From an anthropological standpoint, the endless cycle of financial crises, colossal debts and the human degeneration they entail are constantly reactivating this paradox; and in order to face this, society has set up rituals with sacrificial undertones: this is the price that the consumer society is ready to pay to explore its addictive fascination for money. A veritable financial zombie living way beyond her means, France has become fettered in debt, paralysed through the asphyxiation of its inner resources (entrepreneurship, creativity), is sinking into the quicksands of a deliquescent society which has lost its bearings, and is at the mercy of an immoral and avaricious state (confiscatory politics) in sync with a capitalism which is cannibalistic in style.</td>\n",
       "      <td>8</td>\n",
       "    </tr>\n",
       "    <tr>\n",
       "      <th>569</th>\n",
       "      <td>La crise allemande : causes récurrentes et symptômes récents d’un malaise démocratiqueMême si l’Allemagne a su passer un premier cap décisif dans son adaptation à la mondialisation et qu’elle s’en sort globalement mieux que d’autres pays européens, des problèmes politiques, économiques et sociaux s’accumulent, et des symptômes de crise sont observables. L’image de bonne santé ne tient pas, au-delà des apparences et des indicateurs économiques positifs qui ont leur revers. Pour la viabilité du modèle comme pour la démocratie elle-même, les raisons d’être inquiet ne manquent pas.Even though Germany was able to take a decisive first step in its adaptation to globalisation and so came out better than most other European countries, political, economic and social problems are building up. Crisis symptoms are noticeable. The good health image doesn't hold up further than the appearances and some positive economic indicators which have their reverse. For the viability of the model as well as for democracy itself, there are reasons to be worried.</td>\n",
       "      <td>8</td>\n",
       "    </tr>\n",
       "    <tr>\n",
       "      <th>579</th>\n",
       "      <td>De verdad vive Puebla (Méx) una subjetividad postindustrial?\\r\\nVARIA\\r\\n\\r\\nA raíz de las transformaciones, inducidas o impuestas, que ha experimentado la economía mexicana después de la segunda postguerra y, particularmente, a partir de la prevalencia de la forma neoliberal globalizada, muchos intelectuales se han ocupado de los cambios que, como efectos o correlativamente a aquellos procesos, se dan en el campo subjetivo, tanto de los trabajadores, como de la población en su conjunto.\\r\\nAluden, en términos comparativos, a las relaciones sociales propias de cada una de las etapas del capitalismo industrial y postindustrial: el Taylorismo, el Fordismo, el Toyotismo y el Postoyotismo, etapas que sin cambiar de esencia, difieren en el tipo de psicología que aplican para incrementar la productividad, mantener la subsunción del trabajo al capital y lograr que los operarios, como los bueyes de mi compadre, estén tan a gusto con la subjetividad implantada por la empresa que hasta las coyundas son capaces de lamer; eso con independencia, o incluso con la anuencia, de sus sindicatos, que también han venido mutando–perdiendo, éstos sí, su esencia- de acuerdo con el desarrollo del capitalismo.\\r\\nSi damos por sentado que esta nueva subjetivación se observa en el mundo de las grandes empresas, la pregunta central que surge es si esa subsunción del trabajo al capital, en sus formas subjetivas, es decir, de nueva identidad, valores morales y afectos, es también extensible -y si lo es, en qué medida- al resto de la sociedad.\\r\\nLa técnica de la entrevista, aplicada a una muestra de trabajadores y personas que habitan en la ciudad de Puebla, conocida ésta como polo de desarrollo industrial, con empresas ultramodernas que aplican una filosofía toyotista, nos permitirá dar respuesta a nuestra pregunta.\\r\\n</td>\n",
       "      <td>8</td>\n",
       "    </tr>\n",
       "    <tr>\n",
       "      <th>592</th>\n",
       "      <td>Christophe Assens. Réseaux sociaux. Tous ego ? Libre ou otage du regard des autres, Bruxelles, De BoeckNOTE DE LECTURE\\r\\n\\r\\nDans la continuité de son livre, écrit en 2013, Le Management des réseaux. Tisser du lien social pour le bien-être économique, Christophe Assens « récidive » sur la même thématique, par un ouvrage au titre plus provocateur et avec une ambition plus critique et sociologisante, questionnant plus globalement un fait de société autant que des phénomènes économiques.\\r\\n</td>\n",
       "      <td>8</td>\n",
       "    </tr>\n",
       "    <tr>\n",
       "      <th>593</th>\n",
       "      <td>Démocratie et communauté politiqueDOSSIER : L'AVENIR DE LA DEMOCRATIE\\r\\n\\r\\nOn s’identifie aujourd’hui largement à la démocratie. Et pourtant, nos régimes occidentaux présentent des symptômes inquiétants. S’attaquer à ceux-ci implique préalablement une réflexion sur la communauté politique : où se situe-t-elle actuellement ? Comment envisager son évolution ?\\r\\n</td>\n",
       "      <td>8</td>\n",
       "    </tr>\n",
       "    <tr>\n",
       "      <th>595</th>\n",
       "      <td>Le rapport des élus locaux au local et au mondial : Le Traité CETA, un tournant ?DOSSIER : L'AVENIR DE LA DEMOCRATIE\\r\\n\\r\\nCet article traite du tiraillement des élus locaux entre le local et le mondial. Il s’en tient aux thématiques épinglées à ce sujet par cette Revue pour les discuter : Les difficultés rencontrées par les élus locaux sont patentes. Elles trouvent leur source à différentes échelles. Leurs conséquences s’entremêlent souvent. L’impact du mondial sur le local est épinglé par les représentants du peuple, les experts, les média et l’opinion publique. Il est incontesté, il semble incontestable. Les élus locaux comme leurs concitoyens en conviennent. Les responsables de ce changement sont identifiés. Ils font partie des nouveaux acteurs apparus sur la scène internationale \\r\\n</td>\n",
       "      <td>8</td>\n",
       "    </tr>\n",
       "    <tr>\n",
       "      <th>596</th>\n",
       "      <td>Pour une autre Europe : l'euro : un déni de démocratieDOSSIER : L'AVENIR DE LA DEMOCRATIE\\r\\n\\r\\nS’agissant de l’Europe, il n’est pas difficile de caractériser ce qui s’est construit depuis la fin de la seconde guerre mondiale. Après les désastres de la guerre, l’aspiration à la paix était générale. Pourtant, deux voies pouvaient s’ouvrir : une Europe des peuples et des cultures dans l’esprit de la conférence de Philadelphie et des orientations du Conseil National de la Résistance français ou une Europe des marchés assurant la réussite d’un capitalisme mondialisé et financiarisé. Il n’est probablement pas inutile de rappeler combien la période ouverte par la crise de 1929 au plan économique et prolongée par la deuxième guerre mondiale au plan géopolitique a ouvert des perspectives nouvelles permettant d’envisager des transformations radicales pour sortir du système capitaliste et conduire à des sociétés dans lesquelles l’homme retrouve la place centrale que lui a confisqué la marchandise.\\r\\n</td>\n",
       "      <td>8</td>\n",
       "    </tr>\n",
       "    <tr>\n",
       "      <th>598</th>\n",
       "      <td>Rousseau : le principe de séparation au fondement de l'intérêt généralDOSSIER : L'AVENIR DE LA DEMOCRATIE\\r\\n\\r\\nLes interprétations classiques de la philosophie de Rousseau se donnent le plus souvent comme objectif de saisir un principe d’unité auquel elle pourrait être ramenée. Il en va ainsi de ces exégèses qui cherchent la cohérence dans l’unique promotion de l’individu libéré des contraintes sociales ou bien, à l’inverse, dans la félicité publique d’une société réalisant la parfaite concorde de ses membres, fût-ce au péril de leur liberté naturelle. On peut voir dans ces tendances opposées l’expression d’un paradoxe\\r\\n</td>\n",
       "      <td>8</td>\n",
       "    </tr>\n",
       "    <tr>\n",
       "      <th>609</th>\n",
       "      <td>Raison et déraison des foulesDOSSIER : L'AVENIR DE LA DEMOCRATIE\\r\\n\\r\\nLa problématique des mouvements de foule, telle qu’elle se manifeste aujourd’hui dans l’essor des partis populistes en Europe et aux États-Unis ou de manière plus ou moins récurrente dans la vie politique des pays de l’hémisphère sud, redonne chaque fois une actualité au vieux débat sur la nature, les avantages et les dérives de la souveraineté populaire. Comment définir le peuple ? Peut-on se contenter de sa représentation parlementaire ? Doit-on croire tous ceux qui descendent dans la rue en prétendant parler en son nom ? Les masses invoquées par les marxistes incarnent elles vraiment la marche de l’histoire ? Ne seraient-elles pas au contraire des foules incultes et irrationnelles à l’assaut des normes légales et morales qui protègent l’ordre politique et les valeurs de civilité ? Les réflexions sur ce thème remontent aux origines de la démocratie et comprennent des débats sur le cadre institutionnel et les procédures garantissant au mieux la souveraineté du peuple.\\r\\n</td>\n",
       "      <td>8</td>\n",
       "    </tr>\n",
       "    <tr>\n",
       "      <th>611</th>\n",
       "      <td>La démocratie comme déception et comme horizonDOSSIER : L'AVENIR DE LA DEMOCRATIE\\r\\n\\r\\nLa démocratie est un régime « déceptif », absurde et incompréhensible. Il faut partir de là, au lieu, comme c’est trop souvent le cas, de finir par là. Elle ne peut que décevoir, car ses promesses sont infinies et n’ont aucune chance d’être un jour réalisées : on ne sera jamais totalement libres, ni absolument égaux, ni constamment fraternels. Elle est absurde, car comment voir la cohérence d’un régime où les gouvernants doivent suivre le peuple qu’ils sont censés diriger ? Elle est incompréhensible, car elle repose sur un fondement introuvable — le peuple — dont tout le monde se réclame, mais que personne n’a jamais rencontré. Et donc, en partant de là, le vrai sujet d’étonnement n’est pas tant que la démocratie fonctionne mal ; c’est qu’elle puisse fonctionner un peu.\\r\\n</td>\n",
       "      <td>8</td>\n",
       "    </tr>\n",
       "    <tr>\n",
       "      <th>613</th>\n",
       "      <td>La lutte pour la reconnaissanceDOSSIER : L'AVENIR DE LA DEMOCRATIE\\r\\n\\r\\nL’idée d’une réflexion sur l’actualité politique à travers le prisme de la reconnaissance est à l’origine de cet article pour tester la pertinence de ce concept perçu aujourd’hui comme circonscrit dans son sens et sa portée. Pourquoi y revenir, plus précisément, alors que de nombreuses recherches en philosophie sociale et en sociologie existent sur le sujet, et non des moindres, puisque l’impulsion en a été donnée par Hegel ? Parce qu’aujourd’hui, l’évocation du concept de reconnaissance conduit presque exclusivement à son explication par la lutte des classes comme destin pour cette notion, scellée au marxisme jusqu’à se dissoudre presqu’en lui. La problématique de la reconnaissance serait devenue désuète dans la mesure où les classes moyennes s’étant déployées, la classe ouvrière d’autrefois a perdu son identité. De plus, la démocratie, en permettant l’expression de tous les citoyens, illustrerait la reconnaissance de leur égalité et donnerait à penser que la vigilance quant au maintien de cette caractéristique est constante en démocratie.\\r\\n</td>\n",
       "      <td>8</td>\n",
       "    </tr>\n",
       "    <tr>\n",
       "      <th>617</th>\n",
       "      <td>La démocratisation de l’Union européenne, un trompe - l’œil ? De la difficulté d’être citoyen de l’Union européenneDOSSIER : L'AVENIR DE LA DEMOCRATIE\\r\\n\\r\\nL’Union européenne, par les mots utilisés et les expressions (l’eurojargon) qu’elle crée, présente une apparence trompeuse. Nombreux sont ceux qui font illusion et compliquent dès lors sa compréhension par celui qui porte le nom de citoyen de l’Union européenne avec pour conséquence la montée d’un recul vis à vis d’elle. Ce recul, malgré le discours, malgré les révisions de Traités en faveur de l’institution d’une citoyenneté européenne, ne régresse pas. Et les oppositions à l’Union européenne prennent actuellement une forme inquiétante.\\r\\n</td>\n",
       "      <td>8</td>\n",
       "    </tr>\n",
       "    <tr>\n",
       "      <th>632</th>\n",
       "      <td>Aspects de la politique d’influence de la Silver économieDOSSIER : POLITIQUE DE SANTE\\r\\n\\r\\nDepuis quelques années, notre pays s’est engagé dans un ambitieux projet politique, social et économique assez singulier, celui de bâtir une société des seniors dont un des objectifs essentiels sera de « bien- vieillir ». Cette société des seniors, aux contours flous, semblent inscrire chacun (dès l’âge de 50 ans...), dans une temporalité suspendue qui s’allonge et se rallongera toujours plus, via les progrès de la médecine (numérique, régénérative, prothétique, etc.), au point que le « senior » peut apparaitre comme le maillon manquant qui nous ferait passer de l’homme diminué à l’homme augmenté.\\r\\n</td>\n",
       "      <td>8</td>\n",
       "    </tr>\n",
       "    <tr>\n",
       "      <th>643</th>\n",
       "      <td>Critique de l’efficacité économique et politiqueVARIA\\r\\n\\r\\nL'efficacité est un terme du langage courant qui semble aller de soi. Sans préciser ce qu'il en est de cette notion, le praxéologue Kotarbinski a consacré un célèbre ouvrage au travail efficace dont nous faisons ici la critique. Nous nous attardons sur sa confusion entre action humaine et travail du fait d’une conception très élémentaire des tâches humaines. En contestant son approche très analytique nous étudions quelques cas de l'industrie ou de la vie politique dont l’ile de Nauru, pour souligner comment une certaine conception de l'efficacité à court terme aliène un dialogue sur les buts et les fins du travail ou de la politique, lui préférant cette instrumentalisation du travail humain. Cette critique de l'efficacité vise à en élargir la conception au profit de nouveaux horizons politiques. Et le rapport que l’homme entretient à ses buts et au temps y serait pour quelque chose.\\r\\n</td>\n",
       "      <td>8</td>\n",
       "    </tr>\n",
       "    <tr>\n",
       "      <th>676</th>\n",
       "      <td>Apport de l’intelligence artificielle aux pratiques d’intelligence économique : une revue de littératureLa réduction de l’incertitude est au cœur de la prise de décision chez les dirigeants d’entreprises. Or les changements constants qui s’opèrent dans l’environnement, particulièrement les avancées technologiques qui accélèrent la production massive de données, se positionnent en tant que catalyseurs de ces incertitudes. Pour y faire face, l’intelligence économique s’avère être une composante majeure dans la prise de décision stratégique vue que celle-ci permet une meilleure appréhension de l’environnement dans toute sa complexité. Par ailleurs, l’abondance de données, la prolifération des fake news, les risques informationnels sont quelques-uns des principaux enjeux de l’intelligence économique. De-là nous nous sommes donnés comme tâche à travers cette contribution de démontrer les principaux apports de l’intelligence artificielle pour endiguer ces enjeux. En s’appuyant sur la littérature actuelle qui traite les principaux concepts du sujet, à savoir l’intelligence artificielle et l’intelligence économique, nous sommes arrivés à la conclusion que les techniques d’intelligence artificielle nous permettent d’automatiser l’extraction de connaissances à des fins prédictives pouvant optimiser la prise de décision, elles participent à une meilleure protection de l’information et à la mise en œuvre de meilleures stratégies d’influence, particulièrement chez les PME internationales.\\r\\n</td>\n",
       "      <td>8</td>\n",
       "    </tr>\n",
       "    <tr>\n",
       "      <th>677</th>\n",
       "      <td>Intelligence économique et ingénierie de l’obsolescence: prédiction, performances et innovations, des destins liés. Cet article permet d’établir que la résilience à l’obsolescence, nécessite un lien étroit entre la maitrise de l’information dans son secteur (industriel et économique) et la capacité à anticiper des modifications (techniques et sectoriels). Il se veut être une analyse d’ingénierie en technologie industrielle à destination des experts en intelligence économique, dans le but de démontrer qu’il existe un nouvel axe de réflexion, permettant une meilleure performance de l’entreprise. Cette recherche s’applique à toutes les étapes du cycle de vie et fournit une matrice combinatoire permettant de relier les risques économiques aux différentes typologies d’obsolescences. Il met en évidence un nouvel axe de recherche en intelligence économique, au profit d’une meilleure gestion technologique et industrielle. Mais également, une nouvelle source de collecte permettant de prédire les évolutions de marché, de soutenir l’aide à la décision et la mise en œuvre de plan de développement stratégique.\\r\\n</td>\n",
       "      <td>8</td>\n",
       "    </tr>\n",
       "    <tr>\n",
       "      <th>700</th>\n",
       "      <td>La durabilité à l’Université et dans le monde économique : le regard des étudiantsDans ce texte, nous nous interrogeons sur la manière de mesurer la durabilité d’une organisation et « l’actionnabilité » des savoirs, savoir-faire, savoir être. Nous proposons un essai de réponse via la représentation qu’en ont les étudiants à partir du monde économique et de l’Université. \\r\\nCette recherche exploratoire est centrée sur les représentations d’étudiants de premier cycle en Administration Économique et Sociale (AES). Ces étudiants en première année de licence AES participent à une formation intitulée « Dynamique de l’entreprise » à l’Université de Bretagne Occidentale. Dans ce cadre, ils ont mené des entretiens avec des professionnels travaillant dans des organisations (entreprises, associations et administrations diverses). Ils interrogent ainsi le rapport qu’elles entretiennent avec l’idée de développement durable.\\r\\n</td>\n",
       "      <td>8</td>\n",
       "    </tr>\n",
       "    <tr>\n",
       "      <th>756</th>\n",
       "      <td>La territorialisation comme condition de durabilité des organisationsL’inscription dans un territoire (ou dans des territoires) permet à une organisation d’affronter les évolutions environnementales et culturelles, parce que l’incarnation dans un territoire permet le face-à-face. Ce face-à-face dépend des engagements personnels de chaque acteur mais il peut être facilité ou entravé par les structures et les normes existantes. Une organisation qui se fossilise devient incapable de s’adapter à des changements environnementaux ou à des contextes normatifs distincts. Au fur et à mesure que l’organisation se focalise sur des enjeux abstraits, la satisfaction concrète des diverses parties prenantes est ignorée au bénéfice d’une représentation statistique qui ne représente qu’imparfaitement des réalités déjà passées. Reconstruire le face-à-face fait éclater la représentation chiffrée car le face-à-face apporte un supplément de sens à des représentations abstraites, il rend singulier ce qui n’était qu’un concept.\\r\\n</td>\n",
       "      <td>8</td>\n",
       "    </tr>\n",
       "  </tbody>\n",
       "</table>\n",
       "</div>"
      ],
      "text/plain": [
       "                                                                                                                                                                                                                                                                                                                                                                                                                                                                                                                                                                                                                                                                                                                                                                                                                                                                                                                                                                                                                                                                                                                                                                                                                                                                                                                                                                                                                                                                                                                                                                                                                                                                                                                                                                                                                                                                                                                                                                                                                                                                                                                                                                                                                                                                                                                                                                                                                                                                                                                                                                                                                                                                                                                                                                                                                                                                                                                                                                                                                                                                                                                                                                                                                                                                                                                                                                                                                                                                                                                                                                                                                                                                                                                                                                                                                                                                                                                                                                                                                                                                                                                                                                                                                                                                                                                                                                                                                                                                                                                                                                                                                                                                                     titre  \\\n",
       "0                                                                                                                                                                                                                                                                                                                                                                                                                                                                                                                                                                                                                                                                                                                                                                                                                                                                                                                                                                                                                                                                                                                                                     Note de recherche-Le rôle de l’entrepreneuriat coopératif dans l’inclusion socioéconomique des femmes : Cas de la coopérative féminine des produits de la mer de Douira « COFEPROMER »Au niveau de la région Souss Massa, la collecte des ressources littorales essentiellement les moules, représente une des activités socioéconomiques de grande envergure. L’activité offre des revenus supplémentaires aux ménages locaux. Le nombre des femmes pratiquant cette activité varie d’un site à l’autre : Imessouane, Cap Ghir, Douira, Sidi Boulfdail... Cependant, une seule coopérative féminine COFEPROMER de Douira qui existe au niveau de la région qui assure la collecte et la valorisation des moules dans le Parc National de Souss Massa. La coopérative a comme vocation l'exploitation durable de cette ressource, l’assurance d’un revenu à même d’améliorer la situation des femmes du site Douira et la garantie de leur insertion socio-économique.\\r\\n\\r\\nL’objectif de notre article est de présenter le rôle du modèle coopératif marocain dans l’inclusion socio-économique des femmes dans le secteur de pêche, un secteur qui reste masculin et qui soulève la problématique du genre, en se basant sur une étude de cas au sein d’une coopérative féminine des produits de la mer de Douira « COFEPROMER ». Notre démarche est exploratoire basée sur un guide d’entretien administré à la responsable et les femmes membres de la coopérative pour cerner la perception des impacts socio-économiques. \\r\\n\\r\\n Les résultats obtenus à travers la présente étude montrent l’importance socio-économique des activités littorales compte tenu de sa contribution comme source de revenus supplémentaires aux familles autochtones. En effet, la présence des coopératives au niveau des zones d’exploitation pourrait aider à la diffusion de l’information, à la sensibilisation des exploitantes vis-à-vis de la préservation de la ressource et à l’amélioration de la qualité des produits transformés.\\r\\n\\r\\n \\r\\n\\r\\nIn the Souss Massa region, the collection of coastal resources, mainly mussels, represents one of the major socio-economic activities. The number of women practicing this activity varies from one site to another: Imessouane, Cap Ghir, Douira, Sidi Boulfdail ... However, only one female cooperative COFEPROMER in Douira provides the collection and the enhancement of mussels in the Souss Massa National Park. The purpose of the cooperative is to ensure the sustainable exploitation of this resource, the improvement of women’s life conditions and their socio-economic integration.\\r\\n\\r\\nThe aim of this article is to present the role of the Moroccan cooperative model in the socio-economic inclusion of women in the fishing sector, a sector which remains male oriented, based on a case study within a female cooperative. Our approach is exploratory based on an interview administered to the manager and the women working in the cooperative to identify the impact of this cooperative on the socio-economic aspects of these women.\\r\\n\\r\\nThe results obtained from this study show that the collection of mussels is considered as a source of an additional income for indigenous families. Indeed, the presence of cooperatives in operating areas could help disseminate information, raise awareness among operators regarding the preservation of the resources and improve the quality of processed products.\\r\\n\\r\\n \\r\\n\\r\\n \\r\\n   \n",
       "4                                                                                                                                                                                                                                                                                                                                                                                                                                                                                                                                                                                                                                                                                                                                                                                                                                                                                                                                                                                                                                                                                                                                                                                                                                                                                                                                                                                                                                                                                                                                                                                                                                                                                                                                                                                                                                                                                                                                                                                                                                                                                                                                                                                                                                                                                                                                                                                                                                                                                                                                                                                                                                                                                                                                                                                                                                                                                                                                                                                                                                                                                                                                                                                                                                                                                                                                                                                                                                                                                                                                                                                                           La territorialisation comme condition de durabilité des organisationsRésumé\\r\\n\\r\\nL’inscription dans un territoire (ou dans des territoires) permet à une organisation d’affronter les évolutions environnementales et culturelles, parce que l’incarnation dans un territoire permet le face-à-face. Ce face-à-face dépend des engagements personnels de chaque acteur mais il peut être facilité ou entravé par les structures et les normes existantes. Une organisation qui se fossilise devient incapable de s’adapter à des changements environnementaux ou à des contextes normatifs distincts. Au fur et à mesure que l’organisation se focalise sur des enjeux abstraits, la satisfaction concrète des diverses parties prenantes est ignorée au bénéfice d’une représentation statistique qui ne représente qu’imparfaitement des réalités déjà passées. Reconstruire le face-à-face fait éclater la représentation chiffrée car le face-à-face apporte un supplément de sens à des représentations abstraites, il rend singulier ce qui n’était qu’un concept.\\r\\n   \n",
       "87                                                           Crise politique et économique au Brésil : quelles implications pour l’enseignement des langues étrangères ?Résumé :\\r\\n\\r\\nL’apparition et/ou la consolidation d’intégrations régionales telles que le Mercosur en Amérique du Sud à partir des années 90 a marqué un tournant dans les domaines des politiques linguistiques et éducatives nationales et régionales dans le sous-continent (Garin, 2016). Ce nouveau régionalisme a suscité, au fur et à mesure, une remise en question des rôles et des espaces occupés jusqu’alors par les langues nationales, objets désormais de politiques linguistiques visant à leur promotion dans les pays voisins ayant d’autres langues officielles (Arnoux, 2010). La loi 11.161, appelée populairement « loi de l’espagnol » et approuvée en 2005 par l’ex-président du Brésil, Luis Inacio Lula Da Silva, est l’un des meilleurs exemples des actions glottopolitiques entreprises par les États sud-américains en faveur de l’intégration culturelle et linguistique de la région (Barros et al., 2016). Cette loi oblige les établissements de l’enseignement secondaire brésilien à inclure la langue espagnole dans leur offre éducative sans que son apprentissage soit pour autant obligatoire pour les étudiants. La crise politique que vit le Brésil depuis le lancement, en 2016, de la procédure de destitution de la présidente Dilma Rousseff, et la subséquente arrivée au pouvoir de Michel Temer ne seront pas sans conséquences pour l’enseignement des langues étrangères. L’une des premières mesures adoptées par le nouveau président sera l’abrogation de la loi de l’espagnol, en février 2017, dans le cadre d’une réforme générale de l’enseignement secondaire brésilien. Cette décision qui promeut l’apprentissage exclusif de l’anglais au détriment d’une politique de plurilinguisme constitue un clair pas en arrière pour l’intégration régionale et s’inscrit nettement dans une logique néolibérale de sacralisation de l’uniformité et de l’unicité (Léonard, 2016). Dans cette contribution, nous nous proposons d’analyser les réactions suscitées par ces mesures chez les acteurs de l’enseignement et de la promotion de l’espagnol au Brésil et particulièrement chez les associations d’enseignants d’espagnol du pays.\\r\\n\\r\\nMots-clés : Brésil, crise politique, langue espagnole, enseignement des langues étrangères, réformes éducatives, intégrations régionales\\r\\n\\r\\nAbstract :\\r\\n\\r\\nThe emergence and/or consolidation of regional integrations such as Mercosur in South America from the 1990s onwards marked a turning point in national and regional language and education policies in the sub-continent (Garin, 2016). This new regionalism has gradually led to a reconsideration of the roles and spaces previously occupied by national languages, which are now the subject of language policies aimed at promoting them in neighbouring countries with other official languages (Arnoux, 2010). Law 11.161, popularly known as the \"Spanish Law\" and approved in 2005 by the former President of Brazil, Luis Inacio Lula Da Silva, is one of the best examples of the glottopolitical actions undertaken by South American states in favour of cultural and linguistic integration in the region (Barros et al., 2016). This law obliges Brazilian secondary schools to include the Spanish language in their educational offer without making it compulsory for students to learn it. The political crisis that Brazil has been experiencing since the launch in 2016 of the process to remove President Dilma Rousseff from office, and the subsequent rise to power of Michel Temer, will not be without consequences for foreign language education. One of the first measures adopted by the new president will be the repeal of the Spanish language law in February 2017, as part of a general reform of Brazilian secondary education. This decision, which promotes the exclusive learning of English at the expense of a policy of plurilingualism, is a clear step backwards for regional integration and is clearly in line with a neo-liberal logic of sacralizing uniformity and uniqueness (Léonard, 2016). In this contribution, we propose to analyze the reactions provoked by these measures among those involved in the teaching and promotion of Spanish in Brazil, and particularly among the country's Spanish teachers' associations.\\r\\n\\r\\nKeywords : Brazil, political crisis, Spanish language, teaching of foreign languages, educational reforms, regional integrations.\\r\\n   \n",
       "200                                                                                                                                                                                                                                                                                                                                                                                                                                                                                                                                                                                                                                                                                                                                                                                                                                                                                                                                                                                                                                                                                                                                                                                                                                                                                                                                                                                                                                                                                                                                                                                                                                                                                                                                                                                                                                                                                                                                                                                                                                                                                                                                                                                                                                                                                                                                                                                                                                                                                                                                                                                                                                                                                                                                                                                                                                                                                                                                                                                                                                                                                                                                                                                                                                                                                                                                                                                                                                                                                                                                                                                                                                                                                                                                                                                                                                                                                                                                                                                                                                                                                           S’il y a une canaille révoltiste, eh bien j’en suis et heureux d’en être ! Portrait du révoltiste Miguel Abensour en démocrate insurgeantSous le nom de «démocratie insurgeante», Miguel Abensour, porté par une relecture puissante et politique de Marx et du nouvel esprit utopique, s’inscrivant dans le sillage de la réflexion de Claude Lefort sur la «démocratie sauvage» et aux côtés de celle d’Ernesto Laclau et Chantal Mouffe sur la «démocratie radicale», a dessiné les contours d’une conception de la démocratie qui met la révolte – une double révolte – en son cœur.\\r\\n   \n",
       "201                                                                                                                                                                                                                                                                                                                                                                                                                                                                                                                                                                                                                                                                                                                                                                                                                                                                                                                                                                                                                                                                                                                                                                                                                                                                                                                                                                                                                                                                                                                                                                                                                                                                                                                                                                                                                                                                                                                                                                                                                                                                                                                                                                                                                                                                                                                                                                                                                                                                                                                                                                                                                                                                                                                                                                                                                                                                                                                                                                                                                                                                                                                                                                                                                                                                                                                                                                                                                                                                                                                                                                                                                                                                                                                         Impact du régime de la vérité liquide et économie de l’opinion au sein des mouvements sociaux contemporains. L’exemple du mouvement des Gilets Jaunes«Ne parlez pas de \"répression\" ou de \"violences policières\", ces mots sont inacceptables dans un État de droit. [...] Vous me parlez de répression, je vous dis que c'est faux», Emmanuel Macron, le 07 mars 2019, Gréoux-les-Bains. \\r\\n\\r\\nCette formule provocatrice d'E. Macron, interpelle. Si elle se doit d'être replacée dans le contexte où elle est prononcée - presque quatre mois après le début du mouvement social des Gilets Jaunes - elle questionne notamment sur les choix en matière de communication ainsi que le rapport entre la vérité et le pouvoir en place en période de mouvement social. En effet, à la date où elle est prononcée, 483 cas de violences policières sont recensés, dont 202 blessures à la tête, 21 personnes énuclées, 5 mains arrachées et un homicide.\\r\\n   \n",
       "206                                                                                                                                                                                                                                                                                                                                                                                                                                                                                                                                                                                                                                                                                                                                                                                                                                                                                                                                                                                                                                                                                                                                                                                                                                                                                                                                                                                                                                                                                                                                                                                                                                                                                                                                                                                                                                                                                                                                                                                                                                                                                                                                                                                                                                                                                                                                                                                                                                                                                                                                                                                                                                                                                                                                                                                                                                                                                                                                                                                                                                                                                                                                                                                                                                                                                                                                                                                                                                                                                                                                                                                                                                                                                                                                                                                                                                                                                                                                                  L’accès à l’alimentation durable pour tous : l’expérience d’un module de formation pour des étudiants en travail socialLe dispositif d’aide alimentaire est mal connu par les travailleurs sociaux tant en France qu’en Europe. Peu d’entre eux, qu’ils officient dans le secteur public ou caritatif, n’ont conscience qu’ils sont les prescripteurs d’une aide sociale qui participe à l’appauvrissement d’une partie de la population. \\r\\n\\r\\nDans cet article nous aborderons les notions nécessaires à la compréhension des enjeux sociaux de l’accès à l’alimentation durable et nous évoquerons les effets produits auprès d’étudiantes en travail social une fois qu’elles ont pu accéder à ces connaissances nouvelles.\\r\\n   \n",
       "207                                                                                                                                                                                                                                                                                                                                                                                                                                                                                                                                                                                                                                                                                                                                                                                                                                                                                                                                                                                                                                                                                                                                                                                                                                                                                                                                                                                                                                                                                                                                                                                                                                                                                                                                                                                                                                                                                                                                                                                                                                                                                                                                                                                                                                                                                                                                                                                                                                                                                                                                                                                                                                                                                                                                                                                                                                                                                                                                                                                                                                                                                                                                                                                                                                                                                                                                                                                                                                                                                                                                                                                                                                                                                                                                                                                             Travail social et souveraineté alimentaireFace aux différents niveaux de crises (économique, sociale, démocratique, du sens…) qui laissent un nombre croissant de personnes dans des situations insoutenables,  le travail social doit et peut se situer en médiateur et en tiers facilitateur pour créer des dynamiques locales n’excluant pas les personnes habituellement écartées des espaces démocratiques de parole. \\r\\n\\r\\nAu travers d’une recherche action intitulée « Pour une nouvelle gouvernance de l’urgence et de l’entraide alimentaire sur l’agglomération caennaise», des acteurs font le pari de la co-construction de ce qui devient progressivement un véritable projet économique et politique de territoire. Ils vont se fédérer au sein d’une association : Act’terre solidaire et constituer un espace laboratoire au service des composantes du territoire.\\r\\n   \n",
       "219                                                                                                                                                                                                                                                                                                                                                                                                                                                                                                                                                                                                                                                                                                                                                                                                                                                                                                                                                                                                                                                                                                                                                                                                                                                                                                                                                                                                                                                                                                                                                                                                                                                                                                                                                                                                                                                                                                                                                                                                                                                                                                                                                                                                                                                                                                                                                                                                                                                                                                                                                                                                                                                                                                                                                                                                                                                                                                                                                                                                                                                                                                                                                                                                                                                                                                                                                                                                                                                                                                                                                                                                                                                                                                                                                                                                                                                                                                                        De la nécessité éthique face à  l’obsolescence de l’homme au monde du travailRésumé : Le changement est au cœur des entreprises aujourd’hui, plus que jamais ancré dans les organisations du travail qui fonctionnement en mode projet. Face à ces changements organisationnels, notre réflexion éthique émerge du ressenti exprimé par des salariés confrontés aux projets. L’homme est comme dépassé, obsolescent, de ces discours imprégnés d’une urgence économique et technologique. Cette réflexion tend à montrer qu’il existe comme une obligation de repenser à nouveau à travers un cheminement éthique pour redonner à l’homme une considération dans son environnement et s’extraire de cette obsolescence dans laquelle il pourrait succomber.\\r\\n   \n",
       "246                                                                                                                                                                                                                                                                                                                                                                                                                                                                                                                                                                                                                                                                                                                                                                                                                                                                                                                                                                                                                                                                                                                                                                                                                                                                                                                                                                                                                                                                                                                                                                                                                                                                                                                                                                                                                                                                                                                                                                                                                                                                                                                                                                                                                                                                                                                                                                                                                                                                                                                                                                                                                                                                                                                                                                                                                                                                                                                                                                                                                                                                                                                                                                                                                                                                                                                                                                                                                                                                                                                                                                                                                                                                                                                                                                                                                                                                                     Le roman Cordiali saluti d’Andrea Bajani : le care comme besoin de reconnaître la fragilité des travailleurs précairesCet article se propose d’éclairer, à partir de l’œuvre d’Andrea Bajani et en particulier son roman Cordiali saluti (2005), la nécessaire reconnaissance de la fragilité des travailleurs dans un contexte socio-économique qui ne cesse de faire violence aux individus. Ce roman explore la condition des travailleurs précaires d’aujourd’hui, qui n’ont aucune certitude quant à leur avenir professionnel et qui vivent constamment avec la peur d’être licenciés. Ainsi, le geste d’écriture de Bajani devient un geste de care, car l’auteur dénonce comment les logiques néolibérales s’immiscent aussi bien dans la sphère du travail que dans la sphère privée.\\r\\n   \n",
       "272                                                                                                                                                                                                                                                                                                                                                                                                                                                                                                                                                                                                                                                                                                                                                                                                                                                                                                                                                                                                                                                                                                                                                                                                                                                                                                                                                                                                                                                                                                                                                                                                                                                                                                                                                                                                                                                                                                                                                                                                                                                                                                                                                                                                                                                                                                                                                                                                                                                                                                                                                                                                                                                                                                                                                                                                                                                                                                                                                                                                                                                                                                                                                                                                                                                                                                                                                                                                                                                                                                                                                   La guerre de Corée, ou comment périodiser une guerre civile inter-étatiqueLa guerre de Corée est traditionnellement limitée à la séquence 1950-1953. Pourtant, les racines du conflit tiennent à l’établissement, en 1948, de deux États coréens revendiquant une même légitimité sur la totalité de la péninsule. Si la guerre conventionnelle commence le 25 juin 1950, les tensions commencent réellement à partir de 1948 ou même, sous certains aspects, dès 1947. Insurrections régionales, conflits frontaliers, attentats politiques, grèves et apparition de maquis sont les éléments constitutifs d’une guerre civile coréenne quelque peu occultée par l’internationalisation du conflit à partir de juillet 1950. D’autre part, si l’armistice du 27 juillet 1953 a mis fin à ce que certains ont appelé « une guerre chaude », les tensions se sont succédé sous différentes phases le long du 38e parallèle. Échanges de tirs et incidents de frontière ont plus récemment dessiné les contours plus flous d’une « seconde guerre de Corée » tandis que certains auteurs préfèrent parler de « guerre inachevée ».\\r\\n   \n",
       "277                                                                                                                                                                                                                                                                                                                                                                                                                                                                                                                                                                                                                                                                                                                                                                                                                                                                                                                                                                                                                                                                                                                                                                                                                                                                                                                                                                                                                                                                                                                                                                                                                                                                                                                                                                                                                                                                                                                                                                                                                                                                                                                                                                                                                                                                                                                                                                                                                                                                                                                                                                                                                                                                                                                                                                                                                                                                                                                                                                                                                                                                                                                                                                                                                                                                  Les marches de la mort et la phase finale du génocide naziPeu étudiées dans leur spécificité historique, les marches de la mort ne peuvent être assimilées au génocide des juifs. Dans les derniers mois d'existence du système nazi, les détenus des camps formèrent une population très hétérogène et complexe qui fusionna, et au sein de laquelle les juifs ne représentaient plus qu'un groupe important. La désorganisation administrative et l'incohérence des instructions données par Himmler conférèrent un rôle-clé aux autorités locales dans les préparatifs et le déroulement de l'évacuation des camps. Les escortes constituées d'éléments disparates, pas forcément SS, mais travaillés douze ans durant par la propagande, considéraient les détenus  comme une entité collective menaçante et déshumanisée. Les meurtriers décidaient seuls du moment de passer à l’acte, selon un calcul combinant l'utilité, l'efficacité et les opportunités. Jamais au cours du génocide planifié et bureaucratique un tel pouvoir ne fut placé entre les mains d'autant d'individus.\\r\\n\\r\\nLa version originale de cet article, « The Death Marches and the Final Phase of Nazi Genocide », a été été publié dans l'ouvrage suivant : Jane Caplan, Nikolaus Wachsmann (éds), Concentration Camps in Nazi Germany : The New Histories, Londres, Routledge, 2009. Traduit de l’anglais par Damien Lescure.\\r\\n   \n",
       "278                                                                                                                                                                                                                                                                                                                                                                                                                                                                                                                                                                                                                                                                                                                                                                                                                                                                                                                                                                                                                                                                                                                                                                                                                                                                                                                                                                                                                                                                                                                                                                                                                                                                                                                                                                                                                                                                                                                                                                                                                                                                                                                                                                                                                                                                                                                                                                                                                                                                                                                                                                                                                                                                                                                                                                                                                                                                                                                                                                               L’évacuation du camp de Neuengamme et de ses Kommandos au printemps 1945Le camp de Neuengamme est le seul camp principal entièrement évacué à la fin de la guerre. C'est pourquoi il ne fut pas rattaché aux images connues des horreurs d’autres camps, aussi bien pour les libérateurs que pour le grand public. La phase d’évacuation de Neuengamme et de ses plus de 85 Kommandos dans le nord-ouest de l’Allemagne ne représente qu’une courte période dans l’histoire du camp qui eut six ans et demi d'existence. Pendant six semaines environ, de fin mars à début mai 1945, de multiples évènements se déroulèrent parallèlement : la SS fit errer des dizaines de milliers de détenus à pied sur les routes et en train dans le nord de l’Allemagne, la Croix-Rouge suédoise parvint à libérer des milliers de détenus scandinaves à Neuengamme, tandis que des détenus étaient assassinés en grand nombre pour empêcher leur libération par les Alliés. Au-delà d’une chronologie des faits, cet article présente une structure de l’évacuation de l’ensemble des camps de Neuengamme ainsi qu’un aperçu du rôle qu’y ont joué les différentes instances locales et régionales, et les facteurs qui ont influencé leurs marges de manœuvre.\\r\\n\\r\\nCette contribution est une version abrégée et revue de Detlef Garbe, « Die Räumung der Konzentrationslager in Norddeutschland und die deutsche Gesellschaft bei Kriegsende », in Oliver von Wrochem (éd.), Das KZ Neuengamme und seine Außenlager : Geschichte, Nachgeschichte, Erinnerung, Bildung, Berlin, Metropol, 2010, pp. 111-135. Traduit par Christine Eckel (Helmut-Schmidt-Universität Hamburg/KZ-Gedenkstätte Neuengamme).\\r\\n   \n",
       "284                                                                                                                                                                                                                                                                                                                                                                                                                                                                                                                                                                                                                                                                                                                                                                                                                                                                                                                                                                                                                                                                                                                                                                                                                                                                                                                                                                                                                                                                                                                                                                                                                                                                                                                                                                                                                                                                                                                                                                                                                                                                                                                                                                                                                                                                                                                                                                                                                                                                                                                                                                                                                                                                                                                                                                                                                                                                                                                                                                                                                                                                                                                                                                                                                                                                                                                                                                                                                                                                                                                                                                                                                                             Le camp, institution symbolique de l’état d’exception ?Sur la base de recherches récentes menées sur l’encadrement normatif de la détention concentrationnaire, l’article discute l’analyse spéculative du camp proposée par Giorgio Agamben.\\r\\n\\r\\n1. Contrairement à ce que soutient Agamben, le camp a un fonctionnement interne régi par le droit normal. Son régime disciplinaire est ainsi fortement inspiré par le droit normal militaire et carcéral. Dans le domaine du travail forcé, le droit normal s’applique même parfois directement aux détenus.\\r\\n\\r\\n2. Le camp n’est donc pas un espace où règne l’exception, dans lequel la vie nue du détenu est opprimée sans médiation. Au contraire, c’est l’application quotidienne d’un encadrement normatif précis qui caractérise l’enfer concentrationnaire.\\r\\n\\r\\nCela explique en partie pourquoi les différents acteurs, croyant leurs actes fondés et justifiés par cet encadrement normatif d’allure pseudo-juridique, participèrent au fonctionnement des camps.\\r\\n   \n",
       "286                                                                                                                                                                                                                                                                                                                                                                                                                                                                                                                                                                                                                                                                                                                                                                                                                                                                                                                                                                                                                                                                                                                                                                                                                                                                                                                                                                                                                                                                                                                                                                                                                                                                                                                                                                                                                                                                                                                                                                                                                                                                                                                                                                                                                                                                                                                                                                                                                                                                                                                                                                                                                                                                                                                                                                                                                                                                                                                                                                                                                                                                                                                                                                                                                                                                                                                                                                                                                                                                                                                                                                                                                                                                                                                                                   Biopolitique et état d’exceptionLes travaux de Giorgio Agamben sont aujourd’hui incontournables s’agissant de réfléchir aux enjeux soulevés par les situations d’état d’exception dans les démocraties contemporaines. De manière assez surprenante, ils contiennent une importante référence au thème foucaldien de la « biopolitique ». À partir d’Agamben et de Foucault, il s’agira dans cet article de prendre au sérieux l’hypothèse suivant laquelle une forme d’exception est en jeu dans la biopolitique. En confrontant la « bio-souveraineté » d’Agamben à la biopolitique de Foucault, ce sont finalement deux régimes d’exception liés au biopouvoir qui se dessinent. Si elles ont en commun de suspendre leur rapport à la loi et au droit, la biopolitique souveraine et la biopolitique gouvernementale le font sous des modalités différentes qui posent des défis spécifiques aux démocraties contemporaines.\\r\\n   \n",
       "290                                                                                                                                                                                                                                                                                                                                                                                                                                                                                                                                                                                                                                                                                                                                                                                                                                                                                                                                                                                                                                                                                                                                                                                                                                                                                                                                                                                                                                                                                                                                                                                                                                                                                                                                                                                                                                                                                                                                                                                                                                                                                                                                                                                                                                                                                                                                                                                                                                                                                                                                                                                                                                                                                                                                                                                                                                                                                                                                                                                                                                                                                                                                                                      L’état d’exception dans la pratique et la jurisprudence constitutionnelle grecqueSelon le Conseil d’État grec, la crise financière ne constitue pas une situation de nécessité qui justifierait des dérogations aux règles constitutionnelles. Les mesures d'austérité n’échappent pas au contrôle juridictionnel, même si est reconnu un large pouvoir discrétionnaire du législateur en la matière. Cependant, certaines catégories de décisions étatiques échappent au contrôle juridictionnel. Tout d’abord, le Conseil d’État se refuse de vérifier l’existence des « cas exceptionnels d’une nécessité extrêmement urgente et imprévue » qui justifieraient l’édiction de la législation gouvernementale sans habilitation parlementaire. Les gouvernements grecs peuvent ainsi légiférer en dehors de la publicité parlementaire. En outre, le Conseil évite de vérifier l’existence des circonstances exceptionnelles qui justifieraient la réquisition de travail – laquelle aboutit pratiquement à l’interdiction de la grève. Les gouvernements peuvent ainsi restreindre effectivement la réaction sociale. Cela peut être considéré comme une exception « partielle », qui n’est pas proclamée mais imposée de manière implicite et incidente, et qui affecte plutôt les libertés collectives et démocratiques que les droits civils, économiques et sociaux. \\r\\n\\r\\nMes remerciements vont à Mme Vasiliki Kapsali, M. Yannis Thanassekos et M. Tristan Storme, pour leurs observations utiles.\\r\\n   \n",
       "291                                                                                                                                                                                                                                                                                                                                                                                                                                                                                                                                                                                                                                                                                                                                                                                                                                                                                                                                                                                                                                                                                                                                                                                                                                                                                                                                                                                                                                                                                                                                                                                                                                                                                                                                                                                                                                                                                                                                                                                                                                                                                                                                                                                                                                                                                                                                                                                                                                                                                                                                                                                                                                                                                                                                                                                                                                                                                                                                                                 Crise européenne, démocratie et souverainetéEntretien réalisé par Tristan Storme et Yannis Thanassekos, à Bruxelles, le 20 février 2015.\\r\\n\\r\\n \\r\\n\\r\\n \\r\\n\\r\\nJean-Marc Ferry est philosophe, professeur honoraire de sciences politiques et de philosophie morale à l’université libre de Bruxelles, et titulaire de la chaire de philosophie de l’Europe de l’université de Nantes. La question européenne occupe une place privilégiée dans son œuvre philosophique. On lui doit notamment La Question de l’État européen (Gallimard, 2000), Europe, la voie kantienne. Essai sur l’identité postnationale (Cerf, 2005), ou encore La République crépusculaire (Cerf, 2010).\\r\\n\\r\\nLe début d’année 2015 a été marqué par deux événements majeurs dont le traitement médiatique et académique a eu partie liée avec la thématique de l’« exception » : les attentats qui ont endeuillé la France les 7 et 9 janvier derniers, ainsi que le triomphe de Syriza aux dernières élections législatives grecques. Quelques jours après ces événements, en février, M. Ferry a gentiment accepté d’évoquer pour nous cette actualité brûlante, à travers une réflexion plus large sur la situation de notre État de droit démocratique. Qu’en est-il de la démocratie européenne, à l’heure où le règlement de la crise grecque par la « Troïka » participe de dérives « postdémocratiques » non négligeables ? Qu’en est-il de l’État de droit libéral devant les mesures prises en urgence par nos gouvernements confrontés à la crise européenne – économique et financière – et à la « menace terroriste » ? L’exception est-elle un concept adéquat pour apprécier ce contexte politique qui est le nôtre ?\\r\\n   \n",
       "292                                                                                                                                                                                                                                                                                                                                                                                                                                                                                                                                                                                                                                                                                                                                                                                                                                                                                                                                                                                                                                                                                                                                                                                                                                                                                                                                                                                                                                                                                                                                                                                                                                                                                                                                                                                                                                                                                                                                                                                                                                                                                                                                                                                                                                                                                                                                                                                                                                                                                                                                                                                                                                                                                                                                                                                                                                                                                                                                                                                                                                                                                                                                                                                                                                                                                                                                                                       Dexia, un coup d’État permanentEn sauvant les institutions financières privées de la faillite, l’État belge a vu sa dette fortement augmenter. Ces sauvetages ont pris deux formes : la recapitalisation financière et l’octroi de garanties d’État pour couvrir leurs dettes. La garantie de l’État belge sur les dettes de Dexia SA (surnommée « bad bank ») a fait l’objet de deux recours devant le Conseil d’État introduits par trois associations et deux députées. Ensemble, ils demandent l’annulation de cette garantie au motif que les actes pris par l’exécutif pour l’accorder sont illégaux. Les enjeux autour de l’annulation de cette garantie sont multiples : économiques, sociaux, politiques, et touchent aux fondements mêmes de la démocratie représentative. Dans la première partie de ce texte, l’auteur revient sur les différentes étapes du naufrage du groupe Dexia et sur l’adoption des deux arrêtés relatifs à la garantie d’État attaquée en justice. Dans la deuxième partie, il explique en quoi ce cas Dexia constitue un véritable coup d’État contre le pouvoir législatif et judiciaire. Dans la troisième partie, il donne des perspectives juridiques et politiques en abordant notamment l’audit citoyen de la dette et le contrôle citoyen du secteur bancaire. \\r\\n   \n",
       "293                                                                                                                                                                                                                                                                                                                                                                                                                                                                                                                                                                                                                                                                                                                                                                                                                                                                                                                                                                                                                                                                                                                                                                                                                                                                                                                                                                                                                                                                                                                                                                                                                                                                                                                                                                                                                                                                                                                                                                                                                                                                                                                                                                                                                                                                                                                                                                                                                                                                                                                                                                                                                                                                                                                                                                                                                                                                                                                                                                                                                                                                                                                                                                                                                                                                                                                                                                                      État d’exception, démocratie directe, exception démocratique : le cas suisseAprès une multiplication des écarts à la procédure constitutionnelle durant les deux conflits mondiaux, la Suisse a vu sa population se mobiliser et recourir à un instrument de démocratie directe pour réclamer la sortie de cet état d’exception. En septembre 1949, l’initiative populaire « Retour à la démocratie directe » est ainsi acceptée par le peuple et les Cantons et contribue à mettre fin à l’expérience suisse la plus récente du régime d’exception. Ce cas nous permet-il de réfuter l’hypothèse de l’extension infinie du droit d’exception qui, selon Agamben, témoigne que le « paradigme biopolitique de l’Occident est aujourd’hui le camp et non pas la cité » (Agamben 1997, 179) et d’affirmer qu’il existe une voie de sortie démocratique à la velléité de construction de l’État d’exception permanent ? Dans le présent article, nous montrons que, si le droit d’initiative garanti par le modèle démocratique direct suisse obvie à la construction du « camp comme nomos de la modernité » (Agamben 1997, 179), il permet au peuple conçu comme souverain de porter lui-même atteinte aux fondamentaux de la démocratie, introduisant une forme d’« exception démocratique ».\\r\\n   \n",
       "296                                                                                                                                                                                                                                                                                                                                                                                                                                                                                                                                                                                                                                                                                                                                                                                                                                                                                                                                                                                                                                                                                                                                                                                                                                                                                                                                                                                                                                                                                                                                                                                                                                                                                                                                                                                                                                                                                                                                                                                                                                                                                                                                                                                                                                                                                                                                                                                                                                                                                                                                                                                                                                                                                                                                                                                                                                                                                                                                                                                                                                                                                                                                                                                                                                                                                                                                                                                                                                                                                                                                                                Dix ans de construction critique du témoignage combattant : de Georges Duhamel (1920) à Jean Norton Cru (1929)Entre 1914 et 1918, près de 340 témoignages de combattants sont édités en France. Certains connaissent une notoriété immédiate de la part des contemporains ou des critiques. Il faut néanmoins attendre la sortie de la guerre pour voir cette littérature être l’objet d’une tentative de théorisation et de classement. Georges Duhamel est le premier à tenter de définir la littérature de témoignage, peu avant qu’Albert Schinz ne s’intéresse à la valeur esthétique et documentaire des récits de guerre. Proposant à la fin de son ouvrage un classement, Albert Schinz préfigure en cela la partie du travail de Norton Cru qui fit tant polémique à la publication de Témoins en 1929. Dix ans après la fin de la guerre, au moment où la première mise en mémoire du conflit s’effectue dans la société française, Jean Norton Cru publie son étude critique, s’appuyant sur une méthode originale qui mêle à la fois approche scientifique et intervention de son expérience de guerre.\\r\\n   \n",
       "302                                                                                                                                                                                                                                                                                                                                                                                                                                                                                                                                                                                                                                                                                                                                                                                                                                                                                                                                                                                                                                                                                                                                                                                                                                                                                                                                                                                                                                                                                                                                                                                                                                                                                                                                                                                                                                                                                                                                                                                                                                                                                                                                                                                                                                                                                                                                                                                                                                                                                                                                                                                                                                                                                                                                                                                                                                                                                                                                                                                                                                                                                                                                                                                                                                                                                                                                                                                                                                                                                                                                                                                                                                                                                                                         Annexe 1James Shotwell, professeur d'histoire des relations internationales à l'Université de Columbia devient à la veille de l'entrée en guerre des États-Unis (1917) le directeur de la recherche à la Fondation Carnegie pour la Paix. Après avoir fait partie de la délégation états-unienne présente à la Conférence de la Paix de Paris, il devient pour la Fondation Carnegie le responsable éditorial d'une très importante série de monographies consacrées à l'impact de la Première Guerre mondiale sur la vie économique et sociale des nations touchées par la guerre. C'est dans cette prestigieuse collection que Shotwell avait projeté de publier ce qui allait devenir Témoins. Shotwell fut le principal soutien de Jean Norton Cru jusqu'au rejet de Témoins par le comité parisien de la Fondation. \\r\\n\\r\\nNous publions dans ce dossier deux lettres dans lesquelles Shotwell donne son appréciation du travail de Jean Norton Cru.\\r\\n   \n",
       "308                                                                                                                                                                                                                                                                                                                                                                                                                                                                                                                                                                                                                                                                                                                                                                                                                                                                                                                                                                                                                                                                                                                                                                                                                                                                                                                                                                                                                                                                                                                                                                                                                                                                                                                                                                                                                                                                                                                                                                                                                                                                                                                                                                                                                                                                                                                                                                                                                                                                                                                                                                                                                                                                                                                                                                                                                                                                                                                                                                                                                                                                                                                                                                                                                                                                                                                                                                                                                                                                                                                                                                                                                                                                                               Le Cône sud de l’Amérique latine, théâtre de crimes de masse planifiés (1973-1990)Dans le cadre de la Guerre froide, le Cône sud de l’Amérique latine a été le théâtre, entre 1973 et 1990, année du début de la transition chilienne vers la démocratie, de crimes de masse. Des dizaines de milliers de personnes ont été torturées, exécutées et bannies de leur pays pour des raisons essentiellement politiques. En ce sens, la doctrine de sécurité nationale appliquée contre les mouvements de guérilla a été sans pitié, et si ces dictatures militaires ne sont pas des actes isolés dans l’histoire du Cône sud*, replacées dans le contexte des années 1970, elles prennent une coloration particulière.\\r\\n\\r\\n \\r\\n\\r\\n* Le terme Cône sud ne répond pas à un espace géographique déterminé et ses limites sont variables selon les auteurs. Néanmoins, nous retenons communément comme pays le composant l'Argentine, le Brésil, le Paraguay, le Chili et l'Uruguay.]\\r\\n   \n",
       "323                                                                                                                                                                                                                                                                                                                                                                                                                                                                                                                                                                                                                                                                                                                                                                                                                                                                                                                                                                                                                                                                                                                                                                                                                                                                                                                                                                                                                                                                                                                                                                                                                                                                                                                                                                                                                                                                                                                                                                                                                                                                                                                                                                                                                                                                                                                                                                                                                                                                                                                                                                                                                                                                                                                                                                                                                                                                                                                                                                                                                                                                                                                                                                                                                                                                                                                                                                                                                                                                                                                                                                            Le Sicherungslager SchirmeckCamp peu connu – en comparaison du camp de concentration de Natzweiler tout proche –, Schirmeck est pourtant au cœur des politiques répressives à l’œuvre en Alsace et en Moselle annexées. Créé à l’initiative du Gauleiter Robert Wagner, ce camp devient l’instrument privilégié pour « mettre au pas » les récalcitrants à la politique de germanisation et de nazification. Schirmeck cumule ainsi les fonctions répressives entre 1940 et 1944 : camp d’internement et de rééducation, annexe des prisons d’Alsace, camp de rééducation par le travail (AEL), outil de pression pour les réfractaires aux mesures d’incorporation, lieu de transit avant les camps de concentration. En parallèle, il occupe une place non négligeable dans la répression mise en œuvre en zone occupée, que ce soit lors de la destruction du réseau Alliance ou au moment des opérations « terroristes » menées par les Kommandos de la Sipo et des unités de la Wehrmacht à l’automne 1944 dans les départements vosgiens. Au total, de 10 000 à 15 000 détenus y sont incarcérés.\\r\\n   \n",
       "324                                                                                                                                                                                                                                                                                                                                                                                                                                                                                                                                                                                                                                                                                                                                                                                                                                                                                                                                                                                                                                                                                                                                                                                                                                                                                                                                                                                                                                                                                                                                                                                                                                                                                                                                                                                                                                                                                                                                                                                                                                                                                                                                                                                                                                                                                                                                                                                                                                                                                                                                                                                                                                                                                                                                                                                                                                                                                                                                                                                                                                                                                                                                                                                                                                                                                                                                                                                                                                                                          Sur les traces du procédé Hollerith, dans les archives du KL MauthausenAu tout début du XXe siècle, Herman Hollerith, un Américain d’origine allemande, fonde l’International Business Machines (IBM). La Dehomag, filiale allemande de la firme créée en 1934, fournira, quelques années plus tard, trieuses et cartes perforées aux nazis afin de faciliter la gestion des effectifs concentrationnaires. Les archives largement préservées du camp de Mauthausen portent les traces de l’utilisation du procédé mécanographique par l’administration du KL autrichien. à partir de 1944 tout au moins, les caractéristiques sociologiques des détenus sont scrupuleusement enregistrées et codées, de même que le profil de ces ennemis du Reich et chaque étape de leurs parcours concentrationnaires. L’anonymisation apparente des hommes dissimulait une individualisation extrême permettant, sur un plan répressif, d’identifier et de localiser à tout moment les adversaires de l’Allemagne nazie et, sur un plan économique, d’optimiser la corrélation entre les besoins des entreprises bénéficiant de la main-d’œuvre concentrationnaire et les compétences disponibles parmi les détenus.\\r\\n   \n",
       "325                                                                                                                                                                                                                                                                                                                                                                                                                                                                                                                                                                                                                                                                                                                                                                                                                                                                                                                                                                                                                                                                                                                                                                                                                                                                                                                                                                                                                                                                                                                                                                                                                                                                                                                                                                                                                                                                                                                                                                                                                                                                                                                                                                                                                                                                                                                                                                                                                                                                                                                                                                                                                                                                                                                                                                                                                                                                                                                                                                                                                                                                                                                                                                                                                                                                                                                                                            L’élimination des inaptes au travail forcé : les trois convois de victimes de Dora en 1944Avec la multiplication des kommandos extérieurs de travail dépendant des principaux camps de concentration, la gestion des détenus malades, blessés et invalides pose rapidement d’importants problèmes à l’administration SS. Dans les camps, sans que l’on soit sûr de l’origine de ce mot, on appelle un détenu à bout de forces, incapable de réagir et proche de la mort, un « musulman ». Dans les mois qui suivaient la création d’un kommando, en attendant que soient créées des structures adéquates (Revier et crématoire notamment), ils étaient renvoyés au camp central. Toutefois, dans certains camps, face au nombre grandissant de personnes concernées, il est décidé de former des transports vers d’autres camps, en fait des mouroirs. Le détenu était devenu inutile, « rebut », il était sorti du système, « jeté » dans un endroit où sa mort ne poserait plus de problème. C’est ce qui arrive à plusieurs milliers de détenus de Dora, transférés en trois convois entre janvier et mars 1944. Ils sont le symbole de l’évolution d’un système concentrationnaire où, désormais, l’élimination n’est plus seulement le résultat d’un statut d’ennemi du Reich, mais d’une incapacité à travailler.\\r\\n   \n",
       "326                                                                                                                                                                                                                                                                                                                                                                                                                                                                                                                                                                                                                                                                                                                                                                                                                                                                                                                                                                                                                                                                                                                                                                                                                                                                                                                                                                                                                                                                                                                                                                                                                                                                                                                                                                                                                                                                                                                                                                                                                                                                                                                                                                                                                                                                                                                                                                                                                                                                                                                                                                                                                                                                                                                                                                                                                                                                                                                                                                                                                                                                                                                                                                                                                                                                                                                                                                                                                                                                                                                                                    Le quatrième et ultime convoi d’inaptes au travail parti de Mittelbau-Dora le 6 mars 1945 : la norme et le chaos concentrationnairesLe 6 mars 1945, un convoi de 2 252 déportés jugés « inaptes au travail » par les SS quitte Nordhausen pour atteindre Bergen-Belsen le lendemain. La quasi-totalité des hommes de ce transport qui compte près de 500 Français disparaît ensuite. Tous étaient issus des kommandos particulièrement meurtriers de Dora, d’Ellrich et d’Harzungen qui forment, depuis novembre 1944, le cœur du complexe concentrationnaire de Mittelbau ; dernier né des camps nazis, selon une finalité principalement économique et stratégique. Dès la libération des camps, le sort de ce « convoi fantôme » prend une dimension inédite et conduit à des hypothèses quant à son destin. Les recherches menées depuis plusieurs années dans le cadre d’un projet scientifique sur les 9 000 déportés de France passés par Mittelbau-Dora apportent des réponses nouvelles, plaçant ce transport à la croisée des politiques de gestion des invalides par les SS et du drame des évacuations meurtrières.\\r\\n   \n",
       "336                                                                                                                                                                                                                                                                                                                                                                                                                                                                                                                                                                                                                                                                                                                                                                                                                                                                                                                                                                                                                                                                                                                                                                                                                                                                                                                                                                                                                                                                                                                                                                                                                                                                                                                                                                                                                                                                                                                                                                                                                                                                                                                                                                                                                                                                                                                                                                                                                                                                                                                                                                                                                                                                                                                                                                                                                                                                                                                                                                                                                                                                                                                                                                                                                                                                                                                                                                                                                                                                                                                                                                                                                                                                                                                                                                                                                                                                                                                                                                                                                                                                                                                                                                                                                                                                                               Qu'est-ce que la globalisation des Lumières et comment l'étudier ?Les Lumières sont à la mode, pour le meilleur et pour le pire. Louées de façon excessive ou accusées d’être la source de toutes les dérives politiques, elles appartiennent à la culture mondiale. Comment cela s’est-il fait ? Comment appréhender ce processus qui semble échapper au modèle diffusionniste[1] ?\\r\\n   \n",
       "340                                                                                                                                                                                                                                                                                                                                                                                                                                                                                                                                                                                                                                                                                                                                                                                                                                                                                                                                                                                                                                                                                                                                                                                                                                                                                                                                                                                                                                                                                                                                                                                                                                                                                                                                                                                                                                                                                                                                                                                                                                                                                                                                                                                                                                                                                                                                                                                                                                                                                                                                                                                                                                                                                                                                                                                                                                                                                                                                                                                                                                                                                                                                                                                                                                                                                                                                                                                                                                                                                                                                                                                                                                                                                                                                                                                                                                                             Face à l’inefficacité de la prison, la science et l’opinion publique finiront-elles par « vouloir » se rencontrer ?Les effets néfastes de la prison ne sont plus à démontrer. Plusieurs travaux scientifiques permettent d’établir un diagnostic précis du système pénal et ceux issus de la psychologie ne sont pas des moindres. Ils donnent aussi de réelles possibilités d’améliorer le système pénitentiaire et plus globalement les dispositifs et les politiques mis en œuvre. Pourtant, les changements envisagés répondent plus souvent à des impératifs d’intérêts immédiats, souvent idéologiques, que d’une visée scientifique. Notre propos vise à comprendre ce qui fait obstacle à l’exploitation des données scientifiques lorsqu’il s’agit d’améliorer ou de transformer le fonctionnement pénitentiaire.   \n",
       "344                                                                                                                                                                                                                                                                                                                                                                                                                                                                                                                                                                                                                                                                                                                                                                                                                                                                                                                                                                                                                                                                                                                                                                                                                                                                                                                                                                                                                                                                                                                                                                                                                                                                                                                                                                                                                                                                                                                                                                                                                                                                                                                                                                                                                                                                                                                                                                                                                                                                                                                                                                                                                                                                                                                                                                                                                                                                                                                                                                                                                                                                                                               De la globalización del mundo a la globalización de la menteLas teorías  socioculturales sobre la globalización superan el reduccionismo de los análisis económico y político, y ponen de manifiesto no sólo que es el proceso humano más complejo conocido hasta hoy sino también  que convierte al mundo en un sistema hipercomplejo. Esto plantea la exigencia epistemológica de tener que abordarla aplicándole las teorías llamadas de la complejidad, relativas a  fenómenos como el caos, la autoorganización, los  fractales y los conjuntos borrosos.  Es un nuevo enfoque, que cambia el sentido de la globalización y permite entender cómo este macroproceso puede afectar a la mente humana, para adecuarse en su modo de sentir y de pensar a un mundo omnicomprensivo, en el que potencialmente todo afecta a todos. Social-cultural theories about globalization overcome the reductionism of both economical and political analysis; moreover these theories make globalization appear not only as the most complex human process ever known, but also show how the world has became a hyper-complex system. This situation conducts to an epistemological imperative: a study based on the complexity theories, which deal with phenomena such as chaos, self-organization, fractals, and fuzzy sets. Complexity theories imply a new point of view that changes the sense of the globalization; in fact, they make possible understand how globalization may affect human mind –even adapting it to feel and think about a fully comprehensive world.   \n",
       "347  La thèse de l’unité  africaine traditionnelle : ses  dessous et ses conséquences sur l’Etat en AfriqueLorsque dans les années 60 la plupart des pays africains devenaient des Etats indépendants, le monde était encore dans la guerre froide ponctuée par une lutte idéologique acharnée opposant le bloc socialiste aux pays capitalistes. A l’analyse, cette guerre n’était que le reflet des luttes de classes internes  à ces pays dits développés. Pour mettre l’Afrique à l’abri des influences de cette lutte idéologique, pour sauvegarder la stabilité des jeunes et fragiles Etats africains, les premiers dirigeants de l’Afrique indépendante brandissent la thèse de l’unité africaine traditionnelle longtemps clabaudée par une grande partie de l’intelligentsia africaine. Mais cette thèse n’est pas sans dessous pernicieux  ni sans conséquences négatives sur le développement de l’Afrique et sur son cheminement vers un Etat démocratique.1- Par ses incessants appels au retour aux « valeurs africaines  de civilisation », la thèse de l’unité africaine traditionnelle  a servi d’alibi aux dirigeants africains pour  trier sur le volet les  valeurs traditionnelles qui convenaient au renforcement de leur pouvoir personnel. 2- En niant  l’existence des classes sociales en Afrique et en méprisant l’importance de  la lutte de classe dans la transformation et le développement  de la société, la thèse de l’unité africaine traditionnelle a donné aux dirigeants africains l’occasion  belle de tourner le dos  au pluralisme politique et à l’alternance du pouvoir. De ce fait, elle a frayé pour l’Afrique le chemin de la pensée unique,  du pouvoir unique, du dirigeant  unique et  du parti unique.3- De même, par sa théorie de la « classe- tribu », corollaire de la négation des classes, la thèse de l’unité africaine traditionnelle en substituant en Afrique les tribus aux classes  et les luttes tribales aux luttes de classe,  a ouvert les   portes de « l’unité africaine » aux divisions sociales et aux guerres civiles, mettant ainsi en cause sa propre existence. 4- En ramenant  dans les années 60 de nombreux Etats africains du multipartisme (ou bipartisme) au parti unique, la thèse de l’unité africaine traditionnelle a instauré et légitimé des pouvoirs dictatoriaux et totalitaires et du coup a fait une croix sur l’avènement  d’une véritable démocratie en Afrique.When most countries became independent states in the 1960s, the cold war still prevailed in the world, highlighted by a fierce ideological struggle between the socialist group and the capitalist countries. When one thinks about it, it appears that this was but the expression of the internal class struggle within these so-called developed countries. In order to protect Africa from the effects of this ideological struggle, in order to safeguard the stability of the new and fragile African states, the first ruling classes of independent Africa laid emphasis on the thesis of the traditional African unity which had long been urgently demanded by a major part of African intellectuals.But this thesis lacks neither pernicious undertones nor negative consequences regarding the development of Africa and its progress towards a democratic state.1- By means of unceasing appeals to revert to “African values of civilization”, the thesis of the traditional African unity has served as an alibi for African ruling classes to choose the best traditional values that suited the strengthening of their personal power.2- By denying the existence of social classes in Africa and despising the importance of the social class struggle in the transformation and development of societies, the thesis of the traditional African unity has provided the African ruling classes with the opportunity to turn their back to political pluralism and power alternation. In so doing, it has cleared a path to, the sole leader and the sole political party in Africa.3- Likewise, by means of its “class-tribe” theory which is corollary to the denial of classes, the thesis of the traditional African unity has given rise to social divisions and civil wars regarding “African unity” by substituting tribes to classes and tribal struggles to class struggles, thus questioning its own existence.4- By bringing numerous African states from multipartism (or bipartism) to the sole party in the 1960s, the thesis of the traditional African unity has instituted and legitimated dictatorial and totalitarian powers and as a result it has up true democracy in Africa for good.   \n",
       "352                                                                                                                                                                                                                                                                                                                                                                                                                                                                                                                                                                                                                                                                                                                                                                                                                                                                                                                                                                                                                                                                                                                                                                                                                                                                                                                                                                                                                                                                                                                                                                                                                                                                                                                                                                                                                                                                                                                                                                                                                                                                                                                                                                                                                                                                                                                                                                                                                                                                                                                                                                                                                                                                                                                                                                                                                                                                                                                  Crise(s)Les crises peuvent être considérées comme des expériences bouleversant le cours des choses qui apparaissait comme normal, tout en maintenant refoulés des éléments de réalité qui l'auraient contrarié. Dans la perspective d'une analyse du processus de crise, et prenant pour exemple la crise économique manifeste en 2008, on peut suivre les différentes  phases d'une crise, caractérisées par un brusque retour du refoulé entraînant défaillance de symbolisation, et déferlement d'un imaginaire négatif incontrôlable. La crise a des effets de contamination sur les unités sociales ou les systèmes affectés de proche en proche par la dérégulation. Les symptômes psychiques et sociaux de l'anomie se manifestent sur les modes dépressifs et violents. Le retour à un état d'équilibre prend des formes incertaines  parfois régressives, l'histoire laissant à penser qu'elle ne procède que par une succession de crises.  Crises can be considered as experiences that will disrupt the ordinary course of events, while maintaining repressed the facts which would have impeded it. The present economic recession provides a typical example of a crisis process. Its various phases are characterized by a sudden return of the repressed that will entail a failure in symbolization and the surge of an uncontrollable negative imaginary on the part of all actors involved. Crisis has also contagion effects on social units or systems gradually affected by deregulation. The psychic and social symptoms of ‘anomie’ then arise on depressive and violent modes. The return to a state of balance takes uncertain and sometimes regressive forms, as if history were to progress through time only by a succession of crises.   \n",
       "356                                                                                                                                                                                                                                                                                                                                                                                                                                                                                                                                                                                                                                                                                                                                                                                                                                                                                                                                                                                                                                                                                                                                                                                                                                                                                                                                                                                                                                                                                                                                                                                                                                                                                                                                                                                                                                                                                                                                                                                                                                                                                                                                                                                                                                                                                                                                                                                                                                                                                                                                                                                                                                                                                                                                                                                                                                                                                                                                                                                                                                                                                                                                                                                                                                   La crise allemande : causes et spécificitésResume : La crise allemande : causes et spécificitésLe système politique économique et social allemand, s’il possède de la ressource, rencontre néanmoins des difficultés conséquentes à l’épreuve de la mondialisation. La montée en puissance rapide de l’extrême gauche allemande constitue l’un des symptômes les plus remarquables de cette crise. Les performances en terme de compétitivité du modèle ont de plus en plus de mal à cacher la précarité qui se répand jusque dans les classes moyennes, et les réformes prennent des allures de « liquidation politique » du modèle. En Allemagne comme ailleurs se pose désormais la question du degré de tolérance des sociétés à l’ouverture.Sommary: The German Crisis: characteristics and causesAlthough the political, economic and social system in Germany has its strengths, it nevertheless encounters difficulties in the wake of globalisation. One of the most striking aspects, symptomatic of a crisis, is the swift rise to prominence of the country's Extreme Left. It becomes increasingly difficult, on the issue of the model's competitiveness, to conceal the precariousness permeating even the middle classes, and the reforms take steps towards the structure's \"political liquidation\". From now on, in Germany as elsewhere, the question being asked is to what degree will society tolerate this global opening up.   \n",
       "362                                                                                                                                                                                                                                                                                                                                                                                                                                                                                                                                                                                                                                                                                                                                                                                                                                                                                                                                                                                                                                                                                                                                                                                                                                                                                                                                                                                                                                                                                                                                                                                                                                                                                                                                                                                                                                                                                                                                                                                                                                                                                                                                                                                                                                                                                                                                                                                                                                                                                                                                                                                                                                                                                                                                                                                                                                         La thèse de l’unité  africaine traditionnelle : ses dessous et ses Conséquences sur l’Etat en AfriqueLorsque dans les années 60 la plupart des pays africains devenaient des Etats indépendants, le monde était encore dans la guerre froide ponctuée par une lutte idéologique acharnée opposant le bloc socialiste aux pays capitalistes. A l’analyse, cette guerre n’était que le reflet des luttes de classes internes  à ces pays dits développés. Pour mettre l’Afrique à l’abri des influences de cette lutte idéologique, pour sauvegarder la stabilité des jeunes et fragiles Etats africains, les premiers dirigeants de l’Afrique indépendante brandissent la thèse de l’unité africaine traditionnelle longtemps clabaudée par une grande partie de l’intelligentsia africaineMais cette thèse n’est pas sans dessous pernicieux  ni sans conséquences négatives sur le développement de l’Afrique et sur son cheminement vers un Etat démocratique. When most countries became independent states in the 1960s, the cold war still prevailed in the world, highlighted by a fierce ideological struggle between the socialist group and the capitalist countries. When one thinks about it, it appears that this was but the expression of the internal class struggle within these so-called developed countries. In order to protect Africa from the effects of this ideological struggle, in order to safeguard the stability of the new and fragile African states, the first ruling classes of independent Africa laid emphasis on the thesis of the traditional African unity which had long been urgently demanded by a major part of African intellectuals.But this thesis lacks neither pernicious undertones nor negative consequences regarding the development of Africa and its progress towards a democratic state.   \n",
       "368                                                                                                                                                                                                                                                                                                                                                                                                                                                                                                                                                                                                                                                                                                                                                                                                                                                                                                                                                                                                                                                                                                                                                                                                                                                                                                                                                                                                                                                                                                                                                                                                                                                                                                                                                                                                                                                                                                                                                                                                                                                                                                                                                                                                                                                                                                                                                                                                                                                                                                                                                                                                                                                                                                                                                                                                                                                                                                                                                                                                                                                                                                                                                                                                                                                                                                                                                                                                                                                                                                                                                                                        Les enfants pauvres et la consommation (L’emploi d’une méthodologie participative)Dans une recherche développée au 2002 par les auteurs de cet article, on a observé, par le moyen d’une méthode non participative, la conduite et les rituels des enfants pauvres entre neuf à onze ans dans un centre commercial. L’étude actuelle complète celui de l’année 2002, en conservant les caractéristiques socioéconomiques et d’âge des enfants, mais, en utilisant, cette fois-ci, une méthodologie participative, à savoir, des dessins et des histoires en rapport avec des visites au centre commercial, et aussi, une conversation avec les enfants à ce sujet. Les résultats ont rendu compte des espaces qu'ils préfèrent fréquenter en allant au centre commercial, le sens qu’ils lui confèrent, leur attitude face à la consommation et non consommation et d’ autres pratiques économiques observées. Les découvertes ont permis de développer une discussion controversée en ce qui concerne les principes doctrinaux de l'éducation, l'alphabétisation et la psychologie économique.   \n",
       "428                                                                                                                                                                                                                                                                                                                                                                                                                                                                                                                                                                                                                                                                                                                                                                                                                                                                                                                                                                                                                                                                                                                                                                                                                                                                                                                                                                                                                                                                                                                                                                                                                                                                                                                                                                                                                                                                                                                                                                                                                                                                                                                                                                                                                                                                                                                                                                                                                                                                                                                                                                                                                                                                                                                                                                                                                                                   L’Afrique subsaharienne un regard honnête ?L’Afrique subsaharienne avec honnêteté ?En 2010, alors que de nombreux pays d’Afrique subsaharienne fêtent leur demi-siècle d’indépendance, la plupart d’entre eux ne sont pas encore autonomes et dépendent de l’aide internationale pour assurer le soutien leurs concitoyens.Ce constat est surprenant, ce d’autant plus que d’autres régions du monde, au niveau de développement similaire cinquante ans plus tôt, connaissent des situations socioéconomiques nettement plus favorables. Prenant appui sur les observations formulées par l’économiste zambienne Moyo, le PNUD (Programme des Nations Unies pour le développement), le CEGPD (Centre Européen de Gestion des Politiques de Développement), l’OCDE mais aussi le sociologue togolais Amouzou, l’auteur relève de nombreuses entraves au développement. Sans chercher à les minimiser, elle propose cependant de cibler ce qui, selon elle, constitue le problème majeur de ces pays : un manque de leadership. Let’s be honest about Sub-Saharan AfricaIn 2010, while many Sub-Saharan African countries celebrate 50 years of independence, most of them are still not independent and rely on international assistance to cover the needs of their citizens when other countries of the world, with similar development situation 50 years ago, meet much more comfortable socioeconomic conditions. Considering observations made by the Zambian economist Moyo, the UNDP (United Nations Development Program), the ECDPM (European Centre for Development Policy Management), the OECD but also the Togolese sociologist Amouzou, the author notes numerous hindrances to Africa’s development. Without minimising them, she proposes to point out the major problem of these countries: the lack of leadership.   \n",
       "451                                                                                                                                                                                                                                                                                                                                                                                                                                                                                                                                                                                                                                                                                                                                                                                                                                                                                                                                                                                                                                                                                                                                                                                                                                                                                                                                                                                                                                                                                                                                                                                                                                                                                                                                                                                                                                                                                                                                                                                                                                                                                                                                                                                                                                                                                                                                                                                                                                                                                                                                                                                                                                                                                                                                                                                                                                                                                                                                                                                                                                                                                                                                                                                                                                                                                                                                                                                                                                                                La réforme de couverture sociale en Tunisie : perspectives, bilan et défisEn dépit de sa stratégie ambitieuse (alliant : rationalité, efficacité et équité), la nouvelle réforme de couverture sociale (la CNAM) se heurte à un certains nombre de problèmes, dont à priori ses rapports avec le grand public. L’image de la CNAM prend parfois l’allure d’une institution bureaucratisée, en plein désarroi, privilégiant ses propres intérêts et se démarquant de l’éthique de solidarité. Bien que les questions d’ordre technique, médical et financiers soient une source réel de ce mécontentement, les considérations psychosociologiques dû au manque de communication entre la CNAM et son public ont semble t-il accentuer un tel sentiment. Nous pouvons en déduire aussi que la réforme de la couverture des soins en Tunisie a bel et bien profité à la médecine libérale mais pas pour autant au secteur public-de plus en plus marginalisé et fragilisé et incapable de remplir pleinement son rôle. Une telle situation défavorise une bonne partie de la population tout en bénéficiant aux classes sociales aisées, et remet en question la notion des égalités face aux soins proclamée par la CNAM.   \n",
       "532                                                                                                                                                                                                                                                                                                                                                                                                                                                                                                                                                                                                                                                                                                                                                                                                                                                                                                                                                                                                                                                                                                                                                                                                                                                                                                                                                                                                                                                                                                                                                                                                                                                                                                                                                                                                                                                                                                                                                                                                                                                                                                                                                                                                                                                                                                                                                                                                                                                                                                                                                                                                                                                                                                                                                                                                                                                                                                                                                                                                                                                                                                                                                                                                                                                                                                                                                                                                                                                                                                                                                                                          La crise allemande : causes récurrentes et symptômes récents d’un malaise démocratiqueMême si l’Allemagne a su passer un premier cap décisif dans son adaptation à la mondialisation et qu’elle s’en sort globalement mieux que d’autres pays européens, des problèmes politiques, économiques et sociaux s’accumulent, et des symptômes de crise sont observables. L’image de bonne santé ne tient pas, au-delà des apparences et des indicateurs économiques positifs qui ont leur revers. Pour la viabilité du modèle comme pour la démocratie elle-même, les raisons d’être inquiet ne manquent pas.Even though Germany was able to take a decisive first step in its adaptation to globalisation and so came out better than most other European countries, political, economic and social problems are building up. Crisis symptoms are noticeable. The good health image doesn't hold up further than the appearances and some positive economic indicators which have their reverse. For the viability of the model as well as for democracy itself, there are reasons to be worried.   \n",
       "533                                                                                                                                                                                                                                                                                                                                                                                                                                                                                                                                                                                                                                                                                                                                                                                                                                                                                                                                                                                                                                                                                                                                                                                                                                                                                                                                                                                                                                                                                                                                                                                                                                                                                                                                                                                                                                                                                                                                                                                                                                                                                                                                                                                                                                                                                                                Analyse socio-anthropologique des crises financières. Des rites sacrificiels au risque d’esclavagismeJusqu’à récemment, l’argent était un moyen mais il tend à devenir le but ultime de nos sociétés contemporaines, où les représentations collectives sont tiraillées entre défiance et apologie de l’argent. De ce « paradoxe » ont émergé les questionnements relatifs à la morale et à l’éthique des affaires, au risque, et à la place de l’homme dans la société. Anthropologiquement, la répétition des crises financières, la dette abyssale, et les déchéances humaines qu’elles entraînent, réactive ce paradoxe ; et pour y faire face la société a mis en place des rites à valeur sacrificielle : c’est le prix que la société de consommation est prête à payer pour s’acquitter de sa fascination addictive pour l’argent. Vivant très au-dessus de ses moyens, la France, véritable zombie financier, est enchaînée par la dette, paralysée par ses ressources intérieures asphyxiées (entreprenariat, créativité), s’enlise dans les sables mouvants d’une société en déliquescence et en perte de repères, à la merci d’un état immoral et cupide (politique confiscatoire) en phase avec un capitalisme devenu cannibale.Until recently, money was a means but is now close to becoming the ultimate goal in our contemporary societies where collective representations of money can swing from defiance to defence. This \"paradox\" is the source of all questions relating to business morals and ethics, risk and the place of man in society. From an anthropological standpoint, the endless cycle of financial crises, colossal debts and the human degeneration they entail are constantly reactivating this paradox; and in order to face this, society has set up rituals with sacrificial undertones: this is the price that the consumer society is ready to pay to explore its addictive fascination for money. A veritable financial zombie living way beyond her means, France has become fettered in debt, paralysed through the asphyxiation of its inner resources (entrepreneurship, creativity), is sinking into the quicksands of a deliquescent society which has lost its bearings, and is at the mercy of an immoral and avaricious state (confiscatory politics) in sync with a capitalism which is cannibalistic in style.   \n",
       "569                                                                                                                                                                                                                                                                                                                                                                                                                                                                                                                                                                                                                                                                                                                                                                                                                                                                                                                                                                                                                                                                                                                                                                                                                                                                                                                                                                                                                                                                                                                                                                                                                                                                                                                                                                                                                                                                                                                                                                                                                                                                                                                                                                                                                                                                                                                                                                                                                                                                                                                                                                                                                                                                                                                                                                                                                                                                                                                                                                                                                                                                                                                                                                                                                                                                                                                                                                                                                                                                                                                                                                                          La crise allemande : causes récurrentes et symptômes récents d’un malaise démocratiqueMême si l’Allemagne a su passer un premier cap décisif dans son adaptation à la mondialisation et qu’elle s’en sort globalement mieux que d’autres pays européens, des problèmes politiques, économiques et sociaux s’accumulent, et des symptômes de crise sont observables. L’image de bonne santé ne tient pas, au-delà des apparences et des indicateurs économiques positifs qui ont leur revers. Pour la viabilité du modèle comme pour la démocratie elle-même, les raisons d’être inquiet ne manquent pas.Even though Germany was able to take a decisive first step in its adaptation to globalisation and so came out better than most other European countries, political, economic and social problems are building up. Crisis symptoms are noticeable. The good health image doesn't hold up further than the appearances and some positive economic indicators which have their reverse. For the viability of the model as well as for democracy itself, there are reasons to be worried.   \n",
       "579                                                                                                                                                                                                                                                                                                                                                                                                                                                                                                                                                                                                                                                                                                                                                                                                                                                                                                                                                                                                                                                                                                                                                                                                                                                                                                                                                                                                                                                                                                                                                                                                                                                                                                                                                                                                                                                                                                                                                                                                                                                                                                                                                                                                                                                                                                                                                                                                                                                                                                                                                                                                                                                                                                                                                                                         De verdad vive Puebla (Méx) una subjetividad postindustrial?\\r\\nVARIA\\r\\n\\r\\nA raíz de las transformaciones, inducidas o impuestas, que ha experimentado la economía mexicana después de la segunda postguerra y, particularmente, a partir de la prevalencia de la forma neoliberal globalizada, muchos intelectuales se han ocupado de los cambios que, como efectos o correlativamente a aquellos procesos, se dan en el campo subjetivo, tanto de los trabajadores, como de la población en su conjunto.\\r\\nAluden, en términos comparativos, a las relaciones sociales propias de cada una de las etapas del capitalismo industrial y postindustrial: el Taylorismo, el Fordismo, el Toyotismo y el Postoyotismo, etapas que sin cambiar de esencia, difieren en el tipo de psicología que aplican para incrementar la productividad, mantener la subsunción del trabajo al capital y lograr que los operarios, como los bueyes de mi compadre, estén tan a gusto con la subjetividad implantada por la empresa que hasta las coyundas son capaces de lamer; eso con independencia, o incluso con la anuencia, de sus sindicatos, que también han venido mutando–perdiendo, éstos sí, su esencia- de acuerdo con el desarrollo del capitalismo.\\r\\nSi damos por sentado que esta nueva subjetivación se observa en el mundo de las grandes empresas, la pregunta central que surge es si esa subsunción del trabajo al capital, en sus formas subjetivas, es decir, de nueva identidad, valores morales y afectos, es también extensible -y si lo es, en qué medida- al resto de la sociedad.\\r\\nLa técnica de la entrevista, aplicada a una muestra de trabajadores y personas que habitan en la ciudad de Puebla, conocida ésta como polo de desarrollo industrial, con empresas ultramodernas que aplican una filosofía toyotista, nos permitirá dar respuesta a nuestra pregunta.\\r\\n   \n",
       "592                                                                                                                                                                                                                                                                                                                                                                                                                                                                                                                                                                                                                                                                                                                                                                                                                                                                                                                                                                                                                                                                                                                                                                                                                                                                                                                                                                                                                                                                                                                                                                                                                                                                                                                                                                                                                                                                                                                                                                                                                                                                                                                                                                                                                                                                                                                                                                                                                                                                                                                                                                                                                                                                                                                                                                                                                                                                                                                                                                                                                                                                                                                                                                                                                                                                                                                                                                                                                                                                                                                                                                                                                                                                                                                                                                                                                                                                                                                                                                                                                                                                                                                                                                         Christophe Assens. Réseaux sociaux. Tous ego ? Libre ou otage du regard des autres, Bruxelles, De BoeckNOTE DE LECTURE\\r\\n\\r\\nDans la continuité de son livre, écrit en 2013, Le Management des réseaux. Tisser du lien social pour le bien-être économique, Christophe Assens « récidive » sur la même thématique, par un ouvrage au titre plus provocateur et avec une ambition plus critique et sociologisante, questionnant plus globalement un fait de société autant que des phénomènes économiques.\\r\\n   \n",
       "593                                                                                                                                                                                                                                                                                                                                                                                                                                                                                                                                                                                                                                                                                                                                                                                                                                                                                                                                                                                                                                                                                                                                                                                                                                                                                                                                                                                                                                                                                                                                                                                                                                                                                                                                                                                                                                                                                                                                                                                                                                                                                                                                                                                                                                                                                                                                                                                                                                                                                                                                                                                                                                                                                                                                                                                                                                                                                                                                                                                                                                                                                                                                                                                                                                                                                                                                                                                                                                                                                                                                                                                                                                                                                                                                                                                                                                                                                                                                                                                                                                                                                                                                                                                                                                                                                                          Démocratie et communauté politiqueDOSSIER : L'AVENIR DE LA DEMOCRATIE\\r\\n\\r\\nOn s’identifie aujourd’hui largement à la démocratie. Et pourtant, nos régimes occidentaux présentent des symptômes inquiétants. S’attaquer à ceux-ci implique préalablement une réflexion sur la communauté politique : où se situe-t-elle actuellement ? Comment envisager son évolution ?\\r\\n   \n",
       "595                                                                                                                                                                                                                                                                                                                                                                                                                                                                                                                                                                                                                                                                                                                                                                                                                                                                                                                                                                                                                                                                                                                                                                                                                                                                                                                                                                                                                                                                                                                                                                                                                                                                                                                                                                                                                                                                                                                                                                                                                                                                                                                                                                                                                                                                                                                                                                                                                                                                                                                                                                                                                                                                                                                                                                                                                                                                                                                                                                                                                                                                                                                                                                                                                                                                                                                                                                                                                                                                                                                                                                                                                                                                                                                                                                                                                                                       Le rapport des élus locaux au local et au mondial : Le Traité CETA, un tournant ?DOSSIER : L'AVENIR DE LA DEMOCRATIE\\r\\n\\r\\nCet article traite du tiraillement des élus locaux entre le local et le mondial. Il s’en tient aux thématiques épinglées à ce sujet par cette Revue pour les discuter : Les difficultés rencontrées par les élus locaux sont patentes. Elles trouvent leur source à différentes échelles. Leurs conséquences s’entremêlent souvent. L’impact du mondial sur le local est épinglé par les représentants du peuple, les experts, les média et l’opinion publique. Il est incontesté, il semble incontestable. Les élus locaux comme leurs concitoyens en conviennent. Les responsables de ce changement sont identifiés. Ils font partie des nouveaux acteurs apparus sur la scène internationale \\r\\n   \n",
       "596                                                                                                                                                                                                                                                                                                                                                                                                                                                                                                                                                                                                                                                                                                                                                                                                                                                                                                                                                                                                                                                                                                                                                                                                                                                                                                                                                                                                                                                                                                                                                                                                                                                                                                                                                                                                                                                                                                                                                                                                                                                                                                                                                                                                                                                                                                                                                                                                                                                                                                                                                                                                                                                                                                                                                                                                                                                                                                                                                                                                                                                                                                                                                                                                                                                                                                                                                                                                                                                                                                                                                                                                                                        Pour une autre Europe : l'euro : un déni de démocratieDOSSIER : L'AVENIR DE LA DEMOCRATIE\\r\\n\\r\\nS’agissant de l’Europe, il n’est pas difficile de caractériser ce qui s’est construit depuis la fin de la seconde guerre mondiale. Après les désastres de la guerre, l’aspiration à la paix était générale. Pourtant, deux voies pouvaient s’ouvrir : une Europe des peuples et des cultures dans l’esprit de la conférence de Philadelphie et des orientations du Conseil National de la Résistance français ou une Europe des marchés assurant la réussite d’un capitalisme mondialisé et financiarisé. Il n’est probablement pas inutile de rappeler combien la période ouverte par la crise de 1929 au plan économique et prolongée par la deuxième guerre mondiale au plan géopolitique a ouvert des perspectives nouvelles permettant d’envisager des transformations radicales pour sortir du système capitaliste et conduire à des sociétés dans lesquelles l’homme retrouve la place centrale que lui a confisqué la marchandise.\\r\\n   \n",
       "598                                                                                                                                                                                                                                                                                                                                                                                                                                                                                                                                                                                                                                                                                                                                                                                                                                                                                                                                                                                                                                                                                                                                                                                                                                                                                                                                                                                                                                                                                                                                                                                                                                                                                                                                                                                                                                                                                                                                                                                                                                                                                                                                                                                                                                                                                                                                                                                                                                                                                                                                                                                                                                                                                                                                                                                                                                                                                                                                                                                                                                                                                                                                                                                                                                                                                                                                                                                                                                                                                                                                                                                                                                                                                                                                                                                                                                                                                                                                                                                                                               Rousseau : le principe de séparation au fondement de l'intérêt généralDOSSIER : L'AVENIR DE LA DEMOCRATIE\\r\\n\\r\\nLes interprétations classiques de la philosophie de Rousseau se donnent le plus souvent comme objectif de saisir un principe d’unité auquel elle pourrait être ramenée. Il en va ainsi de ces exégèses qui cherchent la cohérence dans l’unique promotion de l’individu libéré des contraintes sociales ou bien, à l’inverse, dans la félicité publique d’une société réalisant la parfaite concorde de ses membres, fût-ce au péril de leur liberté naturelle. On peut voir dans ces tendances opposées l’expression d’un paradoxe\\r\\n   \n",
       "609                                                                                                                                                                                                                                                                                                                                                                                                                                                                                                                                                                                                                                                                                                                                                                                                                                                                                                                                                                                                                                                                                                                                                                                                                                                                                                                                                                                                                                                                                                                                                                                                                                                                                                                                                                                                                                                                                                                                                                                                                                                                                                                                                                                                                                                                                                                                                                                                                                                                                                                                                                                                                                                                                                                                                                                                                                                                                                                                                                                                                                                                                                                                                                                                                                                                                                                                                                                                                                                                                                                                                                                    Raison et déraison des foulesDOSSIER : L'AVENIR DE LA DEMOCRATIE\\r\\n\\r\\nLa problématique des mouvements de foule, telle qu’elle se manifeste aujourd’hui dans l’essor des partis populistes en Europe et aux États-Unis ou de manière plus ou moins récurrente dans la vie politique des pays de l’hémisphère sud, redonne chaque fois une actualité au vieux débat sur la nature, les avantages et les dérives de la souveraineté populaire. Comment définir le peuple ? Peut-on se contenter de sa représentation parlementaire ? Doit-on croire tous ceux qui descendent dans la rue en prétendant parler en son nom ? Les masses invoquées par les marxistes incarnent elles vraiment la marche de l’histoire ? Ne seraient-elles pas au contraire des foules incultes et irrationnelles à l’assaut des normes légales et morales qui protègent l’ordre politique et les valeurs de civilité ? Les réflexions sur ce thème remontent aux origines de la démocratie et comprennent des débats sur le cadre institutionnel et les procédures garantissant au mieux la souveraineté du peuple.\\r\\n   \n",
       "611                                                                                                                                                                                                                                                                                                                                                                                                                                                                                                                                                                                                                                                                                                                                                                                                                                                                                                                                                                                                                                                                                                                                                                                                                                                                                                                                                                                                                                                                                                                                                                                                                                                                                                                                                                                                                                                                                                                                                                                                                                                                                                                                                                                                                                                                                                                                                                                                                                                                                                                                                                                                                                                                                                                                                                                                                                                                                                                                                                                                                                                                                                                                                                                                                                                                                                                                                                                                                                                                                                                                                                                                                                                                                                                                                                              La démocratie comme déception et comme horizonDOSSIER : L'AVENIR DE LA DEMOCRATIE\\r\\n\\r\\nLa démocratie est un régime « déceptif », absurde et incompréhensible. Il faut partir de là, au lieu, comme c’est trop souvent le cas, de finir par là. Elle ne peut que décevoir, car ses promesses sont infinies et n’ont aucune chance d’être un jour réalisées : on ne sera jamais totalement libres, ni absolument égaux, ni constamment fraternels. Elle est absurde, car comment voir la cohérence d’un régime où les gouvernants doivent suivre le peuple qu’ils sont censés diriger ? Elle est incompréhensible, car elle repose sur un fondement introuvable — le peuple — dont tout le monde se réclame, mais que personne n’a jamais rencontré. Et donc, en partant de là, le vrai sujet d’étonnement n’est pas tant que la démocratie fonctionne mal ; c’est qu’elle puisse fonctionner un peu.\\r\\n   \n",
       "613                                                                                                                                                                                                                                                                                                                                                                                                                                                                                                                                                                                                                                                                                                                                                                                                                                                                                                                                                                                                                                                                                                                                                                                                                                                                                                                                                                                                                                                                                                                                                                                                                                                                                                                                                                                                                                                                                                                                                                                                                                                                                                                                                                                                                                                                                                                                                                                                                                                                                                                                                                                                                                                                                                                                                                                                                                                                                                                                                                                                                                                                                                                                                                                                                                                                                                                                                                                                                                                                                                         La lutte pour la reconnaissanceDOSSIER : L'AVENIR DE LA DEMOCRATIE\\r\\n\\r\\nL’idée d’une réflexion sur l’actualité politique à travers le prisme de la reconnaissance est à l’origine de cet article pour tester la pertinence de ce concept perçu aujourd’hui comme circonscrit dans son sens et sa portée. Pourquoi y revenir, plus précisément, alors que de nombreuses recherches en philosophie sociale et en sociologie existent sur le sujet, et non des moindres, puisque l’impulsion en a été donnée par Hegel ? Parce qu’aujourd’hui, l’évocation du concept de reconnaissance conduit presque exclusivement à son explication par la lutte des classes comme destin pour cette notion, scellée au marxisme jusqu’à se dissoudre presqu’en lui. La problématique de la reconnaissance serait devenue désuète dans la mesure où les classes moyennes s’étant déployées, la classe ouvrière d’autrefois a perdu son identité. De plus, la démocratie, en permettant l’expression de tous les citoyens, illustrerait la reconnaissance de leur égalité et donnerait à penser que la vigilance quant au maintien de cette caractéristique est constante en démocratie.\\r\\n   \n",
       "617                                                                                                                                                                                                                                                                                                                                                                                                                                                                                                                                                                                                                                                                                                                                                                                                                                                                                                                                                                                                                                                                                                                                                                                                                                                                                                                                                                                                                                                                                                                                                                                                                                                                                                                                                                                                                                                                                                                                                                                                                                                                                                                                                                                                                                                                                                                                                                                                                                                                                                                                                                                                                                                                                                                                                                                                                                                                                                                                                                                                                                                                                                                                                                                                                                                                                                                                                                                                                                                                                                                                                                                                                                                                                                                                                                                                                                                                                                                                                      La démocratisation de l’Union européenne, un trompe - l’œil ? De la difficulté d’être citoyen de l’Union européenneDOSSIER : L'AVENIR DE LA DEMOCRATIE\\r\\n\\r\\nL’Union européenne, par les mots utilisés et les expressions (l’eurojargon) qu’elle crée, présente une apparence trompeuse. Nombreux sont ceux qui font illusion et compliquent dès lors sa compréhension par celui qui porte le nom de citoyen de l’Union européenne avec pour conséquence la montée d’un recul vis à vis d’elle. Ce recul, malgré le discours, malgré les révisions de Traités en faveur de l’institution d’une citoyenneté européenne, ne régresse pas. Et les oppositions à l’Union européenne prennent actuellement une forme inquiétante.\\r\\n   \n",
       "632                                                                                                                                                                                                                                                                                                                                                                                                                                                                                                                                                                                                                                                                                                                                                                                                                                                                                                                                                                                                                                                                                                                                                                                                                                                                                                                                                                                                                                                                                                                                                                                                                                                                                                                                                                                                                                                                                                                                                                                                                                                                                                                                                                                                                                                                                                                                                                                                                                                                                                                                                                                                                                                                                                                                                                                                                                                                                                                                                                                                                                                                                                                                                                                                                                                                                                                                                                                                                                                                                                                                                                                                                                                                                                                                                                                                                                                                                                                                                          Aspects de la politique d’influence de la Silver économieDOSSIER : POLITIQUE DE SANTE\\r\\n\\r\\nDepuis quelques années, notre pays s’est engagé dans un ambitieux projet politique, social et économique assez singulier, celui de bâtir une société des seniors dont un des objectifs essentiels sera de « bien- vieillir ». Cette société des seniors, aux contours flous, semblent inscrire chacun (dès l’âge de 50 ans...), dans une temporalité suspendue qui s’allonge et se rallongera toujours plus, via les progrès de la médecine (numérique, régénérative, prothétique, etc.), au point que le « senior » peut apparaitre comme le maillon manquant qui nous ferait passer de l’homme diminué à l’homme augmenté.\\r\\n   \n",
       "643                                                                                                                                                                                                                                                                                                                                                                                                                                                                                                                                                                                                                                                                                                                                                                                                                                                                                                                                                                                                                                                                                                                                                                                                                                                                                                                                                                                                                                                                                                                                                                                                                                                                                                                                                                                                                                                                                                                                                                                                                                                                                                                                                                                                                                                                                                                                                                                                                                                                                                                                                                                                                                                                                                                                                                                                                                                                                                                                                                                                                                                                                                                                                                                                                                                                                                                                                                                                                                                                                                                                                                                                                                                                                       Critique de l’efficacité économique et politiqueVARIA\\r\\n\\r\\nL'efficacité est un terme du langage courant qui semble aller de soi. Sans préciser ce qu'il en est de cette notion, le praxéologue Kotarbinski a consacré un célèbre ouvrage au travail efficace dont nous faisons ici la critique. Nous nous attardons sur sa confusion entre action humaine et travail du fait d’une conception très élémentaire des tâches humaines. En contestant son approche très analytique nous étudions quelques cas de l'industrie ou de la vie politique dont l’ile de Nauru, pour souligner comment une certaine conception de l'efficacité à court terme aliène un dialogue sur les buts et les fins du travail ou de la politique, lui préférant cette instrumentalisation du travail humain. Cette critique de l'efficacité vise à en élargir la conception au profit de nouveaux horizons politiques. Et le rapport que l’homme entretient à ses buts et au temps y serait pour quelque chose.\\r\\n   \n",
       "676                                                                                                                                                                                                                                                                                                                                                                                                                                                                                                                                                                                                                                                                                                                                                                                                                                                                                                                                                                                                                                                                                                                                                                                                                                                                                                                                                                                                                                                                                                                                                                                                                                                                                                                                                                                                                                                                                                                                                                                                                                                                                                                                                                                                                                                                                                                                                                                                                                                                                                                                                                                                                                                                                                                                                                                                                                                                                                                                                                                                                                                                                                                       Apport de l’intelligence artificielle aux pratiques d’intelligence économique : une revue de littératureLa réduction de l’incertitude est au cœur de la prise de décision chez les dirigeants d’entreprises. Or les changements constants qui s’opèrent dans l’environnement, particulièrement les avancées technologiques qui accélèrent la production massive de données, se positionnent en tant que catalyseurs de ces incertitudes. Pour y faire face, l’intelligence économique s’avère être une composante majeure dans la prise de décision stratégique vue que celle-ci permet une meilleure appréhension de l’environnement dans toute sa complexité. Par ailleurs, l’abondance de données, la prolifération des fake news, les risques informationnels sont quelques-uns des principaux enjeux de l’intelligence économique. De-là nous nous sommes donnés comme tâche à travers cette contribution de démontrer les principaux apports de l’intelligence artificielle pour endiguer ces enjeux. En s’appuyant sur la littérature actuelle qui traite les principaux concepts du sujet, à savoir l’intelligence artificielle et l’intelligence économique, nous sommes arrivés à la conclusion que les techniques d’intelligence artificielle nous permettent d’automatiser l’extraction de connaissances à des fins prédictives pouvant optimiser la prise de décision, elles participent à une meilleure protection de l’information et à la mise en œuvre de meilleures stratégies d’influence, particulièrement chez les PME internationales.\\r\\n   \n",
       "677                                                                                                                                                                                                                                                                                                                                                                                                                                                                                                                                                                                                                                                                                                                                                                                                                                                                                                                                                                                                                                                                                                                                                                                                                                                                                                                                                                                                                                                                                                                                                                                                                                                                                                                                                                                                                                                                                                                                                                                                                                                                                                                                                                                                                                                                                                                                                                                                                                                                                                                                                                                                                                                                                                                                                                                                                                                                                                                                                                                                                                                                                                                                                                                                                                                                                                                                                                                                                                                                                                                         Intelligence économique et ingénierie de l’obsolescence: prédiction, performances et innovations, des destins liés. Cet article permet d’établir que la résilience à l’obsolescence, nécessite un lien étroit entre la maitrise de l’information dans son secteur (industriel et économique) et la capacité à anticiper des modifications (techniques et sectoriels). Il se veut être une analyse d’ingénierie en technologie industrielle à destination des experts en intelligence économique, dans le but de démontrer qu’il existe un nouvel axe de réflexion, permettant une meilleure performance de l’entreprise. Cette recherche s’applique à toutes les étapes du cycle de vie et fournit une matrice combinatoire permettant de relier les risques économiques aux différentes typologies d’obsolescences. Il met en évidence un nouvel axe de recherche en intelligence économique, au profit d’une meilleure gestion technologique et industrielle. Mais également, une nouvelle source de collecte permettant de prédire les évolutions de marché, de soutenir l’aide à la décision et la mise en œuvre de plan de développement stratégique.\\r\\n   \n",
       "700                                                                                                                                                                                                                                                                                                                                                                                                                                                                                                                                                                                                                                                                                                                                                                                                                                                                                                                                                                                                                                                                                                                                                                                                                                                                                                                                                                                                                                                                                                                                                                                                                                                                                                                                                                                                                                                                                                                                                                                                                                                                                                                                                                                                                                                                                                                                                                                                                                                                                                                                                                                                                                                                                                                                                                                                                                                                                                                                                                                                                                                                                                                                                                                                                                                                                                                                                                                                                                                                                                                                                                                                                                                                                                                      La durabilité à l’Université et dans le monde économique : le regard des étudiantsDans ce texte, nous nous interrogeons sur la manière de mesurer la durabilité d’une organisation et « l’actionnabilité » des savoirs, savoir-faire, savoir être. Nous proposons un essai de réponse via la représentation qu’en ont les étudiants à partir du monde économique et de l’Université. \\r\\nCette recherche exploratoire est centrée sur les représentations d’étudiants de premier cycle en Administration Économique et Sociale (AES). Ces étudiants en première année de licence AES participent à une formation intitulée « Dynamique de l’entreprise » à l’Université de Bretagne Occidentale. Dans ce cadre, ils ont mené des entretiens avec des professionnels travaillant dans des organisations (entreprises, associations et administrations diverses). Ils interrogent ainsi le rapport qu’elles entretiennent avec l’idée de développement durable.\\r\\n   \n",
       "756                                                                                                                                                                                                                                                                                                                                                                                                                                                                                                                                                                                                                                                                                                                                                                                                                                                                                                                                                                                                                                                                                                                                                                                                                                                                                                                                                                                                                                                                                                                                                                                                                                                                                                                                                                                                                                                                                                                                                                                                                                                                                                                                                                                                                                                                                                                                                                                                                                                                                                                                                                                                                                                                                                                                                                                                                                                                                                                                                                                                                                                                                                                                                                                                                                                                                                                                                                                                                                                                                                                                                                                                                       La territorialisation comme condition de durabilité des organisationsL’inscription dans un territoire (ou dans des territoires) permet à une organisation d’affronter les évolutions environnementales et culturelles, parce que l’incarnation dans un territoire permet le face-à-face. Ce face-à-face dépend des engagements personnels de chaque acteur mais il peut être facilité ou entravé par les structures et les normes existantes. Une organisation qui se fossilise devient incapable de s’adapter à des changements environnementaux ou à des contextes normatifs distincts. Au fur et à mesure que l’organisation se focalise sur des enjeux abstraits, la satisfaction concrète des diverses parties prenantes est ignorée au bénéfice d’une représentation statistique qui ne représente qu’imparfaitement des réalités déjà passées. Reconstruire le face-à-face fait éclater la représentation chiffrée car le face-à-face apporte un supplément de sens à des représentations abstraites, il rend singulier ce qui n’était qu’un concept.\\r\\n   \n",
       "\n",
       "     cluster  \n",
       "0          8  \n",
       "4          8  \n",
       "87         8  \n",
       "200        8  \n",
       "201        8  \n",
       "206        8  \n",
       "207        8  \n",
       "219        8  \n",
       "246        8  \n",
       "272        8  \n",
       "277        8  \n",
       "278        8  \n",
       "284        8  \n",
       "286        8  \n",
       "290        8  \n",
       "291        8  \n",
       "292        8  \n",
       "293        8  \n",
       "296        8  \n",
       "302        8  \n",
       "308        8  \n",
       "323        8  \n",
       "324        8  \n",
       "325        8  \n",
       "326        8  \n",
       "336        8  \n",
       "340        8  \n",
       "344        8  \n",
       "347        8  \n",
       "352        8  \n",
       "356        8  \n",
       "362        8  \n",
       "368        8  \n",
       "428        8  \n",
       "451        8  \n",
       "532        8  \n",
       "533        8  \n",
       "569        8  \n",
       "579        8  \n",
       "592        8  \n",
       "593        8  \n",
       "595        8  \n",
       "596        8  \n",
       "598        8  \n",
       "609        8  \n",
       "611        8  \n",
       "613        8  \n",
       "617        8  \n",
       "632        8  \n",
       "643        8  \n",
       "676        8  \n",
       "677        8  \n",
       "700        8  \n",
       "756        8  "
      ]
     },
     "execution_count": 42,
     "metadata": {},
     "output_type": "execute_result"
    }
   ],
   "source": [
    "pd.set_option('display.max_colwidth', None)\n",
    "results = pd.DataFrame({\"titre\":data,\"cluster\":cluster.labels_})\n",
    "select = results.cluster == 8\n",
    "results[select]"
   ]
  },
  {
   "cell_type": "code",
   "execution_count": 100,
   "metadata": {},
   "outputs": [
    {
     "name": "stdout",
     "output_type": "stream",
     "text": [
      "35\n"
     ]
    },
    {
     "data": {
      "text/plain": [
       "[('traumatisme', 0.03520538663355588),\n",
       " ('conversions', 0.032437255611007056),\n",
       " ('arts', 0.03025289076930813),\n",
       " ('otto', 0.02490600715949557),\n",
       " ('miedo', 0.02384970632487209),\n",
       " ('visuels', 0.02384970632487209),\n",
       " ('stylistiques', 0.02384970632487209),\n",
       " ('guerre', 0.02359441447817522),\n",
       " ('carlos', 0.022986645700995383),\n",
       " ('martin', 0.022986645700995383)]"
      ]
     },
     "execution_count": 100,
     "metadata": {},
     "output_type": "execute_result"
    }
   ],
   "source": [
    "print(len(top_n))\n",
    "top_n[28][:10]"
   ]
  },
  {
   "cell_type": "code",
   "execution_count": 19,
   "metadata": {},
   "outputs": [],
   "source": [
    "# Néttoyer les langues\n",
    "# Lemmatisation\n"
   ]
  },
  {
   "cell_type": "code",
   "execution_count": 67,
   "metadata": {},
   "outputs": [],
   "source": [
    "# Visualize with plotly\n",
    "import matplotlib.pyplot as plt\n",
    "import plotly.express as px\n",
    "import plotly.graph_objects as go\n",
    "\n",
    "\n",
    "umap_data = umap.UMAP(n_neighbors=5, n_components=2, min_dist=0.0, metric='cosine').fit_transform(embeddings)\n",
    "\n",
    "\n",
    "def extract_topic_sizes(df):\n",
    "    topic_sizes = (df.groupby(['Topic'])\n",
    "                     .Doc\n",
    "                     .count()\n",
    "                     .reset_index()\n",
    "                     .rename({\"Topic\": \"Topic\", \"Doc\": \"Size\"}, axis='columns')\n",
    "                     .sort_values(\"Size\", ascending=False))\n",
    "    return topic_sizes\n",
    "\n",
    "def _plotly_topic_visualization(df: pd.DataFrame,\n",
    "                                    topic_list: list):\n",
    "        \"\"\" Create plotly-based visualization of topics with a slider for topic selection \"\"\"\n",
    "\n",
    "        def get_color(topic_selected):\n",
    "            if topic_selected == -1:\n",
    "                marker_color = [\"#B0BEC5\" for _ in topic_list[1:]]\n",
    "            else:\n",
    "                marker_color = [\"red\" if topic == topic_selected else \"#B0BEC5\" for topic in topic_list[1:]]\n",
    "            return [{'marker.color': [marker_color]}]\n",
    "\n",
    "        # Prepare figure range\n",
    "        x_range = (df.x.min() - abs((df.x.min()) * .15), df.x.max() + abs((df.x.max()) * .15))\n",
    "        y_range = (df.y.min() - abs((df.y.min()) * .15), df.y.max() + abs((df.y.max()) * .15))\n",
    "\n",
    "        # Plot topics\n",
    "        fig = px.scatter(df, x=\"x\", y=\"y\", size=\"Size\", size_max=40, template=\"simple_white\", labels={\"x\": \"\", \"y\": \"\"},\n",
    "                         hover_data={\"x\": False, \"y\": False, \"Topic\": True, \"Words\": True, \"Size\": True})\n",
    "        fig.update_traces(marker=dict(color=\"#B0BEC5\", line=dict(width=2, color='DarkSlateGrey')))\n",
    "\n",
    "        # Update hover order\n",
    "        fig.update_traces(hovertemplate=\"<br>\".join([\"<b>Topic %{customdata[2]}</b>\",\n",
    "                                                     \"Words: %{customdata[3]}\",\n",
    "                                                     \"Size: %{customdata[4]}\"]))\n",
    "\n",
    "        # Create a slider for topic selection\n",
    "        steps = [dict(label=f\"Topic {topic}\", method=\"update\", args=get_color(topic)) for topic in topic_list[1:]]\n",
    "        sliders = [dict(active=0, pad={\"t\": 50}, steps=steps)]\n",
    "\n",
    "        # Stylize layout\n",
    "        fig.update_layout(\n",
    "            title={\n",
    "                'text': \"<b>Intertopic Distance Map\",\n",
    "                'y': .95,\n",
    "                'x': 0.5,\n",
    "                'xanchor': 'center',\n",
    "                'yanchor': 'top',\n",
    "                'font': dict(\n",
    "                    size=22,\n",
    "                    color=\"Black\")\n",
    "            },\n",
    "            width=650,\n",
    "            height=650,\n",
    "            hoverlabel=dict(\n",
    "                bgcolor=\"white\",\n",
    "                font_size=16,\n",
    "                font_family=\"Rockwell\"\n",
    "            ),\n",
    "            xaxis={\"visible\": False},\n",
    "            yaxis={\"visible\": False},\n",
    "            sliders=sliders\n",
    "        )\n",
    "\n",
    "        # Update axes ranges\n",
    "        fig.update_xaxes(range=x_range)\n",
    "        fig.update_yaxes(range=y_range)\n",
    "\n",
    "        # Add grid in a 'plus' shape\n",
    "        fig.add_shape(type=\"line\",\n",
    "                      x0=sum(x_range) / 2, y0=y_range[0], x1=sum(x_range) / 2, y1=y_range[1],\n",
    "                      line=dict(color=\"#CFD8DC\", width=2))\n",
    "        fig.add_shape(type=\"line\",\n",
    "                      x0=x_range[0], y0=sum(y_range) / 2, x1=x_range[1], y1=sum(y_range) / 2,\n",
    "                      line=dict(color=\"#9E9E9E\", width=2))\n",
    "        fig.add_annotation(x=x_range[0], y=sum(y_range) / 2, text=\"D1\", showarrow=False, yshift=10)\n",
    "        fig.add_annotation(y=y_range[1], x=sum(x_range) / 2, text=\"D2\", showarrow=False, xshift=10)\n",
    "        fig.data = fig.data[::-1]\n",
    "\n",
    "        return fig\n",
    "    \n",
    "frequencies = extract_topic_sizes(docs_df)"
   ]
  },
  {
   "cell_type": "code",
   "execution_count": 73,
   "metadata": {},
   "outputs": [],
   "source": [
    "all_words = []\n",
    "for i in top_n:\n",
    "    top = top_n[i]\n",
    "    words = []\n",
    "    for t in top:\n",
    "        words.append(t[0])\n",
    "    all_words.append(words)\n"
   ]
  },
  {
   "cell_type": "code",
   "execution_count": 83,
   "metadata": {},
   "outputs": [
    {
     "name": "stdout",
     "output_type": "stream",
     "text": [
      "35 771 35 771\n"
     ]
    }
   ],
   "source": [
    "print(len(all_words),len(umap_data),len(frequencies),len(cluster.labels_))"
   ]
  },
  {
   "cell_type": "code",
   "execution_count": 75,
   "metadata": {},
   "outputs": [
    {
     "ename": "ValueError",
     "evalue": "arrays must all be same length",
     "output_type": "error",
     "traceback": [
      "\u001b[1;31m---------------------------------------------------------------------------\u001b[0m",
      "\u001b[1;31mValueError\u001b[0m                                Traceback (most recent call last)",
      "\u001b[1;32m<ipython-input-75-91a9946bda57>\u001b[0m in \u001b[0;36m<module>\u001b[1;34m\u001b[0m\n\u001b[1;32m----> 1\u001b[1;33m df = pd.DataFrame({\"x\": umap_data[:,0], \"y\": umap_data[:, 1],\n\u001b[0m\u001b[0;32m      2\u001b[0m                    \"Topic\": cluster.labels_ , \"Words\": all_words , \"Size\": frequencies})\n\u001b[0;32m      3\u001b[0m \u001b[1;33m\u001b[0m\u001b[0m\n\u001b[0;32m      4\u001b[0m \u001b[0m_plotly_topic_visualization\u001b[0m\u001b[1;33m(\u001b[0m\u001b[0mdf\u001b[0m\u001b[1;33m)\u001b[0m\u001b[1;33m\u001b[0m\u001b[1;33m\u001b[0m\u001b[0m\n",
      "\u001b[1;32mD:\\A756805\\Anaconda3\\envs\\marathon\\lib\\site-packages\\pandas\\core\\frame.py\u001b[0m in \u001b[0;36m__init__\u001b[1;34m(self, data, index, columns, dtype, copy)\u001b[0m\n\u001b[0;32m    527\u001b[0m \u001b[1;33m\u001b[0m\u001b[0m\n\u001b[0;32m    528\u001b[0m         \u001b[1;32melif\u001b[0m \u001b[0misinstance\u001b[0m\u001b[1;33m(\u001b[0m\u001b[0mdata\u001b[0m\u001b[1;33m,\u001b[0m \u001b[0mdict\u001b[0m\u001b[1;33m)\u001b[0m\u001b[1;33m:\u001b[0m\u001b[1;33m\u001b[0m\u001b[1;33m\u001b[0m\u001b[0m\n\u001b[1;32m--> 529\u001b[1;33m             \u001b[0mmgr\u001b[0m \u001b[1;33m=\u001b[0m \u001b[0minit_dict\u001b[0m\u001b[1;33m(\u001b[0m\u001b[0mdata\u001b[0m\u001b[1;33m,\u001b[0m \u001b[0mindex\u001b[0m\u001b[1;33m,\u001b[0m \u001b[0mcolumns\u001b[0m\u001b[1;33m,\u001b[0m \u001b[0mdtype\u001b[0m\u001b[1;33m=\u001b[0m\u001b[0mdtype\u001b[0m\u001b[1;33m)\u001b[0m\u001b[1;33m\u001b[0m\u001b[1;33m\u001b[0m\u001b[0m\n\u001b[0m\u001b[0;32m    530\u001b[0m         \u001b[1;32melif\u001b[0m \u001b[0misinstance\u001b[0m\u001b[1;33m(\u001b[0m\u001b[0mdata\u001b[0m\u001b[1;33m,\u001b[0m \u001b[0mma\u001b[0m\u001b[1;33m.\u001b[0m\u001b[0mMaskedArray\u001b[0m\u001b[1;33m)\u001b[0m\u001b[1;33m:\u001b[0m\u001b[1;33m\u001b[0m\u001b[1;33m\u001b[0m\u001b[0m\n\u001b[0;32m    531\u001b[0m             \u001b[1;32mimport\u001b[0m \u001b[0mnumpy\u001b[0m\u001b[1;33m.\u001b[0m\u001b[0mma\u001b[0m\u001b[1;33m.\u001b[0m\u001b[0mmrecords\u001b[0m \u001b[1;32mas\u001b[0m \u001b[0mmrecords\u001b[0m\u001b[1;33m\u001b[0m\u001b[1;33m\u001b[0m\u001b[0m\n",
      "\u001b[1;32mD:\\A756805\\Anaconda3\\envs\\marathon\\lib\\site-packages\\pandas\\core\\internals\\construction.py\u001b[0m in \u001b[0;36minit_dict\u001b[1;34m(data, index, columns, dtype)\u001b[0m\n\u001b[0;32m    285\u001b[0m             \u001b[0marr\u001b[0m \u001b[1;32mif\u001b[0m \u001b[1;32mnot\u001b[0m \u001b[0mis_datetime64tz_dtype\u001b[0m\u001b[1;33m(\u001b[0m\u001b[0marr\u001b[0m\u001b[1;33m)\u001b[0m \u001b[1;32melse\u001b[0m \u001b[0marr\u001b[0m\u001b[1;33m.\u001b[0m\u001b[0mcopy\u001b[0m\u001b[1;33m(\u001b[0m\u001b[1;33m)\u001b[0m \u001b[1;32mfor\u001b[0m \u001b[0marr\u001b[0m \u001b[1;32min\u001b[0m \u001b[0marrays\u001b[0m\u001b[1;33m\u001b[0m\u001b[1;33m\u001b[0m\u001b[0m\n\u001b[0;32m    286\u001b[0m         ]\n\u001b[1;32m--> 287\u001b[1;33m     \u001b[1;32mreturn\u001b[0m \u001b[0marrays_to_mgr\u001b[0m\u001b[1;33m(\u001b[0m\u001b[0marrays\u001b[0m\u001b[1;33m,\u001b[0m \u001b[0mdata_names\u001b[0m\u001b[1;33m,\u001b[0m \u001b[0mindex\u001b[0m\u001b[1;33m,\u001b[0m \u001b[0mcolumns\u001b[0m\u001b[1;33m,\u001b[0m \u001b[0mdtype\u001b[0m\u001b[1;33m=\u001b[0m\u001b[0mdtype\u001b[0m\u001b[1;33m)\u001b[0m\u001b[1;33m\u001b[0m\u001b[1;33m\u001b[0m\u001b[0m\n\u001b[0m\u001b[0;32m    288\u001b[0m \u001b[1;33m\u001b[0m\u001b[0m\n\u001b[0;32m    289\u001b[0m \u001b[1;33m\u001b[0m\u001b[0m\n",
      "\u001b[1;32mD:\\A756805\\Anaconda3\\envs\\marathon\\lib\\site-packages\\pandas\\core\\internals\\construction.py\u001b[0m in \u001b[0;36marrays_to_mgr\u001b[1;34m(arrays, arr_names, index, columns, dtype, verify_integrity)\u001b[0m\n\u001b[0;32m     78\u001b[0m         \u001b[1;31m# figure out the index, if necessary\u001b[0m\u001b[1;33m\u001b[0m\u001b[1;33m\u001b[0m\u001b[1;33m\u001b[0m\u001b[0m\n\u001b[0;32m     79\u001b[0m         \u001b[1;32mif\u001b[0m \u001b[0mindex\u001b[0m \u001b[1;32mis\u001b[0m \u001b[1;32mNone\u001b[0m\u001b[1;33m:\u001b[0m\u001b[1;33m\u001b[0m\u001b[1;33m\u001b[0m\u001b[0m\n\u001b[1;32m---> 80\u001b[1;33m             \u001b[0mindex\u001b[0m \u001b[1;33m=\u001b[0m \u001b[0mextract_index\u001b[0m\u001b[1;33m(\u001b[0m\u001b[0marrays\u001b[0m\u001b[1;33m)\u001b[0m\u001b[1;33m\u001b[0m\u001b[1;33m\u001b[0m\u001b[0m\n\u001b[0m\u001b[0;32m     81\u001b[0m         \u001b[1;32melse\u001b[0m\u001b[1;33m:\u001b[0m\u001b[1;33m\u001b[0m\u001b[1;33m\u001b[0m\u001b[0m\n\u001b[0;32m     82\u001b[0m             \u001b[0mindex\u001b[0m \u001b[1;33m=\u001b[0m \u001b[0mensure_index\u001b[0m\u001b[1;33m(\u001b[0m\u001b[0mindex\u001b[0m\u001b[1;33m)\u001b[0m\u001b[1;33m\u001b[0m\u001b[1;33m\u001b[0m\u001b[0m\n",
      "\u001b[1;32mD:\\A756805\\Anaconda3\\envs\\marathon\\lib\\site-packages\\pandas\\core\\internals\\construction.py\u001b[0m in \u001b[0;36mextract_index\u001b[1;34m(data)\u001b[0m\n\u001b[0;32m    399\u001b[0m             \u001b[0mlengths\u001b[0m \u001b[1;33m=\u001b[0m \u001b[0mlist\u001b[0m\u001b[1;33m(\u001b[0m\u001b[0mset\u001b[0m\u001b[1;33m(\u001b[0m\u001b[0mraw_lengths\u001b[0m\u001b[1;33m)\u001b[0m\u001b[1;33m)\u001b[0m\u001b[1;33m\u001b[0m\u001b[1;33m\u001b[0m\u001b[0m\n\u001b[0;32m    400\u001b[0m             \u001b[1;32mif\u001b[0m \u001b[0mlen\u001b[0m\u001b[1;33m(\u001b[0m\u001b[0mlengths\u001b[0m\u001b[1;33m)\u001b[0m \u001b[1;33m>\u001b[0m \u001b[1;36m1\u001b[0m\u001b[1;33m:\u001b[0m\u001b[1;33m\u001b[0m\u001b[1;33m\u001b[0m\u001b[0m\n\u001b[1;32m--> 401\u001b[1;33m                 \u001b[1;32mraise\u001b[0m \u001b[0mValueError\u001b[0m\u001b[1;33m(\u001b[0m\u001b[1;34m\"arrays must all be same length\"\u001b[0m\u001b[1;33m)\u001b[0m\u001b[1;33m\u001b[0m\u001b[1;33m\u001b[0m\u001b[0m\n\u001b[0m\u001b[0;32m    402\u001b[0m \u001b[1;33m\u001b[0m\u001b[0m\n\u001b[0;32m    403\u001b[0m             \u001b[1;32mif\u001b[0m \u001b[0mhave_dicts\u001b[0m\u001b[1;33m:\u001b[0m\u001b[1;33m\u001b[0m\u001b[1;33m\u001b[0m\u001b[0m\n",
      "\u001b[1;31mValueError\u001b[0m: arrays must all be same length"
     ]
    }
   ],
   "source": [
    "\n",
    "df = pd.DataFrame({\"x\": umap_data[:,0], \"y\": umap_data[:, 1],\n",
    "                   \"Topic\": cluster.labels_ , \"Words\": all_words , \"Size\": frequencies})\n",
    "\n",
    "_plotly_topic_visualization(df)"
   ]
  },
  {
   "cell_type": "code",
   "execution_count": null,
   "metadata": {},
   "outputs": [],
   "source": [
    "# from bertopic import BERTopic\n",
    "\n",
    "# topic_model = BERTopic(embedding_model=\"xlm-r-bert-base-nli-stsb-mean-tokens\")\n",
    "# topics, _ = topic_model.fit_transform(data)\n",
    "# topic_model.get_topic_freq().head()"
   ]
  },
  {
   "cell_type": "code",
   "execution_count": 85,
   "metadata": {},
   "outputs": [
    {
     "data": {
      "text/html": [
       "<div>\n",
       "<style scoped>\n",
       "    .dataframe tbody tr th:only-of-type {\n",
       "        vertical-align: middle;\n",
       "    }\n",
       "\n",
       "    .dataframe tbody tr th {\n",
       "        vertical-align: top;\n",
       "    }\n",
       "\n",
       "    .dataframe thead th {\n",
       "        text-align: right;\n",
       "    }\n",
       "</style>\n",
       "<table border=\"1\" class=\"dataframe\">\n",
       "  <thead>\n",
       "    <tr style=\"text-align: right;\">\n",
       "      <th></th>\n",
       "      <th>Topic</th>\n",
       "      <th>Count</th>\n",
       "    </tr>\n",
       "  </thead>\n",
       "  <tbody>\n",
       "    <tr>\n",
       "      <th>0</th>\n",
       "      <td>-1</td>\n",
       "      <td>236</td>\n",
       "    </tr>\n",
       "    <tr>\n",
       "      <th>1</th>\n",
       "      <td>19</td>\n",
       "      <td>49</td>\n",
       "    </tr>\n",
       "    <tr>\n",
       "      <th>2</th>\n",
       "      <td>11</td>\n",
       "      <td>43</td>\n",
       "    </tr>\n",
       "    <tr>\n",
       "      <th>3</th>\n",
       "      <td>0</td>\n",
       "      <td>40</td>\n",
       "    </tr>\n",
       "    <tr>\n",
       "      <th>4</th>\n",
       "      <td>20</td>\n",
       "      <td>29</td>\n",
       "    </tr>\n",
       "  </tbody>\n",
       "</table>\n",
       "</div>"
      ],
      "text/plain": [
       "   Topic  Count\n",
       "0     -1    236\n",
       "1     19     49\n",
       "2     11     43\n",
       "3      0     40\n",
       "4     20     29"
      ]
     },
     "execution_count": 85,
     "metadata": {},
     "output_type": "execute_result"
    }
   ],
   "source": [
    "from bertopic import BERTopic\n",
    "\n",
    "cluster_model= hdbscan.HDBSCAN(min_cluster_size=5,\n",
    "                          metric='manhattan',                      \n",
    "                          cluster_selection_method='eom')\n",
    "topic_model = BERTopic(\n",
    "        hdbscan_model= cluster_model\n",
    ")\n",
    "topics, _ = topic_model.fit_transform(data, embeddings)\n",
    "topic_model.get_topic_freq().head()"
   ]
  },
  {
   "cell_type": "code",
   "execution_count": 86,
   "metadata": {},
   "outputs": [
    {
     "data": {
      "application/vnd.plotly.v1+json": {
       "config": {
        "plotlyServerURL": "https://plot.ly"
       },
       "data": [
        {
         "customdata": [
          [
           2.639509916305542,
           8.037967681884766,
           0,
           "du | le | dans | par | qui",
           40
          ],
          [
           14.245277404785156,
           11.31281566619873,
           1,
           "el | psicologa | los | poltica | por",
           28
          ],
          [
           1.5104416608810425,
           6.145811557769775,
           2,
           "like | es | castoriadis | significations | macedo",
           6
          ],
          [
           10.869462966918945,
           -7.004027366638184,
           3,
           "racist | devoir | gabberskins | pcheurs | mmoire",
           5
          ],
          [
           3.6355037689208984,
           15.457840919494629,
           4,
           "libert | sionisme | izquierda | lgica | boliviana",
           7
          ],
          [
           3.951709747314453,
           14.683518409729004,
           5,
           "mort | puissance | terroriste | guerre | soldat",
           6
          ],
          [
           -8.862475395202637,
           -9.553160667419434,
           6,
           "intelligence | modle | stratgique | transdisciplinaire | model",
           7
          ],
          [
           2.0145208835601807,
           6.291696548461914,
           7,
           "linterdisciplinarit | interdisciplinarity | disciplines | science | classification",
           13
          ],
          [
           2.127004861831665,
           7.125510215759277,
           8,
           "donnes | ontologies | norme | recherche | informatiques",
           14
          ],
          [
           4.089874267578125,
           14.51726245880127,
           9,
           "langenus | soin | heidegger | quil | banalit",
           8
          ],
          [
           3.67171049118042,
           15.408979415893555,
           10,
           "lockedfalse | wlsdexception | unhidewhenusedtrue | semihiddentrue | nametable",
           24
          ],
          [
           14.962138175964355,
           0.29042792320251465,
           11,
           "social | to | and | une | nous",
           43
          ],
          [
           2.790010929107666,
           8.316302299499512,
           12,
           "sciences | guerre | une | du | lanthropocne",
           18
          ],
          [
           1.659066915512085,
           6.307308197021484,
           13,
           "transgression | societal | menaces | threats | socitales",
           11
          ],
          [
           10.750459671020508,
           -7.09666109085083,
           14,
           "written | french | franais | lcrit | celle",
           5
          ],
          [
           1.8595930337905884,
           6.695463180541992,
           15,
           "information | linformation | evaluation | gouvernance | lvaluation",
           6
          ],
          [
           15.478025436401367,
           0.8100376129150391,
           16,
           "colorblindness | colorconsciousness | passions | collective | collectif",
           6
          ],
          [
           -8.819524765014648,
           -9.510292053222656,
           17,
           "big | data | donnes | bim | organisations",
           11
          ],
          [
           1.8516954183578491,
           7.253208637237549,
           18,
           "changement | organisationnelles | organisation | transformation | organisationnel",
           9
          ],
          [
           2.286479949951172,
           7.765805244445801,
           19,
           "communication | interne | performance | sur | internal",
           49
          ],
          [
           9.868465423583984,
           -6.888585090637207,
           20,
           "langues | langue | dsir | universit | pour",
           29
          ],
          [
           5.114428520202637,
           3.654230833053589,
           21,
           "pen | gender | marine | sdo | masculine",
           8
          ],
          [
           15.259090423583984,
           0.5904895067214966,
           22,
           "sant | sante | est | une | patient",
           21
          ],
          [
           15.32872200012207,
           0.6597073078155518,
           23,
           "clinique | as | sujet | le | social",
           17
          ],
          [
           14.245269775390625,
           11.312827110290527,
           24,
           "las | el | del | los | que",
           19
          ],
          [
           -3.2523467540740967,
           13.289015769958496,
           25,
           "politique | politiques | crise | processus | participation",
           14
          ],
          [
           5.1145219802856445,
           3.654108762741089,
           26,
           "social | choices | representation | representations | is",
           7
          ],
          [
           10.047958374023438,
           -7.142734050750732,
           27,
           "lves | in | allophones | allophone | dans",
           23
          ],
          [
           4.192667007446289,
           14.8662109375,
           28,
           "camp | camps | dtenus | neuengamme | ne",
           7
          ],
          [
           10.347334861755371,
           -7.436763763427734,
           29,
           "language | in | to | lves | didactique",
           8
          ],
          [
           10.603741645812988,
           -7.777655124664307,
           30,
           "writing | in | language | students | fle",
           12
          ],
          [
           10.720982551574707,
           -7.926486492156982,
           31,
           "quitable | commerce | douira | territoire | socioconomiques",
           9
          ],
          [
           1.8235023021697998,
           5.97542142868042,
           32,
           "crise | symptmes | economic | allemande | crisis",
           7
          ],
          [
           -3.2055745124816895,
           13.335856437683105,
           33,
           "religion | sur | par | qui | du",
           22
          ],
          [
           3.5558884143829346,
           15.238565444946289,
           34,
           "dmocratie | dexception | biopolitique | peuple | dmocratique",
           9
          ],
          [
           9.762954711914062,
           -6.776158332824707,
           35,
           "african | classes | and | africaine | lunit",
           7
          ]
         ],
         "hovertemplate": "<b>Topic %{customdata[2]}</b><br>Words: %{customdata[3]}<br>Size: %{customdata[4]}",
         "legendgroup": "",
         "marker": {
          "color": "#B0BEC5",
          "line": {
           "color": "DarkSlateGrey",
           "width": 2
          },
          "size": [
           40,
           28,
           6,
           5,
           7,
           6,
           7,
           13,
           14,
           8,
           24,
           43,
           18,
           11,
           5,
           6,
           6,
           11,
           9,
           49,
           29,
           8,
           21,
           17,
           19,
           14,
           7,
           23,
           7,
           8,
           12,
           9,
           7,
           22,
           9,
           7
          ],
          "sizemode": "area",
          "sizeref": 0.030625,
          "symbol": "circle"
         },
         "mode": "markers",
         "name": "",
         "orientation": "v",
         "showlegend": false,
         "type": "scatter",
         "x": [
          2.639509916305542,
          14.245277404785156,
          1.5104416608810425,
          10.869462966918945,
          3.6355037689208984,
          3.951709747314453,
          -8.862475395202637,
          2.0145208835601807,
          2.127004861831665,
          4.089874267578125,
          3.67171049118042,
          14.962138175964355,
          2.790010929107666,
          1.659066915512085,
          10.750459671020508,
          1.8595930337905884,
          15.478025436401367,
          -8.819524765014648,
          1.8516954183578491,
          2.286479949951172,
          9.868465423583984,
          5.114428520202637,
          15.259090423583984,
          15.32872200012207,
          14.245269775390625,
          -3.2523467540740967,
          5.1145219802856445,
          10.047958374023438,
          4.192667007446289,
          10.347334861755371,
          10.603741645812988,
          10.720982551574707,
          1.8235023021697998,
          -3.2055745124816895,
          3.5558884143829346,
          9.762954711914062
         ],
         "xaxis": "x",
         "y": [
          8.037967681884766,
          11.31281566619873,
          6.145811557769775,
          -7.004027366638184,
          15.457840919494629,
          14.683518409729004,
          -9.553160667419434,
          6.291696548461914,
          7.125510215759277,
          14.51726245880127,
          15.408979415893555,
          0.29042792320251465,
          8.316302299499512,
          6.307308197021484,
          -7.09666109085083,
          6.695463180541992,
          0.8100376129150391,
          -9.510292053222656,
          7.253208637237549,
          7.765805244445801,
          -6.888585090637207,
          3.654230833053589,
          0.5904895067214966,
          0.6597073078155518,
          11.312827110290527,
          13.289015769958496,
          3.654108762741089,
          -7.142734050750732,
          14.8662109375,
          -7.436763763427734,
          -7.777655124664307,
          -7.926486492156982,
          5.97542142868042,
          13.335856437683105,
          15.238565444946289,
          -6.776158332824707
         ],
         "yaxis": "y"
        }
       ],
       "layout": {
        "annotations": [
         {
          "showarrow": false,
          "text": "D1",
          "x": -10.191846704483032,
          "y": 3.3951911449432366,
          "yshift": 10
         },
         {
          "showarrow": false,
          "text": "D2",
          "x": 3.8039412736892695,
          "xshift": 10,
          "y": 17.776517057418822
         }
        ],
        "height": 650,
        "hoverlabel": {
         "bgcolor": "white",
         "font": {
          "family": "Rockwell",
          "size": 16
         }
        },
        "legend": {
         "itemsizing": "constant",
         "tracegroupgap": 0
        },
        "margin": {
         "t": 60
        },
        "shapes": [
         {
          "line": {
           "color": "#CFD8DC",
           "width": 2
          },
          "type": "line",
          "x0": 3.8039412736892695,
          "x1": 3.8039412736892695,
          "y0": -10.986134767532349,
          "y1": 17.776517057418822
         },
         {
          "line": {
           "color": "#9E9E9E",
           "width": 2
          },
          "type": "line",
          "x0": -10.191846704483032,
          "x1": 17.79972925186157,
          "y0": 3.3951911449432366,
          "y1": 3.3951911449432366
         }
        ],
        "sliders": [
         {
          "active": 0,
          "pad": {
           "t": 50
          },
          "steps": [
           {
            "args": [
             {
              "marker.color": [
               [
                "red",
                "#B0BEC5",
                "#B0BEC5",
                "#B0BEC5",
                "#B0BEC5",
                "#B0BEC5",
                "#B0BEC5",
                "#B0BEC5",
                "#B0BEC5",
                "#B0BEC5",
                "#B0BEC5",
                "#B0BEC5",
                "#B0BEC5",
                "#B0BEC5",
                "#B0BEC5",
                "#B0BEC5",
                "#B0BEC5",
                "#B0BEC5",
                "#B0BEC5",
                "#B0BEC5",
                "#B0BEC5",
                "#B0BEC5",
                "#B0BEC5",
                "#B0BEC5",
                "#B0BEC5",
                "#B0BEC5",
                "#B0BEC5",
                "#B0BEC5",
                "#B0BEC5",
                "#B0BEC5",
                "#B0BEC5",
                "#B0BEC5",
                "#B0BEC5",
                "#B0BEC5",
                "#B0BEC5",
                "#B0BEC5"
               ]
              ]
             }
            ],
            "label": "Topic 0",
            "method": "update"
           },
           {
            "args": [
             {
              "marker.color": [
               [
                "#B0BEC5",
                "red",
                "#B0BEC5",
                "#B0BEC5",
                "#B0BEC5",
                "#B0BEC5",
                "#B0BEC5",
                "#B0BEC5",
                "#B0BEC5",
                "#B0BEC5",
                "#B0BEC5",
                "#B0BEC5",
                "#B0BEC5",
                "#B0BEC5",
                "#B0BEC5",
                "#B0BEC5",
                "#B0BEC5",
                "#B0BEC5",
                "#B0BEC5",
                "#B0BEC5",
                "#B0BEC5",
                "#B0BEC5",
                "#B0BEC5",
                "#B0BEC5",
                "#B0BEC5",
                "#B0BEC5",
                "#B0BEC5",
                "#B0BEC5",
                "#B0BEC5",
                "#B0BEC5",
                "#B0BEC5",
                "#B0BEC5",
                "#B0BEC5",
                "#B0BEC5",
                "#B0BEC5",
                "#B0BEC5"
               ]
              ]
             }
            ],
            "label": "Topic 1",
            "method": "update"
           },
           {
            "args": [
             {
              "marker.color": [
               [
                "#B0BEC5",
                "#B0BEC5",
                "red",
                "#B0BEC5",
                "#B0BEC5",
                "#B0BEC5",
                "#B0BEC5",
                "#B0BEC5",
                "#B0BEC5",
                "#B0BEC5",
                "#B0BEC5",
                "#B0BEC5",
                "#B0BEC5",
                "#B0BEC5",
                "#B0BEC5",
                "#B0BEC5",
                "#B0BEC5",
                "#B0BEC5",
                "#B0BEC5",
                "#B0BEC5",
                "#B0BEC5",
                "#B0BEC5",
                "#B0BEC5",
                "#B0BEC5",
                "#B0BEC5",
                "#B0BEC5",
                "#B0BEC5",
                "#B0BEC5",
                "#B0BEC5",
                "#B0BEC5",
                "#B0BEC5",
                "#B0BEC5",
                "#B0BEC5",
                "#B0BEC5",
                "#B0BEC5",
                "#B0BEC5"
               ]
              ]
             }
            ],
            "label": "Topic 2",
            "method": "update"
           },
           {
            "args": [
             {
              "marker.color": [
               [
                "#B0BEC5",
                "#B0BEC5",
                "#B0BEC5",
                "red",
                "#B0BEC5",
                "#B0BEC5",
                "#B0BEC5",
                "#B0BEC5",
                "#B0BEC5",
                "#B0BEC5",
                "#B0BEC5",
                "#B0BEC5",
                "#B0BEC5",
                "#B0BEC5",
                "#B0BEC5",
                "#B0BEC5",
                "#B0BEC5",
                "#B0BEC5",
                "#B0BEC5",
                "#B0BEC5",
                "#B0BEC5",
                "#B0BEC5",
                "#B0BEC5",
                "#B0BEC5",
                "#B0BEC5",
                "#B0BEC5",
                "#B0BEC5",
                "#B0BEC5",
                "#B0BEC5",
                "#B0BEC5",
                "#B0BEC5",
                "#B0BEC5",
                "#B0BEC5",
                "#B0BEC5",
                "#B0BEC5",
                "#B0BEC5"
               ]
              ]
             }
            ],
            "label": "Topic 3",
            "method": "update"
           },
           {
            "args": [
             {
              "marker.color": [
               [
                "#B0BEC5",
                "#B0BEC5",
                "#B0BEC5",
                "#B0BEC5",
                "red",
                "#B0BEC5",
                "#B0BEC5",
                "#B0BEC5",
                "#B0BEC5",
                "#B0BEC5",
                "#B0BEC5",
                "#B0BEC5",
                "#B0BEC5",
                "#B0BEC5",
                "#B0BEC5",
                "#B0BEC5",
                "#B0BEC5",
                "#B0BEC5",
                "#B0BEC5",
                "#B0BEC5",
                "#B0BEC5",
                "#B0BEC5",
                "#B0BEC5",
                "#B0BEC5",
                "#B0BEC5",
                "#B0BEC5",
                "#B0BEC5",
                "#B0BEC5",
                "#B0BEC5",
                "#B0BEC5",
                "#B0BEC5",
                "#B0BEC5",
                "#B0BEC5",
                "#B0BEC5",
                "#B0BEC5",
                "#B0BEC5"
               ]
              ]
             }
            ],
            "label": "Topic 4",
            "method": "update"
           },
           {
            "args": [
             {
              "marker.color": [
               [
                "#B0BEC5",
                "#B0BEC5",
                "#B0BEC5",
                "#B0BEC5",
                "#B0BEC5",
                "red",
                "#B0BEC5",
                "#B0BEC5",
                "#B0BEC5",
                "#B0BEC5",
                "#B0BEC5",
                "#B0BEC5",
                "#B0BEC5",
                "#B0BEC5",
                "#B0BEC5",
                "#B0BEC5",
                "#B0BEC5",
                "#B0BEC5",
                "#B0BEC5",
                "#B0BEC5",
                "#B0BEC5",
                "#B0BEC5",
                "#B0BEC5",
                "#B0BEC5",
                "#B0BEC5",
                "#B0BEC5",
                "#B0BEC5",
                "#B0BEC5",
                "#B0BEC5",
                "#B0BEC5",
                "#B0BEC5",
                "#B0BEC5",
                "#B0BEC5",
                "#B0BEC5",
                "#B0BEC5",
                "#B0BEC5"
               ]
              ]
             }
            ],
            "label": "Topic 5",
            "method": "update"
           },
           {
            "args": [
             {
              "marker.color": [
               [
                "#B0BEC5",
                "#B0BEC5",
                "#B0BEC5",
                "#B0BEC5",
                "#B0BEC5",
                "#B0BEC5",
                "red",
                "#B0BEC5",
                "#B0BEC5",
                "#B0BEC5",
                "#B0BEC5",
                "#B0BEC5",
                "#B0BEC5",
                "#B0BEC5",
                "#B0BEC5",
                "#B0BEC5",
                "#B0BEC5",
                "#B0BEC5",
                "#B0BEC5",
                "#B0BEC5",
                "#B0BEC5",
                "#B0BEC5",
                "#B0BEC5",
                "#B0BEC5",
                "#B0BEC5",
                "#B0BEC5",
                "#B0BEC5",
                "#B0BEC5",
                "#B0BEC5",
                "#B0BEC5",
                "#B0BEC5",
                "#B0BEC5",
                "#B0BEC5",
                "#B0BEC5",
                "#B0BEC5",
                "#B0BEC5"
               ]
              ]
             }
            ],
            "label": "Topic 6",
            "method": "update"
           },
           {
            "args": [
             {
              "marker.color": [
               [
                "#B0BEC5",
                "#B0BEC5",
                "#B0BEC5",
                "#B0BEC5",
                "#B0BEC5",
                "#B0BEC5",
                "#B0BEC5",
                "red",
                "#B0BEC5",
                "#B0BEC5",
                "#B0BEC5",
                "#B0BEC5",
                "#B0BEC5",
                "#B0BEC5",
                "#B0BEC5",
                "#B0BEC5",
                "#B0BEC5",
                "#B0BEC5",
                "#B0BEC5",
                "#B0BEC5",
                "#B0BEC5",
                "#B0BEC5",
                "#B0BEC5",
                "#B0BEC5",
                "#B0BEC5",
                "#B0BEC5",
                "#B0BEC5",
                "#B0BEC5",
                "#B0BEC5",
                "#B0BEC5",
                "#B0BEC5",
                "#B0BEC5",
                "#B0BEC5",
                "#B0BEC5",
                "#B0BEC5",
                "#B0BEC5"
               ]
              ]
             }
            ],
            "label": "Topic 7",
            "method": "update"
           },
           {
            "args": [
             {
              "marker.color": [
               [
                "#B0BEC5",
                "#B0BEC5",
                "#B0BEC5",
                "#B0BEC5",
                "#B0BEC5",
                "#B0BEC5",
                "#B0BEC5",
                "#B0BEC5",
                "red",
                "#B0BEC5",
                "#B0BEC5",
                "#B0BEC5",
                "#B0BEC5",
                "#B0BEC5",
                "#B0BEC5",
                "#B0BEC5",
                "#B0BEC5",
                "#B0BEC5",
                "#B0BEC5",
                "#B0BEC5",
                "#B0BEC5",
                "#B0BEC5",
                "#B0BEC5",
                "#B0BEC5",
                "#B0BEC5",
                "#B0BEC5",
                "#B0BEC5",
                "#B0BEC5",
                "#B0BEC5",
                "#B0BEC5",
                "#B0BEC5",
                "#B0BEC5",
                "#B0BEC5",
                "#B0BEC5",
                "#B0BEC5",
                "#B0BEC5"
               ]
              ]
             }
            ],
            "label": "Topic 8",
            "method": "update"
           },
           {
            "args": [
             {
              "marker.color": [
               [
                "#B0BEC5",
                "#B0BEC5",
                "#B0BEC5",
                "#B0BEC5",
                "#B0BEC5",
                "#B0BEC5",
                "#B0BEC5",
                "#B0BEC5",
                "#B0BEC5",
                "red",
                "#B0BEC5",
                "#B0BEC5",
                "#B0BEC5",
                "#B0BEC5",
                "#B0BEC5",
                "#B0BEC5",
                "#B0BEC5",
                "#B0BEC5",
                "#B0BEC5",
                "#B0BEC5",
                "#B0BEC5",
                "#B0BEC5",
                "#B0BEC5",
                "#B0BEC5",
                "#B0BEC5",
                "#B0BEC5",
                "#B0BEC5",
                "#B0BEC5",
                "#B0BEC5",
                "#B0BEC5",
                "#B0BEC5",
                "#B0BEC5",
                "#B0BEC5",
                "#B0BEC5",
                "#B0BEC5",
                "#B0BEC5"
               ]
              ]
             }
            ],
            "label": "Topic 9",
            "method": "update"
           },
           {
            "args": [
             {
              "marker.color": [
               [
                "#B0BEC5",
                "#B0BEC5",
                "#B0BEC5",
                "#B0BEC5",
                "#B0BEC5",
                "#B0BEC5",
                "#B0BEC5",
                "#B0BEC5",
                "#B0BEC5",
                "#B0BEC5",
                "red",
                "#B0BEC5",
                "#B0BEC5",
                "#B0BEC5",
                "#B0BEC5",
                "#B0BEC5",
                "#B0BEC5",
                "#B0BEC5",
                "#B0BEC5",
                "#B0BEC5",
                "#B0BEC5",
                "#B0BEC5",
                "#B0BEC5",
                "#B0BEC5",
                "#B0BEC5",
                "#B0BEC5",
                "#B0BEC5",
                "#B0BEC5",
                "#B0BEC5",
                "#B0BEC5",
                "#B0BEC5",
                "#B0BEC5",
                "#B0BEC5",
                "#B0BEC5",
                "#B0BEC5",
                "#B0BEC5"
               ]
              ]
             }
            ],
            "label": "Topic 10",
            "method": "update"
           },
           {
            "args": [
             {
              "marker.color": [
               [
                "#B0BEC5",
                "#B0BEC5",
                "#B0BEC5",
                "#B0BEC5",
                "#B0BEC5",
                "#B0BEC5",
                "#B0BEC5",
                "#B0BEC5",
                "#B0BEC5",
                "#B0BEC5",
                "#B0BEC5",
                "red",
                "#B0BEC5",
                "#B0BEC5",
                "#B0BEC5",
                "#B0BEC5",
                "#B0BEC5",
                "#B0BEC5",
                "#B0BEC5",
                "#B0BEC5",
                "#B0BEC5",
                "#B0BEC5",
                "#B0BEC5",
                "#B0BEC5",
                "#B0BEC5",
                "#B0BEC5",
                "#B0BEC5",
                "#B0BEC5",
                "#B0BEC5",
                "#B0BEC5",
                "#B0BEC5",
                "#B0BEC5",
                "#B0BEC5",
                "#B0BEC5",
                "#B0BEC5",
                "#B0BEC5"
               ]
              ]
             }
            ],
            "label": "Topic 11",
            "method": "update"
           },
           {
            "args": [
             {
              "marker.color": [
               [
                "#B0BEC5",
                "#B0BEC5",
                "#B0BEC5",
                "#B0BEC5",
                "#B0BEC5",
                "#B0BEC5",
                "#B0BEC5",
                "#B0BEC5",
                "#B0BEC5",
                "#B0BEC5",
                "#B0BEC5",
                "#B0BEC5",
                "red",
                "#B0BEC5",
                "#B0BEC5",
                "#B0BEC5",
                "#B0BEC5",
                "#B0BEC5",
                "#B0BEC5",
                "#B0BEC5",
                "#B0BEC5",
                "#B0BEC5",
                "#B0BEC5",
                "#B0BEC5",
                "#B0BEC5",
                "#B0BEC5",
                "#B0BEC5",
                "#B0BEC5",
                "#B0BEC5",
                "#B0BEC5",
                "#B0BEC5",
                "#B0BEC5",
                "#B0BEC5",
                "#B0BEC5",
                "#B0BEC5",
                "#B0BEC5"
               ]
              ]
             }
            ],
            "label": "Topic 12",
            "method": "update"
           },
           {
            "args": [
             {
              "marker.color": [
               [
                "#B0BEC5",
                "#B0BEC5",
                "#B0BEC5",
                "#B0BEC5",
                "#B0BEC5",
                "#B0BEC5",
                "#B0BEC5",
                "#B0BEC5",
                "#B0BEC5",
                "#B0BEC5",
                "#B0BEC5",
                "#B0BEC5",
                "#B0BEC5",
                "red",
                "#B0BEC5",
                "#B0BEC5",
                "#B0BEC5",
                "#B0BEC5",
                "#B0BEC5",
                "#B0BEC5",
                "#B0BEC5",
                "#B0BEC5",
                "#B0BEC5",
                "#B0BEC5",
                "#B0BEC5",
                "#B0BEC5",
                "#B0BEC5",
                "#B0BEC5",
                "#B0BEC5",
                "#B0BEC5",
                "#B0BEC5",
                "#B0BEC5",
                "#B0BEC5",
                "#B0BEC5",
                "#B0BEC5",
                "#B0BEC5"
               ]
              ]
             }
            ],
            "label": "Topic 13",
            "method": "update"
           },
           {
            "args": [
             {
              "marker.color": [
               [
                "#B0BEC5",
                "#B0BEC5",
                "#B0BEC5",
                "#B0BEC5",
                "#B0BEC5",
                "#B0BEC5",
                "#B0BEC5",
                "#B0BEC5",
                "#B0BEC5",
                "#B0BEC5",
                "#B0BEC5",
                "#B0BEC5",
                "#B0BEC5",
                "#B0BEC5",
                "red",
                "#B0BEC5",
                "#B0BEC5",
                "#B0BEC5",
                "#B0BEC5",
                "#B0BEC5",
                "#B0BEC5",
                "#B0BEC5",
                "#B0BEC5",
                "#B0BEC5",
                "#B0BEC5",
                "#B0BEC5",
                "#B0BEC5",
                "#B0BEC5",
                "#B0BEC5",
                "#B0BEC5",
                "#B0BEC5",
                "#B0BEC5",
                "#B0BEC5",
                "#B0BEC5",
                "#B0BEC5",
                "#B0BEC5"
               ]
              ]
             }
            ],
            "label": "Topic 14",
            "method": "update"
           },
           {
            "args": [
             {
              "marker.color": [
               [
                "#B0BEC5",
                "#B0BEC5",
                "#B0BEC5",
                "#B0BEC5",
                "#B0BEC5",
                "#B0BEC5",
                "#B0BEC5",
                "#B0BEC5",
                "#B0BEC5",
                "#B0BEC5",
                "#B0BEC5",
                "#B0BEC5",
                "#B0BEC5",
                "#B0BEC5",
                "#B0BEC5",
                "red",
                "#B0BEC5",
                "#B0BEC5",
                "#B0BEC5",
                "#B0BEC5",
                "#B0BEC5",
                "#B0BEC5",
                "#B0BEC5",
                "#B0BEC5",
                "#B0BEC5",
                "#B0BEC5",
                "#B0BEC5",
                "#B0BEC5",
                "#B0BEC5",
                "#B0BEC5",
                "#B0BEC5",
                "#B0BEC5",
                "#B0BEC5",
                "#B0BEC5",
                "#B0BEC5",
                "#B0BEC5"
               ]
              ]
             }
            ],
            "label": "Topic 15",
            "method": "update"
           },
           {
            "args": [
             {
              "marker.color": [
               [
                "#B0BEC5",
                "#B0BEC5",
                "#B0BEC5",
                "#B0BEC5",
                "#B0BEC5",
                "#B0BEC5",
                "#B0BEC5",
                "#B0BEC5",
                "#B0BEC5",
                "#B0BEC5",
                "#B0BEC5",
                "#B0BEC5",
                "#B0BEC5",
                "#B0BEC5",
                "#B0BEC5",
                "#B0BEC5",
                "red",
                "#B0BEC5",
                "#B0BEC5",
                "#B0BEC5",
                "#B0BEC5",
                "#B0BEC5",
                "#B0BEC5",
                "#B0BEC5",
                "#B0BEC5",
                "#B0BEC5",
                "#B0BEC5",
                "#B0BEC5",
                "#B0BEC5",
                "#B0BEC5",
                "#B0BEC5",
                "#B0BEC5",
                "#B0BEC5",
                "#B0BEC5",
                "#B0BEC5",
                "#B0BEC5"
               ]
              ]
             }
            ],
            "label": "Topic 16",
            "method": "update"
           },
           {
            "args": [
             {
              "marker.color": [
               [
                "#B0BEC5",
                "#B0BEC5",
                "#B0BEC5",
                "#B0BEC5",
                "#B0BEC5",
                "#B0BEC5",
                "#B0BEC5",
                "#B0BEC5",
                "#B0BEC5",
                "#B0BEC5",
                "#B0BEC5",
                "#B0BEC5",
                "#B0BEC5",
                "#B0BEC5",
                "#B0BEC5",
                "#B0BEC5",
                "#B0BEC5",
                "red",
                "#B0BEC5",
                "#B0BEC5",
                "#B0BEC5",
                "#B0BEC5",
                "#B0BEC5",
                "#B0BEC5",
                "#B0BEC5",
                "#B0BEC5",
                "#B0BEC5",
                "#B0BEC5",
                "#B0BEC5",
                "#B0BEC5",
                "#B0BEC5",
                "#B0BEC5",
                "#B0BEC5",
                "#B0BEC5",
                "#B0BEC5",
                "#B0BEC5"
               ]
              ]
             }
            ],
            "label": "Topic 17",
            "method": "update"
           },
           {
            "args": [
             {
              "marker.color": [
               [
                "#B0BEC5",
                "#B0BEC5",
                "#B0BEC5",
                "#B0BEC5",
                "#B0BEC5",
                "#B0BEC5",
                "#B0BEC5",
                "#B0BEC5",
                "#B0BEC5",
                "#B0BEC5",
                "#B0BEC5",
                "#B0BEC5",
                "#B0BEC5",
                "#B0BEC5",
                "#B0BEC5",
                "#B0BEC5",
                "#B0BEC5",
                "#B0BEC5",
                "red",
                "#B0BEC5",
                "#B0BEC5",
                "#B0BEC5",
                "#B0BEC5",
                "#B0BEC5",
                "#B0BEC5",
                "#B0BEC5",
                "#B0BEC5",
                "#B0BEC5",
                "#B0BEC5",
                "#B0BEC5",
                "#B0BEC5",
                "#B0BEC5",
                "#B0BEC5",
                "#B0BEC5",
                "#B0BEC5",
                "#B0BEC5"
               ]
              ]
             }
            ],
            "label": "Topic 18",
            "method": "update"
           },
           {
            "args": [
             {
              "marker.color": [
               [
                "#B0BEC5",
                "#B0BEC5",
                "#B0BEC5",
                "#B0BEC5",
                "#B0BEC5",
                "#B0BEC5",
                "#B0BEC5",
                "#B0BEC5",
                "#B0BEC5",
                "#B0BEC5",
                "#B0BEC5",
                "#B0BEC5",
                "#B0BEC5",
                "#B0BEC5",
                "#B0BEC5",
                "#B0BEC5",
                "#B0BEC5",
                "#B0BEC5",
                "#B0BEC5",
                "red",
                "#B0BEC5",
                "#B0BEC5",
                "#B0BEC5",
                "#B0BEC5",
                "#B0BEC5",
                "#B0BEC5",
                "#B0BEC5",
                "#B0BEC5",
                "#B0BEC5",
                "#B0BEC5",
                "#B0BEC5",
                "#B0BEC5",
                "#B0BEC5",
                "#B0BEC5",
                "#B0BEC5",
                "#B0BEC5"
               ]
              ]
             }
            ],
            "label": "Topic 19",
            "method": "update"
           },
           {
            "args": [
             {
              "marker.color": [
               [
                "#B0BEC5",
                "#B0BEC5",
                "#B0BEC5",
                "#B0BEC5",
                "#B0BEC5",
                "#B0BEC5",
                "#B0BEC5",
                "#B0BEC5",
                "#B0BEC5",
                "#B0BEC5",
                "#B0BEC5",
                "#B0BEC5",
                "#B0BEC5",
                "#B0BEC5",
                "#B0BEC5",
                "#B0BEC5",
                "#B0BEC5",
                "#B0BEC5",
                "#B0BEC5",
                "#B0BEC5",
                "red",
                "#B0BEC5",
                "#B0BEC5",
                "#B0BEC5",
                "#B0BEC5",
                "#B0BEC5",
                "#B0BEC5",
                "#B0BEC5",
                "#B0BEC5",
                "#B0BEC5",
                "#B0BEC5",
                "#B0BEC5",
                "#B0BEC5",
                "#B0BEC5",
                "#B0BEC5",
                "#B0BEC5"
               ]
              ]
             }
            ],
            "label": "Topic 20",
            "method": "update"
           },
           {
            "args": [
             {
              "marker.color": [
               [
                "#B0BEC5",
                "#B0BEC5",
                "#B0BEC5",
                "#B0BEC5",
                "#B0BEC5",
                "#B0BEC5",
                "#B0BEC5",
                "#B0BEC5",
                "#B0BEC5",
                "#B0BEC5",
                "#B0BEC5",
                "#B0BEC5",
                "#B0BEC5",
                "#B0BEC5",
                "#B0BEC5",
                "#B0BEC5",
                "#B0BEC5",
                "#B0BEC5",
                "#B0BEC5",
                "#B0BEC5",
                "#B0BEC5",
                "red",
                "#B0BEC5",
                "#B0BEC5",
                "#B0BEC5",
                "#B0BEC5",
                "#B0BEC5",
                "#B0BEC5",
                "#B0BEC5",
                "#B0BEC5",
                "#B0BEC5",
                "#B0BEC5",
                "#B0BEC5",
                "#B0BEC5",
                "#B0BEC5",
                "#B0BEC5"
               ]
              ]
             }
            ],
            "label": "Topic 21",
            "method": "update"
           },
           {
            "args": [
             {
              "marker.color": [
               [
                "#B0BEC5",
                "#B0BEC5",
                "#B0BEC5",
                "#B0BEC5",
                "#B0BEC5",
                "#B0BEC5",
                "#B0BEC5",
                "#B0BEC5",
                "#B0BEC5",
                "#B0BEC5",
                "#B0BEC5",
                "#B0BEC5",
                "#B0BEC5",
                "#B0BEC5",
                "#B0BEC5",
                "#B0BEC5",
                "#B0BEC5",
                "#B0BEC5",
                "#B0BEC5",
                "#B0BEC5",
                "#B0BEC5",
                "#B0BEC5",
                "red",
                "#B0BEC5",
                "#B0BEC5",
                "#B0BEC5",
                "#B0BEC5",
                "#B0BEC5",
                "#B0BEC5",
                "#B0BEC5",
                "#B0BEC5",
                "#B0BEC5",
                "#B0BEC5",
                "#B0BEC5",
                "#B0BEC5",
                "#B0BEC5"
               ]
              ]
             }
            ],
            "label": "Topic 22",
            "method": "update"
           },
           {
            "args": [
             {
              "marker.color": [
               [
                "#B0BEC5",
                "#B0BEC5",
                "#B0BEC5",
                "#B0BEC5",
                "#B0BEC5",
                "#B0BEC5",
                "#B0BEC5",
                "#B0BEC5",
                "#B0BEC5",
                "#B0BEC5",
                "#B0BEC5",
                "#B0BEC5",
                "#B0BEC5",
                "#B0BEC5",
                "#B0BEC5",
                "#B0BEC5",
                "#B0BEC5",
                "#B0BEC5",
                "#B0BEC5",
                "#B0BEC5",
                "#B0BEC5",
                "#B0BEC5",
                "#B0BEC5",
                "red",
                "#B0BEC5",
                "#B0BEC5",
                "#B0BEC5",
                "#B0BEC5",
                "#B0BEC5",
                "#B0BEC5",
                "#B0BEC5",
                "#B0BEC5",
                "#B0BEC5",
                "#B0BEC5",
                "#B0BEC5",
                "#B0BEC5"
               ]
              ]
             }
            ],
            "label": "Topic 23",
            "method": "update"
           },
           {
            "args": [
             {
              "marker.color": [
               [
                "#B0BEC5",
                "#B0BEC5",
                "#B0BEC5",
                "#B0BEC5",
                "#B0BEC5",
                "#B0BEC5",
                "#B0BEC5",
                "#B0BEC5",
                "#B0BEC5",
                "#B0BEC5",
                "#B0BEC5",
                "#B0BEC5",
                "#B0BEC5",
                "#B0BEC5",
                "#B0BEC5",
                "#B0BEC5",
                "#B0BEC5",
                "#B0BEC5",
                "#B0BEC5",
                "#B0BEC5",
                "#B0BEC5",
                "#B0BEC5",
                "#B0BEC5",
                "#B0BEC5",
                "red",
                "#B0BEC5",
                "#B0BEC5",
                "#B0BEC5",
                "#B0BEC5",
                "#B0BEC5",
                "#B0BEC5",
                "#B0BEC5",
                "#B0BEC5",
                "#B0BEC5",
                "#B0BEC5",
                "#B0BEC5"
               ]
              ]
             }
            ],
            "label": "Topic 24",
            "method": "update"
           },
           {
            "args": [
             {
              "marker.color": [
               [
                "#B0BEC5",
                "#B0BEC5",
                "#B0BEC5",
                "#B0BEC5",
                "#B0BEC5",
                "#B0BEC5",
                "#B0BEC5",
                "#B0BEC5",
                "#B0BEC5",
                "#B0BEC5",
                "#B0BEC5",
                "#B0BEC5",
                "#B0BEC5",
                "#B0BEC5",
                "#B0BEC5",
                "#B0BEC5",
                "#B0BEC5",
                "#B0BEC5",
                "#B0BEC5",
                "#B0BEC5",
                "#B0BEC5",
                "#B0BEC5",
                "#B0BEC5",
                "#B0BEC5",
                "#B0BEC5",
                "red",
                "#B0BEC5",
                "#B0BEC5",
                "#B0BEC5",
                "#B0BEC5",
                "#B0BEC5",
                "#B0BEC5",
                "#B0BEC5",
                "#B0BEC5",
                "#B0BEC5",
                "#B0BEC5"
               ]
              ]
             }
            ],
            "label": "Topic 25",
            "method": "update"
           },
           {
            "args": [
             {
              "marker.color": [
               [
                "#B0BEC5",
                "#B0BEC5",
                "#B0BEC5",
                "#B0BEC5",
                "#B0BEC5",
                "#B0BEC5",
                "#B0BEC5",
                "#B0BEC5",
                "#B0BEC5",
                "#B0BEC5",
                "#B0BEC5",
                "#B0BEC5",
                "#B0BEC5",
                "#B0BEC5",
                "#B0BEC5",
                "#B0BEC5",
                "#B0BEC5",
                "#B0BEC5",
                "#B0BEC5",
                "#B0BEC5",
                "#B0BEC5",
                "#B0BEC5",
                "#B0BEC5",
                "#B0BEC5",
                "#B0BEC5",
                "#B0BEC5",
                "red",
                "#B0BEC5",
                "#B0BEC5",
                "#B0BEC5",
                "#B0BEC5",
                "#B0BEC5",
                "#B0BEC5",
                "#B0BEC5",
                "#B0BEC5",
                "#B0BEC5"
               ]
              ]
             }
            ],
            "label": "Topic 26",
            "method": "update"
           },
           {
            "args": [
             {
              "marker.color": [
               [
                "#B0BEC5",
                "#B0BEC5",
                "#B0BEC5",
                "#B0BEC5",
                "#B0BEC5",
                "#B0BEC5",
                "#B0BEC5",
                "#B0BEC5",
                "#B0BEC5",
                "#B0BEC5",
                "#B0BEC5",
                "#B0BEC5",
                "#B0BEC5",
                "#B0BEC5",
                "#B0BEC5",
                "#B0BEC5",
                "#B0BEC5",
                "#B0BEC5",
                "#B0BEC5",
                "#B0BEC5",
                "#B0BEC5",
                "#B0BEC5",
                "#B0BEC5",
                "#B0BEC5",
                "#B0BEC5",
                "#B0BEC5",
                "#B0BEC5",
                "red",
                "#B0BEC5",
                "#B0BEC5",
                "#B0BEC5",
                "#B0BEC5",
                "#B0BEC5",
                "#B0BEC5",
                "#B0BEC5",
                "#B0BEC5"
               ]
              ]
             }
            ],
            "label": "Topic 27",
            "method": "update"
           },
           {
            "args": [
             {
              "marker.color": [
               [
                "#B0BEC5",
                "#B0BEC5",
                "#B0BEC5",
                "#B0BEC5",
                "#B0BEC5",
                "#B0BEC5",
                "#B0BEC5",
                "#B0BEC5",
                "#B0BEC5",
                "#B0BEC5",
                "#B0BEC5",
                "#B0BEC5",
                "#B0BEC5",
                "#B0BEC5",
                "#B0BEC5",
                "#B0BEC5",
                "#B0BEC5",
                "#B0BEC5",
                "#B0BEC5",
                "#B0BEC5",
                "#B0BEC5",
                "#B0BEC5",
                "#B0BEC5",
                "#B0BEC5",
                "#B0BEC5",
                "#B0BEC5",
                "#B0BEC5",
                "#B0BEC5",
                "red",
                "#B0BEC5",
                "#B0BEC5",
                "#B0BEC5",
                "#B0BEC5",
                "#B0BEC5",
                "#B0BEC5",
                "#B0BEC5"
               ]
              ]
             }
            ],
            "label": "Topic 28",
            "method": "update"
           },
           {
            "args": [
             {
              "marker.color": [
               [
                "#B0BEC5",
                "#B0BEC5",
                "#B0BEC5",
                "#B0BEC5",
                "#B0BEC5",
                "#B0BEC5",
                "#B0BEC5",
                "#B0BEC5",
                "#B0BEC5",
                "#B0BEC5",
                "#B0BEC5",
                "#B0BEC5",
                "#B0BEC5",
                "#B0BEC5",
                "#B0BEC5",
                "#B0BEC5",
                "#B0BEC5",
                "#B0BEC5",
                "#B0BEC5",
                "#B0BEC5",
                "#B0BEC5",
                "#B0BEC5",
                "#B0BEC5",
                "#B0BEC5",
                "#B0BEC5",
                "#B0BEC5",
                "#B0BEC5",
                "#B0BEC5",
                "#B0BEC5",
                "red",
                "#B0BEC5",
                "#B0BEC5",
                "#B0BEC5",
                "#B0BEC5",
                "#B0BEC5",
                "#B0BEC5"
               ]
              ]
             }
            ],
            "label": "Topic 29",
            "method": "update"
           },
           {
            "args": [
             {
              "marker.color": [
               [
                "#B0BEC5",
                "#B0BEC5",
                "#B0BEC5",
                "#B0BEC5",
                "#B0BEC5",
                "#B0BEC5",
                "#B0BEC5",
                "#B0BEC5",
                "#B0BEC5",
                "#B0BEC5",
                "#B0BEC5",
                "#B0BEC5",
                "#B0BEC5",
                "#B0BEC5",
                "#B0BEC5",
                "#B0BEC5",
                "#B0BEC5",
                "#B0BEC5",
                "#B0BEC5",
                "#B0BEC5",
                "#B0BEC5",
                "#B0BEC5",
                "#B0BEC5",
                "#B0BEC5",
                "#B0BEC5",
                "#B0BEC5",
                "#B0BEC5",
                "#B0BEC5",
                "#B0BEC5",
                "#B0BEC5",
                "red",
                "#B0BEC5",
                "#B0BEC5",
                "#B0BEC5",
                "#B0BEC5",
                "#B0BEC5"
               ]
              ]
             }
            ],
            "label": "Topic 30",
            "method": "update"
           },
           {
            "args": [
             {
              "marker.color": [
               [
                "#B0BEC5",
                "#B0BEC5",
                "#B0BEC5",
                "#B0BEC5",
                "#B0BEC5",
                "#B0BEC5",
                "#B0BEC5",
                "#B0BEC5",
                "#B0BEC5",
                "#B0BEC5",
                "#B0BEC5",
                "#B0BEC5",
                "#B0BEC5",
                "#B0BEC5",
                "#B0BEC5",
                "#B0BEC5",
                "#B0BEC5",
                "#B0BEC5",
                "#B0BEC5",
                "#B0BEC5",
                "#B0BEC5",
                "#B0BEC5",
                "#B0BEC5",
                "#B0BEC5",
                "#B0BEC5",
                "#B0BEC5",
                "#B0BEC5",
                "#B0BEC5",
                "#B0BEC5",
                "#B0BEC5",
                "#B0BEC5",
                "red",
                "#B0BEC5",
                "#B0BEC5",
                "#B0BEC5",
                "#B0BEC5"
               ]
              ]
             }
            ],
            "label": "Topic 31",
            "method": "update"
           },
           {
            "args": [
             {
              "marker.color": [
               [
                "#B0BEC5",
                "#B0BEC5",
                "#B0BEC5",
                "#B0BEC5",
                "#B0BEC5",
                "#B0BEC5",
                "#B0BEC5",
                "#B0BEC5",
                "#B0BEC5",
                "#B0BEC5",
                "#B0BEC5",
                "#B0BEC5",
                "#B0BEC5",
                "#B0BEC5",
                "#B0BEC5",
                "#B0BEC5",
                "#B0BEC5",
                "#B0BEC5",
                "#B0BEC5",
                "#B0BEC5",
                "#B0BEC5",
                "#B0BEC5",
                "#B0BEC5",
                "#B0BEC5",
                "#B0BEC5",
                "#B0BEC5",
                "#B0BEC5",
                "#B0BEC5",
                "#B0BEC5",
                "#B0BEC5",
                "#B0BEC5",
                "#B0BEC5",
                "red",
                "#B0BEC5",
                "#B0BEC5",
                "#B0BEC5"
               ]
              ]
             }
            ],
            "label": "Topic 32",
            "method": "update"
           },
           {
            "args": [
             {
              "marker.color": [
               [
                "#B0BEC5",
                "#B0BEC5",
                "#B0BEC5",
                "#B0BEC5",
                "#B0BEC5",
                "#B0BEC5",
                "#B0BEC5",
                "#B0BEC5",
                "#B0BEC5",
                "#B0BEC5",
                "#B0BEC5",
                "#B0BEC5",
                "#B0BEC5",
                "#B0BEC5",
                "#B0BEC5",
                "#B0BEC5",
                "#B0BEC5",
                "#B0BEC5",
                "#B0BEC5",
                "#B0BEC5",
                "#B0BEC5",
                "#B0BEC5",
                "#B0BEC5",
                "#B0BEC5",
                "#B0BEC5",
                "#B0BEC5",
                "#B0BEC5",
                "#B0BEC5",
                "#B0BEC5",
                "#B0BEC5",
                "#B0BEC5",
                "#B0BEC5",
                "#B0BEC5",
                "red",
                "#B0BEC5",
                "#B0BEC5"
               ]
              ]
             }
            ],
            "label": "Topic 33",
            "method": "update"
           },
           {
            "args": [
             {
              "marker.color": [
               [
                "#B0BEC5",
                "#B0BEC5",
                "#B0BEC5",
                "#B0BEC5",
                "#B0BEC5",
                "#B0BEC5",
                "#B0BEC5",
                "#B0BEC5",
                "#B0BEC5",
                "#B0BEC5",
                "#B0BEC5",
                "#B0BEC5",
                "#B0BEC5",
                "#B0BEC5",
                "#B0BEC5",
                "#B0BEC5",
                "#B0BEC5",
                "#B0BEC5",
                "#B0BEC5",
                "#B0BEC5",
                "#B0BEC5",
                "#B0BEC5",
                "#B0BEC5",
                "#B0BEC5",
                "#B0BEC5",
                "#B0BEC5",
                "#B0BEC5",
                "#B0BEC5",
                "#B0BEC5",
                "#B0BEC5",
                "#B0BEC5",
                "#B0BEC5",
                "#B0BEC5",
                "#B0BEC5",
                "red",
                "#B0BEC5"
               ]
              ]
             }
            ],
            "label": "Topic 34",
            "method": "update"
           },
           {
            "args": [
             {
              "marker.color": [
               [
                "#B0BEC5",
                "#B0BEC5",
                "#B0BEC5",
                "#B0BEC5",
                "#B0BEC5",
                "#B0BEC5",
                "#B0BEC5",
                "#B0BEC5",
                "#B0BEC5",
                "#B0BEC5",
                "#B0BEC5",
                "#B0BEC5",
                "#B0BEC5",
                "#B0BEC5",
                "#B0BEC5",
                "#B0BEC5",
                "#B0BEC5",
                "#B0BEC5",
                "#B0BEC5",
                "#B0BEC5",
                "#B0BEC5",
                "#B0BEC5",
                "#B0BEC5",
                "#B0BEC5",
                "#B0BEC5",
                "#B0BEC5",
                "#B0BEC5",
                "#B0BEC5",
                "#B0BEC5",
                "#B0BEC5",
                "#B0BEC5",
                "#B0BEC5",
                "#B0BEC5",
                "#B0BEC5",
                "#B0BEC5",
                "red"
               ]
              ]
             }
            ],
            "label": "Topic 35",
            "method": "update"
           }
          ]
         }
        ],
        "template": {
         "data": {
          "bar": [
           {
            "error_x": {
             "color": "rgb(36,36,36)"
            },
            "error_y": {
             "color": "rgb(36,36,36)"
            },
            "marker": {
             "line": {
              "color": "white",
              "width": 0.5
             }
            },
            "type": "bar"
           }
          ],
          "barpolar": [
           {
            "marker": {
             "line": {
              "color": "white",
              "width": 0.5
             }
            },
            "type": "barpolar"
           }
          ],
          "carpet": [
           {
            "aaxis": {
             "endlinecolor": "rgb(36,36,36)",
             "gridcolor": "white",
             "linecolor": "white",
             "minorgridcolor": "white",
             "startlinecolor": "rgb(36,36,36)"
            },
            "baxis": {
             "endlinecolor": "rgb(36,36,36)",
             "gridcolor": "white",
             "linecolor": "white",
             "minorgridcolor": "white",
             "startlinecolor": "rgb(36,36,36)"
            },
            "type": "carpet"
           }
          ],
          "choropleth": [
           {
            "colorbar": {
             "outlinewidth": 1,
             "tickcolor": "rgb(36,36,36)",
             "ticks": "outside"
            },
            "type": "choropleth"
           }
          ],
          "contour": [
           {
            "colorbar": {
             "outlinewidth": 1,
             "tickcolor": "rgb(36,36,36)",
             "ticks": "outside"
            },
            "colorscale": [
             [
              0,
              "#440154"
             ],
             [
              0.1111111111111111,
              "#482878"
             ],
             [
              0.2222222222222222,
              "#3e4989"
             ],
             [
              0.3333333333333333,
              "#31688e"
             ],
             [
              0.4444444444444444,
              "#26828e"
             ],
             [
              0.5555555555555556,
              "#1f9e89"
             ],
             [
              0.6666666666666666,
              "#35b779"
             ],
             [
              0.7777777777777778,
              "#6ece58"
             ],
             [
              0.8888888888888888,
              "#b5de2b"
             ],
             [
              1,
              "#fde725"
             ]
            ],
            "type": "contour"
           }
          ],
          "contourcarpet": [
           {
            "colorbar": {
             "outlinewidth": 1,
             "tickcolor": "rgb(36,36,36)",
             "ticks": "outside"
            },
            "type": "contourcarpet"
           }
          ],
          "heatmap": [
           {
            "colorbar": {
             "outlinewidth": 1,
             "tickcolor": "rgb(36,36,36)",
             "ticks": "outside"
            },
            "colorscale": [
             [
              0,
              "#440154"
             ],
             [
              0.1111111111111111,
              "#482878"
             ],
             [
              0.2222222222222222,
              "#3e4989"
             ],
             [
              0.3333333333333333,
              "#31688e"
             ],
             [
              0.4444444444444444,
              "#26828e"
             ],
             [
              0.5555555555555556,
              "#1f9e89"
             ],
             [
              0.6666666666666666,
              "#35b779"
             ],
             [
              0.7777777777777778,
              "#6ece58"
             ],
             [
              0.8888888888888888,
              "#b5de2b"
             ],
             [
              1,
              "#fde725"
             ]
            ],
            "type": "heatmap"
           }
          ],
          "heatmapgl": [
           {
            "colorbar": {
             "outlinewidth": 1,
             "tickcolor": "rgb(36,36,36)",
             "ticks": "outside"
            },
            "colorscale": [
             [
              0,
              "#440154"
             ],
             [
              0.1111111111111111,
              "#482878"
             ],
             [
              0.2222222222222222,
              "#3e4989"
             ],
             [
              0.3333333333333333,
              "#31688e"
             ],
             [
              0.4444444444444444,
              "#26828e"
             ],
             [
              0.5555555555555556,
              "#1f9e89"
             ],
             [
              0.6666666666666666,
              "#35b779"
             ],
             [
              0.7777777777777778,
              "#6ece58"
             ],
             [
              0.8888888888888888,
              "#b5de2b"
             ],
             [
              1,
              "#fde725"
             ]
            ],
            "type": "heatmapgl"
           }
          ],
          "histogram": [
           {
            "marker": {
             "line": {
              "color": "white",
              "width": 0.6
             }
            },
            "type": "histogram"
           }
          ],
          "histogram2d": [
           {
            "colorbar": {
             "outlinewidth": 1,
             "tickcolor": "rgb(36,36,36)",
             "ticks": "outside"
            },
            "colorscale": [
             [
              0,
              "#440154"
             ],
             [
              0.1111111111111111,
              "#482878"
             ],
             [
              0.2222222222222222,
              "#3e4989"
             ],
             [
              0.3333333333333333,
              "#31688e"
             ],
             [
              0.4444444444444444,
              "#26828e"
             ],
             [
              0.5555555555555556,
              "#1f9e89"
             ],
             [
              0.6666666666666666,
              "#35b779"
             ],
             [
              0.7777777777777778,
              "#6ece58"
             ],
             [
              0.8888888888888888,
              "#b5de2b"
             ],
             [
              1,
              "#fde725"
             ]
            ],
            "type": "histogram2d"
           }
          ],
          "histogram2dcontour": [
           {
            "colorbar": {
             "outlinewidth": 1,
             "tickcolor": "rgb(36,36,36)",
             "ticks": "outside"
            },
            "colorscale": [
             [
              0,
              "#440154"
             ],
             [
              0.1111111111111111,
              "#482878"
             ],
             [
              0.2222222222222222,
              "#3e4989"
             ],
             [
              0.3333333333333333,
              "#31688e"
             ],
             [
              0.4444444444444444,
              "#26828e"
             ],
             [
              0.5555555555555556,
              "#1f9e89"
             ],
             [
              0.6666666666666666,
              "#35b779"
             ],
             [
              0.7777777777777778,
              "#6ece58"
             ],
             [
              0.8888888888888888,
              "#b5de2b"
             ],
             [
              1,
              "#fde725"
             ]
            ],
            "type": "histogram2dcontour"
           }
          ],
          "mesh3d": [
           {
            "colorbar": {
             "outlinewidth": 1,
             "tickcolor": "rgb(36,36,36)",
             "ticks": "outside"
            },
            "type": "mesh3d"
           }
          ],
          "parcoords": [
           {
            "line": {
             "colorbar": {
              "outlinewidth": 1,
              "tickcolor": "rgb(36,36,36)",
              "ticks": "outside"
             }
            },
            "type": "parcoords"
           }
          ],
          "pie": [
           {
            "automargin": true,
            "type": "pie"
           }
          ],
          "scatter": [
           {
            "marker": {
             "colorbar": {
              "outlinewidth": 1,
              "tickcolor": "rgb(36,36,36)",
              "ticks": "outside"
             }
            },
            "type": "scatter"
           }
          ],
          "scatter3d": [
           {
            "line": {
             "colorbar": {
              "outlinewidth": 1,
              "tickcolor": "rgb(36,36,36)",
              "ticks": "outside"
             }
            },
            "marker": {
             "colorbar": {
              "outlinewidth": 1,
              "tickcolor": "rgb(36,36,36)",
              "ticks": "outside"
             }
            },
            "type": "scatter3d"
           }
          ],
          "scattercarpet": [
           {
            "marker": {
             "colorbar": {
              "outlinewidth": 1,
              "tickcolor": "rgb(36,36,36)",
              "ticks": "outside"
             }
            },
            "type": "scattercarpet"
           }
          ],
          "scattergeo": [
           {
            "marker": {
             "colorbar": {
              "outlinewidth": 1,
              "tickcolor": "rgb(36,36,36)",
              "ticks": "outside"
             }
            },
            "type": "scattergeo"
           }
          ],
          "scattergl": [
           {
            "marker": {
             "colorbar": {
              "outlinewidth": 1,
              "tickcolor": "rgb(36,36,36)",
              "ticks": "outside"
             }
            },
            "type": "scattergl"
           }
          ],
          "scattermapbox": [
           {
            "marker": {
             "colorbar": {
              "outlinewidth": 1,
              "tickcolor": "rgb(36,36,36)",
              "ticks": "outside"
             }
            },
            "type": "scattermapbox"
           }
          ],
          "scatterpolar": [
           {
            "marker": {
             "colorbar": {
              "outlinewidth": 1,
              "tickcolor": "rgb(36,36,36)",
              "ticks": "outside"
             }
            },
            "type": "scatterpolar"
           }
          ],
          "scatterpolargl": [
           {
            "marker": {
             "colorbar": {
              "outlinewidth": 1,
              "tickcolor": "rgb(36,36,36)",
              "ticks": "outside"
             }
            },
            "type": "scatterpolargl"
           }
          ],
          "scatterternary": [
           {
            "marker": {
             "colorbar": {
              "outlinewidth": 1,
              "tickcolor": "rgb(36,36,36)",
              "ticks": "outside"
             }
            },
            "type": "scatterternary"
           }
          ],
          "surface": [
           {
            "colorbar": {
             "outlinewidth": 1,
             "tickcolor": "rgb(36,36,36)",
             "ticks": "outside"
            },
            "colorscale": [
             [
              0,
              "#440154"
             ],
             [
              0.1111111111111111,
              "#482878"
             ],
             [
              0.2222222222222222,
              "#3e4989"
             ],
             [
              0.3333333333333333,
              "#31688e"
             ],
             [
              0.4444444444444444,
              "#26828e"
             ],
             [
              0.5555555555555556,
              "#1f9e89"
             ],
             [
              0.6666666666666666,
              "#35b779"
             ],
             [
              0.7777777777777778,
              "#6ece58"
             ],
             [
              0.8888888888888888,
              "#b5de2b"
             ],
             [
              1,
              "#fde725"
             ]
            ],
            "type": "surface"
           }
          ],
          "table": [
           {
            "cells": {
             "fill": {
              "color": "rgb(237,237,237)"
             },
             "line": {
              "color": "white"
             }
            },
            "header": {
             "fill": {
              "color": "rgb(217,217,217)"
             },
             "line": {
              "color": "white"
             }
            },
            "type": "table"
           }
          ]
         },
         "layout": {
          "annotationdefaults": {
           "arrowhead": 0,
           "arrowwidth": 1
          },
          "autotypenumbers": "strict",
          "coloraxis": {
           "colorbar": {
            "outlinewidth": 1,
            "tickcolor": "rgb(36,36,36)",
            "ticks": "outside"
           }
          },
          "colorscale": {
           "diverging": [
            [
             0,
             "rgb(103,0,31)"
            ],
            [
             0.1,
             "rgb(178,24,43)"
            ],
            [
             0.2,
             "rgb(214,96,77)"
            ],
            [
             0.3,
             "rgb(244,165,130)"
            ],
            [
             0.4,
             "rgb(253,219,199)"
            ],
            [
             0.5,
             "rgb(247,247,247)"
            ],
            [
             0.6,
             "rgb(209,229,240)"
            ],
            [
             0.7,
             "rgb(146,197,222)"
            ],
            [
             0.8,
             "rgb(67,147,195)"
            ],
            [
             0.9,
             "rgb(33,102,172)"
            ],
            [
             1,
             "rgb(5,48,97)"
            ]
           ],
           "sequential": [
            [
             0,
             "#440154"
            ],
            [
             0.1111111111111111,
             "#482878"
            ],
            [
             0.2222222222222222,
             "#3e4989"
            ],
            [
             0.3333333333333333,
             "#31688e"
            ],
            [
             0.4444444444444444,
             "#26828e"
            ],
            [
             0.5555555555555556,
             "#1f9e89"
            ],
            [
             0.6666666666666666,
             "#35b779"
            ],
            [
             0.7777777777777778,
             "#6ece58"
            ],
            [
             0.8888888888888888,
             "#b5de2b"
            ],
            [
             1,
             "#fde725"
            ]
           ],
           "sequentialminus": [
            [
             0,
             "#440154"
            ],
            [
             0.1111111111111111,
             "#482878"
            ],
            [
             0.2222222222222222,
             "#3e4989"
            ],
            [
             0.3333333333333333,
             "#31688e"
            ],
            [
             0.4444444444444444,
             "#26828e"
            ],
            [
             0.5555555555555556,
             "#1f9e89"
            ],
            [
             0.6666666666666666,
             "#35b779"
            ],
            [
             0.7777777777777778,
             "#6ece58"
            ],
            [
             0.8888888888888888,
             "#b5de2b"
            ],
            [
             1,
             "#fde725"
            ]
           ]
          },
          "colorway": [
           "#1F77B4",
           "#FF7F0E",
           "#2CA02C",
           "#D62728",
           "#9467BD",
           "#8C564B",
           "#E377C2",
           "#7F7F7F",
           "#BCBD22",
           "#17BECF"
          ],
          "font": {
           "color": "rgb(36,36,36)"
          },
          "geo": {
           "bgcolor": "white",
           "lakecolor": "white",
           "landcolor": "white",
           "showlakes": true,
           "showland": true,
           "subunitcolor": "white"
          },
          "hoverlabel": {
           "align": "left"
          },
          "hovermode": "closest",
          "mapbox": {
           "style": "light"
          },
          "paper_bgcolor": "white",
          "plot_bgcolor": "white",
          "polar": {
           "angularaxis": {
            "gridcolor": "rgb(232,232,232)",
            "linecolor": "rgb(36,36,36)",
            "showgrid": false,
            "showline": true,
            "ticks": "outside"
           },
           "bgcolor": "white",
           "radialaxis": {
            "gridcolor": "rgb(232,232,232)",
            "linecolor": "rgb(36,36,36)",
            "showgrid": false,
            "showline": true,
            "ticks": "outside"
           }
          },
          "scene": {
           "xaxis": {
            "backgroundcolor": "white",
            "gridcolor": "rgb(232,232,232)",
            "gridwidth": 2,
            "linecolor": "rgb(36,36,36)",
            "showbackground": true,
            "showgrid": false,
            "showline": true,
            "ticks": "outside",
            "zeroline": false,
            "zerolinecolor": "rgb(36,36,36)"
           },
           "yaxis": {
            "backgroundcolor": "white",
            "gridcolor": "rgb(232,232,232)",
            "gridwidth": 2,
            "linecolor": "rgb(36,36,36)",
            "showbackground": true,
            "showgrid": false,
            "showline": true,
            "ticks": "outside",
            "zeroline": false,
            "zerolinecolor": "rgb(36,36,36)"
           },
           "zaxis": {
            "backgroundcolor": "white",
            "gridcolor": "rgb(232,232,232)",
            "gridwidth": 2,
            "linecolor": "rgb(36,36,36)",
            "showbackground": true,
            "showgrid": false,
            "showline": true,
            "ticks": "outside",
            "zeroline": false,
            "zerolinecolor": "rgb(36,36,36)"
           }
          },
          "shapedefaults": {
           "fillcolor": "black",
           "line": {
            "width": 0
           },
           "opacity": 0.3
          },
          "ternary": {
           "aaxis": {
            "gridcolor": "rgb(232,232,232)",
            "linecolor": "rgb(36,36,36)",
            "showgrid": false,
            "showline": true,
            "ticks": "outside"
           },
           "baxis": {
            "gridcolor": "rgb(232,232,232)",
            "linecolor": "rgb(36,36,36)",
            "showgrid": false,
            "showline": true,
            "ticks": "outside"
           },
           "bgcolor": "white",
           "caxis": {
            "gridcolor": "rgb(232,232,232)",
            "linecolor": "rgb(36,36,36)",
            "showgrid": false,
            "showline": true,
            "ticks": "outside"
           }
          },
          "title": {
           "x": 0.05
          },
          "xaxis": {
           "automargin": true,
           "gridcolor": "rgb(232,232,232)",
           "linecolor": "rgb(36,36,36)",
           "showgrid": false,
           "showline": true,
           "ticks": "outside",
           "title": {
            "standoff": 15
           },
           "zeroline": false,
           "zerolinecolor": "rgb(36,36,36)"
          },
          "yaxis": {
           "automargin": true,
           "gridcolor": "rgb(232,232,232)",
           "linecolor": "rgb(36,36,36)",
           "showgrid": false,
           "showline": true,
           "ticks": "outside",
           "title": {
            "standoff": 15
           },
           "zeroline": false,
           "zerolinecolor": "rgb(36,36,36)"
          }
         }
        },
        "title": {
         "font": {
          "color": "Black",
          "size": 22
         },
         "text": "<b>Intertopic Distance Map",
         "x": 0.5,
         "xanchor": "center",
         "y": 0.95,
         "yanchor": "top"
        },
        "width": 650,
        "xaxis": {
         "anchor": "y",
         "domain": [
          0,
          1
         ],
         "range": [
          -10.191846704483032,
          17.79972925186157
         ],
         "title": {
          "text": ""
         },
         "visible": false
        },
        "yaxis": {
         "anchor": "x",
         "domain": [
          0,
          1
         ],
         "range": [
          -10.986134767532349,
          17.776517057418822
         ],
         "title": {
          "text": ""
         },
         "visible": false
        }
       }
      },
      "text/html": [
       "<div>                            <div id=\"4e550b24-dea9-4296-acf4-e8d9ecee8c81\" class=\"plotly-graph-div\" style=\"height:650px; width:650px;\"></div>            <script type=\"text/javascript\">                require([\"plotly\"], function(Plotly) {                    window.PLOTLYENV=window.PLOTLYENV || {};                                    if (document.getElementById(\"4e550b24-dea9-4296-acf4-e8d9ecee8c81\")) {                    Plotly.newPlot(                        \"4e550b24-dea9-4296-acf4-e8d9ecee8c81\",                        [{\"customdata\": [[2.639509916305542, 8.037967681884766, 0, \"du | le | dans | par | qui\", 40], [14.245277404785156, 11.31281566619873, 1, \"el | psicologa | los | poltica | por\", 28], [1.5104416608810425, 6.145811557769775, 2, \"like | es | castoriadis | significations | macedo\", 6], [10.869462966918945, -7.004027366638184, 3, \"racist | devoir | gabberskins | pcheurs | mmoire\", 5], [3.6355037689208984, 15.457840919494629, 4, \"libert | sionisme | izquierda | lgica | boliviana\", 7], [3.951709747314453, 14.683518409729004, 5, \"mort | puissance | terroriste | guerre | soldat\", 6], [-8.862475395202637, -9.553160667419434, 6, \"intelligence | modle | stratgique | transdisciplinaire | model\", 7], [2.0145208835601807, 6.291696548461914, 7, \"linterdisciplinarit | interdisciplinarity | disciplines | science | classification\", 13], [2.127004861831665, 7.125510215759277, 8, \"donnes | ontologies | norme | recherche | informatiques\", 14], [4.089874267578125, 14.51726245880127, 9, \"langenus | soin | heidegger | quil | banalit\", 8], [3.67171049118042, 15.408979415893555, 10, \"lockedfalse | wlsdexception | unhidewhenusedtrue | semihiddentrue | nametable\", 24], [14.962138175964355, 0.29042792320251465, 11, \"social | to | and | une | nous\", 43], [2.790010929107666, 8.316302299499512, 12, \"sciences | guerre | une | du | lanthropocne\", 18], [1.659066915512085, 6.307308197021484, 13, \"transgression | societal | menaces | threats | socitales\", 11], [10.750459671020508, -7.09666109085083, 14, \"written | french | franais | lcrit | celle\", 5], [1.8595930337905884, 6.695463180541992, 15, \"information | linformation | evaluation | gouvernance | lvaluation\", 6], [15.478025436401367, 0.8100376129150391, 16, \"colorblindness | colorconsciousness | passions | collective | collectif\", 6], [-8.819524765014648, -9.510292053222656, 17, \"big | data | donnes | bim | organisations\", 11], [1.8516954183578491, 7.253208637237549, 18, \"changement | organisationnelles | organisation | transformation | organisationnel\", 9], [2.286479949951172, 7.765805244445801, 19, \"communication | interne | performance | sur | internal\", 49], [9.868465423583984, -6.888585090637207, 20, \"langues | langue | dsir | universit | pour\", 29], [5.114428520202637, 3.654230833053589, 21, \"pen | gender | marine | sdo | masculine\", 8], [15.259090423583984, 0.5904895067214966, 22, \"sant | sante | est | une | patient\", 21], [15.32872200012207, 0.6597073078155518, 23, \"clinique | as | sujet | le | social\", 17], [14.245269775390625, 11.312827110290527, 24, \"las | el | del | los | que\", 19], [-3.2523467540740967, 13.289015769958496, 25, \"politique | politiques | crise | processus | participation\", 14], [5.1145219802856445, 3.654108762741089, 26, \"social | choices | representation | representations | is\", 7], [10.047958374023438, -7.142734050750732, 27, \"lves | in | allophones | allophone | dans\", 23], [4.192667007446289, 14.8662109375, 28, \"camp | camps | dtenus | neuengamme | ne\", 7], [10.347334861755371, -7.436763763427734, 29, \"language | in | to | lves | didactique\", 8], [10.603741645812988, -7.777655124664307, 30, \"writing | in | language | students | fle\", 12], [10.720982551574707, -7.926486492156982, 31, \"quitable | commerce | douira | territoire | socioconomiques\", 9], [1.8235023021697998, 5.97542142868042, 32, \"crise | symptmes | economic | allemande | crisis\", 7], [-3.2055745124816895, 13.335856437683105, 33, \"religion | sur | par | qui | du\", 22], [3.5558884143829346, 15.238565444946289, 34, \"dmocratie | dexception | biopolitique | peuple | dmocratique\", 9], [9.762954711914062, -6.776158332824707, 35, \"african | classes | and | africaine | lunit\", 7]], \"hovertemplate\": \"<b>Topic %{customdata[2]}</b><br>Words: %{customdata[3]}<br>Size: %{customdata[4]}\", \"legendgroup\": \"\", \"marker\": {\"color\": \"#B0BEC5\", \"line\": {\"color\": \"DarkSlateGrey\", \"width\": 2}, \"size\": [40, 28, 6, 5, 7, 6, 7, 13, 14, 8, 24, 43, 18, 11, 5, 6, 6, 11, 9, 49, 29, 8, 21, 17, 19, 14, 7, 23, 7, 8, 12, 9, 7, 22, 9, 7], \"sizemode\": \"area\", \"sizeref\": 0.030625, \"symbol\": \"circle\"}, \"mode\": \"markers\", \"name\": \"\", \"orientation\": \"v\", \"showlegend\": false, \"type\": \"scatter\", \"x\": [2.639509916305542, 14.245277404785156, 1.5104416608810425, 10.869462966918945, 3.6355037689208984, 3.951709747314453, -8.862475395202637, 2.0145208835601807, 2.127004861831665, 4.089874267578125, 3.67171049118042, 14.962138175964355, 2.790010929107666, 1.659066915512085, 10.750459671020508, 1.8595930337905884, 15.478025436401367, -8.819524765014648, 1.8516954183578491, 2.286479949951172, 9.868465423583984, 5.114428520202637, 15.259090423583984, 15.32872200012207, 14.245269775390625, -3.2523467540740967, 5.1145219802856445, 10.047958374023438, 4.192667007446289, 10.347334861755371, 10.603741645812988, 10.720982551574707, 1.8235023021697998, -3.2055745124816895, 3.5558884143829346, 9.762954711914062], \"xaxis\": \"x\", \"y\": [8.037967681884766, 11.31281566619873, 6.145811557769775, -7.004027366638184, 15.457840919494629, 14.683518409729004, -9.553160667419434, 6.291696548461914, 7.125510215759277, 14.51726245880127, 15.408979415893555, 0.29042792320251465, 8.316302299499512, 6.307308197021484, -7.09666109085083, 6.695463180541992, 0.8100376129150391, -9.510292053222656, 7.253208637237549, 7.765805244445801, -6.888585090637207, 3.654230833053589, 0.5904895067214966, 0.6597073078155518, 11.312827110290527, 13.289015769958496, 3.654108762741089, -7.142734050750732, 14.8662109375, -7.436763763427734, -7.777655124664307, -7.926486492156982, 5.97542142868042, 13.335856437683105, 15.238565444946289, -6.776158332824707], \"yaxis\": \"y\"}],                        {\"annotations\": [{\"showarrow\": false, \"text\": \"D1\", \"x\": -10.191846704483032, \"y\": 3.3951911449432366, \"yshift\": 10}, {\"showarrow\": false, \"text\": \"D2\", \"x\": 3.8039412736892695, \"xshift\": 10, \"y\": 17.776517057418822}], \"height\": 650, \"hoverlabel\": {\"bgcolor\": \"white\", \"font\": {\"family\": \"Rockwell\", \"size\": 16}}, \"legend\": {\"itemsizing\": \"constant\", \"tracegroupgap\": 0}, \"margin\": {\"t\": 60}, \"shapes\": [{\"line\": {\"color\": \"#CFD8DC\", \"width\": 2}, \"type\": \"line\", \"x0\": 3.8039412736892695, \"x1\": 3.8039412736892695, \"y0\": -10.986134767532349, \"y1\": 17.776517057418822}, {\"line\": {\"color\": \"#9E9E9E\", \"width\": 2}, \"type\": \"line\", \"x0\": -10.191846704483032, \"x1\": 17.79972925186157, \"y0\": 3.3951911449432366, \"y1\": 3.3951911449432366}], \"sliders\": [{\"active\": 0, \"pad\": {\"t\": 50}, \"steps\": [{\"args\": [{\"marker.color\": [[\"red\", \"#B0BEC5\", \"#B0BEC5\", \"#B0BEC5\", \"#B0BEC5\", \"#B0BEC5\", \"#B0BEC5\", \"#B0BEC5\", \"#B0BEC5\", \"#B0BEC5\", \"#B0BEC5\", \"#B0BEC5\", \"#B0BEC5\", \"#B0BEC5\", \"#B0BEC5\", \"#B0BEC5\", \"#B0BEC5\", \"#B0BEC5\", \"#B0BEC5\", \"#B0BEC5\", \"#B0BEC5\", \"#B0BEC5\", \"#B0BEC5\", \"#B0BEC5\", \"#B0BEC5\", \"#B0BEC5\", \"#B0BEC5\", \"#B0BEC5\", \"#B0BEC5\", \"#B0BEC5\", \"#B0BEC5\", \"#B0BEC5\", \"#B0BEC5\", \"#B0BEC5\", \"#B0BEC5\", \"#B0BEC5\"]]}], \"label\": \"Topic 0\", \"method\": \"update\"}, {\"args\": [{\"marker.color\": [[\"#B0BEC5\", \"red\", \"#B0BEC5\", \"#B0BEC5\", \"#B0BEC5\", \"#B0BEC5\", \"#B0BEC5\", \"#B0BEC5\", \"#B0BEC5\", \"#B0BEC5\", \"#B0BEC5\", \"#B0BEC5\", \"#B0BEC5\", \"#B0BEC5\", \"#B0BEC5\", \"#B0BEC5\", \"#B0BEC5\", \"#B0BEC5\", \"#B0BEC5\", \"#B0BEC5\", \"#B0BEC5\", \"#B0BEC5\", \"#B0BEC5\", \"#B0BEC5\", \"#B0BEC5\", \"#B0BEC5\", \"#B0BEC5\", \"#B0BEC5\", \"#B0BEC5\", \"#B0BEC5\", \"#B0BEC5\", \"#B0BEC5\", \"#B0BEC5\", \"#B0BEC5\", \"#B0BEC5\", \"#B0BEC5\"]]}], \"label\": \"Topic 1\", \"method\": \"update\"}, {\"args\": [{\"marker.color\": [[\"#B0BEC5\", \"#B0BEC5\", \"red\", \"#B0BEC5\", \"#B0BEC5\", \"#B0BEC5\", \"#B0BEC5\", \"#B0BEC5\", \"#B0BEC5\", \"#B0BEC5\", \"#B0BEC5\", \"#B0BEC5\", \"#B0BEC5\", \"#B0BEC5\", \"#B0BEC5\", \"#B0BEC5\", \"#B0BEC5\", \"#B0BEC5\", \"#B0BEC5\", \"#B0BEC5\", \"#B0BEC5\", \"#B0BEC5\", \"#B0BEC5\", \"#B0BEC5\", \"#B0BEC5\", \"#B0BEC5\", \"#B0BEC5\", \"#B0BEC5\", \"#B0BEC5\", \"#B0BEC5\", \"#B0BEC5\", \"#B0BEC5\", \"#B0BEC5\", \"#B0BEC5\", \"#B0BEC5\", \"#B0BEC5\"]]}], \"label\": \"Topic 2\", \"method\": \"update\"}, {\"args\": [{\"marker.color\": [[\"#B0BEC5\", \"#B0BEC5\", \"#B0BEC5\", \"red\", \"#B0BEC5\", \"#B0BEC5\", \"#B0BEC5\", \"#B0BEC5\", \"#B0BEC5\", \"#B0BEC5\", \"#B0BEC5\", \"#B0BEC5\", \"#B0BEC5\", \"#B0BEC5\", \"#B0BEC5\", \"#B0BEC5\", \"#B0BEC5\", \"#B0BEC5\", \"#B0BEC5\", \"#B0BEC5\", \"#B0BEC5\", \"#B0BEC5\", \"#B0BEC5\", \"#B0BEC5\", \"#B0BEC5\", \"#B0BEC5\", \"#B0BEC5\", \"#B0BEC5\", \"#B0BEC5\", \"#B0BEC5\", \"#B0BEC5\", \"#B0BEC5\", \"#B0BEC5\", \"#B0BEC5\", \"#B0BEC5\", \"#B0BEC5\"]]}], \"label\": \"Topic 3\", \"method\": \"update\"}, {\"args\": [{\"marker.color\": [[\"#B0BEC5\", \"#B0BEC5\", \"#B0BEC5\", \"#B0BEC5\", \"red\", \"#B0BEC5\", \"#B0BEC5\", \"#B0BEC5\", \"#B0BEC5\", \"#B0BEC5\", \"#B0BEC5\", \"#B0BEC5\", \"#B0BEC5\", \"#B0BEC5\", \"#B0BEC5\", \"#B0BEC5\", \"#B0BEC5\", \"#B0BEC5\", \"#B0BEC5\", \"#B0BEC5\", \"#B0BEC5\", \"#B0BEC5\", \"#B0BEC5\", \"#B0BEC5\", \"#B0BEC5\", \"#B0BEC5\", \"#B0BEC5\", \"#B0BEC5\", \"#B0BEC5\", \"#B0BEC5\", \"#B0BEC5\", \"#B0BEC5\", \"#B0BEC5\", \"#B0BEC5\", \"#B0BEC5\", \"#B0BEC5\"]]}], \"label\": \"Topic 4\", \"method\": \"update\"}, {\"args\": [{\"marker.color\": [[\"#B0BEC5\", \"#B0BEC5\", \"#B0BEC5\", \"#B0BEC5\", \"#B0BEC5\", \"red\", \"#B0BEC5\", \"#B0BEC5\", \"#B0BEC5\", \"#B0BEC5\", \"#B0BEC5\", \"#B0BEC5\", \"#B0BEC5\", \"#B0BEC5\", \"#B0BEC5\", \"#B0BEC5\", \"#B0BEC5\", \"#B0BEC5\", \"#B0BEC5\", \"#B0BEC5\", \"#B0BEC5\", \"#B0BEC5\", \"#B0BEC5\", \"#B0BEC5\", \"#B0BEC5\", \"#B0BEC5\", \"#B0BEC5\", \"#B0BEC5\", \"#B0BEC5\", \"#B0BEC5\", \"#B0BEC5\", \"#B0BEC5\", \"#B0BEC5\", \"#B0BEC5\", \"#B0BEC5\", \"#B0BEC5\"]]}], \"label\": \"Topic 5\", \"method\": \"update\"}, {\"args\": [{\"marker.color\": [[\"#B0BEC5\", \"#B0BEC5\", \"#B0BEC5\", \"#B0BEC5\", \"#B0BEC5\", \"#B0BEC5\", \"red\", \"#B0BEC5\", \"#B0BEC5\", \"#B0BEC5\", \"#B0BEC5\", \"#B0BEC5\", \"#B0BEC5\", \"#B0BEC5\", \"#B0BEC5\", \"#B0BEC5\", \"#B0BEC5\", \"#B0BEC5\", \"#B0BEC5\", \"#B0BEC5\", \"#B0BEC5\", \"#B0BEC5\", \"#B0BEC5\", \"#B0BEC5\", \"#B0BEC5\", \"#B0BEC5\", \"#B0BEC5\", \"#B0BEC5\", \"#B0BEC5\", \"#B0BEC5\", \"#B0BEC5\", \"#B0BEC5\", \"#B0BEC5\", \"#B0BEC5\", \"#B0BEC5\", \"#B0BEC5\"]]}], \"label\": \"Topic 6\", \"method\": \"update\"}, {\"args\": [{\"marker.color\": [[\"#B0BEC5\", \"#B0BEC5\", \"#B0BEC5\", \"#B0BEC5\", \"#B0BEC5\", \"#B0BEC5\", \"#B0BEC5\", \"red\", \"#B0BEC5\", \"#B0BEC5\", \"#B0BEC5\", \"#B0BEC5\", \"#B0BEC5\", \"#B0BEC5\", \"#B0BEC5\", \"#B0BEC5\", \"#B0BEC5\", \"#B0BEC5\", \"#B0BEC5\", \"#B0BEC5\", \"#B0BEC5\", \"#B0BEC5\", \"#B0BEC5\", \"#B0BEC5\", \"#B0BEC5\", \"#B0BEC5\", \"#B0BEC5\", \"#B0BEC5\", \"#B0BEC5\", \"#B0BEC5\", \"#B0BEC5\", \"#B0BEC5\", \"#B0BEC5\", \"#B0BEC5\", \"#B0BEC5\", \"#B0BEC5\"]]}], \"label\": \"Topic 7\", \"method\": \"update\"}, {\"args\": [{\"marker.color\": [[\"#B0BEC5\", \"#B0BEC5\", \"#B0BEC5\", \"#B0BEC5\", \"#B0BEC5\", \"#B0BEC5\", \"#B0BEC5\", \"#B0BEC5\", \"red\", \"#B0BEC5\", \"#B0BEC5\", \"#B0BEC5\", \"#B0BEC5\", \"#B0BEC5\", \"#B0BEC5\", \"#B0BEC5\", \"#B0BEC5\", \"#B0BEC5\", \"#B0BEC5\", \"#B0BEC5\", \"#B0BEC5\", \"#B0BEC5\", \"#B0BEC5\", \"#B0BEC5\", \"#B0BEC5\", \"#B0BEC5\", \"#B0BEC5\", \"#B0BEC5\", \"#B0BEC5\", \"#B0BEC5\", \"#B0BEC5\", \"#B0BEC5\", \"#B0BEC5\", \"#B0BEC5\", \"#B0BEC5\", \"#B0BEC5\"]]}], \"label\": \"Topic 8\", \"method\": \"update\"}, {\"args\": [{\"marker.color\": [[\"#B0BEC5\", \"#B0BEC5\", \"#B0BEC5\", \"#B0BEC5\", \"#B0BEC5\", \"#B0BEC5\", \"#B0BEC5\", \"#B0BEC5\", \"#B0BEC5\", \"red\", \"#B0BEC5\", \"#B0BEC5\", \"#B0BEC5\", \"#B0BEC5\", \"#B0BEC5\", \"#B0BEC5\", \"#B0BEC5\", \"#B0BEC5\", \"#B0BEC5\", \"#B0BEC5\", \"#B0BEC5\", \"#B0BEC5\", \"#B0BEC5\", \"#B0BEC5\", \"#B0BEC5\", \"#B0BEC5\", \"#B0BEC5\", \"#B0BEC5\", \"#B0BEC5\", \"#B0BEC5\", \"#B0BEC5\", \"#B0BEC5\", \"#B0BEC5\", \"#B0BEC5\", \"#B0BEC5\", \"#B0BEC5\"]]}], \"label\": \"Topic 9\", \"method\": \"update\"}, {\"args\": [{\"marker.color\": [[\"#B0BEC5\", \"#B0BEC5\", \"#B0BEC5\", \"#B0BEC5\", \"#B0BEC5\", \"#B0BEC5\", \"#B0BEC5\", \"#B0BEC5\", \"#B0BEC5\", \"#B0BEC5\", \"red\", \"#B0BEC5\", \"#B0BEC5\", \"#B0BEC5\", \"#B0BEC5\", \"#B0BEC5\", \"#B0BEC5\", \"#B0BEC5\", \"#B0BEC5\", \"#B0BEC5\", \"#B0BEC5\", \"#B0BEC5\", \"#B0BEC5\", \"#B0BEC5\", \"#B0BEC5\", \"#B0BEC5\", \"#B0BEC5\", \"#B0BEC5\", \"#B0BEC5\", \"#B0BEC5\", \"#B0BEC5\", \"#B0BEC5\", \"#B0BEC5\", \"#B0BEC5\", \"#B0BEC5\", \"#B0BEC5\"]]}], \"label\": \"Topic 10\", \"method\": \"update\"}, {\"args\": [{\"marker.color\": [[\"#B0BEC5\", \"#B0BEC5\", \"#B0BEC5\", \"#B0BEC5\", \"#B0BEC5\", \"#B0BEC5\", \"#B0BEC5\", \"#B0BEC5\", \"#B0BEC5\", \"#B0BEC5\", \"#B0BEC5\", \"red\", \"#B0BEC5\", \"#B0BEC5\", \"#B0BEC5\", \"#B0BEC5\", \"#B0BEC5\", \"#B0BEC5\", \"#B0BEC5\", \"#B0BEC5\", \"#B0BEC5\", \"#B0BEC5\", \"#B0BEC5\", \"#B0BEC5\", \"#B0BEC5\", \"#B0BEC5\", \"#B0BEC5\", \"#B0BEC5\", \"#B0BEC5\", \"#B0BEC5\", \"#B0BEC5\", \"#B0BEC5\", \"#B0BEC5\", \"#B0BEC5\", \"#B0BEC5\", \"#B0BEC5\"]]}], \"label\": \"Topic 11\", \"method\": \"update\"}, {\"args\": [{\"marker.color\": [[\"#B0BEC5\", \"#B0BEC5\", \"#B0BEC5\", \"#B0BEC5\", \"#B0BEC5\", \"#B0BEC5\", \"#B0BEC5\", \"#B0BEC5\", \"#B0BEC5\", \"#B0BEC5\", \"#B0BEC5\", \"#B0BEC5\", \"red\", \"#B0BEC5\", \"#B0BEC5\", \"#B0BEC5\", \"#B0BEC5\", \"#B0BEC5\", \"#B0BEC5\", \"#B0BEC5\", \"#B0BEC5\", \"#B0BEC5\", \"#B0BEC5\", \"#B0BEC5\", \"#B0BEC5\", \"#B0BEC5\", \"#B0BEC5\", \"#B0BEC5\", \"#B0BEC5\", \"#B0BEC5\", \"#B0BEC5\", \"#B0BEC5\", \"#B0BEC5\", \"#B0BEC5\", \"#B0BEC5\", \"#B0BEC5\"]]}], \"label\": \"Topic 12\", \"method\": \"update\"}, {\"args\": [{\"marker.color\": [[\"#B0BEC5\", \"#B0BEC5\", \"#B0BEC5\", \"#B0BEC5\", \"#B0BEC5\", \"#B0BEC5\", \"#B0BEC5\", \"#B0BEC5\", \"#B0BEC5\", \"#B0BEC5\", \"#B0BEC5\", \"#B0BEC5\", \"#B0BEC5\", \"red\", \"#B0BEC5\", \"#B0BEC5\", \"#B0BEC5\", \"#B0BEC5\", \"#B0BEC5\", \"#B0BEC5\", \"#B0BEC5\", \"#B0BEC5\", \"#B0BEC5\", \"#B0BEC5\", \"#B0BEC5\", \"#B0BEC5\", \"#B0BEC5\", \"#B0BEC5\", \"#B0BEC5\", \"#B0BEC5\", \"#B0BEC5\", \"#B0BEC5\", \"#B0BEC5\", \"#B0BEC5\", \"#B0BEC5\", \"#B0BEC5\"]]}], \"label\": \"Topic 13\", \"method\": \"update\"}, {\"args\": [{\"marker.color\": [[\"#B0BEC5\", \"#B0BEC5\", \"#B0BEC5\", \"#B0BEC5\", \"#B0BEC5\", \"#B0BEC5\", \"#B0BEC5\", \"#B0BEC5\", \"#B0BEC5\", \"#B0BEC5\", \"#B0BEC5\", \"#B0BEC5\", \"#B0BEC5\", \"#B0BEC5\", \"red\", \"#B0BEC5\", \"#B0BEC5\", \"#B0BEC5\", \"#B0BEC5\", \"#B0BEC5\", \"#B0BEC5\", \"#B0BEC5\", \"#B0BEC5\", \"#B0BEC5\", \"#B0BEC5\", \"#B0BEC5\", \"#B0BEC5\", \"#B0BEC5\", \"#B0BEC5\", \"#B0BEC5\", \"#B0BEC5\", \"#B0BEC5\", \"#B0BEC5\", \"#B0BEC5\", \"#B0BEC5\", \"#B0BEC5\"]]}], \"label\": \"Topic 14\", \"method\": \"update\"}, {\"args\": [{\"marker.color\": [[\"#B0BEC5\", \"#B0BEC5\", \"#B0BEC5\", \"#B0BEC5\", \"#B0BEC5\", \"#B0BEC5\", \"#B0BEC5\", \"#B0BEC5\", \"#B0BEC5\", \"#B0BEC5\", \"#B0BEC5\", \"#B0BEC5\", \"#B0BEC5\", \"#B0BEC5\", \"#B0BEC5\", \"red\", \"#B0BEC5\", \"#B0BEC5\", \"#B0BEC5\", \"#B0BEC5\", \"#B0BEC5\", \"#B0BEC5\", \"#B0BEC5\", \"#B0BEC5\", \"#B0BEC5\", \"#B0BEC5\", \"#B0BEC5\", \"#B0BEC5\", \"#B0BEC5\", \"#B0BEC5\", \"#B0BEC5\", \"#B0BEC5\", \"#B0BEC5\", \"#B0BEC5\", \"#B0BEC5\", \"#B0BEC5\"]]}], \"label\": \"Topic 15\", \"method\": \"update\"}, {\"args\": [{\"marker.color\": [[\"#B0BEC5\", \"#B0BEC5\", \"#B0BEC5\", \"#B0BEC5\", \"#B0BEC5\", \"#B0BEC5\", \"#B0BEC5\", \"#B0BEC5\", \"#B0BEC5\", \"#B0BEC5\", \"#B0BEC5\", \"#B0BEC5\", \"#B0BEC5\", \"#B0BEC5\", \"#B0BEC5\", \"#B0BEC5\", \"red\", \"#B0BEC5\", \"#B0BEC5\", \"#B0BEC5\", \"#B0BEC5\", \"#B0BEC5\", \"#B0BEC5\", \"#B0BEC5\", \"#B0BEC5\", \"#B0BEC5\", \"#B0BEC5\", \"#B0BEC5\", \"#B0BEC5\", \"#B0BEC5\", \"#B0BEC5\", \"#B0BEC5\", \"#B0BEC5\", \"#B0BEC5\", \"#B0BEC5\", \"#B0BEC5\"]]}], \"label\": \"Topic 16\", \"method\": \"update\"}, {\"args\": [{\"marker.color\": [[\"#B0BEC5\", \"#B0BEC5\", \"#B0BEC5\", \"#B0BEC5\", \"#B0BEC5\", \"#B0BEC5\", \"#B0BEC5\", \"#B0BEC5\", \"#B0BEC5\", \"#B0BEC5\", \"#B0BEC5\", \"#B0BEC5\", \"#B0BEC5\", \"#B0BEC5\", \"#B0BEC5\", \"#B0BEC5\", \"#B0BEC5\", \"red\", \"#B0BEC5\", \"#B0BEC5\", \"#B0BEC5\", \"#B0BEC5\", \"#B0BEC5\", \"#B0BEC5\", \"#B0BEC5\", \"#B0BEC5\", \"#B0BEC5\", \"#B0BEC5\", \"#B0BEC5\", \"#B0BEC5\", \"#B0BEC5\", \"#B0BEC5\", \"#B0BEC5\", \"#B0BEC5\", \"#B0BEC5\", \"#B0BEC5\"]]}], \"label\": \"Topic 17\", \"method\": \"update\"}, {\"args\": [{\"marker.color\": [[\"#B0BEC5\", \"#B0BEC5\", \"#B0BEC5\", \"#B0BEC5\", \"#B0BEC5\", \"#B0BEC5\", \"#B0BEC5\", \"#B0BEC5\", \"#B0BEC5\", \"#B0BEC5\", \"#B0BEC5\", \"#B0BEC5\", \"#B0BEC5\", \"#B0BEC5\", \"#B0BEC5\", \"#B0BEC5\", \"#B0BEC5\", \"#B0BEC5\", \"red\", \"#B0BEC5\", \"#B0BEC5\", \"#B0BEC5\", \"#B0BEC5\", \"#B0BEC5\", \"#B0BEC5\", \"#B0BEC5\", \"#B0BEC5\", \"#B0BEC5\", \"#B0BEC5\", \"#B0BEC5\", \"#B0BEC5\", \"#B0BEC5\", \"#B0BEC5\", \"#B0BEC5\", \"#B0BEC5\", \"#B0BEC5\"]]}], \"label\": \"Topic 18\", \"method\": \"update\"}, {\"args\": [{\"marker.color\": [[\"#B0BEC5\", \"#B0BEC5\", \"#B0BEC5\", \"#B0BEC5\", \"#B0BEC5\", \"#B0BEC5\", \"#B0BEC5\", \"#B0BEC5\", \"#B0BEC5\", \"#B0BEC5\", \"#B0BEC5\", \"#B0BEC5\", \"#B0BEC5\", \"#B0BEC5\", \"#B0BEC5\", \"#B0BEC5\", \"#B0BEC5\", \"#B0BEC5\", \"#B0BEC5\", \"red\", \"#B0BEC5\", \"#B0BEC5\", \"#B0BEC5\", \"#B0BEC5\", \"#B0BEC5\", \"#B0BEC5\", \"#B0BEC5\", \"#B0BEC5\", \"#B0BEC5\", \"#B0BEC5\", \"#B0BEC5\", \"#B0BEC5\", \"#B0BEC5\", \"#B0BEC5\", \"#B0BEC5\", \"#B0BEC5\"]]}], \"label\": \"Topic 19\", \"method\": \"update\"}, {\"args\": [{\"marker.color\": [[\"#B0BEC5\", \"#B0BEC5\", \"#B0BEC5\", \"#B0BEC5\", \"#B0BEC5\", \"#B0BEC5\", \"#B0BEC5\", \"#B0BEC5\", \"#B0BEC5\", \"#B0BEC5\", \"#B0BEC5\", \"#B0BEC5\", \"#B0BEC5\", \"#B0BEC5\", \"#B0BEC5\", \"#B0BEC5\", \"#B0BEC5\", \"#B0BEC5\", \"#B0BEC5\", \"#B0BEC5\", \"red\", \"#B0BEC5\", \"#B0BEC5\", \"#B0BEC5\", \"#B0BEC5\", \"#B0BEC5\", \"#B0BEC5\", \"#B0BEC5\", \"#B0BEC5\", \"#B0BEC5\", \"#B0BEC5\", \"#B0BEC5\", \"#B0BEC5\", \"#B0BEC5\", \"#B0BEC5\", \"#B0BEC5\"]]}], \"label\": \"Topic 20\", \"method\": \"update\"}, {\"args\": [{\"marker.color\": [[\"#B0BEC5\", \"#B0BEC5\", \"#B0BEC5\", \"#B0BEC5\", \"#B0BEC5\", \"#B0BEC5\", \"#B0BEC5\", \"#B0BEC5\", \"#B0BEC5\", \"#B0BEC5\", \"#B0BEC5\", \"#B0BEC5\", \"#B0BEC5\", \"#B0BEC5\", \"#B0BEC5\", \"#B0BEC5\", \"#B0BEC5\", \"#B0BEC5\", \"#B0BEC5\", \"#B0BEC5\", \"#B0BEC5\", \"red\", \"#B0BEC5\", \"#B0BEC5\", \"#B0BEC5\", \"#B0BEC5\", \"#B0BEC5\", \"#B0BEC5\", \"#B0BEC5\", \"#B0BEC5\", \"#B0BEC5\", \"#B0BEC5\", \"#B0BEC5\", \"#B0BEC5\", \"#B0BEC5\", \"#B0BEC5\"]]}], \"label\": \"Topic 21\", \"method\": \"update\"}, {\"args\": [{\"marker.color\": [[\"#B0BEC5\", \"#B0BEC5\", \"#B0BEC5\", \"#B0BEC5\", \"#B0BEC5\", \"#B0BEC5\", \"#B0BEC5\", \"#B0BEC5\", \"#B0BEC5\", \"#B0BEC5\", \"#B0BEC5\", \"#B0BEC5\", \"#B0BEC5\", \"#B0BEC5\", \"#B0BEC5\", \"#B0BEC5\", \"#B0BEC5\", \"#B0BEC5\", \"#B0BEC5\", \"#B0BEC5\", \"#B0BEC5\", \"#B0BEC5\", \"red\", \"#B0BEC5\", \"#B0BEC5\", \"#B0BEC5\", \"#B0BEC5\", \"#B0BEC5\", \"#B0BEC5\", \"#B0BEC5\", \"#B0BEC5\", \"#B0BEC5\", \"#B0BEC5\", \"#B0BEC5\", \"#B0BEC5\", \"#B0BEC5\"]]}], \"label\": \"Topic 22\", \"method\": \"update\"}, {\"args\": [{\"marker.color\": [[\"#B0BEC5\", \"#B0BEC5\", \"#B0BEC5\", \"#B0BEC5\", \"#B0BEC5\", \"#B0BEC5\", \"#B0BEC5\", \"#B0BEC5\", \"#B0BEC5\", \"#B0BEC5\", \"#B0BEC5\", \"#B0BEC5\", \"#B0BEC5\", \"#B0BEC5\", \"#B0BEC5\", \"#B0BEC5\", \"#B0BEC5\", \"#B0BEC5\", \"#B0BEC5\", \"#B0BEC5\", \"#B0BEC5\", \"#B0BEC5\", \"#B0BEC5\", \"red\", \"#B0BEC5\", \"#B0BEC5\", \"#B0BEC5\", \"#B0BEC5\", \"#B0BEC5\", \"#B0BEC5\", \"#B0BEC5\", \"#B0BEC5\", \"#B0BEC5\", \"#B0BEC5\", \"#B0BEC5\", \"#B0BEC5\"]]}], \"label\": \"Topic 23\", \"method\": \"update\"}, {\"args\": [{\"marker.color\": [[\"#B0BEC5\", \"#B0BEC5\", \"#B0BEC5\", \"#B0BEC5\", \"#B0BEC5\", \"#B0BEC5\", \"#B0BEC5\", \"#B0BEC5\", \"#B0BEC5\", \"#B0BEC5\", \"#B0BEC5\", \"#B0BEC5\", \"#B0BEC5\", \"#B0BEC5\", \"#B0BEC5\", \"#B0BEC5\", \"#B0BEC5\", \"#B0BEC5\", \"#B0BEC5\", \"#B0BEC5\", \"#B0BEC5\", \"#B0BEC5\", \"#B0BEC5\", \"#B0BEC5\", \"red\", \"#B0BEC5\", \"#B0BEC5\", \"#B0BEC5\", \"#B0BEC5\", \"#B0BEC5\", \"#B0BEC5\", \"#B0BEC5\", \"#B0BEC5\", \"#B0BEC5\", \"#B0BEC5\", \"#B0BEC5\"]]}], \"label\": \"Topic 24\", \"method\": \"update\"}, {\"args\": [{\"marker.color\": [[\"#B0BEC5\", \"#B0BEC5\", \"#B0BEC5\", \"#B0BEC5\", \"#B0BEC5\", \"#B0BEC5\", \"#B0BEC5\", \"#B0BEC5\", \"#B0BEC5\", \"#B0BEC5\", \"#B0BEC5\", \"#B0BEC5\", \"#B0BEC5\", \"#B0BEC5\", \"#B0BEC5\", \"#B0BEC5\", \"#B0BEC5\", \"#B0BEC5\", \"#B0BEC5\", \"#B0BEC5\", \"#B0BEC5\", \"#B0BEC5\", \"#B0BEC5\", \"#B0BEC5\", \"#B0BEC5\", \"red\", \"#B0BEC5\", \"#B0BEC5\", \"#B0BEC5\", \"#B0BEC5\", \"#B0BEC5\", \"#B0BEC5\", \"#B0BEC5\", \"#B0BEC5\", \"#B0BEC5\", \"#B0BEC5\"]]}], \"label\": \"Topic 25\", \"method\": \"update\"}, {\"args\": [{\"marker.color\": [[\"#B0BEC5\", \"#B0BEC5\", \"#B0BEC5\", \"#B0BEC5\", \"#B0BEC5\", \"#B0BEC5\", \"#B0BEC5\", \"#B0BEC5\", \"#B0BEC5\", \"#B0BEC5\", \"#B0BEC5\", \"#B0BEC5\", \"#B0BEC5\", \"#B0BEC5\", \"#B0BEC5\", \"#B0BEC5\", \"#B0BEC5\", \"#B0BEC5\", \"#B0BEC5\", \"#B0BEC5\", \"#B0BEC5\", \"#B0BEC5\", \"#B0BEC5\", \"#B0BEC5\", \"#B0BEC5\", \"#B0BEC5\", \"red\", \"#B0BEC5\", \"#B0BEC5\", \"#B0BEC5\", \"#B0BEC5\", \"#B0BEC5\", \"#B0BEC5\", \"#B0BEC5\", \"#B0BEC5\", \"#B0BEC5\"]]}], \"label\": \"Topic 26\", \"method\": \"update\"}, {\"args\": [{\"marker.color\": [[\"#B0BEC5\", \"#B0BEC5\", \"#B0BEC5\", \"#B0BEC5\", \"#B0BEC5\", \"#B0BEC5\", \"#B0BEC5\", \"#B0BEC5\", \"#B0BEC5\", \"#B0BEC5\", \"#B0BEC5\", \"#B0BEC5\", \"#B0BEC5\", \"#B0BEC5\", \"#B0BEC5\", \"#B0BEC5\", \"#B0BEC5\", \"#B0BEC5\", \"#B0BEC5\", \"#B0BEC5\", \"#B0BEC5\", \"#B0BEC5\", \"#B0BEC5\", \"#B0BEC5\", \"#B0BEC5\", \"#B0BEC5\", \"#B0BEC5\", \"red\", \"#B0BEC5\", \"#B0BEC5\", \"#B0BEC5\", \"#B0BEC5\", \"#B0BEC5\", \"#B0BEC5\", \"#B0BEC5\", \"#B0BEC5\"]]}], \"label\": \"Topic 27\", \"method\": \"update\"}, {\"args\": [{\"marker.color\": [[\"#B0BEC5\", \"#B0BEC5\", \"#B0BEC5\", \"#B0BEC5\", \"#B0BEC5\", \"#B0BEC5\", \"#B0BEC5\", \"#B0BEC5\", \"#B0BEC5\", \"#B0BEC5\", \"#B0BEC5\", \"#B0BEC5\", \"#B0BEC5\", \"#B0BEC5\", \"#B0BEC5\", \"#B0BEC5\", \"#B0BEC5\", \"#B0BEC5\", \"#B0BEC5\", \"#B0BEC5\", \"#B0BEC5\", \"#B0BEC5\", \"#B0BEC5\", \"#B0BEC5\", \"#B0BEC5\", \"#B0BEC5\", \"#B0BEC5\", \"#B0BEC5\", \"red\", \"#B0BEC5\", \"#B0BEC5\", \"#B0BEC5\", \"#B0BEC5\", \"#B0BEC5\", \"#B0BEC5\", \"#B0BEC5\"]]}], \"label\": \"Topic 28\", \"method\": \"update\"}, {\"args\": [{\"marker.color\": [[\"#B0BEC5\", \"#B0BEC5\", \"#B0BEC5\", \"#B0BEC5\", \"#B0BEC5\", \"#B0BEC5\", \"#B0BEC5\", \"#B0BEC5\", \"#B0BEC5\", \"#B0BEC5\", \"#B0BEC5\", \"#B0BEC5\", \"#B0BEC5\", \"#B0BEC5\", \"#B0BEC5\", \"#B0BEC5\", \"#B0BEC5\", \"#B0BEC5\", \"#B0BEC5\", \"#B0BEC5\", \"#B0BEC5\", \"#B0BEC5\", \"#B0BEC5\", \"#B0BEC5\", \"#B0BEC5\", \"#B0BEC5\", \"#B0BEC5\", \"#B0BEC5\", \"#B0BEC5\", \"red\", \"#B0BEC5\", \"#B0BEC5\", \"#B0BEC5\", \"#B0BEC5\", \"#B0BEC5\", \"#B0BEC5\"]]}], \"label\": \"Topic 29\", \"method\": \"update\"}, {\"args\": [{\"marker.color\": [[\"#B0BEC5\", \"#B0BEC5\", \"#B0BEC5\", \"#B0BEC5\", \"#B0BEC5\", \"#B0BEC5\", \"#B0BEC5\", \"#B0BEC5\", \"#B0BEC5\", \"#B0BEC5\", \"#B0BEC5\", \"#B0BEC5\", \"#B0BEC5\", \"#B0BEC5\", \"#B0BEC5\", \"#B0BEC5\", \"#B0BEC5\", \"#B0BEC5\", \"#B0BEC5\", \"#B0BEC5\", \"#B0BEC5\", \"#B0BEC5\", \"#B0BEC5\", \"#B0BEC5\", \"#B0BEC5\", \"#B0BEC5\", \"#B0BEC5\", \"#B0BEC5\", \"#B0BEC5\", \"#B0BEC5\", \"red\", \"#B0BEC5\", \"#B0BEC5\", \"#B0BEC5\", \"#B0BEC5\", \"#B0BEC5\"]]}], \"label\": \"Topic 30\", \"method\": \"update\"}, {\"args\": [{\"marker.color\": [[\"#B0BEC5\", \"#B0BEC5\", \"#B0BEC5\", \"#B0BEC5\", \"#B0BEC5\", \"#B0BEC5\", \"#B0BEC5\", \"#B0BEC5\", \"#B0BEC5\", \"#B0BEC5\", \"#B0BEC5\", \"#B0BEC5\", \"#B0BEC5\", \"#B0BEC5\", \"#B0BEC5\", \"#B0BEC5\", \"#B0BEC5\", \"#B0BEC5\", \"#B0BEC5\", \"#B0BEC5\", \"#B0BEC5\", \"#B0BEC5\", \"#B0BEC5\", \"#B0BEC5\", \"#B0BEC5\", \"#B0BEC5\", \"#B0BEC5\", \"#B0BEC5\", \"#B0BEC5\", \"#B0BEC5\", \"#B0BEC5\", \"red\", \"#B0BEC5\", \"#B0BEC5\", \"#B0BEC5\", \"#B0BEC5\"]]}], \"label\": \"Topic 31\", \"method\": \"update\"}, {\"args\": [{\"marker.color\": [[\"#B0BEC5\", \"#B0BEC5\", \"#B0BEC5\", \"#B0BEC5\", \"#B0BEC5\", \"#B0BEC5\", \"#B0BEC5\", \"#B0BEC5\", \"#B0BEC5\", \"#B0BEC5\", \"#B0BEC5\", \"#B0BEC5\", \"#B0BEC5\", \"#B0BEC5\", \"#B0BEC5\", \"#B0BEC5\", \"#B0BEC5\", \"#B0BEC5\", \"#B0BEC5\", \"#B0BEC5\", \"#B0BEC5\", \"#B0BEC5\", \"#B0BEC5\", \"#B0BEC5\", \"#B0BEC5\", \"#B0BEC5\", \"#B0BEC5\", \"#B0BEC5\", \"#B0BEC5\", \"#B0BEC5\", \"#B0BEC5\", \"#B0BEC5\", \"red\", \"#B0BEC5\", \"#B0BEC5\", \"#B0BEC5\"]]}], \"label\": \"Topic 32\", \"method\": \"update\"}, {\"args\": [{\"marker.color\": [[\"#B0BEC5\", \"#B0BEC5\", \"#B0BEC5\", \"#B0BEC5\", \"#B0BEC5\", \"#B0BEC5\", \"#B0BEC5\", \"#B0BEC5\", \"#B0BEC5\", \"#B0BEC5\", \"#B0BEC5\", \"#B0BEC5\", \"#B0BEC5\", \"#B0BEC5\", \"#B0BEC5\", \"#B0BEC5\", \"#B0BEC5\", \"#B0BEC5\", \"#B0BEC5\", \"#B0BEC5\", \"#B0BEC5\", \"#B0BEC5\", \"#B0BEC5\", \"#B0BEC5\", \"#B0BEC5\", \"#B0BEC5\", \"#B0BEC5\", \"#B0BEC5\", \"#B0BEC5\", \"#B0BEC5\", \"#B0BEC5\", \"#B0BEC5\", \"#B0BEC5\", \"red\", \"#B0BEC5\", \"#B0BEC5\"]]}], \"label\": \"Topic 33\", \"method\": \"update\"}, {\"args\": [{\"marker.color\": [[\"#B0BEC5\", \"#B0BEC5\", \"#B0BEC5\", \"#B0BEC5\", \"#B0BEC5\", \"#B0BEC5\", \"#B0BEC5\", \"#B0BEC5\", \"#B0BEC5\", \"#B0BEC5\", \"#B0BEC5\", \"#B0BEC5\", \"#B0BEC5\", \"#B0BEC5\", \"#B0BEC5\", \"#B0BEC5\", \"#B0BEC5\", \"#B0BEC5\", \"#B0BEC5\", \"#B0BEC5\", \"#B0BEC5\", \"#B0BEC5\", \"#B0BEC5\", \"#B0BEC5\", \"#B0BEC5\", \"#B0BEC5\", \"#B0BEC5\", \"#B0BEC5\", \"#B0BEC5\", \"#B0BEC5\", \"#B0BEC5\", \"#B0BEC5\", \"#B0BEC5\", \"#B0BEC5\", \"red\", \"#B0BEC5\"]]}], \"label\": \"Topic 34\", \"method\": \"update\"}, {\"args\": [{\"marker.color\": [[\"#B0BEC5\", \"#B0BEC5\", \"#B0BEC5\", \"#B0BEC5\", \"#B0BEC5\", \"#B0BEC5\", \"#B0BEC5\", \"#B0BEC5\", \"#B0BEC5\", \"#B0BEC5\", \"#B0BEC5\", \"#B0BEC5\", \"#B0BEC5\", \"#B0BEC5\", \"#B0BEC5\", \"#B0BEC5\", \"#B0BEC5\", \"#B0BEC5\", \"#B0BEC5\", \"#B0BEC5\", \"#B0BEC5\", \"#B0BEC5\", \"#B0BEC5\", \"#B0BEC5\", \"#B0BEC5\", \"#B0BEC5\", \"#B0BEC5\", \"#B0BEC5\", \"#B0BEC5\", \"#B0BEC5\", \"#B0BEC5\", \"#B0BEC5\", \"#B0BEC5\", \"#B0BEC5\", \"#B0BEC5\", \"red\"]]}], \"label\": \"Topic 35\", \"method\": \"update\"}]}], \"template\": {\"data\": {\"bar\": [{\"error_x\": {\"color\": \"rgb(36,36,36)\"}, \"error_y\": {\"color\": \"rgb(36,36,36)\"}, \"marker\": {\"line\": {\"color\": \"white\", \"width\": 0.5}}, \"type\": \"bar\"}], \"barpolar\": [{\"marker\": {\"line\": {\"color\": \"white\", \"width\": 0.5}}, \"type\": \"barpolar\"}], \"carpet\": [{\"aaxis\": {\"endlinecolor\": \"rgb(36,36,36)\", \"gridcolor\": \"white\", \"linecolor\": \"white\", \"minorgridcolor\": \"white\", \"startlinecolor\": \"rgb(36,36,36)\"}, \"baxis\": {\"endlinecolor\": \"rgb(36,36,36)\", \"gridcolor\": \"white\", \"linecolor\": \"white\", \"minorgridcolor\": \"white\", \"startlinecolor\": \"rgb(36,36,36)\"}, \"type\": \"carpet\"}], \"choropleth\": [{\"colorbar\": {\"outlinewidth\": 1, \"tickcolor\": \"rgb(36,36,36)\", \"ticks\": \"outside\"}, \"type\": \"choropleth\"}], \"contour\": [{\"colorbar\": {\"outlinewidth\": 1, \"tickcolor\": \"rgb(36,36,36)\", \"ticks\": \"outside\"}, \"colorscale\": [[0.0, \"#440154\"], [0.1111111111111111, \"#482878\"], [0.2222222222222222, \"#3e4989\"], [0.3333333333333333, \"#31688e\"], [0.4444444444444444, \"#26828e\"], [0.5555555555555556, \"#1f9e89\"], [0.6666666666666666, \"#35b779\"], [0.7777777777777778, \"#6ece58\"], [0.8888888888888888, \"#b5de2b\"], [1.0, \"#fde725\"]], \"type\": \"contour\"}], \"contourcarpet\": [{\"colorbar\": {\"outlinewidth\": 1, \"tickcolor\": \"rgb(36,36,36)\", \"ticks\": \"outside\"}, \"type\": \"contourcarpet\"}], \"heatmap\": [{\"colorbar\": {\"outlinewidth\": 1, \"tickcolor\": \"rgb(36,36,36)\", \"ticks\": \"outside\"}, \"colorscale\": [[0.0, \"#440154\"], [0.1111111111111111, \"#482878\"], [0.2222222222222222, \"#3e4989\"], [0.3333333333333333, \"#31688e\"], [0.4444444444444444, \"#26828e\"], [0.5555555555555556, \"#1f9e89\"], [0.6666666666666666, \"#35b779\"], [0.7777777777777778, \"#6ece58\"], [0.8888888888888888, \"#b5de2b\"], [1.0, \"#fde725\"]], \"type\": \"heatmap\"}], \"heatmapgl\": [{\"colorbar\": {\"outlinewidth\": 1, \"tickcolor\": \"rgb(36,36,36)\", \"ticks\": \"outside\"}, \"colorscale\": [[0.0, \"#440154\"], [0.1111111111111111, \"#482878\"], [0.2222222222222222, \"#3e4989\"], [0.3333333333333333, \"#31688e\"], [0.4444444444444444, \"#26828e\"], [0.5555555555555556, \"#1f9e89\"], [0.6666666666666666, \"#35b779\"], [0.7777777777777778, \"#6ece58\"], [0.8888888888888888, \"#b5de2b\"], [1.0, \"#fde725\"]], \"type\": \"heatmapgl\"}], \"histogram\": [{\"marker\": {\"line\": {\"color\": \"white\", \"width\": 0.6}}, \"type\": \"histogram\"}], \"histogram2d\": [{\"colorbar\": {\"outlinewidth\": 1, \"tickcolor\": \"rgb(36,36,36)\", \"ticks\": \"outside\"}, \"colorscale\": [[0.0, \"#440154\"], [0.1111111111111111, \"#482878\"], [0.2222222222222222, \"#3e4989\"], [0.3333333333333333, \"#31688e\"], [0.4444444444444444, \"#26828e\"], [0.5555555555555556, \"#1f9e89\"], [0.6666666666666666, \"#35b779\"], [0.7777777777777778, \"#6ece58\"], [0.8888888888888888, \"#b5de2b\"], [1.0, \"#fde725\"]], \"type\": \"histogram2d\"}], \"histogram2dcontour\": [{\"colorbar\": {\"outlinewidth\": 1, \"tickcolor\": \"rgb(36,36,36)\", \"ticks\": \"outside\"}, \"colorscale\": [[0.0, \"#440154\"], [0.1111111111111111, \"#482878\"], [0.2222222222222222, \"#3e4989\"], [0.3333333333333333, \"#31688e\"], [0.4444444444444444, \"#26828e\"], [0.5555555555555556, \"#1f9e89\"], [0.6666666666666666, \"#35b779\"], [0.7777777777777778, \"#6ece58\"], [0.8888888888888888, \"#b5de2b\"], [1.0, \"#fde725\"]], \"type\": \"histogram2dcontour\"}], \"mesh3d\": [{\"colorbar\": {\"outlinewidth\": 1, \"tickcolor\": \"rgb(36,36,36)\", \"ticks\": \"outside\"}, \"type\": \"mesh3d\"}], \"parcoords\": [{\"line\": {\"colorbar\": {\"outlinewidth\": 1, \"tickcolor\": \"rgb(36,36,36)\", \"ticks\": \"outside\"}}, \"type\": \"parcoords\"}], \"pie\": [{\"automargin\": true, \"type\": \"pie\"}], \"scatter\": [{\"marker\": {\"colorbar\": {\"outlinewidth\": 1, \"tickcolor\": \"rgb(36,36,36)\", \"ticks\": \"outside\"}}, \"type\": \"scatter\"}], \"scatter3d\": [{\"line\": {\"colorbar\": {\"outlinewidth\": 1, \"tickcolor\": \"rgb(36,36,36)\", \"ticks\": \"outside\"}}, \"marker\": {\"colorbar\": {\"outlinewidth\": 1, \"tickcolor\": \"rgb(36,36,36)\", \"ticks\": \"outside\"}}, \"type\": \"scatter3d\"}], \"scattercarpet\": [{\"marker\": {\"colorbar\": {\"outlinewidth\": 1, \"tickcolor\": \"rgb(36,36,36)\", \"ticks\": \"outside\"}}, \"type\": \"scattercarpet\"}], \"scattergeo\": [{\"marker\": {\"colorbar\": {\"outlinewidth\": 1, \"tickcolor\": \"rgb(36,36,36)\", \"ticks\": \"outside\"}}, \"type\": \"scattergeo\"}], \"scattergl\": [{\"marker\": {\"colorbar\": {\"outlinewidth\": 1, \"tickcolor\": \"rgb(36,36,36)\", \"ticks\": \"outside\"}}, \"type\": \"scattergl\"}], \"scattermapbox\": [{\"marker\": {\"colorbar\": {\"outlinewidth\": 1, \"tickcolor\": \"rgb(36,36,36)\", \"ticks\": \"outside\"}}, \"type\": \"scattermapbox\"}], \"scatterpolar\": [{\"marker\": {\"colorbar\": {\"outlinewidth\": 1, \"tickcolor\": \"rgb(36,36,36)\", \"ticks\": \"outside\"}}, \"type\": \"scatterpolar\"}], \"scatterpolargl\": [{\"marker\": {\"colorbar\": {\"outlinewidth\": 1, \"tickcolor\": \"rgb(36,36,36)\", \"ticks\": \"outside\"}}, \"type\": \"scatterpolargl\"}], \"scatterternary\": [{\"marker\": {\"colorbar\": {\"outlinewidth\": 1, \"tickcolor\": \"rgb(36,36,36)\", \"ticks\": \"outside\"}}, \"type\": \"scatterternary\"}], \"surface\": [{\"colorbar\": {\"outlinewidth\": 1, \"tickcolor\": \"rgb(36,36,36)\", \"ticks\": \"outside\"}, \"colorscale\": [[0.0, \"#440154\"], [0.1111111111111111, \"#482878\"], [0.2222222222222222, \"#3e4989\"], [0.3333333333333333, \"#31688e\"], [0.4444444444444444, \"#26828e\"], [0.5555555555555556, \"#1f9e89\"], [0.6666666666666666, \"#35b779\"], [0.7777777777777778, \"#6ece58\"], [0.8888888888888888, \"#b5de2b\"], [1.0, \"#fde725\"]], \"type\": \"surface\"}], \"table\": [{\"cells\": {\"fill\": {\"color\": \"rgb(237,237,237)\"}, \"line\": {\"color\": \"white\"}}, \"header\": {\"fill\": {\"color\": \"rgb(217,217,217)\"}, \"line\": {\"color\": \"white\"}}, \"type\": \"table\"}]}, \"layout\": {\"annotationdefaults\": {\"arrowhead\": 0, \"arrowwidth\": 1}, \"autotypenumbers\": \"strict\", \"coloraxis\": {\"colorbar\": {\"outlinewidth\": 1, \"tickcolor\": \"rgb(36,36,36)\", \"ticks\": \"outside\"}}, \"colorscale\": {\"diverging\": [[0.0, \"rgb(103,0,31)\"], [0.1, \"rgb(178,24,43)\"], [0.2, \"rgb(214,96,77)\"], [0.3, \"rgb(244,165,130)\"], [0.4, \"rgb(253,219,199)\"], [0.5, \"rgb(247,247,247)\"], [0.6, \"rgb(209,229,240)\"], [0.7, \"rgb(146,197,222)\"], [0.8, \"rgb(67,147,195)\"], [0.9, \"rgb(33,102,172)\"], [1.0, \"rgb(5,48,97)\"]], \"sequential\": [[0.0, \"#440154\"], [0.1111111111111111, \"#482878\"], [0.2222222222222222, \"#3e4989\"], [0.3333333333333333, \"#31688e\"], [0.4444444444444444, \"#26828e\"], [0.5555555555555556, \"#1f9e89\"], [0.6666666666666666, \"#35b779\"], [0.7777777777777778, \"#6ece58\"], [0.8888888888888888, \"#b5de2b\"], [1.0, \"#fde725\"]], \"sequentialminus\": [[0.0, \"#440154\"], [0.1111111111111111, \"#482878\"], [0.2222222222222222, \"#3e4989\"], [0.3333333333333333, \"#31688e\"], [0.4444444444444444, \"#26828e\"], [0.5555555555555556, \"#1f9e89\"], [0.6666666666666666, \"#35b779\"], [0.7777777777777778, \"#6ece58\"], [0.8888888888888888, \"#b5de2b\"], [1.0, \"#fde725\"]]}, \"colorway\": [\"#1F77B4\", \"#FF7F0E\", \"#2CA02C\", \"#D62728\", \"#9467BD\", \"#8C564B\", \"#E377C2\", \"#7F7F7F\", \"#BCBD22\", \"#17BECF\"], \"font\": {\"color\": \"rgb(36,36,36)\"}, \"geo\": {\"bgcolor\": \"white\", \"lakecolor\": \"white\", \"landcolor\": \"white\", \"showlakes\": true, \"showland\": true, \"subunitcolor\": \"white\"}, \"hoverlabel\": {\"align\": \"left\"}, \"hovermode\": \"closest\", \"mapbox\": {\"style\": \"light\"}, \"paper_bgcolor\": \"white\", \"plot_bgcolor\": \"white\", \"polar\": {\"angularaxis\": {\"gridcolor\": \"rgb(232,232,232)\", \"linecolor\": \"rgb(36,36,36)\", \"showgrid\": false, \"showline\": true, \"ticks\": \"outside\"}, \"bgcolor\": \"white\", \"radialaxis\": {\"gridcolor\": \"rgb(232,232,232)\", \"linecolor\": \"rgb(36,36,36)\", \"showgrid\": false, \"showline\": true, \"ticks\": \"outside\"}}, \"scene\": {\"xaxis\": {\"backgroundcolor\": \"white\", \"gridcolor\": \"rgb(232,232,232)\", \"gridwidth\": 2, \"linecolor\": \"rgb(36,36,36)\", \"showbackground\": true, \"showgrid\": false, \"showline\": true, \"ticks\": \"outside\", \"zeroline\": false, \"zerolinecolor\": \"rgb(36,36,36)\"}, \"yaxis\": {\"backgroundcolor\": \"white\", \"gridcolor\": \"rgb(232,232,232)\", \"gridwidth\": 2, \"linecolor\": \"rgb(36,36,36)\", \"showbackground\": true, \"showgrid\": false, \"showline\": true, \"ticks\": \"outside\", \"zeroline\": false, \"zerolinecolor\": \"rgb(36,36,36)\"}, \"zaxis\": {\"backgroundcolor\": \"white\", \"gridcolor\": \"rgb(232,232,232)\", \"gridwidth\": 2, \"linecolor\": \"rgb(36,36,36)\", \"showbackground\": true, \"showgrid\": false, \"showline\": true, \"ticks\": \"outside\", \"zeroline\": false, \"zerolinecolor\": \"rgb(36,36,36)\"}}, \"shapedefaults\": {\"fillcolor\": \"black\", \"line\": {\"width\": 0}, \"opacity\": 0.3}, \"ternary\": {\"aaxis\": {\"gridcolor\": \"rgb(232,232,232)\", \"linecolor\": \"rgb(36,36,36)\", \"showgrid\": false, \"showline\": true, \"ticks\": \"outside\"}, \"baxis\": {\"gridcolor\": \"rgb(232,232,232)\", \"linecolor\": \"rgb(36,36,36)\", \"showgrid\": false, \"showline\": true, \"ticks\": \"outside\"}, \"bgcolor\": \"white\", \"caxis\": {\"gridcolor\": \"rgb(232,232,232)\", \"linecolor\": \"rgb(36,36,36)\", \"showgrid\": false, \"showline\": true, \"ticks\": \"outside\"}}, \"title\": {\"x\": 0.05}, \"xaxis\": {\"automargin\": true, \"gridcolor\": \"rgb(232,232,232)\", \"linecolor\": \"rgb(36,36,36)\", \"showgrid\": false, \"showline\": true, \"ticks\": \"outside\", \"title\": {\"standoff\": 15}, \"zeroline\": false, \"zerolinecolor\": \"rgb(36,36,36)\"}, \"yaxis\": {\"automargin\": true, \"gridcolor\": \"rgb(232,232,232)\", \"linecolor\": \"rgb(36,36,36)\", \"showgrid\": false, \"showline\": true, \"ticks\": \"outside\", \"title\": {\"standoff\": 15}, \"zeroline\": false, \"zerolinecolor\": \"rgb(36,36,36)\"}}}, \"title\": {\"font\": {\"color\": \"Black\", \"size\": 22}, \"text\": \"<b>Intertopic Distance Map\", \"x\": 0.5, \"xanchor\": \"center\", \"y\": 0.95, \"yanchor\": \"top\"}, \"width\": 650, \"xaxis\": {\"anchor\": \"y\", \"domain\": [0.0, 1.0], \"range\": [-10.191846704483032, 17.79972925186157], \"title\": {\"text\": \"\"}, \"visible\": false}, \"yaxis\": {\"anchor\": \"x\", \"domain\": [0.0, 1.0], \"range\": [-10.986134767532349, 17.776517057418822], \"title\": {\"text\": \"\"}, \"visible\": false}},                        {\"responsive\": true}                    ).then(function(){\n",
       "                            \n",
       "var gd = document.getElementById('4e550b24-dea9-4296-acf4-e8d9ecee8c81');\n",
       "var x = new MutationObserver(function (mutations, observer) {{\n",
       "        var display = window.getComputedStyle(gd).display;\n",
       "        if (!display || display === 'none') {{\n",
       "            console.log([gd, 'removed!']);\n",
       "            Plotly.purge(gd);\n",
       "            observer.disconnect();\n",
       "        }}\n",
       "}});\n",
       "\n",
       "// Listen for the removal of the full notebook cells\n",
       "var notebookContainer = gd.closest('#notebook-container');\n",
       "if (notebookContainer) {{\n",
       "    x.observe(notebookContainer, {childList: true});\n",
       "}}\n",
       "\n",
       "// Listen for the clearing of the current output cell\n",
       "var outputEl = gd.closest('.output');\n",
       "if (outputEl) {{\n",
       "    x.observe(outputEl, {childList: true});\n",
       "}}\n",
       "\n",
       "                        })                };                });            </script>        </div>"
      ]
     },
     "metadata": {},
     "output_type": "display_data"
    }
   ],
   "source": [
    "topic_model.visualize_topics()"
   ]
  },
  {
   "cell_type": "code",
   "execution_count": null,
   "metadata": {},
   "outputs": [],
   "source": []
  },
  {
   "cell_type": "code",
   "execution_count": 23,
   "metadata": {},
   "outputs": [
    {
     "data": {
      "text/html": [
       "<div>\n",
       "<style scoped>\n",
       "    .dataframe tbody tr th:only-of-type {\n",
       "        vertical-align: middle;\n",
       "    }\n",
       "\n",
       "    .dataframe tbody tr th {\n",
       "        vertical-align: top;\n",
       "    }\n",
       "\n",
       "    .dataframe thead th {\n",
       "        text-align: right;\n",
       "    }\n",
       "</style>\n",
       "<table border=\"1\" class=\"dataframe\">\n",
       "  <thead>\n",
       "    <tr style=\"text-align: right;\">\n",
       "      <th></th>\n",
       "      <th>Topic</th>\n",
       "      <th>Size</th>\n",
       "    </tr>\n",
       "  </thead>\n",
       "  <tbody>\n",
       "    <tr>\n",
       "      <th>0</th>\n",
       "      <td>-1</td>\n",
       "      <td>481</td>\n",
       "    </tr>\n",
       "    <tr>\n",
       "      <th>45</th>\n",
       "      <td>44</td>\n",
       "      <td>43</td>\n",
       "    </tr>\n",
       "    <tr>\n",
       "      <th>33</th>\n",
       "      <td>32</td>\n",
       "      <td>41</td>\n",
       "    </tr>\n",
       "    <tr>\n",
       "      <th>82</th>\n",
       "      <td>81</td>\n",
       "      <td>40</td>\n",
       "    </tr>\n",
       "    <tr>\n",
       "      <th>85</th>\n",
       "      <td>84</td>\n",
       "      <td>38</td>\n",
       "    </tr>\n",
       "    <tr>\n",
       "      <th>71</th>\n",
       "      <td>70</td>\n",
       "      <td>37</td>\n",
       "    </tr>\n",
       "    <tr>\n",
       "      <th>27</th>\n",
       "      <td>26</td>\n",
       "      <td>37</td>\n",
       "    </tr>\n",
       "    <tr>\n",
       "      <th>18</th>\n",
       "      <td>17</td>\n",
       "      <td>31</td>\n",
       "    </tr>\n",
       "    <tr>\n",
       "      <th>30</th>\n",
       "      <td>29</td>\n",
       "      <td>30</td>\n",
       "    </tr>\n",
       "    <tr>\n",
       "      <th>26</th>\n",
       "      <td>25</td>\n",
       "      <td>30</td>\n",
       "    </tr>\n",
       "  </tbody>\n",
       "</table>\n",
       "</div>"
      ],
      "text/plain": [
       "    Topic  Size\n",
       "0      -1   481\n",
       "45     44    43\n",
       "33     32    41\n",
       "82     81    40\n",
       "85     84    38\n",
       "71     70    37\n",
       "27     26    37\n",
       "18     17    31\n",
       "30     29    30\n",
       "26     25    30"
      ]
     },
     "execution_count": 23,
     "metadata": {},
     "output_type": "execute_result"
    }
   ],
   "source": [
    "# def extract_top_n_words_per_topic(tf_idf, count, docs_per_topic, n=20):\n",
    "#     words = count.get_feature_names()\n",
    "#     labels = list(docs_per_topic.Topic)\n",
    "#     tf_idf_transposed = tf_idf.T\n",
    "#     indices = tf_idf_transposed.argsort()[:, -n:]\n",
    "#     top_n_words = {label: [(words[j], tf_idf_transposed[i][j]) for j in indices[i]][::-1] for i, label in enumerate(labels)}\n",
    "#     return top_n_words\n",
    "\n",
    "def extract_topic_sizes(df):\n",
    "    topic_sizes = (df.groupby(['Topic'])\n",
    "                     .Doc\n",
    "                     .count()\n",
    "                     .reset_index()\n",
    "                     .rename({\"Topic\": \"Topic\", \"Doc\": \"Size\"}, axis='columns')\n",
    "                     .sort_values(\"Size\", ascending=False))\n",
    "    return topic_sizes\n",
    "\n",
    "# top_n_words = extract_top_n_words_per_topic(tf_idf, count, docs_per_topic, n=20)\n",
    "topic_sizes = extract_topic_sizes(docs_df); topic_sizes.head(10)"
   ]
  }
 ],
 "metadata": {
  "kernelspec": {
   "display_name": "Python 3",
   "language": "python",
   "name": "python3"
  },
  "language_info": {
   "codemirror_mode": {
    "name": "ipython",
    "version": 3
   },
   "file_extension": ".py",
   "mimetype": "text/x-python",
   "name": "python",
   "nbconvert_exporter": "python",
   "pygments_lexer": "ipython3",
   "version": "3.8.5"
  }
 },
 "nbformat": 4,
 "nbformat_minor": 4
}
